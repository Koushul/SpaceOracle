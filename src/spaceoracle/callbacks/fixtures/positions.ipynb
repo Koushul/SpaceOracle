{
 "cells": [
  {
   "cell_type": "code",
   "execution_count": 11,
   "metadata": {},
   "outputs": [],
   "source": [
    "import json, os, sys, pickle\n",
    "import pandas as pd\n",
    "import numpy as np \n",
    "from collections import defaultdict"
   ]
  },
  {
   "cell_type": "code",
   "execution_count": 12,
   "metadata": {},
   "outputs": [
    {
     "data": {
      "text/plain": [
       "6"
      ]
     },
     "execution_count": 12,
     "metadata": {},
     "output_type": "execute_result"
    }
   ],
   "source": [
    "with open('../../../../notebooks/celloracle_links.pkl', 'rb') as file:\n",
    "    links_dict = pickle.load(file)\n",
    "\n",
    "len(links_dict.keys())"
   ]
  },
  {
   "cell_type": "code",
   "execution_count": 13,
   "metadata": {},
   "outputs": [
    {
     "data": {
      "text/html": [
       "<div>\n",
       "<style scoped>\n",
       "    .dataframe tbody tr th:only-of-type {\n",
       "        vertical-align: middle;\n",
       "    }\n",
       "\n",
       "    .dataframe tbody tr th {\n",
       "        vertical-align: top;\n",
       "    }\n",
       "\n",
       "    .dataframe thead th {\n",
       "        text-align: right;\n",
       "    }\n",
       "</style>\n",
       "<table border=\"1\" class=\"dataframe\">\n",
       "  <thead>\n",
       "    <tr style=\"text-align: right;\">\n",
       "      <th></th>\n",
       "      <th>source</th>\n",
       "      <th>target</th>\n",
       "      <th>coef_mean</th>\n",
       "      <th>coef_abs</th>\n",
       "      <th>p</th>\n",
       "      <th>-logp</th>\n",
       "    </tr>\n",
       "  </thead>\n",
       "  <tbody>\n",
       "    <tr>\n",
       "      <th>0</th>\n",
       "      <td>Nfatc4</td>\n",
       "      <td>0610030E20Rik</td>\n",
       "      <td>-0.000207</td>\n",
       "      <td>0.000207</td>\n",
       "      <td>1.500551e-08</td>\n",
       "      <td>7.823749</td>\n",
       "    </tr>\n",
       "    <tr>\n",
       "      <th>1</th>\n",
       "      <td>Pax5</td>\n",
       "      <td>0610030E20Rik</td>\n",
       "      <td>0.000400</td>\n",
       "      <td>0.000400</td>\n",
       "      <td>4.740620e-02</td>\n",
       "      <td>1.324165</td>\n",
       "    </tr>\n",
       "    <tr>\n",
       "      <th>2</th>\n",
       "      <td>Ebf1</td>\n",
       "      <td>0610030E20Rik</td>\n",
       "      <td>0.000875</td>\n",
       "      <td>0.000875</td>\n",
       "      <td>1.625185e-09</td>\n",
       "      <td>8.789097</td>\n",
       "    </tr>\n",
       "    <tr>\n",
       "      <th>3</th>\n",
       "      <td>Atf3</td>\n",
       "      <td>0610030E20Rik</td>\n",
       "      <td>-0.000473</td>\n",
       "      <td>0.000473</td>\n",
       "      <td>2.122179e-12</td>\n",
       "      <td>11.673218</td>\n",
       "    </tr>\n",
       "    <tr>\n",
       "      <th>4</th>\n",
       "      <td>Mga</td>\n",
       "      <td>0610030E20Rik</td>\n",
       "      <td>0.000392</td>\n",
       "      <td>0.000392</td>\n",
       "      <td>3.169740e-10</td>\n",
       "      <td>9.498976</td>\n",
       "    </tr>\n",
       "    <tr>\n",
       "      <th>...</th>\n",
       "      <td>...</td>\n",
       "      <td>...</td>\n",
       "      <td>...</td>\n",
       "      <td>...</td>\n",
       "      <td>...</td>\n",
       "      <td>...</td>\n",
       "    </tr>\n",
       "    <tr>\n",
       "      <th>111160</th>\n",
       "      <td>Klf4</td>\n",
       "      <td>Zwilch</td>\n",
       "      <td>0.000019</td>\n",
       "      <td>0.000019</td>\n",
       "      <td>1.872425e-01</td>\n",
       "      <td>0.727596</td>\n",
       "    </tr>\n",
       "    <tr>\n",
       "      <th>111161</th>\n",
       "      <td>Zscan22</td>\n",
       "      <td>Zwilch</td>\n",
       "      <td>-0.000056</td>\n",
       "      <td>0.000056</td>\n",
       "      <td>1.562141e-04</td>\n",
       "      <td>3.806280</td>\n",
       "    </tr>\n",
       "    <tr>\n",
       "      <th>111162</th>\n",
       "      <td>Id1</td>\n",
       "      <td>Zwilch</td>\n",
       "      <td>0.000039</td>\n",
       "      <td>0.000039</td>\n",
       "      <td>5.493913e-03</td>\n",
       "      <td>2.260118</td>\n",
       "    </tr>\n",
       "    <tr>\n",
       "      <th>111163</th>\n",
       "      <td>Id2</td>\n",
       "      <td>Zwilch</td>\n",
       "      <td>0.000318</td>\n",
       "      <td>0.000318</td>\n",
       "      <td>9.703121e-06</td>\n",
       "      <td>5.013089</td>\n",
       "    </tr>\n",
       "    <tr>\n",
       "      <th>111164</th>\n",
       "      <td>Mef2c</td>\n",
       "      <td>Zwilch</td>\n",
       "      <td>-0.000370</td>\n",
       "      <td>0.000370</td>\n",
       "      <td>2.020351e-07</td>\n",
       "      <td>6.694573</td>\n",
       "    </tr>\n",
       "  </tbody>\n",
       "</table>\n",
       "<p>111165 rows × 6 columns</p>\n",
       "</div>"
      ],
      "text/plain": [
       "         source         target  coef_mean  coef_abs             p      -logp\n",
       "0        Nfatc4  0610030E20Rik  -0.000207  0.000207  1.500551e-08   7.823749\n",
       "1          Pax5  0610030E20Rik   0.000400  0.000400  4.740620e-02   1.324165\n",
       "2          Ebf1  0610030E20Rik   0.000875  0.000875  1.625185e-09   8.789097\n",
       "3          Atf3  0610030E20Rik  -0.000473  0.000473  2.122179e-12  11.673218\n",
       "4           Mga  0610030E20Rik   0.000392  0.000392  3.169740e-10   9.498976\n",
       "...         ...            ...        ...       ...           ...        ...\n",
       "111160     Klf4         Zwilch   0.000019  0.000019  1.872425e-01   0.727596\n",
       "111161  Zscan22         Zwilch  -0.000056  0.000056  1.562141e-04   3.806280\n",
       "111162      Id1         Zwilch   0.000039  0.000039  5.493913e-03   2.260118\n",
       "111163      Id2         Zwilch   0.000318  0.000318  9.703121e-06   5.013089\n",
       "111164    Mef2c         Zwilch  -0.000370  0.000370  2.020351e-07   6.694573\n",
       "\n",
       "[111165 rows x 6 columns]"
      ]
     },
     "execution_count": 13,
     "metadata": {},
     "output_type": "execute_result"
    }
   ],
   "source": [
    "links_dict['B-cell']"
   ]
  },
  {
   "cell_type": "code",
   "execution_count": 14,
   "metadata": {},
   "outputs": [
    {
     "data": {
      "text/plain": [
       "2374"
      ]
     },
     "execution_count": 14,
     "metadata": {},
     "output_type": "execute_result"
    }
   ],
   "source": [
    "genes = links_dict['B-cell'].target.unique()\n",
    "len(genes)"
   ]
  },
  {
   "cell_type": "code",
   "execution_count": 15,
   "metadata": {},
   "outputs": [],
   "source": [
    "df1 = links_dict['B-cell'].query('source==\"Pax5\"')\n",
    "df2 = links_dict['Cd8 T-cell'].query('source==\"Pax5\"')"
   ]
  },
  {
   "cell_type": "code",
   "execution_count": 16,
   "metadata": {},
   "outputs": [
    {
     "data": {
      "text/html": [
       "<div>\n",
       "<style scoped>\n",
       "    .dataframe tbody tr th:only-of-type {\n",
       "        vertical-align: middle;\n",
       "    }\n",
       "\n",
       "    .dataframe tbody tr th {\n",
       "        vertical-align: top;\n",
       "    }\n",
       "\n",
       "    .dataframe thead th {\n",
       "        text-align: right;\n",
       "    }\n",
       "</style>\n",
       "<table border=\"1\" class=\"dataframe\">\n",
       "  <thead>\n",
       "    <tr style=\"text-align: right;\">\n",
       "      <th></th>\n",
       "      <th>coef_mean</th>\n",
       "    </tr>\n",
       "    <tr>\n",
       "      <th>target</th>\n",
       "      <th></th>\n",
       "    </tr>\n",
       "  </thead>\n",
       "  <tbody>\n",
       "    <tr>\n",
       "      <th>Lyz2</th>\n",
       "      <td>0.064251</td>\n",
       "    </tr>\n",
       "    <tr>\n",
       "      <th>H2-K1</th>\n",
       "      <td>0.042472</td>\n",
       "    </tr>\n",
       "    <tr>\n",
       "      <th>Npm1</th>\n",
       "      <td>0.041504</td>\n",
       "    </tr>\n",
       "    <tr>\n",
       "      <th>Cox4i1</th>\n",
       "      <td>0.040964</td>\n",
       "    </tr>\n",
       "    <tr>\n",
       "      <th>Pomp</th>\n",
       "      <td>0.035392</td>\n",
       "    </tr>\n",
       "    <tr>\n",
       "      <th>Rps12</th>\n",
       "      <td>0.034086</td>\n",
       "    </tr>\n",
       "    <tr>\n",
       "      <th>Cd22</th>\n",
       "      <td>0.030748</td>\n",
       "    </tr>\n",
       "    <tr>\n",
       "      <th>Calm1</th>\n",
       "      <td>0.030058</td>\n",
       "    </tr>\n",
       "    <tr>\n",
       "      <th>B2m</th>\n",
       "      <td>0.029126</td>\n",
       "    </tr>\n",
       "    <tr>\n",
       "      <th>Cd74</th>\n",
       "      <td>0.028835</td>\n",
       "    </tr>\n",
       "    <tr>\n",
       "      <th>Fth1</th>\n",
       "      <td>0.027974</td>\n",
       "    </tr>\n",
       "    <tr>\n",
       "      <th>Psma2</th>\n",
       "      <td>0.027239</td>\n",
       "    </tr>\n",
       "    <tr>\n",
       "      <th>Hsp90ab1</th>\n",
       "      <td>0.024239</td>\n",
       "    </tr>\n",
       "    <tr>\n",
       "      <th>Ctss</th>\n",
       "      <td>0.022866</td>\n",
       "    </tr>\n",
       "    <tr>\n",
       "      <th>Lgals1</th>\n",
       "      <td>0.018593</td>\n",
       "    </tr>\n",
       "    <tr>\n",
       "      <th>Apoe</th>\n",
       "      <td>0.018504</td>\n",
       "    </tr>\n",
       "    <tr>\n",
       "      <th>Rps20</th>\n",
       "      <td>0.017505</td>\n",
       "    </tr>\n",
       "    <tr>\n",
       "      <th>Malat1</th>\n",
       "      <td>0.017310</td>\n",
       "    </tr>\n",
       "    <tr>\n",
       "      <th>Clu</th>\n",
       "      <td>0.014240</td>\n",
       "    </tr>\n",
       "    <tr>\n",
       "      <th>Arl6ip1</th>\n",
       "      <td>0.013398</td>\n",
       "    </tr>\n",
       "  </tbody>\n",
       "</table>\n",
       "</div>"
      ],
      "text/plain": [
       "          coef_mean\n",
       "target             \n",
       "Lyz2       0.064251\n",
       "H2-K1      0.042472\n",
       "Npm1       0.041504\n",
       "Cox4i1     0.040964\n",
       "Pomp       0.035392\n",
       "Rps12      0.034086\n",
       "Cd22       0.030748\n",
       "Calm1      0.030058\n",
       "B2m        0.029126\n",
       "Cd74       0.028835\n",
       "Fth1       0.027974\n",
       "Psma2      0.027239\n",
       "Hsp90ab1   0.024239\n",
       "Ctss       0.022866\n",
       "Lgals1     0.018593\n",
       "Apoe       0.018504\n",
       "Rps20      0.017505\n",
       "Malat1     0.017310\n",
       "Clu        0.014240\n",
       "Arl6ip1    0.013398"
      ]
     },
     "execution_count": 16,
     "metadata": {},
     "output_type": "execute_result"
    }
   ],
   "source": [
    "pd.DataFrame(\n",
    "    [df2.set_index('target').loc[np.intersect1d(\n",
    "        df1.target, df2.target)].coef_mean-df1.set_index('target').loc[\n",
    "     np.intersect1d(df1.target, df2.target)].coef_mean]).T.sort_values(by='coef_mean', ascending=False)[:20]"
   ]
  },
  {
   "cell_type": "code",
   "execution_count": 17,
   "metadata": {},
   "outputs": [
    {
     "data": {
      "text/plain": [
       "{0: (0, 1), 1: (1, 2), 2: (2, 3), 3: (3, 4), 4: (4, 5), 5: (5, 6)}"
      ]
     },
     "execution_count": 17,
     "metadata": {},
     "output_type": "execute_result"
    }
   ],
   "source": [
    "import numpy as np\n",
    "import matplotlib.pyplot as plt\n",
    "\n",
    "def generate_positions(radius_min, radius_max, ncells=200):\n",
    "    positions = []\n",
    "    for i in range(ncells):\n",
    "        angle = np.random.uniform(0, 2 * np.pi)\n",
    "        r = np.random.uniform(radius_min, radius_max)\n",
    "        x = r * np.cos(angle)\n",
    "        y = r * np.sin(angle)\n",
    "        positions.append((x, y))\n",
    "    return positions\n",
    "\n",
    "# Can change this later\n",
    "cluster_radii = {r: (r,r+1) for r, cluster in enumerate(links_dict.keys())}\n",
    "cluster_radii"
   ]
  },
  {
   "cell_type": "code",
   "execution_count": null,
   "metadata": {},
   "outputs": [],
   "source": [
    "def beta_func(x, y, c, tf_index): \n",
    "    x = np.array(x).flatten()\n",
    "    y = np.array(y).flatten()\n",
    "    c = np.array(c).flatten()\n",
    "    tf_index = np.array(tf_index).flatten()\n",
    "    \n",
    "    return c * x + tf_index - y\n"
   ]
  },
  {
   "cell_type": "code",
   "execution_count": 67,
   "metadata": {},
   "outputs": [
    {
     "ename": "KeyError",
     "evalue": "6",
     "output_type": "error",
     "traceback": [
      "\u001b[0;31m---------------------------------------------------------------------------\u001b[0m",
      "\u001b[0;31mKeyError\u001b[0m                                  Traceback (most recent call last)",
      "Cell \u001b[0;32mIn[67], line 4\u001b[0m\n\u001b[1;32m      1\u001b[0m positions \u001b[38;5;241m=\u001b[39m []\n\u001b[1;32m      3\u001b[0m \u001b[38;5;28;01mfor\u001b[39;00m cluster, cell_indices \u001b[38;5;129;01min\u001b[39;00m cluster_index_dict\u001b[38;5;241m.\u001b[39mitems():\n\u001b[0;32m----> 4\u001b[0m     radii \u001b[38;5;241m=\u001b[39m \u001b[43mcluster_radii\u001b[49m\u001b[43m[\u001b[49m\u001b[43mcluster\u001b[49m\u001b[43m]\u001b[49m\n\u001b[1;32m      5\u001b[0m     poses \u001b[38;5;241m=\u001b[39m generate_positions(radii[\u001b[38;5;241m0\u001b[39m], radii[\u001b[38;5;241m1\u001b[39m], ncells\u001b[38;5;241m=\u001b[39m\u001b[38;5;28mlen\u001b[39m(cell_indices))\n\u001b[1;32m      6\u001b[0m     x_pos \u001b[38;5;241m=\u001b[39m np\u001b[38;5;241m.\u001b[39marray([pos[\u001b[38;5;241m0\u001b[39m] \u001b[38;5;28;01mfor\u001b[39;00m pos \u001b[38;5;129;01min\u001b[39;00m poses])\u001b[38;5;241m.\u001b[39mT\n",
      "\u001b[0;31mKeyError\u001b[0m: 6"
     ]
    }
   ],
   "source": [
    "positions = []\n",
    "\n",
    "for cluster, cell_indices in cluster_index_dict.items():\n",
    "    radii = cluster_radii[cluster]\n",
    "    poses = generate_positions(radii[0], radii[1], ncells=len(cell_indices))\n",
    "    x_pos = np.array([pos[0] for pos in poses])\n",
    "    y_pos = np.array([pos[1] for pos in poses])\n",
    "    labels = [cluster] * len(cell_indices)\n",
    "\n",
    "    betas = np.array([beta_func(x_pos, y_pos, labels, tf) for tf in range(ntfs)])\n",
    "\n",
    "    cluster_df = np.column_stack([labels, x_pos, y_pos, betas])\n",
    "    positions.append(cluster_df)\n",
    "\n",
    "positions = np.vstack(positions)\n",
    "df = pd.DataFrame(all_positions, columns=['cluster', 'x', 'y'] + [f'beta_{i}' for i in range(betas_array.shape[0])])\n",
    "df"
   ]
  },
  {
   "cell_type": "code",
   "execution_count": null,
   "metadata": {},
   "outputs": [],
   "source": [
    "def beta_func(x, y, c, tf_index): \n",
    "    return c * x + tf_index - y\n",
    "\n",
    "df['beta'] = df.apply(lambda row: row['A'] + row['B'], axis=1)"
   ]
  },
  {
   "cell_type": "code",
   "execution_count": null,
   "metadata": {},
   "outputs": [],
   "source": [
    "df.to_csv('positions.csv')"
   ]
  },
  {
   "cell_type": "code",
   "execution_count": null,
   "metadata": {},
   "outputs": [],
   "source": []
  }
 ],
 "metadata": {
  "kernelspec": {
   "display_name": "Python 3.9.19 ('bee': conda)",
   "language": "python",
   "name": "python3"
  },
  "language_info": {
   "codemirror_mode": {
    "name": "ipython",
    "version": 3
   },
   "file_extension": ".py",
   "mimetype": "text/x-python",
   "name": "python",
   "nbconvert_exporter": "python",
   "pygments_lexer": "ipython3",
   "version": "3.9.19"
  },
  "orig_nbformat": 4,
  "vscode": {
   "interpreter": {
    "hash": "d5e083718e887c55b29d4f7da6a44fbfc7ac6a325d83706ddad436d58aee562b"
   }
  }
 },
 "nbformat": 4,
 "nbformat_minor": 2
}
