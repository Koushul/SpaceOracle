{
 "cells": [
  {
   "cell_type": "code",
   "execution_count": 1,
   "metadata": {},
   "outputs": [],
   "source": [
    "%load_ext autoreload\n",
    "%autoreload 2"
   ]
  },
  {
   "cell_type": "code",
   "execution_count": 2,
   "metadata": {},
   "outputs": [],
   "source": [
    "import scanpy as sc \n",
    "import numpy as np \n",
    "import pandas as pd \n",
    "import os, sys \n",
    "sys.path.append('../../src')"
   ]
  },
  {
   "cell_type": "code",
   "execution_count": 3,
   "metadata": {},
   "outputs": [
    {
     "name": "stderr",
     "output_type": "stream",
     "text": [
      "2024-11-25 20:04:56.108740: W tensorflow/compiler/tf2tensorrt/utils/py_utils.cc:38] TF-TRT Warning: Could not find TensorRT\n"
     ]
    }
   ],
   "source": [
    "from spaceoracle.tools.network import MouseSpleenRegulatoryNetwork\n",
    "co_grn = MouseSpleenRegulatoryNetwork()"
   ]
  },
  {
   "cell_type": "code",
   "execution_count": 4,
   "metadata": {},
   "outputs": [
    {
     "data": {
      "text/plain": [
       "AnnData object with n_obs × n_vars = 6891 × 3000\n",
       "    obs: 'n_genes', 'n_UMIs', 'Cell_Type', 'cell_type_ontology_term_id', 'organism_ontology_term_id', 'tissue_ontology_term_id', 'assay_ontology_term_id', 'disease_ontology_term_id', 'self_reported_ethnicity_ontology_term_id', 'development_stage_ontology_term_id', 'sex_ontology_term_id', 'log10_n_UMIs', 'log10_n_genes', 'donor_id', 'is_primary_data', 'suspension_type', 'tissue_type', 'cell_type', 'assay', 'disease', 'organism', 'sex', 'tissue', 'self_reported_ethnicity', 'development_stage', 'observation_joinid', 'n_genes_by_counts', 'log1p_n_genes_by_counts', 'total_counts', 'log1p_total_counts', 'pct_counts_in_top_50_genes', 'pct_counts_in_top_100_genes', 'pct_counts_in_top_200_genes', 'pct_counts_in_top_500_genes', 'total_counts_mt', 'log1p_total_counts_mt', 'pct_counts_mt', 'n_counts', 'clusters'\n",
       "    var: 'gene', 'n_beads', 'n_UMIs', 'feature_is_filtered', 'feature_name', 'feature_reference', 'feature_biotype', 'feature_length', 'feature_type', 'mt', 'n_cells_by_counts', 'mean_counts', 'log1p_mean_counts', 'pct_dropout_by_counts', 'total_counts', 'log1p_total_counts', 'n_cells', 'highly_variable', 'means', 'dispersions', 'dispersions_norm'\n",
       "    uns: 'Cell_Type_colors', 'citation', 'hvg', 'log1p', 'schema_reference', 'schema_version', 'title'\n",
       "    obsm: 'spatial'\n",
       "    layers: 'normalized_count', 'raw_count'"
      ]
     },
     "execution_count": 4,
     "metadata": {},
     "output_type": "execute_result"
    }
   ],
   "source": [
    "adata = sc.read_h5ad('/ix/djishnu/shared/djishnu_kor11/training_data/slideseq_spleen.h5ad')\n",
    "adata"
   ]
  },
  {
   "cell_type": "code",
   "execution_count": 5,
   "metadata": {},
   "outputs": [
    {
     "name": "stdout",
     "output_type": "stream",
     "text": [
      "Calculating MAGIC...\n",
      "  Running MAGIC on 6891 cells and 3000 genes.\n",
      "  Calculating graph and diffusion operator...\n",
      "    Calculating PCA...\n",
      "    Calculated PCA in 1.38 seconds.\n",
      "    Calculating KNN search...\n",
      "    Calculated KNN search in 4.52 seconds.\n",
      "    Calculating affinities...\n",
      "    Calculated affinities in 4.48 seconds.\n",
      "  Calculated graph and diffusion operator in 10.40 seconds.\n",
      "  Calculating imputation...\n",
      "  Calculated imputation in 1.14 seconds.\n",
      "Calculated MAGIC in 11.57 seconds.\n"
     ]
    },
    {
     "data": {
      "text/plain": [
       "AnnData object with n_obs × n_vars = 6891 × 3000\n",
       "    obs: 'clusters'\n",
       "    obsm: 'spatial'\n",
       "    layers: 'normalized_count', 'raw_count', 'imputed_count'"
      ]
     },
     "execution_count": 5,
     "metadata": {},
     "output_type": "execute_result"
    }
   ],
   "source": [
    "from spaceoracle.oracles import SpaceTravLR\n",
    "\n",
    "star = SpaceTravLR(\n",
    "    adata, \n",
    "    save_dir='/ix/djishnu/shared/djishnu_kor11/models_spleen',\n",
    "    annot='clusters',\n",
    "    grn=co_grn\n",
    ")\n",
    "\n",
    "star.adata"
   ]
  },
  {
   "cell_type": "code",
   "execution_count": 15,
   "metadata": {},
   "outputs": [
    {
     "data": {
      "text/html": [
       "<style>\n",
       ".enlighten-fg-green {\n",
       "  color: #00cd00;\n",
       "}\n",
       "</style>\n",
       "<div class=\"enlighten\">\n",
       "  <div class=\"enlighten-bar\">\n",
       "    <pre>E2f2 | 5/5 100%|<span class=\"enlighten-fg-green\">███████████████████████████████████</span>| 1378200/1378200 [01:46&lt;00:00, 13040.32 cells/s]</pre>\n",
       "  </div>\n",
       "</div>\n"
      ],
      "text/plain": [
       "<IPython.core.display.HTML object>"
      ]
     },
     "metadata": {},
     "output_type": "display_data"
    },
    {
     "name": "stdout",
     "output_type": "stream",
     "text": [
      "Fitting E2f2 with 148 modulators\n",
      "\t84 Transcription Factors\n",
      "\t16 Ligand-Receptor Pairs\n",
      "\t48 TranscriptionFactor-Ligand Pairs\n",
      "0: 0.7570 | 0.7196\n",
      "1: 0.8433 | 0.8334\n",
      "2: 0.6976 | 0.6645\n",
      "3: 0.9805 | 0.9380\n",
      "4: 0.9509 | 0.9428\n"
     ]
    }
   ],
   "source": [
    "from spaceoracle.models.parallel_estimators import SpatialCellularProgramsEstimator\n",
    "\n",
    "# test run to make sure everything is working\n",
    "\n",
    "estimator = SpatialCellularProgramsEstimator(\n",
    "    adata=star.adata,\n",
    "    target_gene='E2f2',\n",
    "    layer='imputed_count',\n",
    "    cluster_annot='clusters', \n",
    "    grn=co_grn\n",
    ")\n",
    "\n",
    "estimator.fit(num_epochs=200, threshold_lambda=1e-12, learning_rate=5e-4)\n"
   ]
  },
  {
   "cell_type": "markdown",
   "metadata": {},
   "source": [
    "see train.py and submit with run.sh"
   ]
  },
  {
   "cell_type": "code",
   "execution_count": 18,
   "metadata": {},
   "outputs": [],
   "source": [
    "adata.layers['imputed_count'] = star.adata.layers['imputed_count']\n",
    "adata.write_h5ad('/ix/djishnu/shared/djishnu_kor11/training_data/slideseq_spleen.h5ad')"
   ]
  }
 ],
 "metadata": {
  "kernelspec": {
   "display_name": "Python 3.9.18 ('bee': conda)",
   "language": "python",
   "name": "python3"
  },
  "language_info": {
   "codemirror_mode": {
    "name": "ipython",
    "version": 3
   },
   "file_extension": ".py",
   "mimetype": "text/x-python",
   "name": "python",
   "nbconvert_exporter": "python",
   "pygments_lexer": "ipython3",
   "version": "3.9.18"
  },
  "vscode": {
   "interpreter": {
    "hash": "d5e083718e887c55b29d4f7da6a44fbfc7ac6a325d83706ddad436d58aee562b"
   }
  }
 },
 "nbformat": 4,
 "nbformat_minor": 2
}
