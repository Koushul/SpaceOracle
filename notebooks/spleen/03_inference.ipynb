{
 "cells": [
  {
   "cell_type": "code",
   "execution_count": 1,
   "metadata": {},
   "outputs": [],
   "source": [
    "%load_ext autoreload\n",
    "%autoreload 2"
   ]
  },
  {
   "cell_type": "code",
   "execution_count": 2,
   "metadata": {},
   "outputs": [
    {
     "name": "stderr",
     "output_type": "stream",
     "text": [
      "2024-11-27 15:01:56.261786: W tensorflow/compiler/tf2tensorrt/utils/py_utils.cc:38] TF-TRT Warning: Could not find TensorRT\n"
     ]
    }
   ],
   "source": [
    "import scanpy as sc \n",
    "import sys \n",
    "sys.path.append('../../src')\n",
    "\n",
    "from spaceoracle.tools.network import MouseSpleenRegulatoryNetwork\n",
    "from spaceoracle import SpaceTravLR\n",
    "\n",
    "co_grn = MouseSpleenRegulatoryNetwork()\n",
    "\n",
    "adata_train = sc.read_h5ad(\n",
    "    '/ix/djishnu/shared/djishnu_kor11/training_data/slideseq_spleen.h5ad')"
   ]
  },
  {
   "cell_type": "code",
   "execution_count": 3,
   "metadata": {},
   "outputs": [],
   "source": [
    "star = SpaceTravLR(\n",
    "    adata=adata_train,\n",
    "    annot='clusters', \n",
    "    grn=co_grn,\n",
    "    max_epochs=200, \n",
    "    learning_rate=5e-4, \n",
    "    spatial_dim=64,\n",
    "    batch_size=512,\n",
    "    threshold_lambda=1e-12,\n",
    "    test_mode=False,\n",
    "    save_dir='/ix/djishnu/shared/djishnu_kor11/models_spleen'\n",
    ")"
   ]
  },
  {
   "cell_type": "code",
   "execution_count": null,
   "metadata": {},
   "outputs": [
    {
     "name": "stderr",
     "output_type": "stream",
     "text": [
      " 85%|████████▍ | 2226/2627 [02:25<00:29, 13.58it/s]"
     ]
    }
   ],
   "source": [
    "star.compute_betas()"
   ]
  },
  {
   "cell_type": "code",
   "execution_count": null,
   "metadata": {},
   "outputs": [],
   "source": [
    "%config InlineBackend.figure_format = 'retina'\n",
    "\n",
    "from spaceoracle.plotting.layout import *\n",
    "from spaceoracle.plotting.randomize import *\n",
    "from spaceoracle.plotting.transitions import * \n",
    "from spaceoracle.plotting.niche import *\n"
   ]
  },
  {
   "cell_type": "code",
   "execution_count": null,
   "metadata": {},
   "outputs": [],
   "source": [
    "goi = 'Il2ra'\n",
    "goi in star.adata.var_names"
   ]
  },
  {
   "cell_type": "code",
   "execution_count": null,
   "metadata": {},
   "outputs": [],
   "source": [
    "_ = so.perturb(target=goi, n_propagation=3, gene_expr=0)"
   ]
  },
  {
   "cell_type": "code",
   "execution_count": null,
   "metadata": {},
   "outputs": [],
   "source": [
    "contour_shift(star.adata)"
   ]
  },
  {
   "cell_type": "code",
   "execution_count": null,
   "metadata": {},
   "outputs": [],
   "source": []
  }
 ],
 "metadata": {
  "kernelspec": {
   "display_name": "bee",
   "language": "python",
   "name": "python3"
  },
  "language_info": {
   "codemirror_mode": {
    "name": "ipython",
    "version": 3
   },
   "file_extension": ".py",
   "mimetype": "text/x-python",
   "name": "python",
   "nbconvert_exporter": "python",
   "pygments_lexer": "ipython3",
   "version": "3.9.18"
  },
  "orig_nbformat": 4
 },
 "nbformat": 4,
 "nbformat_minor": 2
}
