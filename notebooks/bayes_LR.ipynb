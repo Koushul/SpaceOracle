{
 "cells": [
  {
   "cell_type": "code",
   "execution_count": 1,
   "metadata": {},
   "outputs": [],
   "source": [
    "%load_ext autoreload\n",
    "%autoreload 2"
   ]
  },
  {
   "cell_type": "code",
   "execution_count": 2,
   "metadata": {},
   "outputs": [],
   "source": [
    "import sys\n",
    "sys.path.append('../src')"
   ]
  },
  {
   "cell_type": "code",
   "execution_count": 3,
   "metadata": {},
   "outputs": [],
   "source": [
    "import matplotlib.pyplot as plt\n",
    "import scanpy as sc\n",
    "import numpy as np\n",
    "import seaborn as sns\n",
    "import torch\n",
    "import pandas as pd\n",
    "import pyro"
   ]
  },
  {
   "cell_type": "code",
   "execution_count": 4,
   "metadata": {},
   "outputs": [],
   "source": [
    "import spaceoracle\n",
    "from spaceoracle import SpaceOracle"
   ]
  },
  {
   "cell_type": "code",
   "execution_count": 5,
   "metadata": {},
   "outputs": [
    {
     "data": {
      "text/plain": [
       "AnnData object with n_obs × n_vars = 10277 × 4998\n",
       "    obs: 'cluster', 'rctd_cluster', 'n_genes_by_counts', 'log1p_n_genes_by_counts', 'total_counts', 'log1p_total_counts', 'pct_counts_in_top_50_genes', 'pct_counts_in_top_100_genes', 'pct_counts_in_top_200_genes', 'pct_counts_in_top_500_genes', 'total_counts_mt', 'log1p_total_counts_mt', 'pct_counts_mt', 'n_counts', 'spatial_kmeans'\n",
       "    var: 'mt', 'n_cells_by_counts', 'mean_counts', 'log1p_mean_counts', 'pct_dropout_by_counts', 'total_counts', 'log1p_total_counts', 'n_cells', 'highly_variable', 'means', 'dispersions', 'dispersions_norm'\n",
       "    uns: 'cluster_colors', 'commot-user_database-info', 'flowsig_network', 'hvg', 'log1p', 'nsf_info', 'rctd_cluster_colors'\n",
       "    obsm: 'X_flow', 'X_gem', 'X_spatial', 'commot-user_database-sum-receiver', 'commot-user_database-sum-sender', 'rctd_results', 'spatial'\n",
       "    layers: 'imputed_count', 'normalized_count', 'raw_count'\n",
       "    obsp: 'commot-user_database-Angptl2-Pirb', 'commot-user_database-Angptl4-Cdh5', 'commot-user_database-Angptl4-Sdc2', 'commot-user_database-Angptl4-Sdc4', 'commot-user_database-App-Cd74', 'commot-user_database-Bmp2-Bmpr1a_Acvr2a', 'commot-user_database-Bmp2-Bmpr1a_Bmpr2', 'commot-user_database-C3-Cr2', 'commot-user_database-C4b-Cr2', 'commot-user_database-Cadm1-Cadm1', 'commot-user_database-Ccl11-Ackr1', 'commot-user_database-Ccl12-Ccr2', 'commot-user_database-Ccl17-Ackr1', 'commot-user_database-Ccl2-Ackr1', 'commot-user_database-Ccl2-Ccr2', 'commot-user_database-Ccl4-Ccr5', 'commot-user_database-Ccl5-Ackr1', 'commot-user_database-Ccl5-Ccr5', 'commot-user_database-Ccl6-Ccr2', 'commot-user_database-Ccl7-Ackr1', 'commot-user_database-Ccl7-Ccr2', 'commot-user_database-Ccl8-Ackr1', 'commot-user_database-Ccl8-Ackr4', 'commot-user_database-Ccl8-Ccr2', 'commot-user_database-Ccl8-Ccr5', 'commot-user_database-Cd34-Selp', 'commot-user_database-Cdh5-Cdh5', 'commot-user_database-Col1a1-Cd44', 'commot-user_database-Col1a1-Sdc4', 'commot-user_database-Col1a2-Cd44', 'commot-user_database-Col1a2-Sdc4', 'commot-user_database-Col4a1-Cd44', 'commot-user_database-Col4a1-Sdc4', 'commot-user_database-Col4a2-Cd44', 'commot-user_database-Col4a2-Sdc4', 'commot-user_database-Col6a1-Cd44', 'commot-user_database-Col6a1-Sdc4', 'commot-user_database-Col6a3-Cd44', 'commot-user_database-Col6a3-Sdc4', 'commot-user_database-Col6a4-Cd44', 'commot-user_database-Col6a4-Sdc4', 'commot-user_database-Col6a5-Cd44', 'commot-user_database-Col6a5-Sdc4', 'commot-user_database-Csf1-Csf1r', 'commot-user_database-Cxcl10-Ackr1', 'commot-user_database-Cxcl12-Ackr3', 'commot-user_database-Cxcl12-Cxcr4', 'commot-user_database-Cxcl13-Ackr1', 'commot-user_database-Cxcl9-Ackr1', 'commot-user_database-Dll1-Notch2', 'commot-user_database-Dll4-Notch2', 'commot-user_database-Efnb2-Ephb4', 'commot-user_database-F11r-F11r', 'commot-user_database-F11r-Jam2', 'commot-user_database-F11r-Jam3', 'commot-user_database-Fcer2a-Cr2', 'commot-user_database-Fn1-Cd44', 'commot-user_database-Fn1-Sdc4', 'commot-user_database-Gas6-Tyro3', 'commot-user_database-Gdf10-Acvr1b_Acvr2a', 'commot-user_database-Gzma-F2r', 'commot-user_database-Gzma-F2rl2', 'commot-user_database-Gzma-Pard3', 'commot-user_database-H2-K1-Cd8a', 'commot-user_database-H2-K1-Cd8b1', 'commot-user_database-H2-M3-Cd8a', 'commot-user_database-H2-M3-Cd8b1', 'commot-user_database-H2-Q6-Cd8a', 'commot-user_database-H2-Q6-Cd8b1', 'commot-user_database-H2-Q7-Cd8a', 'commot-user_database-H2-Q7-Cd8b1', 'commot-user_database-H2-T-ps-Cd8a', 'commot-user_database-H2-T-ps-Cd8b1', 'commot-user_database-H2-T10-Cd8a', 'commot-user_database-H2-T10-Cd8b1', 'commot-user_database-Hspg2-Dag1', 'commot-user_database-Icosl-Ctla4', 'commot-user_database-Igf1-Igf1r', 'commot-user_database-Jam2-F11r', 'commot-user_database-Jam2-Jam2', 'commot-user_database-Jam2-Jam3', 'commot-user_database-Jam3-F11r', 'commot-user_database-Jam3-Jam2', 'commot-user_database-Jam3-Jam3', 'commot-user_database-Lama4-Cd44', 'commot-user_database-Lama4-Dag1', 'commot-user_database-Lama5-Cd44', 'commot-user_database-Lama5-Dag1', 'commot-user_database-Lamb1-Cd44', 'commot-user_database-Lamb1-Dag1', 'commot-user_database-Lamb2-Cd44', 'commot-user_database-Lamb2-Dag1', 'commot-user_database-Lta-Tnfrsf1a', 'commot-user_database-Osm-Osmr_Il6st', 'commot-user_database-Pdgfa-Pdgfrb', 'commot-user_database-Pecam1-Pecam1', 'commot-user_database-Pgf-Flt1', 'commot-user_database-Ptn-Ncl', 'commot-user_database-Ptn-Sdc2', 'commot-user_database-Ptn-Sdc4', 'commot-user_database-Ptprm-Ptprm', 'commot-user_database-Selplg-Selp', 'commot-user_database-Sema3f-Nrp2_Plxna2', 'commot-user_database-Sema7a-Plxnc1', 'commot-user_database-Thbs2-Cd36', 'commot-user_database-Thbs2-Sdc4', 'commot-user_database-Thbs3-Cd36', 'commot-user_database-Thbs3-Sdc4', 'commot-user_database-Thbs4-Cd36', 'commot-user_database-Thbs4-Sdc4', 'commot-user_database-Tnc-Sdc4', 'commot-user_database-Tnf-Tnfrsf1a', 'commot-user_database-Tnfsf13b-Tnfrsf13c', 'commot-user_database-total-total'"
      ]
     },
     "execution_count": 5,
     "metadata": {},
     "output_type": "execute_result"
    }
   ],
   "source": [
    "import scanpy as sc\n",
    "ad = sc.read_h5ad('../data/flowsig/adata_train_flowsig.h5ad')\n",
    "ad"
   ]
  },
  {
   "cell_type": "code",
   "execution_count": 6,
   "metadata": {},
   "outputs": [],
   "source": [
    "from spaceoracle.tools.ligrec_network import LigandReceptorNetwork\n",
    "ligrec_net = LigandReceptorNetwork(ad)\n",
    "# ligrec_net.gl_dict"
   ]
  },
  {
   "cell_type": "code",
   "execution_count": 7,
   "metadata": {},
   "outputs": [
    {
     "data": {
      "text/plain": [
       "True"
      ]
     },
     "execution_count": 7,
     "metadata": {},
     "output_type": "execute_result"
    }
   ],
   "source": [
    "# target_gene = 'Il22ra2'\n",
    "target_gene = 'Ccl5'\n",
    "# target_gene = 'Cd74'\n",
    "target_gene in ad.var_names"
   ]
  },
  {
   "cell_type": "code",
   "execution_count": 8,
   "metadata": {},
   "outputs": [],
   "source": [
    "from spaceoracle.models.probabilistic_estimators import ProbabilisticPixelAttentionLR\n",
    "pyro.clear_param_store()\n",
    "\n",
    "estimator = ProbabilisticPixelAttentionLR(\n",
    "    ad, lrn=ligrec_net, target_gene=target_gene, layer='imputed_count')"
   ]
  },
  {
   "cell_type": "code",
   "execution_count": 9,
   "metadata": {},
   "outputs": [
    {
     "data": {
      "text/plain": [
       "torch.Size([512, 3])"
      ]
     },
     "execution_count": 9,
     "metadata": {},
     "output_type": "execute_result"
    }
   ],
   "source": [
    "x = torch.randn([512, 11, 3]) \n",
    "torch.sum(x, axis = 1).shape"
   ]
  },
  {
   "cell_type": "code",
   "execution_count": null,
   "metadata": {},
   "outputs": [],
   "source": [
    "%%time\n",
    "\n",
    "# to do: \n",
    "# beta0 for receptor betas\n",
    "# allow max radius as hyperparam\n",
    "\n",
    "estimator.fit(\n",
    "    annot='rctd_cluster', \n",
    "    max_epochs=10, \n",
    "    learning_rate=7e-4, \n",
    "    spatial_dim=32,\n",
    "    batch_size=512,\n",
    "    alpha=0.1,\n",
    "    cache=False\n",
    ")"
   ]
  },
  {
   "cell_type": "code",
   "execution_count": null,
   "metadata": {},
   "outputs": [],
   "source": [
    "y_trues, y_preds = estimator.get_preds()\n",
    "len(y_trues), len(y_preds)"
   ]
  },
  {
   "cell_type": "code",
   "execution_count": null,
   "metadata": {},
   "outputs": [],
   "source": [
    "from sklearn.metrics import r2_score\n",
    "\n",
    "plt.rcParams[\"figure.figsize\"] = (6, 6)\n",
    "plt.rcParams['figure.dpi'] = 100\n",
    "\n",
    "sns.scatterplot(\n",
    "    x=y_trues, \n",
    "    y=y_preds, s=10, \n",
    "    cmap='tab10', \n",
    "    edgecolor='black', linewidth=0.25)\n",
    "\n",
    "plt.xlabel(f'Observed {target_gene} expression')\n",
    "plt.ylabel(f'Predicted {target_gene} expression')\n",
    "plt.title(f'Observed vs Predicted {target_gene} expression\\n'\n",
    "    f'r2 = {r2_score(y_trues.reshape(-1), y_preds.reshape(-1)):.4f}')\n",
    "# plt.xlim(y_trues.min()-0.25, y_trues.max()+0.25)\n",
    "# plt.ylim(y_trues.min()-0.25, y_trues.max()+0.25)\n",
    "# Add x=y line\n",
    "plt.plot([y_trues.min(), y_trues.max()], [y_trues.min(), y_trues.max()], 'r--', lw=2)\n",
    "plt.show()"
   ]
  },
  {
   "cell_type": "code",
   "execution_count": null,
   "metadata": {},
   "outputs": [],
   "source": [
    "tf_betas, rec_betas = estimator.get_betas()\n",
    "tf_betas.shape, rec_betas.shape\n",
    "# (cell, tf), (cell, receptor)"
   ]
  },
  {
   "cell_type": "code",
   "execution_count": null,
   "metadata": {},
   "outputs": [],
   "source": [
    "len(estimator.receptors), estimator.receptors"
   ]
  },
  {
   "cell_type": "code",
   "execution_count": null,
   "metadata": {},
   "outputs": [],
   "source": []
  }
 ],
 "metadata": {
  "kernelspec": {
   "display_name": "Python 3.9.19 ('bee': conda)",
   "language": "python",
   "name": "python3"
  },
  "language_info": {
   "codemirror_mode": {
    "name": "ipython",
    "version": 3
   },
   "file_extension": ".py",
   "mimetype": "text/x-python",
   "name": "python",
   "nbconvert_exporter": "python",
   "pygments_lexer": "ipython3",
   "version": "3.9.19"
  },
  "vscode": {
   "interpreter": {
    "hash": "d5e083718e887c55b29d4f7da6a44fbfc7ac6a325d83706ddad436d58aee562b"
   }
  }
 },
 "nbformat": 4,
 "nbformat_minor": 2
}
