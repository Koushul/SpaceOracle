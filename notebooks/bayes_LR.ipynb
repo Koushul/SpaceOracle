{
 "cells": [
  {
   "cell_type": "code",
   "execution_count": 1,
   "metadata": {},
   "outputs": [],
   "source": [
    "%load_ext autoreload\n",
    "%autoreload 2"
   ]
  },
  {
   "cell_type": "code",
   "execution_count": 2,
   "metadata": {},
   "outputs": [],
   "source": [
    "import sys\n",
    "sys.path.append('../src')"
   ]
  },
  {
   "cell_type": "code",
   "execution_count": 3,
   "metadata": {},
   "outputs": [],
   "source": [
    "import matplotlib.pyplot as plt\n",
    "import scanpy as sc\n",
    "import numpy as np\n",
    "import seaborn as sns\n",
    "import torch\n",
    "import pandas as pd\n",
    "import pyro"
   ]
  },
  {
   "cell_type": "code",
   "execution_count": 4,
   "metadata": {},
   "outputs": [],
   "source": [
    "import spaceoracle\n",
    "from spaceoracle import SpaceOracle"
   ]
  },
  {
   "cell_type": "code",
   "execution_count": 5,
   "metadata": {},
   "outputs": [
    {
     "data": {
      "text/plain": [
       "AnnData object with n_obs × n_vars = 10277 × 4998\n",
       "    obs: 'cluster', 'rctd_cluster', 'n_genes_by_counts', 'log1p_n_genes_by_counts', 'total_counts', 'log1p_total_counts', 'pct_counts_in_top_50_genes', 'pct_counts_in_top_100_genes', 'pct_counts_in_top_200_genes', 'pct_counts_in_top_500_genes', 'total_counts_mt', 'log1p_total_counts_mt', 'pct_counts_mt', 'n_counts', 'spatial_kmeans'\n",
       "    var: 'mt', 'n_cells_by_counts', 'mean_counts', 'log1p_mean_counts', 'pct_dropout_by_counts', 'total_counts', 'log1p_total_counts', 'n_cells', 'highly_variable', 'means', 'dispersions', 'dispersions_norm'\n",
       "    uns: 'cluster_colors', 'commot-user_database-info', 'flowsig_network', 'hvg', 'log1p', 'nsf_info', 'rctd_cluster_colors'\n",
       "    obsm: 'X_flow', 'X_gem', 'X_spatial', 'commot-user_database-sum-receiver', 'commot-user_database-sum-sender', 'rctd_results', 'spatial'\n",
       "    layers: 'imputed_count', 'normalized_count', 'raw_count'\n",
       "    obsp: 'commot-user_database-Angptl2-Pirb', 'commot-user_database-Angptl4-Cdh5', 'commot-user_database-Angptl4-Sdc2', 'commot-user_database-Angptl4-Sdc4', 'commot-user_database-Bmp2-Bmpr1a_Acvr2a', 'commot-user_database-Bmp2-Bmpr1a_Bmpr2', 'commot-user_database-C3-Cr2', 'commot-user_database-C4b-Cr2', 'commot-user_database-Ccl11-Ackr1', 'commot-user_database-Ccl12-Ccr2', 'commot-user_database-Ccl17-Ackr1', 'commot-user_database-Ccl2-Ackr1', 'commot-user_database-Ccl2-Ccr2', 'commot-user_database-Ccl4-Ccr5', 'commot-user_database-Ccl5-Ackr1', 'commot-user_database-Ccl5-Ccr5', 'commot-user_database-Ccl6-Ccr2', 'commot-user_database-Ccl7-Ackr1', 'commot-user_database-Ccl7-Ccr2', 'commot-user_database-Ccl8-Ackr1', 'commot-user_database-Ccl8-Ackr4', 'commot-user_database-Ccl8-Ccr2', 'commot-user_database-Ccl8-Ccr5', 'commot-user_database-Csf1-Csf1r', 'commot-user_database-Cxcl10-Ackr1', 'commot-user_database-Cxcl12-Ackr3', 'commot-user_database-Cxcl12-Cxcr4', 'commot-user_database-Cxcl13-Ackr1', 'commot-user_database-Cxcl9-Ackr1', 'commot-user_database-Gas6-Tyro3', 'commot-user_database-Gdf10-Acvr1b_Acvr2a', 'commot-user_database-Gzma-F2r', 'commot-user_database-Gzma-F2rl2', 'commot-user_database-Gzma-Pard3', 'commot-user_database-Igf1-Igf1r', 'commot-user_database-Lta-Tnfrsf1a', 'commot-user_database-Osm-Osmr_Il6st', 'commot-user_database-Pdgfa-Pdgfrb', 'commot-user_database-Pgf-Flt1', 'commot-user_database-Ptn-Ncl', 'commot-user_database-Ptn-Sdc2', 'commot-user_database-Ptn-Sdc4', 'commot-user_database-Sema3f-Nrp2_Plxna2', 'commot-user_database-Tnf-Tnfrsf1a', 'commot-user_database-Tnfsf13b-Tnfrsf13c', 'commot-user_database-total-total'"
      ]
     },
     "execution_count": 5,
     "metadata": {},
     "output_type": "execute_result"
    }
   ],
   "source": [
    "import scanpy as sc\n",
    "ad = sc.read_h5ad('../data/flowsig/adata_train_flowsig.h5ad')\n",
    "ad"
   ]
  },
  {
   "cell_type": "code",
   "execution_count": 6,
   "metadata": {},
   "outputs": [
    {
     "data": {
      "text/plain": [
       "defaultdict(list,\n",
       "            {'Dennd5b': ['C4b'],\n",
       "             'Il24': ['C4b'],\n",
       "             'Iglc4': ['C4b'],\n",
       "             'Igkv12-46': ['C4b'],\n",
       "             'Map3k9': ['C4b'],\n",
       "             'Gm26532': ['C4b'],\n",
       "             'Chst3': ['C4b'],\n",
       "             'Gm47917': ['C4b'],\n",
       "             'Chac1': ['C4b'],\n",
       "             'Msx1': ['C4b'],\n",
       "             'Clec10a': ['Cxcl12', 'C3'],\n",
       "             'Cyp2e1': ['Cxcl12', 'C3'],\n",
       "             'Lum': ['Cxcl12', 'C3'],\n",
       "             'Ucp1': ['Cxcl12', 'C3'],\n",
       "             'Dab2': ['Cxcl12', 'C3'],\n",
       "             'Lyve1': ['Cxcl12', 'C3'],\n",
       "             'Cma1': ['Cxcl12', 'C3'],\n",
       "             'Cd5l': ['Cxcl12', 'C3'],\n",
       "             'Cd59a': ['Cxcl12', 'C3'],\n",
       "             'Tpsb2': ['Cxcl12', 'C3'],\n",
       "             'Gm16341': ['Ptn'],\n",
       "             'Rps13-ps5': ['Ptn'],\n",
       "             '4930426D05Rik': ['Ptn'],\n",
       "             'Gapt': ['Ptn'],\n",
       "             'Tacstd2': ['Ptn'],\n",
       "             'Gm14302': ['Ptn'],\n",
       "             'Gm8805': ['Ptn'],\n",
       "             'Gm16283': ['Ptn'],\n",
       "             'Il22ra2': ['Ptn'],\n",
       "             'Gm50386': ['Ptn'],\n",
       "             'Cilp': ['Cxcl12', 'C3'],\n",
       "             'Fcor': ['Cxcl12', 'C3'],\n",
       "             'Mageh1': ['Cxcl12', 'C3'],\n",
       "             'Ighg2b': ['Cxcl12', 'C3'],\n",
       "             'Aplnr': ['Cxcl12', 'C3'],\n",
       "             'Igkv15-103': ['Cxcl12', 'C3'],\n",
       "             'Iglv1': ['Cxcl12', 'C3'],\n",
       "             'Igkv4-91': ['Cxcl12', 'C3'],\n",
       "             'Igkv5-39': ['Cxcl12', 'C3'],\n",
       "             'Igha': ['Cxcl12', 'C3']})"
      ]
     },
     "execution_count": 6,
     "metadata": {},
     "output_type": "execute_result"
    }
   ],
   "source": [
    "from spaceoracle.tools.ligrec_network import LigandReceptorNetwork\n",
    "ligrec_net = LigandReceptorNetwork(ad)\n",
    "ligrec_net.gl_dict"
   ]
  },
  {
   "cell_type": "code",
   "execution_count": 7,
   "metadata": {},
   "outputs": [
    {
     "data": {
      "text/plain": [
       "True"
      ]
     },
     "execution_count": 7,
     "metadata": {},
     "output_type": "execute_result"
    }
   ],
   "source": [
    "target_gene = 'Il22ra2'\n",
    "target_gene in ad.var_names"
   ]
  },
  {
   "cell_type": "code",
   "execution_count": 55,
   "metadata": {},
   "outputs": [],
   "source": [
    "from spaceoracle.models.probabilistic_estimators import ProbabilisticPixelAttentionLR\n",
    "pyro.clear_param_store()\n",
    "\n",
    "estimator = ProbabilisticPixelAttentionLR(\n",
    "    ad, lrn=ligrec_net, target_gene=target_gene, layer='imputed_count')"
   ]
  },
  {
   "cell_type": "code",
   "execution_count": 57,
   "metadata": {},
   "outputs": [
    {
     "name": "stdout",
     "output_type": "stream",
     "text": [
      "Fitting 7 models in parallel... with 7/64 cores\n",
      "🌍️ Generating spatial 32x32 maps...\n"
     ]
    },
    {
     "data": {
      "text/html": [
       "<style>\n",
       "</style>\n",
       "<div class=\"enlighten\">\n",
       "  <div class=\"enlighten-bar\">\n",
       "    <pre>[Il22ra2 / 11] &lt;&gt; MSE: 0.00192 100%|████████████████████████████| 10/10 [00:15&lt;00:00, 0.68 epochs/s]</pre>\n",
       "  </div>\n",
       "</div>\n"
      ],
      "text/plain": [
       "<IPython.core.display.HTML object>"
      ]
     },
     "metadata": {},
     "output_type": "display_data"
    },
    {
     "name": "stdout",
     "output_type": "stream",
     "text": [
      "CPU times: user 1min 18s, sys: 906 ms, total: 1min 19s\n",
      "Wall time: 1min 17s\n"
     ]
    }
   ],
   "source": [
    "%%time\n",
    "\n",
    "# NOTE: runs but not sure if it works lmao\n",
    "\n",
    "estimator.fit(\n",
    "    annot='rctd_cluster', \n",
    "    max_epochs=10, \n",
    "    learning_rate=7e-4, \n",
    "    spatial_dim=32,\n",
    "    batch_size=512,\n",
    "    alpha=0.1,\n",
    "    cache=False\n",
    ")"
   ]
  },
  {
   "cell_type": "code",
   "execution_count": null,
   "metadata": {},
   "outputs": [],
   "source": []
  }
 ],
 "metadata": {
  "kernelspec": {
   "display_name": "Python 3.9.19 ('bee': conda)",
   "language": "python",
   "name": "python3"
  },
  "language_info": {
   "codemirror_mode": {
    "name": "ipython",
    "version": 3
   },
   "file_extension": ".py",
   "mimetype": "text/x-python",
   "name": "python",
   "nbconvert_exporter": "python",
   "pygments_lexer": "ipython3",
   "version": "3.9.19"
  },
  "vscode": {
   "interpreter": {
    "hash": "d5e083718e887c55b29d4f7da6a44fbfc7ac6a325d83706ddad436d58aee562b"
   }
  }
 },
 "nbformat": 4,
 "nbformat_minor": 2
}
