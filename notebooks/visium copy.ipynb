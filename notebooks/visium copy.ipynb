{
 "cells": [
  {
   "cell_type": "code",
   "execution_count": 1,
   "metadata": {},
   "outputs": [],
   "source": [
    "%load_ext autoreload\n",
    "%autoreload 2\n",
    "\n",
    "import scanpy as sc\n",
    "import numpy as np\n",
    "import pandas as pd \n",
    "import matplotlib.pyplot as plt\n",
    "\n",
    "import sys\n",
    "sys.path.append('../src')"
   ]
  },
  {
   "cell_type": "markdown",
   "metadata": {},
   "source": [
    "### Load data"
   ]
  },
  {
   "cell_type": "code",
   "execution_count": null,
   "metadata": {},
   "outputs": [],
   "source": [
    "# adata = sc.datasets.visium_sge('V1_Human_Lymph_Node')\n",
    "\n",
    "# https://www.10xgenomics.com/datasets/human-lymph-node-1-standard-1-0-0\n",
    "visium_folder = \"../data/spaceranger/\"\n",
    "adata = sc.read_visium(path=visium_folder)\n",
    "adata.var_names_make_unique()\n",
    "\n",
    "adata"
   ]
  },
  {
   "cell_type": "code",
   "execution_count": null,
   "metadata": {},
   "outputs": [],
   "source": [
    "adata.obs.reset_index(names='full_barcode', inplace=True)\n",
    "adata.obs['abbr_barcode'] = adata.obs['full_barcode'].apply(lambda x: x[-8:])\n",
    "adata.obs.set_index('abbr_barcode', inplace=True)\n",
    "\n",
    "adata.obs"
   ]
  },
  {
   "cell_type": "code",
   "execution_count": null,
   "metadata": {},
   "outputs": [],
   "source": [
    "# clusters_path = \"../data/spaceranger/analysis/clustering/graphclust/clusters.csv\"  \n",
    "# clusters_df = pd.read_csv(clusters_path)\n",
    "\n",
    "# clusters_df.set_index('Barcode', inplace=True) \n",
    "# adata.obs['cluster'] = clusters_df['Cluster']\n",
    "\n",
    "clusters_path = '../data/spaceranger/gold_standard_annotation_subtypes_to_regions.csv'\n",
    "clusters_df = pd.read_csv(clusters_path)\n",
    "\n",
    "labels_path = '../data/spaceranger/region_cluster29_V1_Human_Lymph_Node.csv'\n",
    "labels = pd.read_csv(labels_path)\n",
    "labels.set_index('Barcode', inplace=True)\n",
    "adata.obs['cluster'] = labels['region_cluster']"
   ]
  },
  {
   "cell_type": "code",
   "execution_count": null,
   "metadata": {},
   "outputs": [],
   "source": [
    "from utils import get_immune_genes, process_adata, get_markers\n",
    "\n",
    "immune_genes = get_immune_genes(mouse=False)\n",
    "adata = process_adata(adata, include_genes=immune_genes, mouse=False)\n",
    "adata.shape"
   ]
  },
  {
   "cell_type": "code",
   "execution_count": null,
   "metadata": {},
   "outputs": [],
   "source": [
    "%matplotlib inline\n",
    "plt.rcParams[\"figure.figsize\"] = (5, 5)\n",
    "plt.rcParams['figure.dpi'] = 180\n",
    "sc.pl.embedding(adata, color='cluster', basis=\"spatial\", s=25, show=False, edgecolor='black', linewidth=0.15)\n",
    "\n",
    "fig = plt.gcf()\n",
    "ax = plt.gca()\n",
    "\n",
    "plt.title('')\n",
    "plt.axis('off')\n",
    "plt.show()"
   ]
  },
  {
   "cell_type": "code",
   "execution_count": null,
   "metadata": {},
   "outputs": [],
   "source": [
    "adata"
   ]
  },
  {
   "cell_type": "code",
   "execution_count": null,
   "metadata": {},
   "outputs": [],
   "source": [
    "sc.pp.neighbors(adata)\n",
    "sc.tl.umap(adata)\n",
    "sc.pl.umap(adata, color = 'cluster')"
   ]
  },
  {
   "cell_type": "code",
   "execution_count": null,
   "metadata": {},
   "outputs": [],
   "source": [
    "sc.tl.pca(adata)\n",
    "sc.pl.pca(adata, color = 'cluster')"
   ]
  },
  {
   "cell_type": "code",
   "execution_count": null,
   "metadata": {},
   "outputs": [],
   "source": [
    "sc.set_figure_params(dpi=80, color_map='viridis')\n",
    "sc.settings.verbosity = 2"
   ]
  },
  {
   "cell_type": "code",
   "execution_count": null,
   "metadata": {},
   "outputs": [],
   "source": [
    "adata.to_df()"
   ]
  },
  {
   "cell_type": "code",
   "execution_count": null,
   "metadata": {},
   "outputs": [],
   "source": [
    "sc.pp.highly_variable_genes(adata, n_top_genes=500)"
   ]
  },
  {
   "cell_type": "code",
   "execution_count": null,
   "metadata": {},
   "outputs": [],
   "source": [
    "marker_genes_dict = get_markers(adata)\n",
    "marker_genes_dict"
   ]
  },
  {
   "cell_type": "code",
   "execution_count": null,
   "metadata": {},
   "outputs": [],
   "source": [
    "add_ons = {\n",
    "    'Naive': ['CD44'],\n",
    "    'Tfh' : ['BCL6', 'CXCR5','PDCD1', 'ICOS'],\n",
    "    'Th2' : ['GATA3', 'IL4', 'PRDM1', 'STAT6', 'IL2RA'],\n",
    "    'B-cell': ['CD79A', 'MS4A1'],\n",
    "    'T-cell': ['PTPRC', 'RPSA', 'CCR7'],\n",
    "    'Dendritic': ['CD40', 'CD80', 'CD86', 'BATF3'],\n",
    "    'Treg': ['FOXP3'],\n",
    "    'NK': ['NKG7'],\n",
    "    'Myeloid': ['CST3']\n",
    "}\n",
    "\n",
    "for celltype, genes in add_ons.items():\n",
    "    in_genes = [g for g in genes if g in adata.var_names]\n",
    "    if len(in_genes) <= 0: continue\n",
    "    if marker_genes_dict.get(celltype) == None:\n",
    "        marker_genes_dict[celltype] = in_genes\n",
    "    else:\n",
    "        marker_genes_dict[celltype].extend(in_genes)\n",
    "\n",
    "marker_genes_dict"
   ]
  },
  {
   "cell_type": "code",
   "execution_count": null,
   "metadata": {},
   "outputs": [],
   "source": [
    "# gs"
   ]
  },
  {
   "cell_type": "code",
   "execution_count": null,
   "metadata": {},
   "outputs": [],
   "source": [
    "sc.set_figure_params(dpi=80, color_map='viridis')\n",
    "sc.settings.verbosity = 2\n",
    "\n",
    "# ax = sc.pl.dotplot(adata, marker_genes_dict, groupby='cluster')\n",
    "gs = sc.pl.matrixplot(adata, marker_genes_dict, groupby='cluster')"
   ]
  },
  {
   "cell_type": "code",
   "execution_count": null,
   "metadata": {},
   "outputs": [],
   "source": [
    "adata.obs['cluster'] = adata.obs['cluster'].astype('category')\n",
    "adata.write('../data/spaceranger/human-lymph-node-1-0-0.h5ad')"
   ]
  },
  {
   "cell_type": "markdown",
   "metadata": {},
   "source": [
    "### CellOracle GRN"
   ]
  },
  {
   "cell_type": "code",
   "execution_count": null,
   "metadata": {},
   "outputs": [],
   "source": [
    "# adata = sc.read_h5ad('../data/spaceranger/human-lymph-node-1-0-0.h5ad')"
   ]
  },
  {
   "cell_type": "code",
   "execution_count": null,
   "metadata": {},
   "outputs": [],
   "source": [
    "%%time\n",
    "\n",
    "sc.tl.pca(adata, svd_solver='arpack')\n",
    "sc.pp.neighbors(adata, n_neighbors=15, n_pcs=20)\n",
    "sc.tl.diffmap(adata)\n",
    "sc.pp.neighbors(adata, n_neighbors=15, use_rep='X_diffmap')"
   ]
  },
  {
   "cell_type": "code",
   "execution_count": null,
   "metadata": {},
   "outputs": [],
   "source": [
    "plt.rcParams[\"figure.figsize\"] = [6, 6]\n",
    "\n",
    "sc.tl.paga(adata, groups='cluster')\n",
    "sc.pl.paga(adata)"
   ]
  },
  {
   "cell_type": "code",
   "execution_count": null,
   "metadata": {},
   "outputs": [],
   "source": [
    "sc.tl.draw_graph(adata, init_pos='paga', random_state=123)\n",
    "sc.pl.draw_graph(adata, color='cluster', legend_loc='on data')"
   ]
  },
  {
   "cell_type": "code",
   "execution_count": null,
   "metadata": {},
   "outputs": [],
   "source": [
    "import celloracle as co \n",
    "\n",
    "oracle = co.Oracle()"
   ]
  },
  {
   "cell_type": "code",
   "execution_count": null,
   "metadata": {},
   "outputs": [],
   "source": [
    "adata.X = adata.layers[\"raw_count\"].copy()\n",
    "\n",
    "oracle.import_anndata_as_raw_count(\n",
    "    adata=adata,\n",
    "    cluster_column_name=\"cluster\",\n",
    "    embedding_name=\"X_draw_graph_fr\"\n",
    ")"
   ]
  },
  {
   "cell_type": "code",
   "execution_count": null,
   "metadata": {},
   "outputs": [],
   "source": [
    "# Perform PCA\n",
    "oracle.perform_PCA()\n",
    "\n",
    "# Select important PCs\n",
    "plt.plot(np.cumsum(oracle.pca.explained_variance_ratio_)[:100])\n",
    "n_comps = np.where(np.diff(np.diff(np.cumsum(oracle.pca.explained_variance_ratio_))>0.002))[0][0]\n",
    "plt.axvline(n_comps, c=\"k\")\n",
    "plt.show()\n",
    "print(n_comps)\n",
    "n_comps = min(n_comps, 50)"
   ]
  },
  {
   "cell_type": "code",
   "execution_count": null,
   "metadata": {},
   "outputs": [],
   "source": [
    "n_cell = oracle.adata.shape[0]\n",
    "print(f\"cell number is :{n_cell}\")\n",
    "\n",
    "k = int(0.025*n_cell)\n",
    "print(f\"Auto-selected k is :{k}\")"
   ]
  },
  {
   "cell_type": "code",
   "execution_count": null,
   "metadata": {},
   "outputs": [],
   "source": [
    "oracle.knn_imputation(\n",
    "    n_pca_dims=n_comps, \n",
    "    k=k, \n",
    "    balanced=True, \n",
    "    b_sight=k*8,\n",
    "    b_maxl=k*4, \n",
    "    n_jobs=4\n",
    ")"
   ]
  },
  {
   "cell_type": "code",
   "execution_count": null,
   "metadata": {},
   "outputs": [],
   "source": [
    "adata\n",
    "adata.write('../data/spaceranger/human-lymph-node-1-0-0.h5ad')"
   ]
  },
  {
   "cell_type": "code",
   "execution_count": null,
   "metadata": {},
   "outputs": [],
   "source": [
    "base_GRN = co.data.load_human_promoter_base_GRN()\n",
    "oracle.import_TF_data(TF_info_matrix=base_GRN)"
   ]
  },
  {
   "cell_type": "code",
   "execution_count": null,
   "metadata": {},
   "outputs": [],
   "source": [
    "adata.obs['cluster'].value_counts()"
   ]
  },
  {
   "cell_type": "code",
   "execution_count": null,
   "metadata": {},
   "outputs": [],
   "source": [
    "%%time\n",
    "\n",
    "links = oracle.get_links(\n",
    "    cluster_name_for_GRN_unit=\"cluster\", \n",
    "    alpha=10,\n",
    "    verbose_level=10\n",
    ")"
   ]
  },
  {
   "cell_type": "code",
   "execution_count": null,
   "metadata": {},
   "outputs": [],
   "source": [
    "import pickle\n",
    "\n",
    "with open('../data/spaceranger/celloracle_links_hln100.pkl', 'wb') as f:\n",
    "    pickle.dump(links.links_dict, f)\n"
   ]
  },
  {
   "cell_type": "code",
   "execution_count": null,
   "metadata": {},
   "outputs": [],
   "source": [
    "links.filter_links()\n",
    "oracle.get_cluster_specific_TFdict_from_Links(links_object=links)\n",
    "oracle.fit_GRN_for_simulation(alpha=10, \n",
    "                              use_cluster_specific_TFdict=True)"
   ]
  },
  {
   "cell_type": "code",
   "execution_count": null,
   "metadata": {},
   "outputs": [],
   "source": [
    "with open('../data/spaceranger/celloracle_coefs_hln100.pkl', 'wb') as f:\n",
    "    pickle.dump(oracle.coef_matrix_per_cluster, f)"
   ]
  },
  {
   "cell_type": "markdown",
   "metadata": {},
   "source": [
    "### Pixel attention"
   ]
  },
  {
   "cell_type": "code",
   "execution_count": null,
   "metadata": {},
   "outputs": [],
   "source": [
    "import seaborn as sns\n",
    "import torch\n",
    "\n",
    "from spaceoracle.models.estimators import ViTEstimatorV2, device, PixelAttention\n",
    "import spaceoracle\n",
    "from spaceoracle import SpaceOracle\n",
    "\n",
    "from scipy.stats import spearmanr, pearsonr\n",
    "from sklearn.metrics import r2_score"
   ]
  },
  {
   "cell_type": "code",
   "execution_count": null,
   "metadata": {},
   "outputs": [],
   "source": [
    "from utils import get_imputed\n",
    "\n",
    "adata_train = sc.read_h5ad('../data/spaceranger/human-lymph-node-1-0-0.h5ad')\n",
    "# adata_train = get_imputed(adata_train, spatial_dim=64, annot='cluster')\n",
    "# adata_train.write('../data/spaceranger/human-lymph-node-1-0-0.h5ad')\n",
    "adata_train"
   ]
  },
  {
   "cell_type": "code",
   "execution_count": null,
   "metadata": {},
   "outputs": [],
   "source": [
    "adata_train.var_names"
   ]
  },
  {
   "cell_type": "code",
   "execution_count": null,
   "metadata": {},
   "outputs": [],
   "source": [
    "from spaceoracle.tools.network import HumanLymphRegulatoryNetwork\n",
    "\n",
    "grn = HumanLymphRegulatoryNetwork(base_pth='/ix/djishnu/alw399/SpaceOracle/data/')"
   ]
  },
  {
   "cell_type": "code",
   "execution_count": null,
   "metadata": {},
   "outputs": [],
   "source": [
    "target_gene = 'VCAM1'\n",
    "target_gene in adata_train.var_names"
   ]
  },
  {
   "cell_type": "code",
   "execution_count": null,
   "metadata": {},
   "outputs": [],
   "source": [
    "target_regulators = grn.get_cluster_regulators(adata_train, target_gene, cluster_name='cluster')\n",
    "len(target_regulators), target_regulators"
   ]
  },
  {
   "cell_type": "code",
   "execution_count": null,
   "metadata": {},
   "outputs": [],
   "source": [
    "estimator = PixelAttention(\n",
    "    adata_train, co_grn=grn, target_gene=target_gene, layer='imputed_count', annot='cluster')\n",
    "\n",
    "estimator.fit(\n",
    "    annot='cluster', \n",
    "    max_epochs=5, \n",
    "    learning_rate=4e-4, \n",
    "    spatial_dim=64,\n",
    "    batch_size=256,\n",
    "    init_betas='co',\n",
    "    mode='train_test',\n",
    "    rotate_maps=True,\n",
    "    cluster_grn=True,\n",
    "    regularize=True, \n",
    ")"
   ]
  },
  {
   "cell_type": "code",
   "execution_count": null,
   "metadata": {},
   "outputs": [],
   "source": [
    "plt.rcParams[\"figure.figsize\"] = (8, 5)\n",
    "plt.rcParams['figure.dpi'] = 100\n",
    "plt.plot(estimator.losses, label=target_gene)\n",
    "plt.xlabel('Epoch')\n",
    "plt.ylabel('mean squared error')\n",
    "plt.title(f'Validation loss | α = {estimator.model.alpha.item():.3f}')\n",
    "plt.legend()\n",
    "plt.show()"
   ]
  },
  {
   "cell_type": "code",
   "execution_count": null,
   "metadata": {},
   "outputs": [],
   "source": [
    "est = estimator\n",
    "with torch.no_grad():\n",
    "    betas = est.get_betas(\n",
    "        spatial_maps=np.array(adata_train.obsm['spatial_maps']),\n",
    "        labels=np.array(adata_train.obs['cluster']),\n",
    "    )\n",
    "    \n",
    "    y_pred = est.predict_y(\n",
    "        est.model, \n",
    "        torch.from_numpy(betas).to(device), \n",
    "        torch.from_numpy(\n",
    "            adata_train.to_df(layer=est.layer)\n",
    "            [est.regulators].values.astype(np.float32)).to(device)).cpu().numpy()"
   ]
  },
  {
   "cell_type": "code",
   "execution_count": null,
   "metadata": {},
   "outputs": [],
   "source": [
    "plt.rcParams[\"figure.figsize\"] = (6, 6)\n",
    "plt.rcParams['figure.dpi'] = 100\n",
    "\n",
    "y = adata_train.to_df(layer=est.layer)[[target_gene]]\n",
    "\n",
    "sns.scatterplot(\n",
    "    x=y.values.reshape(-1), \n",
    "    y=y_pred.reshape(-1), s=10, \n",
    "    c=adata_train.obs.cluster.values[:], cmap='tab10', edgecolor='black', linewidth=0.25)\n",
    "\n",
    "plt.xlabel(f'Observed {target_gene} expression')\n",
    "plt.ylabel(f'Predicted {target_gene} expression')\n",
    "plt.title(f'Observed vs Predicted {target_gene} expression')\n",
    "r2 = r2_score(y.values.reshape(-1), y_pred.reshape(-1))\n",
    "plt.text(\n",
    "    x=y.values.max()-y.values.mean(), \n",
    "    y=y_pred.min(), \n",
    "    s=f'r2 = {r2:.4f}', \n",
    "    fontsize=10, \n",
    "    fontname='DejaVu Sans',\n",
    "    ha='left',\n",
    "    va='bottom'\n",
    ")\n",
    "plt.xlim(y.values[:, :].min()-0.25, y.values[:, :].max()+0.25)\n",
    "plt.ylim(y.values[:, :].min()-0.25, y.values[:, :].max()+0.25)\n",
    "# Add x=y line\n",
    "plt.plot([y.min(), y.max()], [y.min(), y.max()], 'r--', lw=2)\n",
    "plt.show()"
   ]
  },
  {
   "cell_type": "code",
   "execution_count": null,
   "metadata": {},
   "outputs": [],
   "source": [
    "plt.rcParams['figure.figsize'] = [10, 4]\n",
    "df = pd.DataFrame(betas, columns=['intercept']+est.regulators)\n",
    "\n",
    "for celltype in adata_train.obs['cluster'].unique():\n",
    "    sns.kdeplot(\n",
    "        df['PAX5'].values[adata_train.obs['cluster'] == celltype], \n",
    "        shade=True, label=celltype)\n",
    "plt.title('PAX5')\n",
    "plt.legend(ncols=3)\n",
    "plt.show()"
   ]
  },
  {
   "cell_type": "code",
   "execution_count": null,
   "metadata": {},
   "outputs": [],
   "source": [
    "f, axs = plt.subplots(3, 5, figsize=(20, 15), dpi=140, sharex=True, sharey=True)\n",
    "axs = axs.flatten()\n",
    "\n",
    "scatter_plots = []\n",
    "\n",
    "for i in range(len(axs)): \n",
    "    axs[i].set_facecolor('white')\n",
    "    scatter = sns.scatterplot(x=adata_train.obsm['spatial'][:, 0], y=adata_train.obsm['spatial'][:, 1], \n",
    "                s=5, c=betas[:, i+1], cmap='rainbow', \n",
    "                ax=axs[i], edgecolor='black', linewidth=0.1, \n",
    "    )\n",
    "    scatter_plots.append(scatter)\n",
    "\n",
    "beta_means = list(betas.mean(0))\n",
    "for ix, ax in enumerate(axs):\n",
    "    ax.spines['top'].set_visible(False)\n",
    "    ax.spines['right'].set_visible(False)\n",
    "    ax.spines['bottom'].set_visible(False)\n",
    "    ax.spines['left'].set_visible(False)\n",
    "    ax.set_title(f'{est.regulators[ix]}\\n'\n",
    "        f'μ: {beta_means[ix+1]:.3e} | Prior: {est.model.betas[1:][ix]:.3e}', fontsize=13)\n",
    "    ax.set_xticks([])\n",
    "    ax.set_yticks([])\n",
    "    \n",
    "    \n",
    "plt.tight_layout()\n",
    "f.subplots_adjust(bottom=0.1)\n",
    "\n",
    "# Add a colorbar\n",
    "cbar_ax = f.add_axes([0.1, 0.05, 0.8, 0.02])\n",
    "colorbar = f.colorbar(\n",
    "    scatter_plots[0].collections[0], cax=cbar_ax, orientation='horizontal')\n",
    "\n",
    "\n",
    "plt.suptitle(f'\\nRegulatory impact of transcription factors on {est.target_gene} ', fontsize=22)\n",
    "plt.subplots_adjust(top=0.855)\n",
    "plt.show()"
   ]
  },
  {
   "cell_type": "markdown",
   "metadata": {},
   "source": [
    "### Fully trained model"
   ]
  },
  {
   "cell_type": "code",
   "execution_count": null,
   "metadata": {},
   "outputs": [],
   "source": [
    "import seaborn as sns\n",
    "import torch\n",
    "\n",
    "from spaceoracle.models.estimators import ViTEstimatorV2, device, PixelAttention\n",
    "import spaceoracle\n",
    "from spaceoracle import SpaceOracle\n",
    "\n",
    "from scipy.stats import spearmanr, pearsonr\n",
    "from sklearn.metrics import r2_score"
   ]
  },
  {
   "cell_type": "code",
   "execution_count": null,
   "metadata": {},
   "outputs": [],
   "source": [
    "from utils import get_imputed\n",
    "from spaceoracle.tools.network import HumanLymphRegulatoryNetwork\n",
    "\n",
    "adata_train = sc.read_h5ad(\n",
    "    '../data/spaceranger/human-lymph-node-1-0-0-cleaned.h5ad')\n",
    "\n",
    "grn = HumanLymphRegulatoryNetwork(base_pth='/ix/djishnu/alw399/SpaceOracle/data/')\n",
    "\n",
    "so = spaceoracle.SpaceOracle(\n",
    "    adata=adata_train,\n",
    "    annot='cluster', \n",
    "    max_epochs=5, \n",
    "    learning_rate=4e-4, \n",
    "    spatial_dim=64,\n",
    "    batch_size=256,\n",
    "    init_betas='co',\n",
    "    rotate_maps=True,\n",
    "    cluster_grn=True,\n",
    "    regularize=True,\n",
    "    co_grn=grn\n",
    ")"
   ]
  },
  {
   "cell_type": "code",
   "execution_count": null,
   "metadata": {},
   "outputs": [],
   "source": [
    "genes = set()\n",
    "for cluster, df in so.grn.links_day3_1.items():\n",
    "    genes.update(df['target'])\n",
    "len(genes)"
   ]
  },
  {
   "cell_type": "code",
   "execution_count": null,
   "metadata": {},
   "outputs": [],
   "source": [
    "# currently at 4795\n",
    "from glob import glob \n",
    "\n",
    "genes = glob('models/*')\n",
    "genes = [os.path.basename(p).replace('_estimator.pkl', '') for p in genes]\n",
    "len(genes)"
   ]
  },
  {
   "cell_type": "code",
   "execution_count": null,
   "metadata": {},
   "outputs": [],
   "source": [
    "so.save_dir = 'models/'\n",
    "beta_dict = so._get_spatial_betas_dict(genes)\n",
    "len(beta_dict)"
   ]
  },
  {
   "cell_type": "code",
   "execution_count": null,
   "metadata": {},
   "outputs": [],
   "source": [
    "import pickle \n",
    "with open('beta_dict_visium.pickle', 'wb') as f:\n",
    "    pickle.dump(beta_dict, f)"
   ]
  },
  {
   "cell_type": "markdown",
   "metadata": {},
   "source": [
    "### Inference"
   ]
  },
  {
   "cell_type": "code",
   "execution_count": 2,
   "metadata": {},
   "outputs": [],
   "source": [
    "import seaborn as sns\n",
    "import torch\n",
    "\n",
    "from spaceoracle.models.estimators import ViTEstimatorV2, device, PixelAttention\n",
    "import spaceoracle\n",
    "from spaceoracle import SpaceOracle\n",
    "\n",
    "from scipy.stats import spearmanr, pearsonr\n",
    "from sklearn.metrics import r2_score"
   ]
  },
  {
   "cell_type": "code",
   "execution_count": 3,
   "metadata": {},
   "outputs": [
    {
     "name": "stderr",
     "output_type": "stream",
     "text": [
      "/ihome/djishnu/alw399/.local/lib/python3.9/site-packages/anndata/_core/anndata.py:1754: UserWarning: Observation names are not unique. To make them unique, call `.obs_names_make_unique`.\n",
      "  utils.warn_names_duplicates(\"obs\")\n",
      "/ihome/djishnu/alw399/.local/lib/python3.9/site-packages/anndata/_core/anndata.py:1754: UserWarning: Observation names are not unique. To make them unique, call `.obs_names_make_unique`.\n",
      "  utils.warn_names_duplicates(\"obs\")\n"
     ]
    }
   ],
   "source": [
    "from utils import get_imputed\n",
    "from spaceoracle.tools.network import HumanLymphRegulatoryNetwork\n",
    "\n",
    "adata_train = sc.read_h5ad(\n",
    "    '../data/spaceranger/human-lymph-node-1-0-0-cleaned.h5ad')\n",
    "\n",
    "grn = HumanLymphRegulatoryNetwork(base_pth='/ix/djishnu/alw399/SpaceOracle/data/')\n",
    "\n",
    "so = spaceoracle.SpaceOracle(\n",
    "    adata=adata_train,\n",
    "    annot='cluster', \n",
    "    max_epochs=5, \n",
    "    learning_rate=4e-4, \n",
    "    spatial_dim=64,\n",
    "    batch_size=256,\n",
    "    init_betas='co',\n",
    "    rotate_maps=True,\n",
    "    cluster_grn=True,\n",
    "    regularize=True,\n",
    "    co_grn=grn\n",
    ")"
   ]
  },
  {
   "cell_type": "code",
   "execution_count": 4,
   "metadata": {},
   "outputs": [],
   "source": [
    "import pickle \n",
    "\n",
    "with open('beta_dict.pickle', 'rb') as handle:\n",
    "    so.beta_dict = pickle.load(handle)\n",
    "so.coef_matrix = pd.read_csv('coef_matrix.csv', index_col=0)"
   ]
  },
  {
   "cell_type": "code",
   "execution_count": 5,
   "metadata": {},
   "outputs": [
    {
     "data": {
      "text/html": [
       "<div>\n",
       "<style scoped>\n",
       "    .dataframe tbody tr th:only-of-type {\n",
       "        vertical-align: middle;\n",
       "    }\n",
       "\n",
       "    .dataframe tbody tr th {\n",
       "        vertical-align: top;\n",
       "    }\n",
       "\n",
       "    .dataframe thead th {\n",
       "        text-align: right;\n",
       "    }\n",
       "</style>\n",
       "<table border=\"1\" class=\"dataframe\">\n",
       "  <thead>\n",
       "    <tr style=\"text-align: right;\">\n",
       "      <th></th>\n",
       "      <th>source</th>\n",
       "      <th>target</th>\n",
       "    </tr>\n",
       "  </thead>\n",
       "  <tbody>\n",
       "    <tr>\n",
       "      <th>0</th>\n",
       "      <td>AIRE</td>\n",
       "      <td>[ACE, ADM, ALG10B, ALOXE3, AMN, APOL1, ATF3, B...</td>\n",
       "    </tr>\n",
       "    <tr>\n",
       "      <th>1</th>\n",
       "      <td>AR</td>\n",
       "      <td>[A1BG, A2M, A4GALT, AACS, AASDH, ABCA2, ABCA5,...</td>\n",
       "    </tr>\n",
       "    <tr>\n",
       "      <th>2</th>\n",
       "      <td>ARID3A</td>\n",
       "      <td>[AADAT, ABCA5, ABCB4, ABCG1, ACADM, ACKR4, ACP...</td>\n",
       "    </tr>\n",
       "    <tr>\n",
       "      <th>3</th>\n",
       "      <td>ASCL1</td>\n",
       "      <td>[ABHD17C, ABHD2, ACLY, ACP5, ACR, ADIPOR1, ADI...</td>\n",
       "    </tr>\n",
       "    <tr>\n",
       "      <th>4</th>\n",
       "      <td>ATF3</td>\n",
       "      <td>[A1BG, A2M-AS1, A4GALT, AACS, AADAT, AAGAB, AA...</td>\n",
       "    </tr>\n",
       "    <tr>\n",
       "      <th>...</th>\n",
       "      <td>...</td>\n",
       "      <td>...</td>\n",
       "    </tr>\n",
       "    <tr>\n",
       "      <th>201</th>\n",
       "      <td>ZNF628</td>\n",
       "      <td>[ADGRF5, ANK3, AOC1, APLNR, ARSI, BRI3BP, BTBD...</td>\n",
       "    </tr>\n",
       "    <tr>\n",
       "      <th>202</th>\n",
       "      <td>ZNF708</td>\n",
       "      <td>[ADAMTS9, ADORA2A, AKR7A3, ANK3, APBA2, APBB3,...</td>\n",
       "    </tr>\n",
       "    <tr>\n",
       "      <th>203</th>\n",
       "      <td>ZNF768</td>\n",
       "      <td>[AAGAB, ABCB4, ABI3BP, ABRACL, ACR, ADGRG5, AD...</td>\n",
       "    </tr>\n",
       "    <tr>\n",
       "      <th>204</th>\n",
       "      <td>ZNF85</td>\n",
       "      <td>[ABAT, ABCB1, ABCD2, ABRACL, ACTA2, AGMO, AKAP...</td>\n",
       "    </tr>\n",
       "    <tr>\n",
       "      <th>205</th>\n",
       "      <td>ZSCAN26</td>\n",
       "      <td>[ABCC9, ACADM, AHSP, ANXA7, APBA2, API5, ARHGA...</td>\n",
       "    </tr>\n",
       "  </tbody>\n",
       "</table>\n",
       "<p>206 rows × 2 columns</p>\n",
       "</div>"
      ],
      "text/plain": [
       "      source                                             target\n",
       "0       AIRE  [ACE, ADM, ALG10B, ALOXE3, AMN, APOL1, ATF3, B...\n",
       "1         AR  [A1BG, A2M, A4GALT, AACS, AASDH, ABCA2, ABCA5,...\n",
       "2     ARID3A  [AADAT, ABCA5, ABCB4, ABCG1, ACADM, ACKR4, ACP...\n",
       "3      ASCL1  [ABHD17C, ABHD2, ACLY, ACP5, ACR, ADIPOR1, ADI...\n",
       "4       ATF3  [A1BG, A2M-AS1, A4GALT, AACS, AADAT, AAGAB, AA...\n",
       "..       ...                                                ...\n",
       "201   ZNF628  [ADGRF5, ANK3, AOC1, APLNR, ARSI, BRI3BP, BTBD...\n",
       "202   ZNF708  [ADAMTS9, ADORA2A, AKR7A3, ANK3, APBA2, APBB3,...\n",
       "203   ZNF768  [AAGAB, ABCB4, ABI3BP, ABRACL, ACR, ADGRG5, AD...\n",
       "204    ZNF85  [ABAT, ABCB1, ABCD2, ABRACL, ACTA2, AGMO, AKAP...\n",
       "205  ZSCAN26  [ABCC9, ACADM, AHSP, ANXA7, APBA2, API5, ARHGA...\n",
       "\n",
       "[206 rows x 2 columns]"
      ]
     },
     "execution_count": 5,
     "metadata": {},
     "output_type": "execute_result"
    }
   ],
   "source": [
    "df = so.grn.links_day3_1[1]\n",
    "df = df.groupby('source').agg({'target': list}).reset_index()\n",
    "df"
   ]
  },
  {
   "cell_type": "code",
   "execution_count": 6,
   "metadata": {},
   "outputs": [
    {
     "data": {
      "text/plain": [
       "{'AIRE',\n",
       " 'AR',\n",
       " 'ARID3A',\n",
       " 'ASCL1',\n",
       " 'ATF3',\n",
       " 'ATF6',\n",
       " 'BATF3',\n",
       " 'BCL11A',\n",
       " 'BCL11B',\n",
       " 'BCL6',\n",
       " 'BCL6B',\n",
       " 'BHLHE40',\n",
       " 'BHLHE41',\n",
       " 'CBX5',\n",
       " 'CCDC6',\n",
       " 'CEBPA',\n",
       " 'CEBPB',\n",
       " 'CEBPD',\n",
       " 'CEBPG',\n",
       " 'CLOCK',\n",
       " 'CREB3L4',\n",
       " 'CREB5',\n",
       " 'DLX5',\n",
       " 'DMC1',\n",
       " 'DMRTA1',\n",
       " 'E2F4',\n",
       " 'E2F5',\n",
       " 'EBF1',\n",
       " 'EBF3',\n",
       " 'EGR1',\n",
       " 'EGR3',\n",
       " 'ELF4',\n",
       " 'ELK4',\n",
       " 'EOMES',\n",
       " 'EP300',\n",
       " 'EPAS1',\n",
       " 'ERG',\n",
       " 'ETS2',\n",
       " 'ETV2',\n",
       " 'ETV3',\n",
       " 'ETV5',\n",
       " 'EWSR1',\n",
       " 'FOS',\n",
       " 'FOSB',\n",
       " 'FOSL1',\n",
       " 'FOSL2',\n",
       " 'FOXA3',\n",
       " 'FOXB1',\n",
       " 'FOXC1',\n",
       " 'FOXF1',\n",
       " 'FOXJ2',\n",
       " 'FOXL1',\n",
       " 'FOXM1',\n",
       " 'FOXO1',\n",
       " 'FOXO4',\n",
       " 'FOXP1',\n",
       " 'FOXP3',\n",
       " 'FOXP4',\n",
       " 'GATA3',\n",
       " 'GCM1',\n",
       " 'GFI1',\n",
       " 'GLI2',\n",
       " 'GLIS1',\n",
       " 'GTF3C2',\n",
       " 'HBP1',\n",
       " 'HDX',\n",
       " 'HERPUD1',\n",
       " 'HES4',\n",
       " 'HEY2',\n",
       " 'HEYL',\n",
       " 'HIVEP3',\n",
       " 'HMGA1',\n",
       " 'HOXB2',\n",
       " 'HOXB7',\n",
       " 'HOXC10',\n",
       " 'HOXD9',\n",
       " 'HSF4',\n",
       " 'ID1',\n",
       " 'ID2',\n",
       " 'ID4',\n",
       " 'IKZF2',\n",
       " 'IKZF4',\n",
       " 'IRF3',\n",
       " 'IRF5',\n",
       " 'IRF7',\n",
       " 'IRX3',\n",
       " 'IRX4',\n",
       " 'ISL2',\n",
       " 'JDP2',\n",
       " 'KLF11',\n",
       " 'KLF12',\n",
       " 'KLF5',\n",
       " 'KLF6',\n",
       " 'KLF8',\n",
       " 'KLF9',\n",
       " 'LBX2',\n",
       " 'LEF1',\n",
       " 'LHX6',\n",
       " 'LMO2',\n",
       " 'LYL1',\n",
       " 'MAF',\n",
       " 'MBD1',\n",
       " 'MBD2',\n",
       " 'MEOX1',\n",
       " 'MNT',\n",
       " 'MSC',\n",
       " 'MYBL1',\n",
       " 'MYBL2',\n",
       " 'MYC',\n",
       " 'MYEF2',\n",
       " 'NFAT5',\n",
       " 'NFATC2',\n",
       " 'NFIA',\n",
       " 'NFIC',\n",
       " 'NFKB1',\n",
       " 'NKX6-3',\n",
       " 'NR1D1',\n",
       " 'NR1H3',\n",
       " 'NR2C2',\n",
       " 'NR2F1',\n",
       " 'NR2F6',\n",
       " 'NR3C1',\n",
       " 'NR3C2',\n",
       " 'NR4A1',\n",
       " 'NR6A1',\n",
       " 'NRF1',\n",
       " 'PAX5',\n",
       " 'PAX8',\n",
       " 'PGR',\n",
       " 'PITX1',\n",
       " 'PLAG1',\n",
       " 'POLR3A',\n",
       " 'POU4F1',\n",
       " 'PPARA',\n",
       " 'PRDM11',\n",
       " 'PRDM16',\n",
       " 'PROX1',\n",
       " 'PRRX2',\n",
       " 'RAD21',\n",
       " 'RARB',\n",
       " 'RELB',\n",
       " 'REST',\n",
       " 'RFX1',\n",
       " 'RFX5',\n",
       " 'RFX7',\n",
       " 'RORA',\n",
       " 'RUNX2',\n",
       " 'RUNX3',\n",
       " 'RXRA',\n",
       " 'SALL4',\n",
       " 'SCX',\n",
       " 'SMARCA5',\n",
       " 'SNAI1',\n",
       " 'SNAI3',\n",
       " 'SOX13',\n",
       " 'SOX17',\n",
       " 'SOX18',\n",
       " 'SOX4',\n",
       " 'SOX7',\n",
       " 'SOX8',\n",
       " 'SP2',\n",
       " 'SP3',\n",
       " 'SPDEF',\n",
       " 'SPI1',\n",
       " 'SPIB',\n",
       " 'STAT1',\n",
       " 'STAT4',\n",
       " 'STAT5B',\n",
       " 'STAT6',\n",
       " 'TBX1',\n",
       " 'TBX18',\n",
       " 'TBX19',\n",
       " 'TBX2',\n",
       " 'TBX21',\n",
       " 'TCF4',\n",
       " 'TCF7',\n",
       " 'TCF7L1',\n",
       " 'TCF7L2',\n",
       " 'TEAD2',\n",
       " 'TEAD4',\n",
       " 'TERF2',\n",
       " 'TFDP1',\n",
       " 'TFE3',\n",
       " 'THAP1',\n",
       " 'USF1',\n",
       " 'XBP1',\n",
       " 'ZBTB14',\n",
       " 'ZBTB16',\n",
       " 'ZBTB17',\n",
       " 'ZBTB18',\n",
       " 'ZEB1',\n",
       " 'ZKSCAN3',\n",
       " 'ZNF140',\n",
       " 'ZNF143',\n",
       " 'ZNF219',\n",
       " 'ZNF232',\n",
       " 'ZNF281',\n",
       " 'ZNF431',\n",
       " 'ZNF436',\n",
       " 'ZNF467',\n",
       " 'ZNF490',\n",
       " 'ZNF628',\n",
       " 'ZNF708',\n",
       " 'ZNF768',\n",
       " 'ZNF85',\n",
       " 'ZSCAN26'}"
      ]
     },
     "execution_count": 6,
     "metadata": {},
     "output_type": "execute_result"
    }
   ],
   "source": [
    "set(df.source) & set(so.adata.var_names)"
   ]
  },
  {
   "cell_type": "code",
   "execution_count": 7,
   "metadata": {},
   "outputs": [
    {
     "data": {
      "text/plain": [
       "True"
      ]
     },
     "execution_count": 7,
     "metadata": {},
     "output_type": "execute_result"
    }
   ],
   "source": [
    "goi = 'BATF3'\n",
    "goi in so.adata.var_names"
   ]
  },
  {
   "cell_type": "code",
   "execution_count": 8,
   "metadata": {},
   "outputs": [
    {
     "name": "stderr",
     "output_type": "stream",
     "text": [
      "Running simulation 1/3: 100%|██████████| 4037/4037 [00:18<00:00, 216.45it/s]\n",
      "Running simulation 2/3: 100%|██████████| 4037/4037 [00:20<00:00, 201.13it/s]\n",
      "Running simulation 3/3: 100%|██████████| 4037/4037 [00:18<00:00, 213.59it/s]\n"
     ]
    }
   ],
   "source": [
    "so.simulate_shift(perturb_condition={goi: 0.0})"
   ]
  },
  {
   "cell_type": "code",
   "execution_count": 9,
   "metadata": {},
   "outputs": [
    {
     "name": "stderr",
     "output_type": "stream",
     "text": [
      "Running simulation 1/3: 100%|██████████| 4037/4037 [14:24<00:00,  4.67it/s]\n",
      "Running simulation 2/3: 100%|██████████| 4037/4037 [14:21<00:00,  4.68it/s]\n",
      "Running simulation 3/3: 100%|██████████| 4037/4037 [14:20<00:00,  4.69it/s]\n"
     ]
    }
   ],
   "source": [
    "so.simulate_co_shift(perturb_condition={goi: 0.0})"
   ]
  },
  {
   "cell_type": "code",
   "execution_count": null,
   "metadata": {},
   "outputs": [],
   "source": [
    "clusters = adata_train.obs['cluster'].unique()\n",
    "# cluster_labels = so.grn.cluster_labels\n",
    "cluster_labels = list(range(8))\n",
    "\n",
    "list(df.query(f\"source=='{goi}'\")['target'])\n"
   ]
  },
  {
   "cell_type": "code",
   "execution_count": 17,
   "metadata": {},
   "outputs": [],
   "source": [
    "gene = 'ZNF83'\n",
    "adata_train = so.adata"
   ]
  },
  {
   "cell_type": "code",
   "execution_count": 19,
   "metadata": {},
   "outputs": [
    {
     "ename": "IndexError",
     "evalue": "index 8 is out of bounds for axis 0 with size 8",
     "output_type": "error",
     "traceback": [
      "\u001b[0;31m---------------------------------------------------------------------------\u001b[0m",
      "\u001b[0;31mIndexError\u001b[0m                                Traceback (most recent call last)",
      "Cell \u001b[0;32mIn[19], line 7\u001b[0m\n\u001b[1;32m      3\u001b[0m axs \u001b[38;5;241m=\u001b[39m axs\u001b[38;5;241m.\u001b[39mflatten()  \u001b[38;5;66;03m# Flatten the 4x2 grid into a 1D array of axes\u001b[39;00m\n\u001b[1;32m      5\u001b[0m \u001b[38;5;28;01mfor\u001b[39;00m i, cluster \u001b[38;5;129;01min\u001b[39;00m \u001b[38;5;28menumerate\u001b[39m(\u001b[38;5;28msorted\u001b[39m(clusters)):\n\u001b[1;32m      6\u001b[0m     sns\u001b[38;5;241m.\u001b[39mkdeplot(adata_train\u001b[38;5;241m.\u001b[39mto_df(layer\u001b[38;5;241m=\u001b[39m\u001b[38;5;124m'\u001b[39m\u001b[38;5;124mperturbed_co\u001b[39m\u001b[38;5;124m'\u001b[39m)[so\u001b[38;5;241m.\u001b[39madata\u001b[38;5;241m.\u001b[39mobs[so\u001b[38;5;241m.\u001b[39mannot] \u001b[38;5;241m==\u001b[39m cluster][gene]\u001b[38;5;241m.\u001b[39mvalues, \n\u001b[0;32m----> 7\u001b[0m                 label\u001b[38;5;241m=\u001b[39m\u001b[38;5;124m'\u001b[39m\u001b[38;5;124mCellOracle\u001b[39m\u001b[38;5;124m'\u001b[39m, color\u001b[38;5;241m=\u001b[39m\u001b[38;5;124m'\u001b[39m\u001b[38;5;124mred\u001b[39m\u001b[38;5;124m'\u001b[39m, shade\u001b[38;5;241m=\u001b[39m\u001b[38;5;28;01mTrue\u001b[39;00m, linewidth\u001b[38;5;241m=\u001b[39m\u001b[38;5;241m1\u001b[39m, ax\u001b[38;5;241m=\u001b[39m\u001b[43maxs\u001b[49m\u001b[43m[\u001b[49m\u001b[43mi\u001b[49m\u001b[43m]\u001b[49m)\n\u001b[1;32m      8\u001b[0m     sns\u001b[38;5;241m.\u001b[39mkdeplot(adata_train\u001b[38;5;241m.\u001b[39mto_df(layer\u001b[38;5;241m=\u001b[39m\u001b[38;5;124m'\u001b[39m\u001b[38;5;124mperturbed_so\u001b[39m\u001b[38;5;124m'\u001b[39m)[so\u001b[38;5;241m.\u001b[39madata\u001b[38;5;241m.\u001b[39mobs[so\u001b[38;5;241m.\u001b[39mannot] \u001b[38;5;241m==\u001b[39m cluster][gene]\u001b[38;5;241m.\u001b[39mvalues, \n\u001b[1;32m      9\u001b[0m                 label\u001b[38;5;241m=\u001b[39m\u001b[38;5;124m'\u001b[39m\u001b[38;5;124mSpaceOracle\u001b[39m\u001b[38;5;124m'\u001b[39m, color\u001b[38;5;241m=\u001b[39m\u001b[38;5;124m'\u001b[39m\u001b[38;5;124mblue\u001b[39m\u001b[38;5;124m'\u001b[39m, shade\u001b[38;5;241m=\u001b[39m\u001b[38;5;28;01mTrue\u001b[39;00m, linewidth\u001b[38;5;241m=\u001b[39m\u001b[38;5;241m1\u001b[39m, ax\u001b[38;5;241m=\u001b[39maxs[i])\n\u001b[1;32m     10\u001b[0m     sns\u001b[38;5;241m.\u001b[39mkdeplot(adata_train\u001b[38;5;241m.\u001b[39mto_df(layer\u001b[38;5;241m=\u001b[39m\u001b[38;5;124m'\u001b[39m\u001b[38;5;124mimputed_count\u001b[39m\u001b[38;5;124m'\u001b[39m)[so\u001b[38;5;241m.\u001b[39madata\u001b[38;5;241m.\u001b[39mobs[so\u001b[38;5;241m.\u001b[39mannot] \u001b[38;5;241m==\u001b[39m cluster][gene]\u001b[38;5;241m.\u001b[39mvalues, \n\u001b[1;32m     11\u001b[0m                 label\u001b[38;5;241m=\u001b[39m\u001b[38;5;124m'\u001b[39m\u001b[38;5;124mimputed_count\u001b[39m\u001b[38;5;124m'\u001b[39m, color\u001b[38;5;241m=\u001b[39m\u001b[38;5;124m'\u001b[39m\u001b[38;5;124mgreen\u001b[39m\u001b[38;5;124m'\u001b[39m, shade\u001b[38;5;241m=\u001b[39m\u001b[38;5;28;01mTrue\u001b[39;00m, linewidth\u001b[38;5;241m=\u001b[39m\u001b[38;5;241m1\u001b[39m, ax\u001b[38;5;241m=\u001b[39maxs[i])\n",
      "\u001b[0;31mIndexError\u001b[0m: index 8 is out of bounds for axis 0 with size 8"
     ]
    },
    {
     "data": {
      "image/png": "[encoded data removed]",
      "text/plain": [
       "<Figure size 1400x1200 with 8 Axes>"
      ]
     },
     "metadata": {},
     "output_type": "display_data"
    }
   ],
   "source": [
    "# all clusters\n",
    "fig, axs = plt.subplots(4, 2, figsize=(14, 12))  # Adjust figure size as needed\n",
    "axs = axs.flatten()  # Flatten the 4x2 grid into a 1D array of axes\n",
    "\n",
    "for i, cluster in enumerate(sorted(clusters)):\n",
    "    sns.kdeplot(adata_train.to_df(layer='perturbed_co')[so.adata.obs[so.annot] == cluster][gene].values, \n",
    "                label='CellOracle', color='red', shade=True, linewidth=1, ax=axs[i])\n",
    "    sns.kdeplot(adata_train.to_df(layer='perturbed_so')[so.adata.obs[so.annot] == cluster][gene].values, \n",
    "                label='SpaceOracle', color='blue', shade=True, linewidth=1, ax=axs[i])\n",
    "    sns.kdeplot(adata_train.to_df(layer='imputed_count')[so.adata.obs[so.annot] == cluster][gene].values, \n",
    "                label='imputed_count', color='green', shade=True, linewidth=1, ax=axs[i])\n",
    "\n",
    "    # axs[i].set_title(f'cluster {cluster}: {cluster_labels[str(cluster)]}')\n",
    "    axs[i].legend()\n",
    "\n",
    "fig.delaxes(axs[-1]) \n",
    "\n",
    "plt.suptitle(f'Beta distributions on gene {gene} in each cluster from {goi} KO')\n",
    "plt.tight_layout()\n",
    "plt.show()"
   ]
  },
  {
   "cell_type": "code",
   "execution_count": null,
   "metadata": {},
   "outputs": [],
   "source": [
    "from spaceoracle.tools.transitions import Transition\n",
    "\n",
    "transition = COTransitions()\n",
    "get_embed_spaces(so)\n",
    "\n",
    "so.adata"
   ]
  },
  {
   "cell_type": "code",
   "execution_count": null,
   "metadata": {},
   "outputs": [],
   "source": [
    "sc.pl.pca(adata_train, color='rctd_cluster', layer='imputed_count')\n"
   ]
  },
  {
   "cell_type": "code",
   "execution_count": null,
   "metadata": {},
   "outputs": [],
   "source": [
    "sc.pl.umap(adata_train, color='rctd_cluster', layer='imputed_count')\n"
   ]
  },
  {
   "cell_type": "code",
   "execution_count": null,
   "metadata": {},
   "outputs": [],
   "source": [
    "transition.estimate_transitions(so, embedding='X_spatial')"
   ]
  },
  {
   "cell_type": "code",
   "execution_count": null,
   "metadata": {},
   "outputs": [],
   "source": []
  },
  {
   "cell_type": "code",
   "execution_count": null,
   "metadata": {},
   "outputs": [],
   "source": []
  }
 ],
 "metadata": {
  "kernelspec": {
   "display_name": "Python 3.9.19 ('bee': conda)",
   "language": "python",
   "name": "python3"
  },
  "language_info": {
   "codemirror_mode": {
    "name": "ipython",
    "version": 3
   },
   "file_extension": ".py",
   "mimetype": "text/x-python",
   "name": "python",
   "nbconvert_exporter": "python",
   "pygments_lexer": "ipython3",
   "version": "3.9.19"
  },
  "vscode": {
   "interpreter": {
    "hash": "d5e083718e887c55b29d4f7da6a44fbfc7ac6a325d83706ddad436d58aee562b"
   }
  }
 },
 "nbformat": 4,
 "nbformat_minor": 2
}
