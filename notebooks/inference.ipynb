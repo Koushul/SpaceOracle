{
 "cells": [
  {
   "cell_type": "code",
   "execution_count": 2,
   "metadata": {},
   "outputs": [],
   "source": [
    "%load_ext autoreload\n",
    "%autoreload 2"
   ]
  },
  {
   "cell_type": "code",
   "execution_count": 3,
   "metadata": {},
   "outputs": [],
   "source": [
    "import sys\n",
    "sys.path.append('../src')\n",
    "\n",
    "import torch\n",
    "import scipy.sparse as sp\n",
    "import glob\n",
    "import warnings\n",
    "import anndata\n",
    "import matplotlib.pyplot as plt\n",
    "import scanpy as sc\n",
    "import numpy as np\n",
    "import seaborn as sns\n",
    "import torch\n",
    "import pandas as pd\n",
    "from tqdm import tqdm\n",
    "import pickle\n",
    "from sklearn.preprocessing import MinMaxScaler"
   ]
  },
  {
   "cell_type": "code",
   "execution_count": 4,
   "metadata": {},
   "outputs": [],
   "source": [
    "import spaceoracle"
   ]
  },
  {
   "cell_type": "code",
   "execution_count": 5,
   "metadata": {},
   "outputs": [
    {
     "data": {
      "text/plain": [
       "AnnData object with n_obs × n_vars = 11567 × 5013\n",
       "    obs: 'cluster', 'rctd_cluster', 'rctd_celltypes'\n",
       "    uns: 'log1p'\n",
       "    obsm: 'X_spatial', 'rctd_results', 'spatial'\n",
       "    layers: 'imputed_count', 'normalized_count', 'raw_count'"
      ]
     },
     "execution_count": 5,
     "metadata": {},
     "output_type": "execute_result"
    }
   ],
   "source": [
    "# adata_train = sc.read_h5ad(\n",
    "#     '/ihome/ylee/kor11/space/SpaceOracle/notebooks/cache/adata_train.h5ad')\n",
    "\n",
    "adata_train = sc.read_h5ad('.cache/adata_train.h5ad')\n",
    "\n",
    "adata_train"
   ]
  },
  {
   "cell_type": "code",
   "execution_count": 6,
   "metadata": {},
   "outputs": [],
   "source": [
    "so = spaceoracle.SpaceOracle(\n",
    "    adata=adata_train,\n",
    "    annot='rctd_cluster', \n",
    "    max_epochs=200, \n",
    "    learning_rate=5e-4, \n",
    "    spatial_dim=64,\n",
    "    batch_size=512,\n",
    "    threshold_lambda=1e-4,\n",
    "    test_mode=False,\n",
    "    # save_dir='/ix/djishnu/shared/djishnu_kor11/models'\n",
    "    save_dir='/Users/koush/Downloads/models', \n",
    "    radius=200\n",
    ")\n"
   ]
  },
  {
   "cell_type": "code",
   "execution_count": 7,
   "metadata": {},
   "outputs": [
    {
     "data": {
      "text/plain": [
       "OracleQueue with 0 remaining genes"
      ]
     },
     "execution_count": 7,
     "metadata": {},
     "output_type": "execute_result"
    }
   ],
   "source": [
    "so.queue"
   ]
  },
  {
   "cell_type": "code",
   "execution_count": 8,
   "metadata": {},
   "outputs": [
    {
     "data": {
      "text/plain": [
       "32"
      ]
     },
     "execution_count": 8,
     "metadata": {},
     "output_type": "execute_result"
    }
   ],
   "source": [
    "import gc\n",
    "del so.beta_dict \n",
    "so.beta_dict = None\n",
    "gc.collect()"
   ]
  },
  {
   "cell_type": "code",
   "execution_count": 9,
   "metadata": {},
   "outputs": [
    {
     "name": "stderr",
     "output_type": "stream",
     "text": [
      "Estimating betas globally: 100%|██████████| 3125/3125 [00:46<00:00, 66.86it/s]\n"
     ]
    },
    {
     "ename": "",
     "evalue": "",
     "output_type": "error",
     "traceback": [
      "\u001b[1;31mThe Kernel crashed while executing code in the current cell or a previous cell. \n",
      "\u001b[1;31mPlease review the code in the cell(s) to identify a possible cause of the failure. \n",
      "\u001b[1;31mClick <a href='https://aka.ms/vscodeJupyterKernelCrash'>here</a> for more info. \n",
      "\u001b[1;31mView Jupyter <a href='command:jupyter.viewOutput'>log</a> for further details."
     ]
    }
   ],
   "source": [
    "so.beta_dict = so._get_spatial_betas_dict()"
   ]
  },
  {
   "cell_type": "code",
   "execution_count": 10,
   "metadata": {},
   "outputs": [
    {
     "name": "stderr",
     "output_type": "stream",
     "text": [
      "OMP: Info #276: omp_set_nested routine deprecated, please use omp_set_max_active_levels instead.\n",
      "Ligand interactions: 100%|██████████| 3125/3125 [04:10<00:00, 12.49it/s]\n",
      "Running simulation 1/3:  61%|██████▏   | 7086/11567 [09:22<04:09, 17.99it/s]"
     ]
    }
   ],
   "source": [
    "disturbed = so.perturb(target='Pax5')"
   ]
  }
 ],
 "metadata": {
  "kernelspec": {
   "display_name": "SpaceOracle",
   "language": "python",
   "name": "python3"
  },
  "language_info": {
   "codemirror_mode": {
    "name": "ipython",
    "version": 3
   },
   "file_extension": ".py",
   "mimetype": "text/x-python",
   "name": "python",
   "nbconvert_exporter": "python",
   "pygments_lexer": "ipython3",
   "version": "3.9.19"
  }
 },
 "nbformat": 4,
 "nbformat_minor": 4
}
