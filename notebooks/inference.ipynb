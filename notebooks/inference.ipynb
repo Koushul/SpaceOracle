{
 "cells": [
  {
   "cell_type": "code",
   "execution_count": 2,
   "metadata": {},
   "outputs": [],
   "source": [
    "%load_ext autoreload\n",
    "%autoreload 2"
   ]
  },
  {
   "cell_type": "code",
   "execution_count": 3,
   "metadata": {},
   "outputs": [],
   "source": [
    "import sys\n",
    "sys.path.append('../src')"
   ]
  },
  {
   "cell_type": "code",
   "execution_count": 4,
   "metadata": {},
   "outputs": [],
   "source": [
    "import torch\n",
    "import scipy.sparse as sp\n",
    "import glob\n",
    "import warnings\n",
    "import anndata\n",
    "import matplotlib.pyplot as plt\n",
    "import scanpy as sc\n",
    "import numpy as np\n",
    "import seaborn as sns\n",
    "import torch\n",
    "import pandas as pd"
   ]
  },
  {
   "cell_type": "code",
   "execution_count": 5,
   "metadata": {},
   "outputs": [],
   "source": [
    "import spaceoracle\n",
    "from spaceoracle.models.estimators import device"
   ]
  },
  {
   "cell_type": "code",
   "execution_count": 6,
   "metadata": {},
   "outputs": [
    {
     "data": {
      "text/plain": [
       "AnnData object with n_obs × n_vars = 11567 × 5013\n",
       "    obs: 'cluster', 'rctd_cluster', 'rctd_celltypes'\n",
       "    uns: 'log1p'\n",
       "    obsm: 'X_spatial', 'rctd_results', 'spatial'\n",
       "    layers: 'imputed_count', 'normalized_count', 'raw_count'"
      ]
     },
     "execution_count": 6,
     "metadata": {},
     "output_type": "execute_result"
    }
   ],
   "source": [
    "adata_train = sc.read_h5ad('./.cache/adata_train.h5ad')\n",
    "adata_train"
   ]
  },
  {
   "cell_type": "code",
   "execution_count": 31,
   "metadata": {},
   "outputs": [],
   "source": [
    "so = spaceoracle.SpaceOracle(\n",
    "    adata=adata_train,\n",
    "    annot='rctd_cluster', \n",
    "    max_epochs=30, \n",
    "    learning_rate=1e-3, \n",
    "    spatial_dim=64,\n",
    "    batch_size=512,\n",
    "    threshold_lambda=3e3,\n",
    "    save_dir='/tmp/models2'\n",
    ")"
   ]
  },
  {
   "cell_type": "code",
   "execution_count": 32,
   "metadata": {},
   "outputs": [
    {
     "data": {
      "text/plain": [
       "OracleQueue with 4971 remaining genes"
      ]
     },
     "execution_count": 32,
     "metadata": {},
     "output_type": "execute_result"
    }
   ],
   "source": [
    "so.queue"
   ]
  },
  {
   "cell_type": "code",
   "execution_count": 33,
   "metadata": {},
   "outputs": [
    {
     "data": {
      "text/plain": [
       "'/tmp/models2'"
      ]
     },
     "execution_count": 33,
     "metadata": {},
     "output_type": "execute_result"
    }
   ],
   "source": [
    "so.save_dir"
   ]
  },
  {
   "cell_type": "code",
   "execution_count": 34,
   "metadata": {},
   "outputs": [],
   "source": [
    "from spaceoracle.models.parallel_estimators import SpatialCellularProgramsEstimator\n",
    "from spaceoracle.models.pixel_attention import CellularNicheNetwork"
   ]
  },
  {
   "cell_type": "code",
   "execution_count": 35,
   "metadata": {},
   "outputs": [
    {
     "data": {
      "text/plain": [
       "(11567, 5013)"
      ]
     },
     "execution_count": 35,
     "metadata": {},
     "output_type": "execute_result"
    }
   ],
   "source": [
    "adata_train.shape"
   ]
  },
  {
   "cell_type": "code",
   "execution_count": 36,
   "metadata": {},
   "outputs": [],
   "source": [
    "from tqdm import tqdm\n",
    "import polars as pl\n",
    "from pqdm.threads import pqdm"
   ]
  },
  {
   "cell_type": "code",
   "execution_count": 37,
   "metadata": {},
   "outputs": [
    {
     "name": "stderr",
     "output_type": "stream",
     "text": [
      "100%|██████████| 31/31 [00:00<00:00, 116092.34it/s]"
     ]
    },
    {
     "name": "stdout",
     "output_type": "stream",
     "text": [
      "CPU times: user 1.71 ms, sys: 119 ms, total: 121 ms\n",
      "Wall time: 120 ms\n"
     ]
    },
    {
     "name": "stderr",
     "output_type": "stream",
     "text": [
      "\n"
     ]
    }
   ],
   "source": [
    "%%time\n",
    "\n",
    "scans = {}\n",
    "for gene in tqdm(so.queue.completed_genes, total=len(so.queue.completed_genes)):\n",
    "    scans[gene] = pl.scan_csv(f'{so.save_dir}/{gene}_betadata.csv')\n",
    "\n",
    "beta_cols = lambda x: [i for i in x if 'beta_' in i and '$' not in i]"
   ]
  },
  {
   "cell_type": "code",
   "execution_count": null,
   "metadata": {},
   "outputs": [],
   "source": [
    "'Il2', 'Ebf1', 'Pax5', 'Bach2', 'Tcf3'"
   ]
  },
  {
   "cell_type": "code",
   "execution_count": 38,
   "metadata": {},
   "outputs": [],
   "source": [
    "def do_one_gene(gene):\n",
    "    scanned = scans[gene]\n",
    "    beta_df = scanned.select(beta_cols(scanned.columns)).collect()\n",
    "    beta_df = beta_df.with_columns(\n",
    "        [pl.lit(0.0).alias('beta_'+col) for col in list(set(so.adata.var_names) - set(scanned.columns))+[gene]])\n",
    "    \n",
    "    b = beta_df.select(['beta_'+i for i in so.adata.var_names]).to_torch().unsqueeze(2).float()\n",
    "    if ko.shape[0] == b.shape[0]:\n",
    "        return torch.bmm(ko, b).squeeze().squeeze().numpy()\n",
    "    else:\n",
    "        return torch.zeros(11567, ).numpy()"
   ]
  },
  {
   "cell_type": "code",
   "execution_count": 39,
   "metadata": {},
   "outputs": [],
   "source": [
    "from glob import glob"
   ]
  },
  {
   "cell_type": "code",
   "execution_count": 42,
   "metadata": {},
   "outputs": [
    {
     "data": {
      "text/plain": [
       "31"
      ]
     },
     "execution_count": 42,
     "metadata": {},
     "output_type": "execute_result"
    }
   ],
   "source": [
    "len(glob(f'{so.save_dir}/*_betadata.csv'))"
   ]
  },
  {
   "cell_type": "code",
   "execution_count": 43,
   "metadata": {},
   "outputs": [
    {
     "name": "stdout",
     "output_type": "stream",
     "text": [
      "CPU times: user 40.1 s, sys: 9.09 s, total: 49.2 s\n",
      "Wall time: 13.5 s\n"
     ]
    }
   ],
   "source": [
    "%%time\n",
    "\n",
    "for g in [i.split('/')[-1].split('_')[0] for i in glob(f'{so.save_dir}/*_betadata.csv')]:\n",
    "   _ = do_one_gene(g).sum()"
   ]
  },
  {
   "cell_type": "code",
   "execution_count": 21,
   "metadata": {},
   "outputs": [
    {
     "data": {
      "text/plain": [
       "13.471229"
      ]
     },
     "execution_count": 21,
     "metadata": {},
     "output_type": "execute_result"
    }
   ],
   "source": [
    "do_one_gene('Irak1').sum()"
   ]
  },
  {
   "cell_type": "code",
   "execution_count": 16,
   "metadata": {},
   "outputs": [],
   "source": [
    "from sklearn.preprocessing import MinMaxScaler"
   ]
  },
  {
   "cell_type": "code",
   "execution_count": 18,
   "metadata": {},
   "outputs": [
    {
     "ename": "NameError",
     "evalue": "name 'MinMaxScaler' is not defined",
     "output_type": "error",
     "traceback": [
      "\u001b[0;31m---------------------------------------------------------------------------\u001b[0m",
      "\u001b[0;31mNameError\u001b[0m                                 Traceback (most recent call last)",
      "Cell \u001b[0;32mIn[18], line 2\u001b[0m\n\u001b[1;32m      1\u001b[0m \u001b[38;5;66;03m# Scale the data using MinMaxScaler\u001b[39;00m\n\u001b[0;32m----> 2\u001b[0m scaled_data \u001b[38;5;241m=\u001b[39m \u001b[43mMinMaxScaler\u001b[49m()\u001b[38;5;241m.\u001b[39mfit_transform(adata_train\u001b[38;5;241m.\u001b[39mto_df(layer\u001b[38;5;241m=\u001b[39m\u001b[38;5;124m'\u001b[39m\u001b[38;5;124mimputed_count\u001b[39m\u001b[38;5;124m'\u001b[39m))\n\u001b[1;32m      4\u001b[0m pd\u001b[38;5;241m.\u001b[39mDataFrame(\n\u001b[1;32m      5\u001b[0m     scaled_data, \n\u001b[1;32m      6\u001b[0m     index\u001b[38;5;241m=\u001b[39madata_train\u001b[38;5;241m.\u001b[39mobs_names, \n\u001b[1;32m      7\u001b[0m     columns\u001b[38;5;241m=\u001b[39madata_train\u001b[38;5;241m.\u001b[39mvar_names)\u001b[38;5;241m.\u001b[39mto_csv(\u001b[38;5;124m'\u001b[39m\u001b[38;5;124m/tmp/gex.csv\u001b[39m\u001b[38;5;124m'\u001b[39m, index\u001b[38;5;241m=\u001b[39m\u001b[38;5;28;01mTrue\u001b[39;00m)\n\u001b[1;32m      9\u001b[0m \u001b[38;5;66;03m# You can now use scaled_df for further analysis\u001b[39;00m\n",
      "\u001b[0;31mNameError\u001b[0m: name 'MinMaxScaler' is not defined"
     ]
    }
   ],
   "source": [
    "# Scale the data using MinMaxScaler\n",
    "scaled_data = MinMaxScaler().fit_transform(adata_train.to_df(layer='imputed_count'))\n",
    "\n",
    "pd.DataFrame(\n",
    "    scaled_data, \n",
    "    index=adata_train.obs_names, \n",
    "    columns=adata_train.var_names).to_csv('/tmp/gex.csv', index=True)\n",
    "\n",
    "# You can now use scaled_df for further analysis"
   ]
  },
  {
   "cell_type": "code",
   "execution_count": 19,
   "metadata": {},
   "outputs": [],
   "source": [
    "from sklearn.preprocessing import MinMaxScaler"
   ]
  },
  {
   "cell_type": "code",
   "execution_count": 20,
   "metadata": {},
   "outputs": [
    {
     "data": {
      "text/plain": [
       "torch.Size([11567, 1, 5013])"
      ]
     },
     "execution_count": 20,
     "metadata": {},
     "output_type": "execute_result"
    }
   ],
   "source": [
    "mtx = MinMaxScaler().fit_transform(adata_train.to_df(layer='imputed_count'))\n",
    "ko = mtx.copy()\n",
    "ko[:, list(adata_train.var_names).index('Pax5')] = 0\n",
    "ko = ko - mtx\n",
    "ko = torch.from_numpy(ko).unsqueeze(1).float()\n",
    "ko.shape"
   ]
  },
  {
   "cell_type": "code",
   "execution_count": 332,
   "metadata": {},
   "outputs": [
    {
     "data": {
      "text/plain": [
       "(0.29999547841562263, 0.33392365294605103)"
      ]
     },
     "execution_count": 332,
     "metadata": {},
     "output_type": "execute_result"
    }
   ],
   "source": [
    "y_pred = do_one_gene('Cd74')\n",
    "y_obs = MinMaxScaler().fit_transform(\n",
    "    adata_train.to_df(layer='imputed_count')['Cd74'].values.reshape(-1, 1)).reshape(-1)\n",
    "(y_pred+y_obs).mean(), y_obs.mean()"
   ]
  },
  {
   "cell_type": "code",
   "execution_count": 333,
   "metadata": {},
   "outputs": [],
   "source": [
    "rdf = pd.DataFrame(\n",
    "    np.column_stack([so.adata.obsm['spatial'], y_obs, y_pred, \n",
    "                     (y_pred+y_obs), y_pred/(y_obs+1)]), \n",
    "    columns=['x', 'y', 'y_obs', 'y_delta', 'y_new', 'm']).join(\n",
    "    so.adata.obs.reset_index()\n",
    "    ).set_index('index')"
   ]
  },
  {
   "cell_type": "code",
   "execution_count": 334,
   "metadata": {},
   "outputs": [
    {
     "data": {
      "text/html": [
       "<div>\n",
       "<style scoped>\n",
       "    .dataframe tbody tr th:only-of-type {\n",
       "        vertical-align: middle;\n",
       "    }\n",
       "\n",
       "    .dataframe tbody tr th {\n",
       "        vertical-align: top;\n",
       "    }\n",
       "\n",
       "    .dataframe thead th {\n",
       "        text-align: right;\n",
       "    }\n",
       "</style>\n",
       "<table border=\"1\" class=\"dataframe\">\n",
       "  <thead>\n",
       "    <tr style=\"text-align: right;\">\n",
       "      <th></th>\n",
       "      <th>y_delta</th>\n",
       "    </tr>\n",
       "    <tr>\n",
       "      <th>rctd_celltypes</th>\n",
       "      <th></th>\n",
       "    </tr>\n",
       "  </thead>\n",
       "  <tbody>\n",
       "    <tr>\n",
       "      <th>B-cell</th>\n",
       "      <td>-0.044799</td>\n",
       "    </tr>\n",
       "    <tr>\n",
       "      <th>Cd8 T-cell</th>\n",
       "      <td>-0.014232</td>\n",
       "    </tr>\n",
       "    <tr>\n",
       "      <th>NK</th>\n",
       "      <td>-0.020605</td>\n",
       "    </tr>\n",
       "    <tr>\n",
       "      <th>Resting T-cell</th>\n",
       "      <td>-0.009748</td>\n",
       "    </tr>\n",
       "    <tr>\n",
       "      <th>Tfh</th>\n",
       "      <td>-0.019750</td>\n",
       "    </tr>\n",
       "    <tr>\n",
       "      <th>Th2</th>\n",
       "      <td>-0.012170</td>\n",
       "    </tr>\n",
       "    <tr>\n",
       "      <th>Treg</th>\n",
       "      <td>-0.012928</td>\n",
       "    </tr>\n",
       "  </tbody>\n",
       "</table>\n",
       "</div>"
      ],
      "text/plain": [
       "                 y_delta\n",
       "rctd_celltypes          \n",
       "B-cell         -0.044799\n",
       "Cd8 T-cell     -0.014232\n",
       "NK             -0.020605\n",
       "Resting T-cell -0.009748\n",
       "Tfh            -0.019750\n",
       "Th2            -0.012170\n",
       "Treg           -0.012928"
      ]
     },
     "execution_count": 334,
     "metadata": {},
     "output_type": "execute_result"
    }
   ],
   "source": [
    "rdf[['y_delta', 'rctd_celltypes']].groupby('rctd_celltypes').mean()"
   ]
  },
  {
   "cell_type": "code",
   "execution_count": 343,
   "metadata": {},
   "outputs": [
    {
     "data": {
      "text/html": [
       "<div>\n",
       "<style scoped>\n",
       "    .dataframe tbody tr th:only-of-type {\n",
       "        vertical-align: middle;\n",
       "    }\n",
       "\n",
       "    .dataframe tbody tr th {\n",
       "        vertical-align: top;\n",
       "    }\n",
       "\n",
       "    .dataframe thead th {\n",
       "        text-align: right;\n",
       "    }\n",
       "</style>\n",
       "<table border=\"1\" class=\"dataframe\">\n",
       "  <thead>\n",
       "    <tr style=\"text-align: right;\">\n",
       "      <th></th>\n",
       "      <th>x</th>\n",
       "      <th>y</th>\n",
       "      <th>y_obs</th>\n",
       "      <th>y_delta</th>\n",
       "      <th>y_new</th>\n",
       "      <th>m</th>\n",
       "      <th>rctd_cluster</th>\n",
       "      <th>rctd_celltypes</th>\n",
       "    </tr>\n",
       "    <tr>\n",
       "      <th>index</th>\n",
       "      <th></th>\n",
       "      <th></th>\n",
       "      <th></th>\n",
       "      <th></th>\n",
       "      <th></th>\n",
       "      <th></th>\n",
       "      <th></th>\n",
       "      <th></th>\n",
       "    </tr>\n",
       "  </thead>\n",
       "  <tbody>\n",
       "    <tr>\n",
       "      <th>GATCCCCCAAACAC</th>\n",
       "      <td>-5235.1</td>\n",
       "      <td>3764.8</td>\n",
       "      <td>0.113096</td>\n",
       "      <td>-0.024830</td>\n",
       "      <td>0.088267</td>\n",
       "      <td>-0.022307</td>\n",
       "      <td>2</td>\n",
       "      <td>Th2</td>\n",
       "    </tr>\n",
       "    <tr>\n",
       "      <th>CGACTAAGTGCCTT</th>\n",
       "      <td>-4608.4</td>\n",
       "      <td>3843.0</td>\n",
       "      <td>0.087340</td>\n",
       "      <td>-0.020838</td>\n",
       "      <td>0.066502</td>\n",
       "      <td>-0.019164</td>\n",
       "      <td>2</td>\n",
       "      <td>Th2</td>\n",
       "    </tr>\n",
       "    <tr>\n",
       "      <th>ATTGATGGGTTGTG</th>\n",
       "      <td>-4292.7</td>\n",
       "      <td>2924.5</td>\n",
       "      <td>0.321450</td>\n",
       "      <td>-0.061552</td>\n",
       "      <td>0.259897</td>\n",
       "      <td>-0.046579</td>\n",
       "      <td>2</td>\n",
       "      <td>Th2</td>\n",
       "    </tr>\n",
       "    <tr>\n",
       "      <th>TCACTGTTACTAAT</th>\n",
       "      <td>-4277.0</td>\n",
       "      <td>2850.4</td>\n",
       "      <td>0.121802</td>\n",
       "      <td>-0.015467</td>\n",
       "      <td>0.106335</td>\n",
       "      <td>-0.013787</td>\n",
       "      <td>2</td>\n",
       "      <td>Th2</td>\n",
       "    </tr>\n",
       "    <tr>\n",
       "      <th>TTCCGCTGGTAAGC</th>\n",
       "      <td>-4260.3</td>\n",
       "      <td>3000.0</td>\n",
       "      <td>0.124178</td>\n",
       "      <td>-0.024103</td>\n",
       "      <td>0.100074</td>\n",
       "      <td>-0.021441</td>\n",
       "      <td>2</td>\n",
       "      <td>Th2</td>\n",
       "    </tr>\n",
       "    <tr>\n",
       "      <th>...</th>\n",
       "      <td>...</td>\n",
       "      <td>...</td>\n",
       "      <td>...</td>\n",
       "      <td>...</td>\n",
       "      <td>...</td>\n",
       "      <td>...</td>\n",
       "      <td>...</td>\n",
       "      <td>...</td>\n",
       "    </tr>\n",
       "    <tr>\n",
       "      <th>GCCTAGCGTGGCCT</th>\n",
       "      <td>-1294.0</td>\n",
       "      <td>3562.7</td>\n",
       "      <td>0.220640</td>\n",
       "      <td>-0.041321</td>\n",
       "      <td>0.179319</td>\n",
       "      <td>-0.033852</td>\n",
       "      <td>2</td>\n",
       "      <td>Th2</td>\n",
       "    </tr>\n",
       "    <tr>\n",
       "      <th>TCGCAGCTGGGTAA</th>\n",
       "      <td>-1284.9</td>\n",
       "      <td>1927.1</td>\n",
       "      <td>0.211924</td>\n",
       "      <td>-0.033036</td>\n",
       "      <td>0.178888</td>\n",
       "      <td>-0.027259</td>\n",
       "      <td>2</td>\n",
       "      <td>Th2</td>\n",
       "    </tr>\n",
       "    <tr>\n",
       "      <th>CTCAAGGACGTAAC</th>\n",
       "      <td>-1250.0</td>\n",
       "      <td>3586.4</td>\n",
       "      <td>0.283736</td>\n",
       "      <td>-0.041176</td>\n",
       "      <td>0.242560</td>\n",
       "      <td>-0.032075</td>\n",
       "      <td>2</td>\n",
       "      <td>Th2</td>\n",
       "    </tr>\n",
       "    <tr>\n",
       "      <th>TCTTTCTTAGCCGG</th>\n",
       "      <td>-1246.5</td>\n",
       "      <td>2213.7</td>\n",
       "      <td>0.174901</td>\n",
       "      <td>-0.031820</td>\n",
       "      <td>0.143081</td>\n",
       "      <td>-0.027083</td>\n",
       "      <td>2</td>\n",
       "      <td>Th2</td>\n",
       "    </tr>\n",
       "    <tr>\n",
       "      <th>TCTCGTCTGACCCG</th>\n",
       "      <td>-1170.4</td>\n",
       "      <td>3455.5</td>\n",
       "      <td>0.309869</td>\n",
       "      <td>-0.050846</td>\n",
       "      <td>0.259023</td>\n",
       "      <td>-0.038818</td>\n",
       "      <td>2</td>\n",
       "      <td>Th2</td>\n",
       "    </tr>\n",
       "  </tbody>\n",
       "</table>\n",
       "<p>1785 rows × 8 columns</p>\n",
       "</div>"
      ],
      "text/plain": [
       "                     x       y     y_obs   y_delta     y_new         m  \\\n",
       "index                                                                    \n",
       "GATCCCCCAAACAC -5235.1  3764.8  0.113096 -0.024830  0.088267 -0.022307   \n",
       "CGACTAAGTGCCTT -4608.4  3843.0  0.087340 -0.020838  0.066502 -0.019164   \n",
       "ATTGATGGGTTGTG -4292.7  2924.5  0.321450 -0.061552  0.259897 -0.046579   \n",
       "TCACTGTTACTAAT -4277.0  2850.4  0.121802 -0.015467  0.106335 -0.013787   \n",
       "TTCCGCTGGTAAGC -4260.3  3000.0  0.124178 -0.024103  0.100074 -0.021441   \n",
       "...                ...     ...       ...       ...       ...       ...   \n",
       "GCCTAGCGTGGCCT -1294.0  3562.7  0.220640 -0.041321  0.179319 -0.033852   \n",
       "TCGCAGCTGGGTAA -1284.9  1927.1  0.211924 -0.033036  0.178888 -0.027259   \n",
       "CTCAAGGACGTAAC -1250.0  3586.4  0.283736 -0.041176  0.242560 -0.032075   \n",
       "TCTTTCTTAGCCGG -1246.5  2213.7  0.174901 -0.031820  0.143081 -0.027083   \n",
       "TCTCGTCTGACCCG -1170.4  3455.5  0.309869 -0.050846  0.259023 -0.038818   \n",
       "\n",
       "               rctd_cluster rctd_celltypes  \n",
       "index                                       \n",
       "GATCCCCCAAACAC            2            Th2  \n",
       "CGACTAAGTGCCTT            2            Th2  \n",
       "ATTGATGGGTTGTG            2            Th2  \n",
       "TCACTGTTACTAAT            2            Th2  \n",
       "TTCCGCTGGTAAGC            2            Th2  \n",
       "...                     ...            ...  \n",
       "GCCTAGCGTGGCCT            2            Th2  \n",
       "TCGCAGCTGGGTAA            2            Th2  \n",
       "CTCAAGGACGTAAC            2            Th2  \n",
       "TCTTTCTTAGCCGG            2            Th2  \n",
       "TCTCGTCTGACCCG            2            Th2  \n",
       "\n",
       "[1785 rows x 8 columns]"
      ]
     },
     "execution_count": 343,
     "metadata": {},
     "output_type": "execute_result"
    }
   ],
   "source": [
    "rdf.sort_values('x').query('rctd_celltypes==\"Th2\"')"
   ]
  },
  {
   "cell_type": "code",
   "execution_count": 351,
   "metadata": {},
   "outputs": [
    {
     "data": {
      "text/html": [
       "<div>\n",
       "<style scoped>\n",
       "    .dataframe tbody tr th:only-of-type {\n",
       "        vertical-align: middle;\n",
       "    }\n",
       "\n",
       "    .dataframe tbody tr th {\n",
       "        vertical-align: top;\n",
       "    }\n",
       "\n",
       "    .dataframe thead th {\n",
       "        text-align: right;\n",
       "    }\n",
       "</style>\n",
       "<table border=\"1\" class=\"dataframe\">\n",
       "  <thead>\n",
       "    <tr style=\"text-align: right;\">\n",
       "      <th></th>\n",
       "      <th>x</th>\n",
       "      <th>y</th>\n",
       "      <th>y_obs</th>\n",
       "      <th>y_delta</th>\n",
       "      <th>y_new</th>\n",
       "      <th>m</th>\n",
       "      <th>rctd_cluster</th>\n",
       "      <th>rctd_celltypes</th>\n",
       "    </tr>\n",
       "    <tr>\n",
       "      <th>index</th>\n",
       "      <th></th>\n",
       "      <th></th>\n",
       "      <th></th>\n",
       "      <th></th>\n",
       "      <th></th>\n",
       "      <th></th>\n",
       "      <th></th>\n",
       "      <th></th>\n",
       "    </tr>\n",
       "  </thead>\n",
       "  <tbody>\n",
       "    <tr>\n",
       "      <th>AGTCTCGTGTTTAC</th>\n",
       "      <td>-2813.0</td>\n",
       "      <td>3221.0</td>\n",
       "      <td>0.004415</td>\n",
       "      <td>-0.005495</td>\n",
       "      <td>-0.001080</td>\n",
       "      <td>-0.005471</td>\n",
       "      <td>2</td>\n",
       "      <td>Th2</td>\n",
       "    </tr>\n",
       "    <tr>\n",
       "      <th>TGCTAATGAAGTCC</th>\n",
       "      <td>-2448.8</td>\n",
       "      <td>1941.8</td>\n",
       "      <td>0.004470</td>\n",
       "      <td>-0.001122</td>\n",
       "      <td>0.003348</td>\n",
       "      <td>-0.001117</td>\n",
       "      <td>2</td>\n",
       "      <td>Th2</td>\n",
       "    </tr>\n",
       "    <tr>\n",
       "      <th>TCACTGTTACTAAT</th>\n",
       "      <td>-4277.0</td>\n",
       "      <td>2850.4</td>\n",
       "      <td>0.121802</td>\n",
       "      <td>-0.015467</td>\n",
       "      <td>0.106335</td>\n",
       "      <td>-0.013787</td>\n",
       "      <td>2</td>\n",
       "      <td>Th2</td>\n",
       "    </tr>\n",
       "    <tr>\n",
       "      <th>TTCCGCTGGTAAGC</th>\n",
       "      <td>-4260.3</td>\n",
       "      <td>3000.0</td>\n",
       "      <td>0.124178</td>\n",
       "      <td>-0.024103</td>\n",
       "      <td>0.100074</td>\n",
       "      <td>-0.021441</td>\n",
       "      <td>2</td>\n",
       "      <td>Th2</td>\n",
       "    </tr>\n",
       "  </tbody>\n",
       "</table>\n",
       "</div>"
      ],
      "text/plain": [
       "                     x       y     y_obs   y_delta     y_new         m  \\\n",
       "index                                                                    \n",
       "AGTCTCGTGTTTAC -2813.0  3221.0  0.004415 -0.005495 -0.001080 -0.005471   \n",
       "TGCTAATGAAGTCC -2448.8  1941.8  0.004470 -0.001122  0.003348 -0.001117   \n",
       "TCACTGTTACTAAT -4277.0  2850.4  0.121802 -0.015467  0.106335 -0.013787   \n",
       "TTCCGCTGGTAAGC -4260.3  3000.0  0.124178 -0.024103  0.100074 -0.021441   \n",
       "\n",
       "               rctd_cluster rctd_celltypes  \n",
       "index                                       \n",
       "AGTCTCGTGTTTAC            2            Th2  \n",
       "TGCTAATGAAGTCC            2            Th2  \n",
       "TCACTGTTACTAAT            2            Th2  \n",
       "TTCCGCTGGTAAGC            2            Th2  "
      ]
     },
     "execution_count": 351,
     "metadata": {},
     "output_type": "execute_result"
    }
   ],
   "source": [
    "rdf.loc[['AGTCTCGTGTTTAC', 'TGCTAATGAAGTCC', 'TCACTGTTACTAAT', 'TTCCGCTGGTAAGC']]"
   ]
  },
  {
   "cell_type": "code",
   "execution_count": 350,
   "metadata": {},
   "outputs": [
    {
     "data": {
      "text/plain": [
       "<matplotlib.legend.Legend at 0x7fbf46158220>"
      ]
     },
     "execution_count": 350,
     "metadata": {},
     "output_type": "execute_result"
    },
    {
     "data": {
      "image/png": "[encoded data removed]",
      "text/plain": [
       "<Figure size 640x480 with 1 Axes>"
      ]
     },
     "metadata": {},
     "output_type": "display_data"
    }
   ],
   "source": [
    "sns.scatterplot(data=rdf, x='x', y='y', hue='y_delta', palette='rainbow', alpha=0.1)\n",
    "sns.scatterplot(\n",
    "    data=rdf.lock[['AGTCTCGTGTTTAC', 'TGCTAATGAAGTCC', 'TCACTGTTACTAAT', 'TTCCGCTGGTAAGC']], \n",
    "    x='x', y='y', hue='y_delta', palette='Reds', alpha=1)\n",
    "plt.legend('')"
   ]
  },
  {
   "cell_type": "code",
   "execution_count": 277,
   "metadata": {},
   "outputs": [
    {
     "data": {
      "image/png": "[encoded data removed]",
      "text/plain": [
       "<Figure size 640x480 with 1 Axes>"
      ]
     },
     "metadata": {},
     "output_type": "display_data"
    },
    {
     "data": {
      "image/png": "[encoded data removed]",
      "text/plain": [
       "<Figure size 640x480 with 1 Axes>"
      ]
     },
     "metadata": {},
     "output_type": "display_data"
    },
    {
     "data": {
      "image/png": "[encoded data removed]",
      "text/plain": [
       "<Figure size 640x480 with 1 Axes>"
      ]
     },
     "metadata": {},
     "output_type": "display_data"
    },
    {
     "data": {
      "image/png": "[encoded data removed]",
      "text/plain": [
       "<Figure size 640x480 with 1 Axes>"
      ]
     },
     "metadata": {},
     "output_type": "display_data"
    },
    {
     "data": {
      "image/png": "[encoded data removed]",
      "text/plain": [
       "<Figure size 640x480 with 1 Axes>"
      ]
     },
     "metadata": {},
     "output_type": "display_data"
    },
    {
     "data": {
      "image/png": "[encoded data removed]",
      "text/plain": [
       "<Figure size 640x480 with 1 Axes>"
      ]
     },
     "metadata": {},
     "output_type": "display_data"
    },
    {
     "data": {
      "image/png": "[encoded data removed]",
      "text/plain": [
       "<Figure size 640x480 with 1 Axes>"
      ]
     },
     "metadata": {},
     "output_type": "display_data"
    }
   ],
   "source": [
    "for cluster in so.adata.obs.rctd_cluster.unique():\n",
    "    sns.histplot(y_obs[so.adata.obs.rctd_cluster.values==cluster], label='before')\n",
    "    sns.histplot((y_obs+y_pred)[so.adata.obs.rctd_cluster.values==cluster], label='after')\n",
    "    plt.title(cluster)\n",
    "    plt.legend()\n",
    "    plt.show()"
   ]
  },
  {
   "cell_type": "code",
   "execution_count": 45,
   "metadata": {},
   "outputs": [
    {
     "data": {
      "text/plain": [
       "31"
      ]
     },
     "execution_count": 45,
     "metadata": {},
     "output_type": "execute_result"
    }
   ],
   "source": [
    "so.queue.completed_genes.__len__()"
   ]
  },
  {
   "cell_type": "code",
   "execution_count": 46,
   "metadata": {},
   "outputs": [
    {
     "name": "stderr",
     "output_type": "stream",
     "text": [
      "QUEUEING TASKS | : 100%|██████████| 31/31 [00:00<00:00, 530.26it/s]\n",
      "PROCESSING TASKS | : 100%|██████████| 31/31 [00:08<00:00,  3.79it/s]\n",
      "COLLECTING RESULTS | : 100%|██████████| 31/31 [00:00<00:00, 123361.88it/s]"
     ]
    },
    {
     "name": "stdout",
     "output_type": "stream",
     "text": [
      "CPU times: user 28.3 s, sys: 18.6 s, total: 46.9 s\n",
      "Wall time: 8.25 s\n"
     ]
    },
    {
     "name": "stderr",
     "output_type": "stream",
     "text": [
      "\n"
     ]
    }
   ],
   "source": [
    "%%time\n",
    "\n",
    "results = pqdm(so.queue.completed_genes, do_one_gene, n_jobs=16, tqdm_class=tqdm)"
   ]
  },
  {
   "cell_type": "code",
   "execution_count": 47,
   "metadata": {},
   "outputs": [
    {
     "data": {
      "text/plain": [
       "31"
      ]
     },
     "execution_count": 47,
     "metadata": {},
     "output_type": "execute_result"
    }
   ],
   "source": [
    "len(results)"
   ]
  },
  {
   "cell_type": "code",
   "execution_count": 49,
   "metadata": {},
   "outputs": [
    {
     "data": {
      "text/plain": [
       "(1, 31, 11567)"
      ]
     },
     "execution_count": 49,
     "metadata": {},
     "output_type": "execute_result"
    }
   ],
   "source": [
    "np.array([results]).shape"
   ]
  },
  {
   "cell_type": "code",
   "execution_count": 218,
   "metadata": {},
   "outputs": [
    {
     "data": {
      "text/plain": [
       "(11567, 3118)"
      ]
     },
     "execution_count": 218,
     "metadata": {},
     "output_type": "execute_result"
    }
   ],
   "source": [
    "mtx_s = MinMaxScaler().fit_transform(\n",
    "    adata_train.to_df(layer='imputed_count')[so.queue.completed_genes])\n",
    "perturbed_mtx = mtx_s + \\\n",
    "        np.array([results]).reshape(11567, -1)\n",
    "perturbed_mtx.shape"
   ]
  },
  {
   "cell_type": "code",
   "execution_count": null,
   "metadata": {},
   "outputs": [],
   "source": []
  },
  {
   "cell_type": "code",
   "execution_count": null,
   "metadata": {},
   "outputs": [],
   "source": [
    "perturbed_mtx"
   ]
  },
  {
   "cell_type": "code",
   "execution_count": 230,
   "metadata": {},
   "outputs": [],
   "source": [
    "pdf = pd.DataFrame(perturbed_mtx, columns = so.queue.completed_genes, index=so.adata.obs_names)\n",
    "odf = pd.DataFrame(mtx_s, columns = so.queue.completed_genes, index=so.adata.obs_names)"
   ]
  },
  {
   "cell_type": "code",
   "execution_count": 233,
   "metadata": {},
   "outputs": [],
   "source": [
    "# pdf.to_csv('/ix/djishnu/shared/djishnu_kor11/ko_Il2ra_lymph.csv')"
   ]
  },
  {
   "cell_type": "code",
   "execution_count": 238,
   "metadata": {},
   "outputs": [
    {
     "data": {
      "text/html": [
       "<div>\n",
       "<style scoped>\n",
       "    .dataframe tbody tr th:only-of-type {\n",
       "        vertical-align: middle;\n",
       "    }\n",
       "\n",
       "    .dataframe tbody tr th {\n",
       "        vertical-align: top;\n",
       "    }\n",
       "\n",
       "    .dataframe thead th {\n",
       "        text-align: right;\n",
       "    }\n",
       "</style>\n",
       "<table border=\"1\" class=\"dataframe\">\n",
       "  <thead>\n",
       "    <tr style=\"text-align: right;\">\n",
       "      <th></th>\n",
       "      <th>Pax5</th>\n",
       "    </tr>\n",
       "    <tr>\n",
       "      <th>rctd_celltypes</th>\n",
       "      <th></th>\n",
       "    </tr>\n",
       "  </thead>\n",
       "  <tbody>\n",
       "    <tr>\n",
       "      <th>B-cell</th>\n",
       "      <td>0.000475</td>\n",
       "    </tr>\n",
       "    <tr>\n",
       "      <th>Cd8 T-cell</th>\n",
       "      <td>-0.000719</td>\n",
       "    </tr>\n",
       "    <tr>\n",
       "      <th>NK</th>\n",
       "      <td>-0.000828</td>\n",
       "    </tr>\n",
       "    <tr>\n",
       "      <th>Resting T-cell</th>\n",
       "      <td>0.001931</td>\n",
       "    </tr>\n",
       "    <tr>\n",
       "      <th>Tfh</th>\n",
       "      <td>0.000702</td>\n",
       "    </tr>\n",
       "    <tr>\n",
       "      <th>Th2</th>\n",
       "      <td>-0.000292</td>\n",
       "    </tr>\n",
       "    <tr>\n",
       "      <th>Treg</th>\n",
       "      <td>0.000760</td>\n",
       "    </tr>\n",
       "  </tbody>\n",
       "</table>\n",
       "</div>"
      ],
      "text/plain": [
       "                    Pax5\n",
       "rctd_celltypes          \n",
       "B-cell          0.000475\n",
       "Cd8 T-cell     -0.000719\n",
       "NK             -0.000828\n",
       "Resting T-cell  0.001931\n",
       "Tfh             0.000702\n",
       "Th2            -0.000292\n",
       "Treg            0.000760"
      ]
     },
     "execution_count": 238,
     "metadata": {},
     "output_type": "execute_result"
    }
   ],
   "source": [
    "(odf-pdf)[['Pax5']].join(so.adata.obs['rctd_celltypes']).groupby('rctd_celltypes').mean()"
   ]
  },
  {
   "cell_type": "code",
   "execution_count": 247,
   "metadata": {},
   "outputs": [
    {
     "data": {
      "text/plain": [
       "Tnfsf13b         0.000858\n",
       "1810013L24Rik    0.000854\n",
       "Gpr160           0.000802\n",
       "Rspry1           0.000787\n",
       "Lyl1             0.000778\n",
       "Xrn2             0.000743\n",
       "Map2k5           0.000726\n",
       "Scyl1            0.000718\n",
       "Sfxn4            0.000711\n",
       "Csad             0.000706\n",
       "dtype: float64"
      ]
     },
     "execution_count": 247,
     "metadata": {},
     "output_type": "execute_result"
    }
   ],
   "source": [
    "(odf-pdf).mean().abs().sort_values(ascending=False)[:10]"
   ]
  },
  {
   "cell_type": "code",
   "execution_count": 158,
   "metadata": {},
   "outputs": [
    {
     "data": {
      "text/plain": [
       "<AxesSubplot: xlabel='Cd74', ylabel='Density'>"
      ]
     },
     "execution_count": 158,
     "metadata": {},
     "output_type": "execute_result"
    },
    {
     "data": {
      "image/png": "[encoded data removed]",
      "text/plain": [
       "<Figure size 640x480 with 1 Axes>"
      ]
     },
     "metadata": {},
     "output_type": "display_data"
    }
   ],
   "source": [
    "sns.kdeplot(pdf['Cd74'][so.adata.obs.rctd_cluster.values==1])\n",
    "sns.kdeplot(odf['Cd74'][so.adata.obs.rctd_cluster.values==1])"
   ]
  },
  {
   "cell_type": "code",
   "execution_count": 151,
   "metadata": {},
   "outputs": [
    {
     "data": {
      "text/html": [
       "<div>\n",
       "<style scoped>\n",
       "    .dataframe tbody tr th:only-of-type {\n",
       "        vertical-align: middle;\n",
       "    }\n",
       "\n",
       "    .dataframe tbody tr th {\n",
       "        vertical-align: top;\n",
       "    }\n",
       "\n",
       "    .dataframe thead th {\n",
       "        text-align: right;\n",
       "    }\n",
       "</style>\n",
       "<table border=\"1\" class=\"dataframe\">\n",
       "  <thead>\n",
       "    <tr style=\"text-align: right;\">\n",
       "      <th></th>\n",
       "      <th>0</th>\n",
       "      <th>1</th>\n",
       "      <th>2</th>\n",
       "      <th>3</th>\n",
       "      <th>4</th>\n",
       "      <th>5</th>\n",
       "      <th>6</th>\n",
       "      <th>7</th>\n",
       "      <th>8</th>\n",
       "      <th>9</th>\n",
       "      <th>...</th>\n",
       "      <th>3108</th>\n",
       "      <th>3109</th>\n",
       "      <th>3110</th>\n",
       "      <th>3111</th>\n",
       "      <th>3112</th>\n",
       "      <th>3113</th>\n",
       "      <th>3114</th>\n",
       "      <th>3115</th>\n",
       "      <th>3116</th>\n",
       "      <th>3117</th>\n",
       "    </tr>\n",
       "  </thead>\n",
       "  <tbody>\n",
       "    <tr>\n",
       "      <th>0</th>\n",
       "      <td>0.360496</td>\n",
       "      <td>0.343977</td>\n",
       "      <td>0.376852</td>\n",
       "      <td>0.469339</td>\n",
       "      <td>0.439539</td>\n",
       "      <td>0.397375</td>\n",
       "      <td>0.261263</td>\n",
       "      <td>0.094710</td>\n",
       "      <td>0.376741</td>\n",
       "      <td>0.122417</td>\n",
       "      <td>...</td>\n",
       "      <td>0.338936</td>\n",
       "      <td>0.375166</td>\n",
       "      <td>0.409603</td>\n",
       "      <td>0.393623</td>\n",
       "      <td>0.432700</td>\n",
       "      <td>0.453144</td>\n",
       "      <td>0.358332</td>\n",
       "      <td>0.427338</td>\n",
       "      <td>0.498345</td>\n",
       "      <td>0.388938</td>\n",
       "    </tr>\n",
       "    <tr>\n",
       "      <th>1</th>\n",
       "      <td>0.406682</td>\n",
       "      <td>0.519332</td>\n",
       "      <td>0.000000</td>\n",
       "      <td>0.279946</td>\n",
       "      <td>0.168317</td>\n",
       "      <td>0.288125</td>\n",
       "      <td>0.056449</td>\n",
       "      <td>0.000000</td>\n",
       "      <td>0.356175</td>\n",
       "      <td>0.000000</td>\n",
       "      <td>...</td>\n",
       "      <td>0.453717</td>\n",
       "      <td>0.437290</td>\n",
       "      <td>0.227371</td>\n",
       "      <td>0.393028</td>\n",
       "      <td>0.541362</td>\n",
       "      <td>0.548398</td>\n",
       "      <td>0.418473</td>\n",
       "      <td>0.543650</td>\n",
       "      <td>0.407189</td>\n",
       "      <td>0.286855</td>\n",
       "    </tr>\n",
       "    <tr>\n",
       "      <th>2</th>\n",
       "      <td>0.498626</td>\n",
       "      <td>0.474282</td>\n",
       "      <td>0.155415</td>\n",
       "      <td>0.447542</td>\n",
       "      <td>0.347634</td>\n",
       "      <td>0.377409</td>\n",
       "      <td>0.509701</td>\n",
       "      <td>0.094710</td>\n",
       "      <td>0.699583</td>\n",
       "      <td>0.274646</td>\n",
       "      <td>...</td>\n",
       "      <td>0.468164</td>\n",
       "      <td>0.421459</td>\n",
       "      <td>0.510817</td>\n",
       "      <td>0.284205</td>\n",
       "      <td>0.282568</td>\n",
       "      <td>0.220854</td>\n",
       "      <td>0.380876</td>\n",
       "      <td>0.268923</td>\n",
       "      <td>0.317529</td>\n",
       "      <td>0.336620</td>\n",
       "    </tr>\n",
       "    <tr>\n",
       "      <th>3</th>\n",
       "      <td>0.602292</td>\n",
       "      <td>0.415089</td>\n",
       "      <td>0.000000</td>\n",
       "      <td>0.471794</td>\n",
       "      <td>0.471414</td>\n",
       "      <td>0.377189</td>\n",
       "      <td>0.571889</td>\n",
       "      <td>0.212083</td>\n",
       "      <td>0.349593</td>\n",
       "      <td>0.306003</td>\n",
       "      <td>...</td>\n",
       "      <td>0.346977</td>\n",
       "      <td>0.333489</td>\n",
       "      <td>0.214511</td>\n",
       "      <td>0.297337</td>\n",
       "      <td>0.453923</td>\n",
       "      <td>0.546961</td>\n",
       "      <td>0.349790</td>\n",
       "      <td>0.352129</td>\n",
       "      <td>0.331314</td>\n",
       "      <td>0.452486</td>\n",
       "    </tr>\n",
       "    <tr>\n",
       "      <th>4</th>\n",
       "      <td>0.402498</td>\n",
       "      <td>0.811026</td>\n",
       "      <td>0.000000</td>\n",
       "      <td>0.452688</td>\n",
       "      <td>0.362725</td>\n",
       "      <td>0.365830</td>\n",
       "      <td>0.353010</td>\n",
       "      <td>0.094710</td>\n",
       "      <td>0.364740</td>\n",
       "      <td>0.306003</td>\n",
       "      <td>...</td>\n",
       "      <td>0.295309</td>\n",
       "      <td>0.199289</td>\n",
       "      <td>0.451294</td>\n",
       "      <td>0.384211</td>\n",
       "      <td>0.423756</td>\n",
       "      <td>0.204196</td>\n",
       "      <td>0.255782</td>\n",
       "      <td>0.121096</td>\n",
       "      <td>0.453728</td>\n",
       "      <td>0.399343</td>\n",
       "    </tr>\n",
       "    <tr>\n",
       "      <th>...</th>\n",
       "      <td>...</td>\n",
       "      <td>...</td>\n",
       "      <td>...</td>\n",
       "      <td>...</td>\n",
       "      <td>...</td>\n",
       "      <td>...</td>\n",
       "      <td>...</td>\n",
       "      <td>...</td>\n",
       "      <td>...</td>\n",
       "      <td>...</td>\n",
       "      <td>...</td>\n",
       "      <td>...</td>\n",
       "      <td>...</td>\n",
       "      <td>...</td>\n",
       "      <td>...</td>\n",
       "      <td>...</td>\n",
       "      <td>...</td>\n",
       "      <td>...</td>\n",
       "      <td>...</td>\n",
       "      <td>...</td>\n",
       "      <td>...</td>\n",
       "    </tr>\n",
       "    <tr>\n",
       "      <th>11562</th>\n",
       "      <td>0.508080</td>\n",
       "      <td>0.319637</td>\n",
       "      <td>0.146077</td>\n",
       "      <td>0.602411</td>\n",
       "      <td>0.402434</td>\n",
       "      <td>0.417445</td>\n",
       "      <td>0.450148</td>\n",
       "      <td>0.094710</td>\n",
       "      <td>0.371977</td>\n",
       "      <td>0.306003</td>\n",
       "      <td>...</td>\n",
       "      <td>0.409421</td>\n",
       "      <td>0.365622</td>\n",
       "      <td>0.465846</td>\n",
       "      <td>0.308383</td>\n",
       "      <td>0.381117</td>\n",
       "      <td>0.504139</td>\n",
       "      <td>0.221580</td>\n",
       "      <td>0.271023</td>\n",
       "      <td>0.366400</td>\n",
       "      <td>0.501635</td>\n",
       "    </tr>\n",
       "    <tr>\n",
       "      <th>11563</th>\n",
       "      <td>0.434247</td>\n",
       "      <td>0.417501</td>\n",
       "      <td>0.146755</td>\n",
       "      <td>0.462404</td>\n",
       "      <td>0.346496</td>\n",
       "      <td>0.348408</td>\n",
       "      <td>0.094967</td>\n",
       "      <td>0.000000</td>\n",
       "      <td>0.138083</td>\n",
       "      <td>0.000000</td>\n",
       "      <td>...</td>\n",
       "      <td>0.409365</td>\n",
       "      <td>0.412907</td>\n",
       "      <td>0.401664</td>\n",
       "      <td>0.645838</td>\n",
       "      <td>0.368486</td>\n",
       "      <td>0.383619</td>\n",
       "      <td>0.222730</td>\n",
       "      <td>0.504084</td>\n",
       "      <td>0.448739</td>\n",
       "      <td>0.286394</td>\n",
       "    </tr>\n",
       "    <tr>\n",
       "      <th>11564</th>\n",
       "      <td>0.416667</td>\n",
       "      <td>0.652213</td>\n",
       "      <td>0.146755</td>\n",
       "      <td>0.453017</td>\n",
       "      <td>0.231849</td>\n",
       "      <td>0.231457</td>\n",
       "      <td>0.088756</td>\n",
       "      <td>0.000000</td>\n",
       "      <td>0.118552</td>\n",
       "      <td>0.000000</td>\n",
       "      <td>...</td>\n",
       "      <td>0.533182</td>\n",
       "      <td>0.443276</td>\n",
       "      <td>0.426114</td>\n",
       "      <td>0.602825</td>\n",
       "      <td>0.251397</td>\n",
       "      <td>0.511203</td>\n",
       "      <td>0.418473</td>\n",
       "      <td>0.420158</td>\n",
       "      <td>0.447008</td>\n",
       "      <td>0.388960</td>\n",
       "    </tr>\n",
       "    <tr>\n",
       "      <th>11565</th>\n",
       "      <td>0.534494</td>\n",
       "      <td>0.424388</td>\n",
       "      <td>0.155415</td>\n",
       "      <td>0.304555</td>\n",
       "      <td>0.485545</td>\n",
       "      <td>0.428911</td>\n",
       "      <td>0.276740</td>\n",
       "      <td>0.094710</td>\n",
       "      <td>0.298155</td>\n",
       "      <td>0.122417</td>\n",
       "      <td>...</td>\n",
       "      <td>0.403771</td>\n",
       "      <td>0.361575</td>\n",
       "      <td>0.403749</td>\n",
       "      <td>0.454133</td>\n",
       "      <td>0.387476</td>\n",
       "      <td>0.502936</td>\n",
       "      <td>0.498969</td>\n",
       "      <td>0.370767</td>\n",
       "      <td>0.434673</td>\n",
       "      <td>0.252232</td>\n",
       "    </tr>\n",
       "    <tr>\n",
       "      <th>11566</th>\n",
       "      <td>0.364622</td>\n",
       "      <td>0.424388</td>\n",
       "      <td>0.872971</td>\n",
       "      <td>0.301004</td>\n",
       "      <td>0.420323</td>\n",
       "      <td>0.362517</td>\n",
       "      <td>0.563189</td>\n",
       "      <td>0.283575</td>\n",
       "      <td>0.467161</td>\n",
       "      <td>0.307472</td>\n",
       "      <td>...</td>\n",
       "      <td>0.546625</td>\n",
       "      <td>0.381560</td>\n",
       "      <td>0.578160</td>\n",
       "      <td>0.304376</td>\n",
       "      <td>0.463475</td>\n",
       "      <td>0.356163</td>\n",
       "      <td>0.472900</td>\n",
       "      <td>0.333368</td>\n",
       "      <td>0.500926</td>\n",
       "      <td>0.670727</td>\n",
       "    </tr>\n",
       "  </tbody>\n",
       "</table>\n",
       "<p>11567 rows × 3118 columns</p>\n",
       "</div>"
      ],
      "text/plain": [
       "           0         1         2         3         4         5         6     \\\n",
       "0      0.360496  0.343977  0.376852  0.469339  0.439539  0.397375  0.261263   \n",
       "1      0.406682  0.519332  0.000000  0.279946  0.168317  0.288125  0.056449   \n",
       "2      0.498626  0.474282  0.155415  0.447542  0.347634  0.377409  0.509701   \n",
       "3      0.602292  0.415089  0.000000  0.471794  0.471414  0.377189  0.571889   \n",
       "4      0.402498  0.811026  0.000000  0.452688  0.362725  0.365830  0.353010   \n",
       "...         ...       ...       ...       ...       ...       ...       ...   \n",
       "11562  0.508080  0.319637  0.146077  0.602411  0.402434  0.417445  0.450148   \n",
       "11563  0.434247  0.417501  0.146755  0.462404  0.346496  0.348408  0.094967   \n",
       "11564  0.416667  0.652213  0.146755  0.453017  0.231849  0.231457  0.088756   \n",
       "11565  0.534494  0.424388  0.155415  0.304555  0.485545  0.428911  0.276740   \n",
       "11566  0.364622  0.424388  0.872971  0.301004  0.420323  0.362517  0.563189   \n",
       "\n",
       "           7         8         9     ...      3108      3109      3110  \\\n",
       "0      0.094710  0.376741  0.122417  ...  0.338936  0.375166  0.409603   \n",
       "1      0.000000  0.356175  0.000000  ...  0.453717  0.437290  0.227371   \n",
       "2      0.094710  0.699583  0.274646  ...  0.468164  0.421459  0.510817   \n",
       "3      0.212083  0.349593  0.306003  ...  0.346977  0.333489  0.214511   \n",
       "4      0.094710  0.364740  0.306003  ...  0.295309  0.199289  0.451294   \n",
       "...         ...       ...       ...  ...       ...       ...       ...   \n",
       "11562  0.094710  0.371977  0.306003  ...  0.409421  0.365622  0.465846   \n",
       "11563  0.000000  0.138083  0.000000  ...  0.409365  0.412907  0.401664   \n",
       "11564  0.000000  0.118552  0.000000  ...  0.533182  0.443276  0.426114   \n",
       "11565  0.094710  0.298155  0.122417  ...  0.403771  0.361575  0.403749   \n",
       "11566  0.283575  0.467161  0.307472  ...  0.546625  0.381560  0.578160   \n",
       "\n",
       "           3111      3112      3113      3114      3115      3116      3117  \n",
       "0      0.393623  0.432700  0.453144  0.358332  0.427338  0.498345  0.388938  \n",
       "1      0.393028  0.541362  0.548398  0.418473  0.543650  0.407189  0.286855  \n",
       "2      0.284205  0.282568  0.220854  0.380876  0.268923  0.317529  0.336620  \n",
       "3      0.297337  0.453923  0.546961  0.349790  0.352129  0.331314  0.452486  \n",
       "4      0.384211  0.423756  0.204196  0.255782  0.121096  0.453728  0.399343  \n",
       "...         ...       ...       ...       ...       ...       ...       ...  \n",
       "11562  0.308383  0.381117  0.504139  0.221580  0.271023  0.366400  0.501635  \n",
       "11563  0.645838  0.368486  0.383619  0.222730  0.504084  0.448739  0.286394  \n",
       "11564  0.602825  0.251397  0.511203  0.418473  0.420158  0.447008  0.388960  \n",
       "11565  0.454133  0.387476  0.502936  0.498969  0.370767  0.434673  0.252232  \n",
       "11566  0.304376  0.463475  0.356163  0.472900  0.333368  0.500926  0.670727  \n",
       "\n",
       "[11567 rows x 3118 columns]"
      ]
     },
     "execution_count": 151,
     "metadata": {},
     "output_type": "execute_result"
    }
   ],
   "source": []
  },
  {
   "cell_type": "code",
   "execution_count": 149,
   "metadata": {},
   "outputs": [
    {
     "ename": "ValueError",
     "evalue": "Expected 2D array, got 1D array instead:\narray=[0.43869694 0.19366086 0.91757034 ... 0.18124846 0.52641002 0.77782165].\nReshape your data either using array.reshape(-1, 1) if your data has a single feature or array.reshape(1, -1) if it contains a single sample.",
     "output_type": "error",
     "traceback": [
      "\u001b[0;31m---------------------------------------------------------------------------\u001b[0m",
      "\u001b[0;31mValueError\u001b[0m                                Traceback (most recent call last)",
      "Cell \u001b[0;32mIn[149], line 1\u001b[0m\n\u001b[0;32m----> 1\u001b[0m \u001b[43mMinMaxScaler\u001b[49m\u001b[43m(\u001b[49m\u001b[43m)\u001b[49m\u001b[38;5;241;43m.\u001b[39;49m\u001b[43mfit_transform\u001b[49m\u001b[43m(\u001b[49m\n\u001b[1;32m      2\u001b[0m \u001b[43m    \u001b[49m\u001b[43madata_train\u001b[49m\u001b[38;5;241;43m.\u001b[39;49m\u001b[43mto_df\u001b[49m\u001b[43m(\u001b[49m\u001b[43mlayer\u001b[49m\u001b[38;5;241;43m=\u001b[39;49m\u001b[38;5;124;43m'\u001b[39;49m\u001b[38;5;124;43mimputed_count\u001b[39;49m\u001b[38;5;124;43m'\u001b[39;49m\u001b[43m)\u001b[49m\u001b[43m[\u001b[49m\u001b[38;5;124;43m'\u001b[39;49m\u001b[38;5;124;43mCd74\u001b[39;49m\u001b[38;5;124;43m'\u001b[39;49m\u001b[43m]\u001b[49m\u001b[38;5;241;43m.\u001b[39;49m\u001b[43mvalues\u001b[49m\u001b[43m)\u001b[49m\n",
      "File \u001b[0;32m~/miniforge3/envs/SpaceOracle/lib/python3.9/site-packages/sklearn/utils/_set_output.py:313\u001b[0m, in \u001b[0;36m_wrap_method_output.<locals>.wrapped\u001b[0;34m(self, X, *args, **kwargs)\u001b[0m\n\u001b[1;32m    311\u001b[0m \u001b[38;5;129m@wraps\u001b[39m(f)\n\u001b[1;32m    312\u001b[0m \u001b[38;5;28;01mdef\u001b[39;00m \u001b[38;5;21mwrapped\u001b[39m(\u001b[38;5;28mself\u001b[39m, X, \u001b[38;5;241m*\u001b[39margs, \u001b[38;5;241m*\u001b[39m\u001b[38;5;241m*\u001b[39mkwargs):\n\u001b[0;32m--> 313\u001b[0m     data_to_wrap \u001b[38;5;241m=\u001b[39m \u001b[43mf\u001b[49m\u001b[43m(\u001b[49m\u001b[38;5;28;43mself\u001b[39;49m\u001b[43m,\u001b[49m\u001b[43m \u001b[49m\u001b[43mX\u001b[49m\u001b[43m,\u001b[49m\u001b[43m \u001b[49m\u001b[38;5;241;43m*\u001b[39;49m\u001b[43margs\u001b[49m\u001b[43m,\u001b[49m\u001b[43m \u001b[49m\u001b[38;5;241;43m*\u001b[39;49m\u001b[38;5;241;43m*\u001b[39;49m\u001b[43mkwargs\u001b[49m\u001b[43m)\u001b[49m\n\u001b[1;32m    314\u001b[0m     \u001b[38;5;28;01mif\u001b[39;00m \u001b[38;5;28misinstance\u001b[39m(data_to_wrap, \u001b[38;5;28mtuple\u001b[39m):\n\u001b[1;32m    315\u001b[0m         \u001b[38;5;66;03m# only wrap the first output for cross decomposition\u001b[39;00m\n\u001b[1;32m    316\u001b[0m         return_tuple \u001b[38;5;241m=\u001b[39m (\n\u001b[1;32m    317\u001b[0m             _wrap_data_with_container(method, data_to_wrap[\u001b[38;5;241m0\u001b[39m], X, \u001b[38;5;28mself\u001b[39m),\n\u001b[1;32m    318\u001b[0m             \u001b[38;5;241m*\u001b[39mdata_to_wrap[\u001b[38;5;241m1\u001b[39m:],\n\u001b[1;32m    319\u001b[0m         )\n",
      "File \u001b[0;32m~/miniforge3/envs/SpaceOracle/lib/python3.9/site-packages/sklearn/base.py:1098\u001b[0m, in \u001b[0;36mTransformerMixin.fit_transform\u001b[0;34m(self, X, y, **fit_params)\u001b[0m\n\u001b[1;32m   1083\u001b[0m         warnings\u001b[38;5;241m.\u001b[39mwarn(\n\u001b[1;32m   1084\u001b[0m             (\n\u001b[1;32m   1085\u001b[0m                 \u001b[38;5;124mf\u001b[39m\u001b[38;5;124m\"\u001b[39m\u001b[38;5;124mThis object (\u001b[39m\u001b[38;5;132;01m{\u001b[39;00m\u001b[38;5;28mself\u001b[39m\u001b[38;5;241m.\u001b[39m\u001b[38;5;18m__class__\u001b[39m\u001b[38;5;241m.\u001b[39m\u001b[38;5;18m__name__\u001b[39m\u001b[38;5;132;01m}\u001b[39;00m\u001b[38;5;124m) has a `transform`\u001b[39m\u001b[38;5;124m\"\u001b[39m\n\u001b[0;32m   (...)\u001b[0m\n\u001b[1;32m   1093\u001b[0m             \u001b[38;5;167;01mUserWarning\u001b[39;00m,\n\u001b[1;32m   1094\u001b[0m         )\n\u001b[1;32m   1096\u001b[0m \u001b[38;5;28;01mif\u001b[39;00m y \u001b[38;5;129;01mis\u001b[39;00m \u001b[38;5;28;01mNone\u001b[39;00m:\n\u001b[1;32m   1097\u001b[0m     \u001b[38;5;66;03m# fit method of arity 1 (unsupervised transformation)\u001b[39;00m\n\u001b[0;32m-> 1098\u001b[0m     \u001b[38;5;28;01mreturn\u001b[39;00m \u001b[38;5;28;43mself\u001b[39;49m\u001b[38;5;241;43m.\u001b[39;49m\u001b[43mfit\u001b[49m\u001b[43m(\u001b[49m\u001b[43mX\u001b[49m\u001b[43m,\u001b[49m\u001b[43m \u001b[49m\u001b[38;5;241;43m*\u001b[39;49m\u001b[38;5;241;43m*\u001b[39;49m\u001b[43mfit_params\u001b[49m\u001b[43m)\u001b[49m\u001b[38;5;241m.\u001b[39mtransform(X)\n\u001b[1;32m   1099\u001b[0m \u001b[38;5;28;01melse\u001b[39;00m:\n\u001b[1;32m   1100\u001b[0m     \u001b[38;5;66;03m# fit method of arity 2 (supervised transformation)\u001b[39;00m\n\u001b[1;32m   1101\u001b[0m     \u001b[38;5;28;01mreturn\u001b[39;00m \u001b[38;5;28mself\u001b[39m\u001b[38;5;241m.\u001b[39mfit(X, y, \u001b[38;5;241m*\u001b[39m\u001b[38;5;241m*\u001b[39mfit_params)\u001b[38;5;241m.\u001b[39mtransform(X)\n",
      "File \u001b[0;32m~/miniforge3/envs/SpaceOracle/lib/python3.9/site-packages/sklearn/preprocessing/_data.py:450\u001b[0m, in \u001b[0;36mMinMaxScaler.fit\u001b[0;34m(self, X, y)\u001b[0m\n\u001b[1;32m    448\u001b[0m \u001b[38;5;66;03m# Reset internal state before fitting\u001b[39;00m\n\u001b[1;32m    449\u001b[0m \u001b[38;5;28mself\u001b[39m\u001b[38;5;241m.\u001b[39m_reset()\n\u001b[0;32m--> 450\u001b[0m \u001b[38;5;28;01mreturn\u001b[39;00m \u001b[38;5;28;43mself\u001b[39;49m\u001b[38;5;241;43m.\u001b[39;49m\u001b[43mpartial_fit\u001b[49m\u001b[43m(\u001b[49m\u001b[43mX\u001b[49m\u001b[43m,\u001b[49m\u001b[43m \u001b[49m\u001b[43my\u001b[49m\u001b[43m)\u001b[49m\n",
      "File \u001b[0;32m~/miniforge3/envs/SpaceOracle/lib/python3.9/site-packages/sklearn/base.py:1473\u001b[0m, in \u001b[0;36m_fit_context.<locals>.decorator.<locals>.wrapper\u001b[0;34m(estimator, *args, **kwargs)\u001b[0m\n\u001b[1;32m   1466\u001b[0m     estimator\u001b[38;5;241m.\u001b[39m_validate_params()\n\u001b[1;32m   1468\u001b[0m \u001b[38;5;28;01mwith\u001b[39;00m config_context(\n\u001b[1;32m   1469\u001b[0m     skip_parameter_validation\u001b[38;5;241m=\u001b[39m(\n\u001b[1;32m   1470\u001b[0m         prefer_skip_nested_validation \u001b[38;5;129;01mor\u001b[39;00m global_skip_validation\n\u001b[1;32m   1471\u001b[0m     )\n\u001b[1;32m   1472\u001b[0m ):\n\u001b[0;32m-> 1473\u001b[0m     \u001b[38;5;28;01mreturn\u001b[39;00m \u001b[43mfit_method\u001b[49m\u001b[43m(\u001b[49m\u001b[43mestimator\u001b[49m\u001b[43m,\u001b[49m\u001b[43m \u001b[49m\u001b[38;5;241;43m*\u001b[39;49m\u001b[43margs\u001b[49m\u001b[43m,\u001b[49m\u001b[43m \u001b[49m\u001b[38;5;241;43m*\u001b[39;49m\u001b[38;5;241;43m*\u001b[39;49m\u001b[43mkwargs\u001b[49m\u001b[43m)\u001b[49m\n",
      "File \u001b[0;32m~/miniforge3/envs/SpaceOracle/lib/python3.9/site-packages/sklearn/preprocessing/_data.py:490\u001b[0m, in \u001b[0;36mMinMaxScaler.partial_fit\u001b[0;34m(self, X, y)\u001b[0m\n\u001b[1;32m    487\u001b[0m xp, _ \u001b[38;5;241m=\u001b[39m get_namespace(X)\n\u001b[1;32m    489\u001b[0m first_pass \u001b[38;5;241m=\u001b[39m \u001b[38;5;129;01mnot\u001b[39;00m \u001b[38;5;28mhasattr\u001b[39m(\u001b[38;5;28mself\u001b[39m, \u001b[38;5;124m\"\u001b[39m\u001b[38;5;124mn_samples_seen_\u001b[39m\u001b[38;5;124m\"\u001b[39m)\n\u001b[0;32m--> 490\u001b[0m X \u001b[38;5;241m=\u001b[39m \u001b[38;5;28;43mself\u001b[39;49m\u001b[38;5;241;43m.\u001b[39;49m\u001b[43m_validate_data\u001b[49m\u001b[43m(\u001b[49m\n\u001b[1;32m    491\u001b[0m \u001b[43m    \u001b[49m\u001b[43mX\u001b[49m\u001b[43m,\u001b[49m\n\u001b[1;32m    492\u001b[0m \u001b[43m    \u001b[49m\u001b[43mreset\u001b[49m\u001b[38;5;241;43m=\u001b[39;49m\u001b[43mfirst_pass\u001b[49m\u001b[43m,\u001b[49m\n\u001b[1;32m    493\u001b[0m \u001b[43m    \u001b[49m\u001b[43mdtype\u001b[49m\u001b[38;5;241;43m=\u001b[39;49m\u001b[43m_array_api\u001b[49m\u001b[38;5;241;43m.\u001b[39;49m\u001b[43msupported_float_dtypes\u001b[49m\u001b[43m(\u001b[49m\u001b[43mxp\u001b[49m\u001b[43m)\u001b[49m\u001b[43m,\u001b[49m\n\u001b[1;32m    494\u001b[0m \u001b[43m    \u001b[49m\u001b[43mforce_all_finite\u001b[49m\u001b[38;5;241;43m=\u001b[39;49m\u001b[38;5;124;43m\"\u001b[39;49m\u001b[38;5;124;43mallow-nan\u001b[39;49m\u001b[38;5;124;43m\"\u001b[39;49m\u001b[43m,\u001b[49m\n\u001b[1;32m    495\u001b[0m \u001b[43m\u001b[49m\u001b[43m)\u001b[49m\n\u001b[1;32m    497\u001b[0m data_min \u001b[38;5;241m=\u001b[39m _array_api\u001b[38;5;241m.\u001b[39m_nanmin(X, axis\u001b[38;5;241m=\u001b[39m\u001b[38;5;241m0\u001b[39m, xp\u001b[38;5;241m=\u001b[39mxp)\n\u001b[1;32m    498\u001b[0m data_max \u001b[38;5;241m=\u001b[39m _array_api\u001b[38;5;241m.\u001b[39m_nanmax(X, axis\u001b[38;5;241m=\u001b[39m\u001b[38;5;241m0\u001b[39m, xp\u001b[38;5;241m=\u001b[39mxp)\n",
      "File \u001b[0;32m~/miniforge3/envs/SpaceOracle/lib/python3.9/site-packages/sklearn/base.py:633\u001b[0m, in \u001b[0;36mBaseEstimator._validate_data\u001b[0;34m(self, X, y, reset, validate_separately, cast_to_ndarray, **check_params)\u001b[0m\n\u001b[1;32m    631\u001b[0m         out \u001b[38;5;241m=\u001b[39m X, y\n\u001b[1;32m    632\u001b[0m \u001b[38;5;28;01melif\u001b[39;00m \u001b[38;5;129;01mnot\u001b[39;00m no_val_X \u001b[38;5;129;01mand\u001b[39;00m no_val_y:\n\u001b[0;32m--> 633\u001b[0m     out \u001b[38;5;241m=\u001b[39m \u001b[43mcheck_array\u001b[49m\u001b[43m(\u001b[49m\u001b[43mX\u001b[49m\u001b[43m,\u001b[49m\u001b[43m \u001b[49m\u001b[43minput_name\u001b[49m\u001b[38;5;241;43m=\u001b[39;49m\u001b[38;5;124;43m\"\u001b[39;49m\u001b[38;5;124;43mX\u001b[39;49m\u001b[38;5;124;43m\"\u001b[39;49m\u001b[43m,\u001b[49m\u001b[43m \u001b[49m\u001b[38;5;241;43m*\u001b[39;49m\u001b[38;5;241;43m*\u001b[39;49m\u001b[43mcheck_params\u001b[49m\u001b[43m)\u001b[49m\n\u001b[1;32m    634\u001b[0m \u001b[38;5;28;01melif\u001b[39;00m no_val_X \u001b[38;5;129;01mand\u001b[39;00m \u001b[38;5;129;01mnot\u001b[39;00m no_val_y:\n\u001b[1;32m    635\u001b[0m     out \u001b[38;5;241m=\u001b[39m _check_y(y, \u001b[38;5;241m*\u001b[39m\u001b[38;5;241m*\u001b[39mcheck_params)\n",
      "File \u001b[0;32m~/miniforge3/envs/SpaceOracle/lib/python3.9/site-packages/sklearn/utils/validation.py:1050\u001b[0m, in \u001b[0;36mcheck_array\u001b[0;34m(array, accept_sparse, accept_large_sparse, dtype, order, copy, force_writeable, force_all_finite, ensure_2d, allow_nd, ensure_min_samples, ensure_min_features, estimator, input_name)\u001b[0m\n\u001b[1;32m   1043\u001b[0m         \u001b[38;5;28;01melse\u001b[39;00m:\n\u001b[1;32m   1044\u001b[0m             msg \u001b[38;5;241m=\u001b[39m (\n\u001b[1;32m   1045\u001b[0m                 \u001b[38;5;124mf\u001b[39m\u001b[38;5;124m\"\u001b[39m\u001b[38;5;124mExpected 2D array, got 1D array instead:\u001b[39m\u001b[38;5;130;01m\\n\u001b[39;00m\u001b[38;5;124marray=\u001b[39m\u001b[38;5;132;01m{\u001b[39;00marray\u001b[38;5;132;01m}\u001b[39;00m\u001b[38;5;124m.\u001b[39m\u001b[38;5;130;01m\\n\u001b[39;00m\u001b[38;5;124m\"\u001b[39m\n\u001b[1;32m   1046\u001b[0m                 \u001b[38;5;124m\"\u001b[39m\u001b[38;5;124mReshape your data either using array.reshape(-1, 1) if \u001b[39m\u001b[38;5;124m\"\u001b[39m\n\u001b[1;32m   1047\u001b[0m                 \u001b[38;5;124m\"\u001b[39m\u001b[38;5;124myour data has a single feature or array.reshape(1, -1) \u001b[39m\u001b[38;5;124m\"\u001b[39m\n\u001b[1;32m   1048\u001b[0m                 \u001b[38;5;124m\"\u001b[39m\u001b[38;5;124mif it contains a single sample.\u001b[39m\u001b[38;5;124m\"\u001b[39m\n\u001b[1;32m   1049\u001b[0m             )\n\u001b[0;32m-> 1050\u001b[0m         \u001b[38;5;28;01mraise\u001b[39;00m \u001b[38;5;167;01mValueError\u001b[39;00m(msg)\n\u001b[1;32m   1052\u001b[0m \u001b[38;5;28;01mif\u001b[39;00m dtype_numeric \u001b[38;5;129;01mand\u001b[39;00m \u001b[38;5;28mhasattr\u001b[39m(array\u001b[38;5;241m.\u001b[39mdtype, \u001b[38;5;124m\"\u001b[39m\u001b[38;5;124mkind\u001b[39m\u001b[38;5;124m\"\u001b[39m) \u001b[38;5;129;01mand\u001b[39;00m array\u001b[38;5;241m.\u001b[39mdtype\u001b[38;5;241m.\u001b[39mkind \u001b[38;5;129;01min\u001b[39;00m \u001b[38;5;124m\"\u001b[39m\u001b[38;5;124mUSV\u001b[39m\u001b[38;5;124m\"\u001b[39m:\n\u001b[1;32m   1053\u001b[0m     \u001b[38;5;28;01mraise\u001b[39;00m \u001b[38;5;167;01mValueError\u001b[39;00m(\n\u001b[1;32m   1054\u001b[0m         \u001b[38;5;124m\"\u001b[39m\u001b[38;5;124mdtype=\u001b[39m\u001b[38;5;124m'\u001b[39m\u001b[38;5;124mnumeric\u001b[39m\u001b[38;5;124m'\u001b[39m\u001b[38;5;124m is not compatible with arrays of bytes/strings.\u001b[39m\u001b[38;5;124m\"\u001b[39m\n\u001b[1;32m   1055\u001b[0m         \u001b[38;5;124m\"\u001b[39m\u001b[38;5;124mConvert your data to numeric values explicitly instead.\u001b[39m\u001b[38;5;124m\"\u001b[39m\n\u001b[1;32m   1056\u001b[0m     )\n",
      "\u001b[0;31mValueError\u001b[0m: Expected 2D array, got 1D array instead:\narray=[0.43869694 0.19366086 0.91757034 ... 0.18124846 0.52641002 0.77782165].\nReshape your data either using array.reshape(-1, 1) if your data has a single feature or array.reshape(1, -1) if it contains a single sample."
     ]
    }
   ],
   "source": [
    "MinMaxScaler().fit_transform(\n",
    "    .values)"
   ]
  },
  {
   "cell_type": "code",
   "execution_count": 60,
   "metadata": {},
   "outputs": [
    {
     "data": {
      "text/plain": [
       "0.0"
      ]
     },
     "execution_count": 60,
     "metadata": {},
     "output_type": "execute_result"
    }
   ],
   "source": [
    "perturbed_mtx.sum()"
   ]
  },
  {
   "cell_type": "code",
   "execution_count": 108,
   "metadata": {},
   "outputs": [],
   "source": [
    "import polars as pl\n",
    "from sklearn.preprocessing import MinMaxScaler"
   ]
  },
  {
   "cell_type": "code",
   "execution_count": 55,
   "metadata": {},
   "outputs": [],
   "source": [
    "dfp = pd.DataFrame(\n",
    "    perturbed_mtx, \n",
    "    columns=so.queue.completed_genes, \n",
    "    index=adata_train.obs.index\n",
    ")"
   ]
  },
  {
   "cell_type": "code",
   "execution_count": 59,
   "metadata": {},
   "outputs": [
    {
     "data": {
      "text/plain": [
       "Cuedc1      0.0\n",
       "Rrp36       0.0\n",
       "Gm14029     0.0\n",
       "Mphosph6    0.0\n",
       "Ccdc17      0.0\n",
       "           ... \n",
       "Trappc2     0.0\n",
       "Zfp740      0.0\n",
       "Dpp3        0.0\n",
       "Mylk        0.0\n",
       "Pam16       0.0\n",
       "Length: 3118, dtype: float64"
      ]
     },
     "execution_count": 59,
     "metadata": {},
     "output_type": "execute_result"
    }
   ],
   "source": [
    "dfp.mean().sort_values()"
   ]
  },
  {
   "cell_type": "code",
   "execution_count": null,
   "metadata": {},
   "outputs": [],
   "source": []
  },
  {
   "cell_type": "code",
   "execution_count": null,
   "metadata": {},
   "outputs": [],
   "source": []
  },
  {
   "cell_type": "code",
   "execution_count": null,
   "metadata": {},
   "outputs": [],
   "source": []
  },
  {
   "cell_type": "code",
   "execution_count": null,
   "metadata": {},
   "outputs": [],
   "source": []
  },
  {
   "cell_type": "code",
   "execution_count": 199,
   "metadata": {},
   "outputs": [],
   "source": [
    "\n",
    "\n",
    "so.adata.layers['imputed_count_x'] = MinMaxScaler().fit_transform(so.adata.to_df(layer='imputed_count')).copy()\n"
   ]
  },
  {
   "cell_type": "code",
   "execution_count": 1,
   "metadata": {},
   "outputs": [
    {
     "ename": "NameError",
     "evalue": "name 'so' is not defined",
     "output_type": "error",
     "traceback": [
      "\u001b[0;31m---------------------------------------------------------------------------\u001b[0m",
      "\u001b[0;31mNameError\u001b[0m                                 Traceback (most recent call last)",
      "Cell \u001b[0;32mIn[1], line 1\u001b[0m\n\u001b[0;32m----> 1\u001b[0m a \u001b[38;5;241m=\u001b[39m \u001b[43mso\u001b[49m\u001b[38;5;241m.\u001b[39madata\u001b[38;5;241m.\u001b[39mto_df(layer\u001b[38;5;241m=\u001b[39m\u001b[38;5;124m'\u001b[39m\u001b[38;5;124mimputed_count_x\u001b[39m\u001b[38;5;124m'\u001b[39m)[\n\u001b[1;32m      2\u001b[0m     [i\u001b[38;5;241m.\u001b[39mreplace(\u001b[38;5;124m'\u001b[39m\u001b[38;5;124mbeta_\u001b[39m\u001b[38;5;124m'\u001b[39m, \u001b[38;5;124m'\u001b[39m\u001b[38;5;124m'\u001b[39m) \u001b[38;5;28;01mfor\u001b[39;00m i \u001b[38;5;129;01min\u001b[39;00m pf\u001b[38;5;241m.\u001b[39mcolumns \u001b[38;5;28;01mif\u001b[39;00m \u001b[38;5;124m'\u001b[39m\u001b[38;5;124mbeta_\u001b[39m\u001b[38;5;124m'\u001b[39m \u001b[38;5;129;01min\u001b[39;00m i \u001b[38;5;129;01mand\u001b[39;00m \u001b[38;5;124m'\u001b[39m\u001b[38;5;124m$\u001b[39m\u001b[38;5;124m'\u001b[39m \u001b[38;5;129;01mnot\u001b[39;00m \u001b[38;5;129;01min\u001b[39;00m i]]\n\u001b[1;32m      4\u001b[0m b \u001b[38;5;241m=\u001b[39m pf\u001b[38;5;241m.\u001b[39mselect([i \u001b[38;5;28;01mfor\u001b[39;00m i \u001b[38;5;129;01min\u001b[39;00m pf\u001b[38;5;241m.\u001b[39mcolumns \u001b[38;5;28;01mif\u001b[39;00m \u001b[38;5;124m'\u001b[39m\u001b[38;5;124mbeta_\u001b[39m\u001b[38;5;124m'\u001b[39m \u001b[38;5;129;01min\u001b[39;00m i \u001b[38;5;129;01mand\u001b[39;00m \u001b[38;5;124m'\u001b[39m\u001b[38;5;124m$\u001b[39m\u001b[38;5;124m'\u001b[39m \u001b[38;5;129;01mnot\u001b[39;00m \u001b[38;5;129;01min\u001b[39;00m i])\n\u001b[1;32m      6\u001b[0m b_df \u001b[38;5;241m=\u001b[39m b\u001b[38;5;241m.\u001b[39mcollect()\u001b[38;5;241m.\u001b[39mto_pandas()\u001b[38;5;241m.\u001b[39mT\n",
      "\u001b[0;31mNameError\u001b[0m: name 'so' is not defined"
     ]
    }
   ],
   "source": [
    "a = so.adata.to_df(layer='imputed_count_x')[\n",
    "    [i.replace('beta_', '') for i in pf.columns if 'beta_' in i and '$' not in i]]\n",
    "\n",
    "b = pf.select([i for i in pf.columns if 'beta_' in i and '$' not in i])\n",
    "\n",
    "b_df = b.collect().to_pandas().T\n",
    "x = np.dot(a.values, b_df.values)\n"
   ]
  },
  {
   "cell_type": "code",
   "execution_count": 210,
   "metadata": {},
   "outputs": [],
   "source": []
  },
  {
   "cell_type": "code",
   "execution_count": 222,
   "metadata": {},
   "outputs": [
    {
     "data": {
      "text/plain": [
       "array([[ 0.28007812, -0.04051343,  0.15958447, ..., -0.03462685,\n",
       "         0.31443103,  0.21435754],\n",
       "       [ 0.46306534,  0.00732259,  0.34380948, ...,  0.0652749 ,\n",
       "         0.48570801,  0.39414799],\n",
       "       [-0.07848071, -0.12410852, -0.18379771, ..., -0.22430586,\n",
       "        -0.06750554, -0.13180281],\n",
       "       ...,\n",
       "       [ 0.45067318,  0.04259218,  0.33686556, ...,  0.07121389,\n",
       "         0.48584401,  0.38571585],\n",
       "       [ 0.28318993, -0.02398201,  0.17628194, ..., -0.02812186,\n",
       "         0.30458408,  0.21605886],\n",
       "       [ 0.0151861 , -0.17410771, -0.1007747 , ..., -0.15588143,\n",
       "         0.03175832, -0.05388208]])"
      ]
     },
     "execution_count": 222,
     "metadata": {},
     "output_type": "execute_result"
    }
   ],
   "source": []
  },
  {
   "cell_type": "code",
   "execution_count": 200,
   "metadata": {},
   "outputs": [
    {
     "data": {
      "text/html": [
       "<h4>NAIVE QUERY PLAN</h4><p>run <b>LazyFrame.show_graph()</b> to see the optimized version</p><?xml version=\"1.0\" encoding=\"UTF-8\" standalone=\"no\"?>\n",
       "<!DOCTYPE svg PUBLIC \"-//W3C//DTD SVG 1.1//EN\"\n",
       " \"http://www.w3.org/Graphics/SVG/1.1/DTD/svg11.dtd\">\n",
       "<!-- Generated by graphviz version 2.30.1 (20200304.1809)\n",
       " -->\n",
       "<!-- Title: polars_query Pages: 1 -->\n",
       "<svg width=\"90pt\" height=\"62pt\"\n",
       " viewBox=\"0.00 0.00 90.00 62.00\" xmlns=\"http://www.w3.org/2000/svg\" xmlns:xlink=\"http://www.w3.org/1999/xlink\">\n",
       "<g id=\"graph0\" class=\"graph\" transform=\"scale(1 1) rotate(0) translate(4 58)\">\n",
       "<title>polars_query</title>\n",
       "<polygon fill=\"white\" stroke=\"white\" points=\"-4,5 -4,-58 87,-58 87,5 -4,5\"/>\n",
       "<!-- p1 -->\n",
       "<g id=\"node1\" class=\"node\"><title>p1</title>\n",
       "<polygon fill=\"none\" stroke=\"black\" points=\"82.25,-53.5 -0.25,-53.5 -0.25,-0.5 82.25,-0.5 82.25,-53.5\"/>\n",
       "<text text-anchor=\"middle\" x=\"41\" y=\"-38.3\" font-family=\"Times,serif\" font-size=\"14.00\">TABLE</text>\n",
       "<text text-anchor=\"middle\" x=\"41\" y=\"-23.3\" font-family=\"Times,serif\" font-size=\"14.00\">π */5013;</text>\n",
       "<text text-anchor=\"middle\" x=\"41\" y=\"-8.3\" font-family=\"Times,serif\" font-size=\"14.00\">σ None</text>\n",
       "</g>\n",
       "</g>\n",
       "</svg>\n"
      ],
      "text/plain": [
       "<LazyFrame at 0x7F529C0545B0>"
      ]
     },
     "execution_count": 200,
     "metadata": {},
     "output_type": "execute_result"
    }
   ],
   "source": [
    "pl.LazyFrame(so.adata.to_df(layer='imputed_count_x'))"
   ]
  },
  {
   "cell_type": "code",
   "execution_count": 159,
   "metadata": {},
   "outputs": [
    {
     "name": "stdout",
     "output_type": "stream",
     "text": [
      "CPU times: user 585 ms, sys: 830 ms, total: 1.42 s\n",
      "Wall time: 1.03 s\n"
     ]
    }
   ],
   "source": [
    "%%time\n",
    "predict_target = 'Cd74'\n",
    "df = pd.read_csv(\n",
    "    f'{so.save_dir}/{predict_target}_betadata.csv', \n",
    "    index_col=0, engine='pyarrow')"
   ]
  },
  {
   "cell_type": "code",
   "execution_count": 160,
   "metadata": {},
   "outputs": [
    {
     "data": {
      "text/html": [
       "<div>\n",
       "<style scoped>\n",
       "    .dataframe tbody tr th:only-of-type {\n",
       "        vertical-align: middle;\n",
       "    }\n",
       "\n",
       "    .dataframe tbody tr th {\n",
       "        vertical-align: top;\n",
       "    }\n",
       "\n",
       "    .dataframe thead th {\n",
       "        text-align: right;\n",
       "    }\n",
       "</style>\n",
       "<table border=\"1\" class=\"dataframe\">\n",
       "  <thead>\n",
       "    <tr style=\"text-align: right;\">\n",
       "      <th></th>\n",
       "      <th>beta0</th>\n",
       "      <th>beta_Atf3</th>\n",
       "      <th>beta_Bcl11a</th>\n",
       "      <th>beta_Bcl11b</th>\n",
       "      <th>beta_Cebpb</th>\n",
       "      <th>beta_Ctcf</th>\n",
       "      <th>beta_Ebf1</th>\n",
       "      <th>beta_Ebf3</th>\n",
       "      <th>beta_Egr1</th>\n",
       "      <th>beta_Egr2</th>\n",
       "      <th>...</th>\n",
       "      <th>beta_Sdc3</th>\n",
       "      <th>beta_Sdc4</th>\n",
       "      <th>beta_Tnfrsf13c</th>\n",
       "      <th>beta_Tnfrsf1a</th>\n",
       "      <th>beta_Tnfrsf9</th>\n",
       "      <th>beta_Tyro3</th>\n",
       "      <th>rctd_cluster</th>\n",
       "      <th>rctd_celltypes</th>\n",
       "      <th>x</th>\n",
       "      <th>y</th>\n",
       "    </tr>\n",
       "    <tr>\n",
       "      <th></th>\n",
       "      <th></th>\n",
       "      <th></th>\n",
       "      <th></th>\n",
       "      <th></th>\n",
       "      <th></th>\n",
       "      <th></th>\n",
       "      <th></th>\n",
       "      <th></th>\n",
       "      <th></th>\n",
       "      <th></th>\n",
       "      <th></th>\n",
       "      <th></th>\n",
       "      <th></th>\n",
       "      <th></th>\n",
       "      <th></th>\n",
       "      <th></th>\n",
       "      <th></th>\n",
       "      <th></th>\n",
       "      <th></th>\n",
       "      <th></th>\n",
       "      <th></th>\n",
       "    </tr>\n",
       "  </thead>\n",
       "  <tbody>\n",
       "    <tr>\n",
       "      <th>AAAAAACGGTAGAT</th>\n",
       "      <td>3.464415e-01</td>\n",
       "      <td>0.0</td>\n",
       "      <td>0.154783</td>\n",
       "      <td>-0.203103</td>\n",
       "      <td>0.022913</td>\n",
       "      <td>-0.025036</td>\n",
       "      <td>0.157274</td>\n",
       "      <td>0.000000</td>\n",
       "      <td>-0.104113</td>\n",
       "      <td>-0.019142</td>\n",
       "      <td>...</td>\n",
       "      <td>0.006689</td>\n",
       "      <td>0.012263</td>\n",
       "      <td>0.006604</td>\n",
       "      <td>0.0</td>\n",
       "      <td>-0.017173</td>\n",
       "      <td>0.0</td>\n",
       "      <td>0</td>\n",
       "      <td>B-cell</td>\n",
       "      <td>-4252.0</td>\n",
       "      <td>2626.2</td>\n",
       "    </tr>\n",
       "    <tr>\n",
       "      <th>AAAAAATCCGGCGA</th>\n",
       "      <td>8.919667e-06</td>\n",
       "      <td>0.0</td>\n",
       "      <td>0.154262</td>\n",
       "      <td>-0.009042</td>\n",
       "      <td>0.035950</td>\n",
       "      <td>0.000000</td>\n",
       "      <td>0.233174</td>\n",
       "      <td>0.014037</td>\n",
       "      <td>-0.000278</td>\n",
       "      <td>0.000000</td>\n",
       "      <td>...</td>\n",
       "      <td>-0.003049</td>\n",
       "      <td>0.007139</td>\n",
       "      <td>0.001158</td>\n",
       "      <td>0.0</td>\n",
       "      <td>0.000000</td>\n",
       "      <td>0.0</td>\n",
       "      <td>4</td>\n",
       "      <td>Tfh</td>\n",
       "      <td>-2952.4</td>\n",
       "      <td>1975.3</td>\n",
       "    </tr>\n",
       "    <tr>\n",
       "      <th>AAAAACCGTCAGAC</th>\n",
       "      <td>3.489022e-01</td>\n",
       "      <td>0.0</td>\n",
       "      <td>0.154434</td>\n",
       "      <td>-0.202912</td>\n",
       "      <td>0.022806</td>\n",
       "      <td>-0.024939</td>\n",
       "      <td>0.156985</td>\n",
       "      <td>0.000000</td>\n",
       "      <td>-0.103930</td>\n",
       "      <td>-0.019058</td>\n",
       "      <td>...</td>\n",
       "      <td>0.008017</td>\n",
       "      <td>0.019456</td>\n",
       "      <td>0.026976</td>\n",
       "      <td>0.0</td>\n",
       "      <td>-0.005566</td>\n",
       "      <td>0.0</td>\n",
       "      <td>0</td>\n",
       "      <td>B-cell</td>\n",
       "      <td>-2480.0</td>\n",
       "      <td>1516.6</td>\n",
       "    </tr>\n",
       "    <tr>\n",
       "      <th>AAAAACGCTCCGAC</th>\n",
       "      <td>3.462958e-01</td>\n",
       "      <td>0.0</td>\n",
       "      <td>0.154773</td>\n",
       "      <td>-0.203099</td>\n",
       "      <td>0.022909</td>\n",
       "      <td>-0.025033</td>\n",
       "      <td>0.157264</td>\n",
       "      <td>0.000000</td>\n",
       "      <td>-0.104107</td>\n",
       "      <td>-0.019140</td>\n",
       "      <td>...</td>\n",
       "      <td>0.001441</td>\n",
       "      <td>0.011801</td>\n",
       "      <td>0.017611</td>\n",
       "      <td>0.0</td>\n",
       "      <td>-0.008514</td>\n",
       "      <td>0.0</td>\n",
       "      <td>0</td>\n",
       "      <td>B-cell</td>\n",
       "      <td>-2764.1</td>\n",
       "      <td>1255.7</td>\n",
       "    </tr>\n",
       "    <tr>\n",
       "      <th>AAAAAGCACGTGTT</th>\n",
       "      <td>3.494486e-01</td>\n",
       "      <td>0.0</td>\n",
       "      <td>0.154377</td>\n",
       "      <td>-0.202878</td>\n",
       "      <td>0.022789</td>\n",
       "      <td>-0.024924</td>\n",
       "      <td>0.156937</td>\n",
       "      <td>0.000000</td>\n",
       "      <td>-0.103901</td>\n",
       "      <td>-0.019044</td>\n",
       "      <td>...</td>\n",
       "      <td>0.002797</td>\n",
       "      <td>0.012916</td>\n",
       "      <td>0.015879</td>\n",
       "      <td>0.0</td>\n",
       "      <td>-0.011062</td>\n",
       "      <td>0.0</td>\n",
       "      <td>0</td>\n",
       "      <td>B-cell</td>\n",
       "      <td>-3925.9</td>\n",
       "      <td>1618.5</td>\n",
       "    </tr>\n",
       "    <tr>\n",
       "      <th>...</th>\n",
       "      <td>...</td>\n",
       "      <td>...</td>\n",
       "      <td>...</td>\n",
       "      <td>...</td>\n",
       "      <td>...</td>\n",
       "      <td>...</td>\n",
       "      <td>...</td>\n",
       "      <td>...</td>\n",
       "      <td>...</td>\n",
       "      <td>...</td>\n",
       "      <td>...</td>\n",
       "      <td>...</td>\n",
       "      <td>...</td>\n",
       "      <td>...</td>\n",
       "      <td>...</td>\n",
       "      <td>...</td>\n",
       "      <td>...</td>\n",
       "      <td>...</td>\n",
       "      <td>...</td>\n",
       "      <td>...</td>\n",
       "      <td>...</td>\n",
       "    </tr>\n",
       "    <tr>\n",
       "      <th>TTTTTTCGCGGCTA</th>\n",
       "      <td>1.160928e-05</td>\n",
       "      <td>0.0</td>\n",
       "      <td>0.153827</td>\n",
       "      <td>-0.009198</td>\n",
       "      <td>0.035771</td>\n",
       "      <td>0.000000</td>\n",
       "      <td>0.233052</td>\n",
       "      <td>0.013946</td>\n",
       "      <td>-0.000309</td>\n",
       "      <td>0.000000</td>\n",
       "      <td>...</td>\n",
       "      <td>-0.001636</td>\n",
       "      <td>0.051669</td>\n",
       "      <td>0.010252</td>\n",
       "      <td>0.0</td>\n",
       "      <td>0.000000</td>\n",
       "      <td>0.0</td>\n",
       "      <td>4</td>\n",
       "      <td>Tfh</td>\n",
       "      <td>-3754.4</td>\n",
       "      <td>1504.7</td>\n",
       "    </tr>\n",
       "    <tr>\n",
       "      <th>TTTTTTGGGCTGGT</th>\n",
       "      <td>3.886279e-08</td>\n",
       "      <td>0.0</td>\n",
       "      <td>0.146614</td>\n",
       "      <td>-0.000216</td>\n",
       "      <td>0.000613</td>\n",
       "      <td>0.000000</td>\n",
       "      <td>0.243857</td>\n",
       "      <td>0.000000</td>\n",
       "      <td>0.000000</td>\n",
       "      <td>0.000000</td>\n",
       "      <td>...</td>\n",
       "      <td>0.007463</td>\n",
       "      <td>0.010457</td>\n",
       "      <td>0.002877</td>\n",
       "      <td>0.0</td>\n",
       "      <td>0.000000</td>\n",
       "      <td>0.0</td>\n",
       "      <td>2</td>\n",
       "      <td>Th2</td>\n",
       "      <td>-3547.4</td>\n",
       "      <td>2483.1</td>\n",
       "    </tr>\n",
       "    <tr>\n",
       "      <th>TTTTTTGTACCCAC</th>\n",
       "      <td>4.171620e-08</td>\n",
       "      <td>0.0</td>\n",
       "      <td>0.146591</td>\n",
       "      <td>-0.000222</td>\n",
       "      <td>0.000623</td>\n",
       "      <td>0.000000</td>\n",
       "      <td>0.243810</td>\n",
       "      <td>0.000000</td>\n",
       "      <td>0.000000</td>\n",
       "      <td>0.000000</td>\n",
       "      <td>...</td>\n",
       "      <td>0.007452</td>\n",
       "      <td>0.006297</td>\n",
       "      <td>0.004575</td>\n",
       "      <td>0.0</td>\n",
       "      <td>0.000000</td>\n",
       "      <td>0.0</td>\n",
       "      <td>2</td>\n",
       "      <td>Th2</td>\n",
       "      <td>-1666.5</td>\n",
       "      <td>2309.1</td>\n",
       "    </tr>\n",
       "    <tr>\n",
       "      <th>TTTTTTGTACGATT</th>\n",
       "      <td>3.454244e-01</td>\n",
       "      <td>0.0</td>\n",
       "      <td>0.154889</td>\n",
       "      <td>-0.203164</td>\n",
       "      <td>0.022945</td>\n",
       "      <td>-0.025066</td>\n",
       "      <td>0.157364</td>\n",
       "      <td>0.000000</td>\n",
       "      <td>-0.104168</td>\n",
       "      <td>-0.019169</td>\n",
       "      <td>...</td>\n",
       "      <td>0.006964</td>\n",
       "      <td>0.008090</td>\n",
       "      <td>0.009949</td>\n",
       "      <td>0.0</td>\n",
       "      <td>-0.014287</td>\n",
       "      <td>0.0</td>\n",
       "      <td>0</td>\n",
       "      <td>B-cell</td>\n",
       "      <td>-2052.1</td>\n",
       "      <td>2937.7</td>\n",
       "    </tr>\n",
       "    <tr>\n",
       "      <th>TTTTTTTTGCTTTA</th>\n",
       "      <td>3.472851e-01</td>\n",
       "      <td>0.0</td>\n",
       "      <td>0.154674</td>\n",
       "      <td>-0.203043</td>\n",
       "      <td>0.022879</td>\n",
       "      <td>-0.025006</td>\n",
       "      <td>0.157184</td>\n",
       "      <td>0.000000</td>\n",
       "      <td>-0.104056</td>\n",
       "      <td>-0.019115</td>\n",
       "      <td>...</td>\n",
       "      <td>0.009116</td>\n",
       "      <td>0.014673</td>\n",
       "      <td>0.016356</td>\n",
       "      <td>0.0</td>\n",
       "      <td>-0.009473</td>\n",
       "      <td>0.0</td>\n",
       "      <td>0</td>\n",
       "      <td>B-cell</td>\n",
       "      <td>-4295.6</td>\n",
       "      <td>2514.8</td>\n",
       "    </tr>\n",
       "  </tbody>\n",
       "</table>\n",
       "<p>11567 rows × 525 columns</p>\n",
       "</div>"
      ],
      "text/plain": [
       "                       beta0  beta_Atf3  beta_Bcl11a  beta_Bcl11b  beta_Cebpb  \\\n",
       "                                                                                \n",
       "AAAAAACGGTAGAT  3.464415e-01        0.0     0.154783    -0.203103    0.022913   \n",
       "AAAAAATCCGGCGA  8.919667e-06        0.0     0.154262    -0.009042    0.035950   \n",
       "AAAAACCGTCAGAC  3.489022e-01        0.0     0.154434    -0.202912    0.022806   \n",
       "AAAAACGCTCCGAC  3.462958e-01        0.0     0.154773    -0.203099    0.022909   \n",
       "AAAAAGCACGTGTT  3.494486e-01        0.0     0.154377    -0.202878    0.022789   \n",
       "...                      ...        ...          ...          ...         ...   \n",
       "TTTTTTCGCGGCTA  1.160928e-05        0.0     0.153827    -0.009198    0.035771   \n",
       "TTTTTTGGGCTGGT  3.886279e-08        0.0     0.146614    -0.000216    0.000613   \n",
       "TTTTTTGTACCCAC  4.171620e-08        0.0     0.146591    -0.000222    0.000623   \n",
       "TTTTTTGTACGATT  3.454244e-01        0.0     0.154889    -0.203164    0.022945   \n",
       "TTTTTTTTGCTTTA  3.472851e-01        0.0     0.154674    -0.203043    0.022879   \n",
       "\n",
       "                beta_Ctcf  beta_Ebf1  beta_Ebf3  beta_Egr1  beta_Egr2  ...  \\\n",
       "                                                                       ...   \n",
       "AAAAAACGGTAGAT  -0.025036   0.157274   0.000000  -0.104113  -0.019142  ...   \n",
       "AAAAAATCCGGCGA   0.000000   0.233174   0.014037  -0.000278   0.000000  ...   \n",
       "AAAAACCGTCAGAC  -0.024939   0.156985   0.000000  -0.103930  -0.019058  ...   \n",
       "AAAAACGCTCCGAC  -0.025033   0.157264   0.000000  -0.104107  -0.019140  ...   \n",
       "AAAAAGCACGTGTT  -0.024924   0.156937   0.000000  -0.103901  -0.019044  ...   \n",
       "...                   ...        ...        ...        ...        ...  ...   \n",
       "TTTTTTCGCGGCTA   0.000000   0.233052   0.013946  -0.000309   0.000000  ...   \n",
       "TTTTTTGGGCTGGT   0.000000   0.243857   0.000000   0.000000   0.000000  ...   \n",
       "TTTTTTGTACCCAC   0.000000   0.243810   0.000000   0.000000   0.000000  ...   \n",
       "TTTTTTGTACGATT  -0.025066   0.157364   0.000000  -0.104168  -0.019169  ...   \n",
       "TTTTTTTTGCTTTA  -0.025006   0.157184   0.000000  -0.104056  -0.019115  ...   \n",
       "\n",
       "                beta_Sdc3  beta_Sdc4  beta_Tnfrsf13c  beta_Tnfrsf1a  \\\n",
       "                                                                      \n",
       "AAAAAACGGTAGAT   0.006689   0.012263        0.006604            0.0   \n",
       "AAAAAATCCGGCGA  -0.003049   0.007139        0.001158            0.0   \n",
       "AAAAACCGTCAGAC   0.008017   0.019456        0.026976            0.0   \n",
       "AAAAACGCTCCGAC   0.001441   0.011801        0.017611            0.0   \n",
       "AAAAAGCACGTGTT   0.002797   0.012916        0.015879            0.0   \n",
       "...                   ...        ...             ...            ...   \n",
       "TTTTTTCGCGGCTA  -0.001636   0.051669        0.010252            0.0   \n",
       "TTTTTTGGGCTGGT   0.007463   0.010457        0.002877            0.0   \n",
       "TTTTTTGTACCCAC   0.007452   0.006297        0.004575            0.0   \n",
       "TTTTTTGTACGATT   0.006964   0.008090        0.009949            0.0   \n",
       "TTTTTTTTGCTTTA   0.009116   0.014673        0.016356            0.0   \n",
       "\n",
       "                beta_Tnfrsf9  beta_Tyro3  rctd_cluster  rctd_celltypes  \\\n",
       "                                                                         \n",
       "AAAAAACGGTAGAT     -0.017173         0.0             0          B-cell   \n",
       "AAAAAATCCGGCGA      0.000000         0.0             4             Tfh   \n",
       "AAAAACCGTCAGAC     -0.005566         0.0             0          B-cell   \n",
       "AAAAACGCTCCGAC     -0.008514         0.0             0          B-cell   \n",
       "AAAAAGCACGTGTT     -0.011062         0.0             0          B-cell   \n",
       "...                      ...         ...           ...             ...   \n",
       "TTTTTTCGCGGCTA      0.000000         0.0             4             Tfh   \n",
       "TTTTTTGGGCTGGT      0.000000         0.0             2             Th2   \n",
       "TTTTTTGTACCCAC      0.000000         0.0             2             Th2   \n",
       "TTTTTTGTACGATT     -0.014287         0.0             0          B-cell   \n",
       "TTTTTTTTGCTTTA     -0.009473         0.0             0          B-cell   \n",
       "\n",
       "                     x       y  \n",
       "                                \n",
       "AAAAAACGGTAGAT -4252.0  2626.2  \n",
       "AAAAAATCCGGCGA -2952.4  1975.3  \n",
       "AAAAACCGTCAGAC -2480.0  1516.6  \n",
       "AAAAACGCTCCGAC -2764.1  1255.7  \n",
       "AAAAAGCACGTGTT -3925.9  1618.5  \n",
       "...                ...     ...  \n",
       "TTTTTTCGCGGCTA -3754.4  1504.7  \n",
       "TTTTTTGGGCTGGT -3547.4  2483.1  \n",
       "TTTTTTGTACCCAC -1666.5  2309.1  \n",
       "TTTTTTGTACGATT -2052.1  2937.7  \n",
       "TTTTTTTTGCTTTA -4295.6  2514.8  \n",
       "\n",
       "[11567 rows x 525 columns]"
      ]
     },
     "execution_count": 160,
     "metadata": {},
     "output_type": "execute_result"
    }
   ],
   "source": [
    "df"
   ]
  },
  {
   "cell_type": "code",
   "execution_count": 161,
   "metadata": {},
   "outputs": [],
   "source": [
    "est = SpatialCellularProgramsEstimator(so.adata, predict_target)\n",
    "_ = est.init_data()"
   ]
  },
  {
   "cell_type": "code",
   "execution_count": 162,
   "metadata": {},
   "outputs": [],
   "source": [
    "beta_out = so._get_betas(predict_target)"
   ]
  },
  {
   "cell_type": "code",
   "execution_count": 163,
   "metadata": {},
   "outputs": [
    {
     "data": {
      "text/plain": [
       "Index(['Atf3', 'Bcl11a', 'Bcl11b', 'Cebpb', 'Ctcf', 'Ebf1', 'Ebf3', 'Egr1',\n",
       "       'Egr2', 'Foxj3',\n",
       "       ...\n",
       "       'Pard3', 'Pirb', 'Plxna3', 'Sdc2', 'Sdc3', 'Sdc4', 'Tnfrsf13c',\n",
       "       'Tnfrsf1a', 'Tnfrsf9', 'Tyro3'],\n",
       "      dtype='object', length=139)"
      ]
     },
     "execution_count": 163,
     "metadata": {},
     "output_type": "execute_result"
    }
   ],
   "source": [
    "so.adata.var_names[beta_out.modulator_gene_indices]"
   ]
  },
  {
   "cell_type": "code",
   "execution_count": null,
   "metadata": {},
   "outputs": [],
   "source": []
  },
  {
   "cell_type": "code",
   "execution_count": 14,
   "metadata": {},
   "outputs": [
    {
     "data": {
      "text/plain": [
       "(120,)"
      ]
     },
     "execution_count": 14,
     "metadata": {},
     "output_type": "execute_result"
    }
   ],
   "source": [
    "beta_out.betas[:, 1:].mean(0).shape"
   ]
  },
  {
   "cell_type": "code",
   "execution_count": 15,
   "metadata": {},
   "outputs": [
    {
     "data": {
      "text/plain": [
       "(5013, 5013)"
      ]
     },
     "execution_count": 15,
     "metadata": {},
     "output_type": "execute_result"
    }
   ],
   "source": [
    "gene_gene_matrix = np.zeros((len(so.adata.var_names), len(so.adata.var_names)))\n",
    "gene_gene_matrix.shape"
   ]
  },
  {
   "cell_type": "code",
   "execution_count": 17,
   "metadata": {},
   "outputs": [
    {
     "data": {
      "text/plain": [
       "(120,)"
      ]
     },
     "execution_count": 17,
     "metadata": {},
     "output_type": "execute_result"
    }
   ],
   "source": [
    "beta_out.betas[0, 1:].shape"
   ]
  },
  {
   "cell_type": "code",
   "execution_count": 285,
   "metadata": {},
   "outputs": [],
   "source": [
    "gene_gene_matrix[\n",
    "    beta_out.modulator_gene_indices, \n",
    "    list(so.adata.var_names).index('Cd74')\n",
    "] = beta_out.betas[0, 1:]"
   ]
  },
  {
   "cell_type": "code",
   "execution_count": 274,
   "metadata": {},
   "outputs": [
    {
     "data": {
      "text/plain": [
       "120"
      ]
     },
     "execution_count": 274,
     "metadata": {},
     "output_type": "execute_result"
    }
   ],
   "source": [
    "est.modulators_genes.__len__()"
   ]
  },
  {
   "cell_type": "code",
   "execution_count": 260,
   "metadata": {},
   "outputs": [
    {
     "data": {
      "text/plain": [
       "112"
      ]
     },
     "execution_count": 260,
     "metadata": {},
     "output_type": "execute_result"
    }
   ],
   "source": [
    "est.modulators.__len__()"
   ]
  },
  {
   "cell_type": "code",
   "execution_count": 261,
   "metadata": {},
   "outputs": [
    {
     "data": {
      "text/plain": [
       "beta_Pax5       0.236295\n",
       "beta_Bcl11a     0.154696\n",
       "beta_Egr1       0.122718\n",
       "beta_Il2rb      0.104896\n",
       "beta_Angptl2    0.089244\n",
       "beta_Angptl4    0.058342\n",
       "beta_Ncl        0.055699\n",
       "beta_C3         0.051384\n",
       "beta_Osm        0.047970\n",
       "beta_Lif        0.044795\n",
       "beta_Rxra       0.044783\n",
       "beta_Il15       0.044017\n",
       "beta_Ccl2       0.038232\n",
       "beta_Hdac2      0.037546\n",
       "beta_Taf1       0.037172\n",
       "beta_Il4        0.036890\n",
       "beta_Ccl8       0.032282\n",
       "beta_Gzma       0.031168\n",
       "beta_Ccl5       0.029764\n",
       "beta_Nr3c1      0.028388\n",
       "dtype: float64"
      ]
     },
     "execution_count": 261,
     "metadata": {},
     "output_type": "execute_result"
    }
   ],
   "source": [
    "df[[f'beta_{i}' for i in est.modulators_genes]].mean(0).abs().sort_values(ascending=False)[:20]"
   ]
  },
  {
   "cell_type": "code",
   "execution_count": 262,
   "metadata": {},
   "outputs": [
    {
     "data": {
      "text/plain": [
       "0.10489642629055788"
      ]
     },
     "execution_count": 262,
     "metadata": {},
     "output_type": "execute_result"
    }
   ],
   "source": [
    "df['beta_Il2rb'].mean()"
   ]
  },
  {
   "cell_type": "code",
   "execution_count": 265,
   "metadata": {},
   "outputs": [
    {
     "data": {
      "text/plain": [
       "rctd_cluster\n",
       "0    7531\n",
       "2    1784\n",
       "1    1246\n",
       "4     323\n",
       "5     241\n",
       "6     167\n",
       "3       0\n",
       "Name: count, dtype: int64"
      ]
     },
     "execution_count": 265,
     "metadata": {},
     "output_type": "execute_result"
    }
   ],
   "source": [
    "so.adata.layers['imputed_count_x'] = MinMaxScaler().fit_transform(\n",
    "    so.adata.to_df(layer='imputed_count')).copy()\n",
    "\n",
    "y_new = (so.adata.to_df(layer='imputed_count_x')[predict_target]+(\n",
    "    -1*so.adata.to_df(layer='imputed_count_x')['Bcl11a'] * df['beta_Bcl11a']))\n",
    "\n",
    "y_o = so.adata.to_df(layer='imputed_count_x')[predict_target]\n",
    "\n",
    "so.adata.obs.rctd_cluster[np.where(y_new!=y_o)[0]].value_counts()"
   ]
  },
  {
   "cell_type": "code",
   "execution_count": 266,
   "metadata": {},
   "outputs": [
    {
     "data": {
      "image/png": "[encoded data removed]",
      "text/plain": [
       "<Figure size 1080x480 with 1 Axes>"
      ]
     },
     "metadata": {},
     "output_type": "display_data"
    }
   ],
   "source": [
    "sns.kdeplot(y_o[so.adata.obs.rctd_cluster==1], color='red')\n",
    "sns.kdeplot(y_new[so.adata.obs.rctd_cluster==1], color='blue')\n",
    "plt.show()"
   ]
  },
  {
   "cell_type": "code",
   "execution_count": 217,
   "metadata": {},
   "outputs": [
    {
     "data": {
      "image/png": "[encoded data removed]",
      "text/plain": [
       "<Figure size 1080x480 with 1 Axes>"
      ]
     },
     "metadata": {},
     "output_type": "display_data"
    }
   ],
   "source": [
    "sns.kdeplot(y_o[so.adata.obs.rctd_cluster==3], color='red')\n",
    "sns.kdeplot(y_new[so.adata.obs.rctd_cluster==3], color='blue')\n",
    "plt.show()"
   ]
  },
  {
   "cell_type": "code",
   "execution_count": null,
   "metadata": {},
   "outputs": [],
   "source": []
  },
  {
   "cell_type": "code",
   "execution_count": 11,
   "metadata": {},
   "outputs": [],
   "source": []
  },
  {
   "cell_type": "code",
   "execution_count": 12,
   "metadata": {},
   "outputs": [],
   "source": []
  },
  {
   "cell_type": "code",
   "execution_count": 13,
   "metadata": {},
   "outputs": [],
   "source": [
    "betas = torch.from_numpy(\n",
    "    df[['beta0']+['beta_'+i for i in est.modulators]].values).float()\n",
    "\n",
    "inputs_x = torch.from_numpy(\n",
    "    est.train_df.drop(\n",
    "        columns=est.target_gene).values).float()"
   ]
  },
  {
   "cell_type": "code",
   "execution_count": 88,
   "metadata": {},
   "outputs": [
    {
     "data": {
      "text/html": [
       "<div>\n",
       "<style scoped>\n",
       "    .dataframe tbody tr th:only-of-type {\n",
       "        vertical-align: middle;\n",
       "    }\n",
       "\n",
       "    .dataframe tbody tr th {\n",
       "        vertical-align: top;\n",
       "    }\n",
       "\n",
       "    .dataframe thead th {\n",
       "        text-align: right;\n",
       "    }\n",
       "</style>\n",
       "<table border=\"1\" class=\"dataframe\">\n",
       "  <thead>\n",
       "    <tr style=\"text-align: right;\">\n",
       "      <th></th>\n",
       "      <th>beta0</th>\n",
       "      <th>beta_Atf3</th>\n",
       "      <th>beta_Bcl11a</th>\n",
       "      <th>beta_Bcl11b</th>\n",
       "      <th>beta_Cebpb</th>\n",
       "      <th>beta_Ctcf</th>\n",
       "      <th>beta_Ebf1</th>\n",
       "      <th>beta_Ebf3</th>\n",
       "      <th>beta_Egr1</th>\n",
       "      <th>beta_Egr2</th>\n",
       "      <th>...</th>\n",
       "      <th>beta_Sdc3</th>\n",
       "      <th>beta_Sdc4</th>\n",
       "      <th>beta_Tnfrsf13c</th>\n",
       "      <th>beta_Tnfrsf1a</th>\n",
       "      <th>beta_Tnfrsf9</th>\n",
       "      <th>beta_Tyro3</th>\n",
       "      <th>rctd_cluster</th>\n",
       "      <th>rctd_celltypes</th>\n",
       "      <th>x</th>\n",
       "      <th>y</th>\n",
       "    </tr>\n",
       "  </thead>\n",
       "  <tbody>\n",
       "    <tr>\n",
       "      <th>AAAAAACGGTAGAT</th>\n",
       "      <td>3.464415e-01</td>\n",
       "      <td>0.0</td>\n",
       "      <td>0.154783</td>\n",
       "      <td>-0.203103</td>\n",
       "      <td>0.022913</td>\n",
       "      <td>-0.025036</td>\n",
       "      <td>0.157274</td>\n",
       "      <td>0.000000</td>\n",
       "      <td>-0.104113</td>\n",
       "      <td>-0.019142</td>\n",
       "      <td>...</td>\n",
       "      <td>0.006689</td>\n",
       "      <td>0.012263</td>\n",
       "      <td>0.006604</td>\n",
       "      <td>0.0</td>\n",
       "      <td>-0.017173</td>\n",
       "      <td>0.0</td>\n",
       "      <td>0</td>\n",
       "      <td>B-cell</td>\n",
       "      <td>-4252.0</td>\n",
       "      <td>2626.2</td>\n",
       "    </tr>\n",
       "    <tr>\n",
       "      <th>AAAAAATCCGGCGA</th>\n",
       "      <td>8.919667e-06</td>\n",
       "      <td>0.0</td>\n",
       "      <td>0.154262</td>\n",
       "      <td>-0.009042</td>\n",
       "      <td>0.035950</td>\n",
       "      <td>0.000000</td>\n",
       "      <td>0.233174</td>\n",
       "      <td>0.014037</td>\n",
       "      <td>-0.000278</td>\n",
       "      <td>0.000000</td>\n",
       "      <td>...</td>\n",
       "      <td>-0.003049</td>\n",
       "      <td>0.007139</td>\n",
       "      <td>0.001158</td>\n",
       "      <td>0.0</td>\n",
       "      <td>0.000000</td>\n",
       "      <td>0.0</td>\n",
       "      <td>4</td>\n",
       "      <td>Tfh</td>\n",
       "      <td>-2952.4</td>\n",
       "      <td>1975.3</td>\n",
       "    </tr>\n",
       "    <tr>\n",
       "      <th>AAAAACCGTCAGAC</th>\n",
       "      <td>3.489022e-01</td>\n",
       "      <td>0.0</td>\n",
       "      <td>0.154434</td>\n",
       "      <td>-0.202912</td>\n",
       "      <td>0.022806</td>\n",
       "      <td>-0.024939</td>\n",
       "      <td>0.156985</td>\n",
       "      <td>0.000000</td>\n",
       "      <td>-0.103930</td>\n",
       "      <td>-0.019058</td>\n",
       "      <td>...</td>\n",
       "      <td>0.008017</td>\n",
       "      <td>0.019456</td>\n",
       "      <td>0.026976</td>\n",
       "      <td>0.0</td>\n",
       "      <td>-0.005566</td>\n",
       "      <td>0.0</td>\n",
       "      <td>0</td>\n",
       "      <td>B-cell</td>\n",
       "      <td>-2480.0</td>\n",
       "      <td>1516.6</td>\n",
       "    </tr>\n",
       "    <tr>\n",
       "      <th>AAAAACGCTCCGAC</th>\n",
       "      <td>3.462958e-01</td>\n",
       "      <td>0.0</td>\n",
       "      <td>0.154773</td>\n",
       "      <td>-0.203099</td>\n",
       "      <td>0.022909</td>\n",
       "      <td>-0.025033</td>\n",
       "      <td>0.157264</td>\n",
       "      <td>0.000000</td>\n",
       "      <td>-0.104107</td>\n",
       "      <td>-0.019140</td>\n",
       "      <td>...</td>\n",
       "      <td>0.001441</td>\n",
       "      <td>0.011801</td>\n",
       "      <td>0.017611</td>\n",
       "      <td>0.0</td>\n",
       "      <td>-0.008514</td>\n",
       "      <td>0.0</td>\n",
       "      <td>0</td>\n",
       "      <td>B-cell</td>\n",
       "      <td>-2764.1</td>\n",
       "      <td>1255.7</td>\n",
       "    </tr>\n",
       "    <tr>\n",
       "      <th>AAAAAGCACGTGTT</th>\n",
       "      <td>3.494486e-01</td>\n",
       "      <td>0.0</td>\n",
       "      <td>0.154377</td>\n",
       "      <td>-0.202878</td>\n",
       "      <td>0.022789</td>\n",
       "      <td>-0.024924</td>\n",
       "      <td>0.156937</td>\n",
       "      <td>0.000000</td>\n",
       "      <td>-0.103901</td>\n",
       "      <td>-0.019044</td>\n",
       "      <td>...</td>\n",
       "      <td>0.002797</td>\n",
       "      <td>0.012916</td>\n",
       "      <td>0.015879</td>\n",
       "      <td>0.0</td>\n",
       "      <td>-0.011062</td>\n",
       "      <td>0.0</td>\n",
       "      <td>0</td>\n",
       "      <td>B-cell</td>\n",
       "      <td>-3925.9</td>\n",
       "      <td>1618.5</td>\n",
       "    </tr>\n",
       "    <tr>\n",
       "      <th>...</th>\n",
       "      <td>...</td>\n",
       "      <td>...</td>\n",
       "      <td>...</td>\n",
       "      <td>...</td>\n",
       "      <td>...</td>\n",
       "      <td>...</td>\n",
       "      <td>...</td>\n",
       "      <td>...</td>\n",
       "      <td>...</td>\n",
       "      <td>...</td>\n",
       "      <td>...</td>\n",
       "      <td>...</td>\n",
       "      <td>...</td>\n",
       "      <td>...</td>\n",
       "      <td>...</td>\n",
       "      <td>...</td>\n",
       "      <td>...</td>\n",
       "      <td>...</td>\n",
       "      <td>...</td>\n",
       "      <td>...</td>\n",
       "      <td>...</td>\n",
       "    </tr>\n",
       "    <tr>\n",
       "      <th>TTTTTTCGCGGCTA</th>\n",
       "      <td>1.160928e-05</td>\n",
       "      <td>0.0</td>\n",
       "      <td>0.153827</td>\n",
       "      <td>-0.009198</td>\n",
       "      <td>0.035771</td>\n",
       "      <td>0.000000</td>\n",
       "      <td>0.233052</td>\n",
       "      <td>0.013946</td>\n",
       "      <td>-0.000309</td>\n",
       "      <td>0.000000</td>\n",
       "      <td>...</td>\n",
       "      <td>-0.001636</td>\n",
       "      <td>0.051669</td>\n",
       "      <td>0.010252</td>\n",
       "      <td>0.0</td>\n",
       "      <td>0.000000</td>\n",
       "      <td>0.0</td>\n",
       "      <td>4</td>\n",
       "      <td>Tfh</td>\n",
       "      <td>-3754.4</td>\n",
       "      <td>1504.7</td>\n",
       "    </tr>\n",
       "    <tr>\n",
       "      <th>TTTTTTGGGCTGGT</th>\n",
       "      <td>3.886279e-08</td>\n",
       "      <td>0.0</td>\n",
       "      <td>0.146614</td>\n",
       "      <td>-0.000216</td>\n",
       "      <td>0.000613</td>\n",
       "      <td>0.000000</td>\n",
       "      <td>0.243857</td>\n",
       "      <td>0.000000</td>\n",
       "      <td>0.000000</td>\n",
       "      <td>0.000000</td>\n",
       "      <td>...</td>\n",
       "      <td>0.007463</td>\n",
       "      <td>0.010457</td>\n",
       "      <td>0.002877</td>\n",
       "      <td>0.0</td>\n",
       "      <td>0.000000</td>\n",
       "      <td>0.0</td>\n",
       "      <td>2</td>\n",
       "      <td>Th2</td>\n",
       "      <td>-3547.4</td>\n",
       "      <td>2483.1</td>\n",
       "    </tr>\n",
       "    <tr>\n",
       "      <th>TTTTTTGTACCCAC</th>\n",
       "      <td>4.171620e-08</td>\n",
       "      <td>0.0</td>\n",
       "      <td>0.146591</td>\n",
       "      <td>-0.000222</td>\n",
       "      <td>0.000623</td>\n",
       "      <td>0.000000</td>\n",
       "      <td>0.243810</td>\n",
       "      <td>0.000000</td>\n",
       "      <td>0.000000</td>\n",
       "      <td>0.000000</td>\n",
       "      <td>...</td>\n",
       "      <td>0.007452</td>\n",
       "      <td>0.006297</td>\n",
       "      <td>0.004575</td>\n",
       "      <td>0.0</td>\n",
       "      <td>0.000000</td>\n",
       "      <td>0.0</td>\n",
       "      <td>2</td>\n",
       "      <td>Th2</td>\n",
       "      <td>-1666.5</td>\n",
       "      <td>2309.1</td>\n",
       "    </tr>\n",
       "    <tr>\n",
       "      <th>TTTTTTGTACGATT</th>\n",
       "      <td>3.454244e-01</td>\n",
       "      <td>0.0</td>\n",
       "      <td>0.154889</td>\n",
       "      <td>-0.203164</td>\n",
       "      <td>0.022945</td>\n",
       "      <td>-0.025066</td>\n",
       "      <td>0.157364</td>\n",
       "      <td>0.000000</td>\n",
       "      <td>-0.104168</td>\n",
       "      <td>-0.019169</td>\n",
       "      <td>...</td>\n",
       "      <td>0.006964</td>\n",
       "      <td>0.008090</td>\n",
       "      <td>0.009949</td>\n",
       "      <td>0.0</td>\n",
       "      <td>-0.014287</td>\n",
       "      <td>0.0</td>\n",
       "      <td>0</td>\n",
       "      <td>B-cell</td>\n",
       "      <td>-2052.1</td>\n",
       "      <td>2937.7</td>\n",
       "    </tr>\n",
       "    <tr>\n",
       "      <th>TTTTTTTTGCTTTA</th>\n",
       "      <td>3.472851e-01</td>\n",
       "      <td>0.0</td>\n",
       "      <td>0.154674</td>\n",
       "      <td>-0.203043</td>\n",
       "      <td>0.022879</td>\n",
       "      <td>-0.025006</td>\n",
       "      <td>0.157184</td>\n",
       "      <td>0.000000</td>\n",
       "      <td>-0.104056</td>\n",
       "      <td>-0.019115</td>\n",
       "      <td>...</td>\n",
       "      <td>0.009116</td>\n",
       "      <td>0.014673</td>\n",
       "      <td>0.016356</td>\n",
       "      <td>0.0</td>\n",
       "      <td>-0.009473</td>\n",
       "      <td>0.0</td>\n",
       "      <td>0</td>\n",
       "      <td>B-cell</td>\n",
       "      <td>-4295.6</td>\n",
       "      <td>2514.8</td>\n",
       "    </tr>\n",
       "  </tbody>\n",
       "</table>\n",
       "<p>11567 rows × 525 columns</p>\n",
       "</div>"
      ],
      "text/plain": [
       "                       beta0  beta_Atf3  beta_Bcl11a  beta_Bcl11b  beta_Cebpb  \\\n",
       "AAAAAACGGTAGAT  3.464415e-01        0.0     0.154783    -0.203103    0.022913   \n",
       "AAAAAATCCGGCGA  8.919667e-06        0.0     0.154262    -0.009042    0.035950   \n",
       "AAAAACCGTCAGAC  3.489022e-01        0.0     0.154434    -0.202912    0.022806   \n",
       "AAAAACGCTCCGAC  3.462958e-01        0.0     0.154773    -0.203099    0.022909   \n",
       "AAAAAGCACGTGTT  3.494486e-01        0.0     0.154377    -0.202878    0.022789   \n",
       "...                      ...        ...          ...          ...         ...   \n",
       "TTTTTTCGCGGCTA  1.160928e-05        0.0     0.153827    -0.009198    0.035771   \n",
       "TTTTTTGGGCTGGT  3.886279e-08        0.0     0.146614    -0.000216    0.000613   \n",
       "TTTTTTGTACCCAC  4.171620e-08        0.0     0.146591    -0.000222    0.000623   \n",
       "TTTTTTGTACGATT  3.454244e-01        0.0     0.154889    -0.203164    0.022945   \n",
       "TTTTTTTTGCTTTA  3.472851e-01        0.0     0.154674    -0.203043    0.022879   \n",
       "\n",
       "                beta_Ctcf  beta_Ebf1  beta_Ebf3  beta_Egr1  beta_Egr2  ...  \\\n",
       "AAAAAACGGTAGAT  -0.025036   0.157274   0.000000  -0.104113  -0.019142  ...   \n",
       "AAAAAATCCGGCGA   0.000000   0.233174   0.014037  -0.000278   0.000000  ...   \n",
       "AAAAACCGTCAGAC  -0.024939   0.156985   0.000000  -0.103930  -0.019058  ...   \n",
       "AAAAACGCTCCGAC  -0.025033   0.157264   0.000000  -0.104107  -0.019140  ...   \n",
       "AAAAAGCACGTGTT  -0.024924   0.156937   0.000000  -0.103901  -0.019044  ...   \n",
       "...                   ...        ...        ...        ...        ...  ...   \n",
       "TTTTTTCGCGGCTA   0.000000   0.233052   0.013946  -0.000309   0.000000  ...   \n",
       "TTTTTTGGGCTGGT   0.000000   0.243857   0.000000   0.000000   0.000000  ...   \n",
       "TTTTTTGTACCCAC   0.000000   0.243810   0.000000   0.000000   0.000000  ...   \n",
       "TTTTTTGTACGATT  -0.025066   0.157364   0.000000  -0.104168  -0.019169  ...   \n",
       "TTTTTTTTGCTTTA  -0.025006   0.157184   0.000000  -0.104056  -0.019115  ...   \n",
       "\n",
       "                beta_Sdc3  beta_Sdc4  beta_Tnfrsf13c  beta_Tnfrsf1a  \\\n",
       "AAAAAACGGTAGAT   0.006689   0.012263        0.006604            0.0   \n",
       "AAAAAATCCGGCGA  -0.003049   0.007139        0.001158            0.0   \n",
       "AAAAACCGTCAGAC   0.008017   0.019456        0.026976            0.0   \n",
       "AAAAACGCTCCGAC   0.001441   0.011801        0.017611            0.0   \n",
       "AAAAAGCACGTGTT   0.002797   0.012916        0.015879            0.0   \n",
       "...                   ...        ...             ...            ...   \n",
       "TTTTTTCGCGGCTA  -0.001636   0.051669        0.010252            0.0   \n",
       "TTTTTTGGGCTGGT   0.007463   0.010457        0.002877            0.0   \n",
       "TTTTTTGTACCCAC   0.007452   0.006297        0.004575            0.0   \n",
       "TTTTTTGTACGATT   0.006964   0.008090        0.009949            0.0   \n",
       "TTTTTTTTGCTTTA   0.009116   0.014673        0.016356            0.0   \n",
       "\n",
       "                beta_Tnfrsf9  beta_Tyro3  rctd_cluster  rctd_celltypes  \\\n",
       "AAAAAACGGTAGAT     -0.017173         0.0             0          B-cell   \n",
       "AAAAAATCCGGCGA      0.000000         0.0             4             Tfh   \n",
       "AAAAACCGTCAGAC     -0.005566         0.0             0          B-cell   \n",
       "AAAAACGCTCCGAC     -0.008514         0.0             0          B-cell   \n",
       "AAAAAGCACGTGTT     -0.011062         0.0             0          B-cell   \n",
       "...                      ...         ...           ...             ...   \n",
       "TTTTTTCGCGGCTA      0.000000         0.0             4             Tfh   \n",
       "TTTTTTGGGCTGGT      0.000000         0.0             2             Th2   \n",
       "TTTTTTGTACCCAC      0.000000         0.0             2             Th2   \n",
       "TTTTTTGTACGATT     -0.014287         0.0             0          B-cell   \n",
       "TTTTTTTTGCTTTA     -0.009473         0.0             0          B-cell   \n",
       "\n",
       "                     x       y  \n",
       "AAAAAACGGTAGAT -4252.0  2626.2  \n",
       "AAAAAATCCGGCGA -2952.4  1975.3  \n",
       "AAAAACCGTCAGAC -2480.0  1516.6  \n",
       "AAAAACGCTCCGAC -2764.1  1255.7  \n",
       "AAAAAGCACGTGTT -3925.9  1618.5  \n",
       "...                ...     ...  \n",
       "TTTTTTCGCGGCTA -3754.4  1504.7  \n",
       "TTTTTTGGGCTGGT -3547.4  2483.1  \n",
       "TTTTTTGTACCCAC -1666.5  2309.1  \n",
       "TTTTTTGTACGATT -2052.1  2937.7  \n",
       "TTTTTTTTGCTTTA -4295.6  2514.8  \n",
       "\n",
       "[11567 rows x 525 columns]"
      ]
     },
     "execution_count": 88,
     "metadata": {},
     "output_type": "execute_result"
    }
   ],
   "source": [
    "df"
   ]
  },
  {
   "cell_type": "code",
   "execution_count": 14,
   "metadata": {},
   "outputs": [],
   "source": [
    "y_pred = CellularNicheNetwork.predict_y(inputs_x, betas)"
   ]
  },
  {
   "cell_type": "code",
   "execution_count": 84,
   "metadata": {},
   "outputs": [],
   "source": [
    "# plt.scatter(x=df[predict_target].values, y=y_pred, c=df.rctd_cluster, cmap='tab10')"
   ]
  },
  {
   "cell_type": "code",
   "execution_count": 16,
   "metadata": {},
   "outputs": [
    {
     "data": {
      "text/plain": [
       "(11567, 5013)"
      ]
     },
     "execution_count": 16,
     "metadata": {},
     "output_type": "execute_result"
    }
   ],
   "source": [
    "so.adata.shape"
   ]
  },
  {
   "cell_type": "code",
   "execution_count": 17,
   "metadata": {},
   "outputs": [
    {
     "data": {
      "text/plain": [
       "11567"
      ]
     },
     "execution_count": 17,
     "metadata": {},
     "output_type": "execute_result"
    }
   ],
   "source": [
    "so.adata.n_obs"
   ]
  },
  {
   "cell_type": "code",
   "execution_count": 23,
   "metadata": {},
   "outputs": [],
   "source": [
    "from sklearn.preprocessing import MinMaxScaler"
   ]
  },
  {
   "cell_type": "code",
   "execution_count": 21,
   "metadata": {},
   "outputs": [],
   "source": [
    "import pickle\n",
    "\n",
    "with open('/ix1/ylee/kor11/SpaceOracle_extras/beta_dict.pkl', 'rb') as handle:\n",
    "    so.beta_dict = pickle.load(handle)"
   ]
  },
  {
   "cell_type": "code",
   "execution_count": 74,
   "metadata": {},
   "outputs": [
    {
     "name": "stderr",
     "output_type": "stream",
     "text": [
      "Running simulation 1/1: 100%|██████████| 11567/11567 [08:53<00:00, 21.70it/s]\n"
     ]
    }
   ],
   "source": [
    "perturbed_matrix = so.perturb(\n",
    "    so.adata.to_df(layer='imputed_count').values,\n",
    "    target='Pax5', n_propagation=1)"
   ]
  },
  {
   "cell_type": "code",
   "execution_count": 46,
   "metadata": {},
   "outputs": [],
   "source": [
    "# import pickle\n",
    "\n",
    "# with open('/ix1/ylee/kor11/SpaceOracle_extras/beta_dict.pkl', 'wb') as handle:\n",
    "#     pickle.dump(so.beta_dict, handle, protocol=pickle.HIGHEST_PROTOCOL)"
   ]
  },
  {
   "cell_type": "code",
   "execution_count": 190,
   "metadata": {},
   "outputs": [],
   "source": [
    "co_matrix = so.perturb_via_celloracle(\n",
    "    so.adata.to_df(layer='imputed_count'),\n",
    "     target='Pax5', n_propagation=1)"
   ]
  },
  {
   "cell_type": "code",
   "execution_count": 196,
   "metadata": {},
   "outputs": [
    {
     "data": {
      "text/plain": [
       "AAAAAACGGTAGAT     True\n",
       "AAAAAATCCGGCGA    False\n",
       "AAAAACCGTCAGAC     True\n",
       "AAAAACGCTCCGAC     True\n",
       "AAAAAGCACGTGTT     True\n",
       "                  ...  \n",
       "TTTTTTCGCGGCTA    False\n",
       "TTTTTTGGGCTGGT    False\n",
       "TTTTTTGTACCCAC    False\n",
       "TTTTTTGTACGATT     True\n",
       "TTTTTTTTGCTTTA     True\n",
       "Name: rctd_cluster, Length: 11567, dtype: bool"
      ]
     },
     "execution_count": 196,
     "metadata": {},
     "output_type": "execute_result"
    }
   ],
   "source": []
  },
  {
   "cell_type": "code",
   "execution_count": 197,
   "metadata": {},
   "outputs": [
    {
     "data": {
      "text/plain": [
       "<AxesSubplot: xlabel='Cd74', ylabel='Density'>"
      ]
     },
     "execution_count": 197,
     "metadata": {},
     "output_type": "execute_result"
    },
    {
     "data": {
      "image/png": "[encoded data removed]",
      "text/plain": [
       "<Figure size 1080x480 with 1 Axes>"
      ]
     },
     "metadata": {},
     "output_type": "display_data"
    }
   ],
   "source": [
    "sns.kdeplot(co_matrix['Cd74'][so.adata.obs.rctd_cluster == 0])\n",
    "sns.kdeplot(so.adata.to_df(layer='imputed_count')['Cd74'][so.adata.obs.rctd_cluster == 0])"
   ]
  },
  {
   "cell_type": "code",
   "execution_count": null,
   "metadata": {},
   "outputs": [],
   "source": []
  },
  {
   "cell_type": "code",
   "execution_count": 78,
   "metadata": {},
   "outputs": [
    {
     "data": {
      "text/plain": [
       "((11567, 5013), (11567, 5013))"
      ]
     },
     "execution_count": 78,
     "metadata": {},
     "output_type": "execute_result"
    }
   ],
   "source": [
    "adata_train.shape, co_matrix.shape"
   ]
  },
  {
   "cell_type": "code",
   "execution_count": 79,
   "metadata": {},
   "outputs": [],
   "source": [
    "adata_train.layers['imputed_count_x'] = MinMaxScaler().fit_transform(adata_train.layers['imputed_count'])"
   ]
  },
  {
   "cell_type": "code",
   "execution_count": 80,
   "metadata": {},
   "outputs": [],
   "source": [
    "adata_train.layers['perturbed_so'] = perturbed_matrix\n",
    "adata_train.layers['perturbed_co'] = co_matrix\n",
    "adata_train.layers['perturbed_so_delta'] = adata_train.to_df(layer='imputed_count_x') - perturbed_matrix\n",
    "adata_train.layers['perturbed_co_delta'] = adata_train.to_df(layer='imputed_count') - co_matrix"
   ]
  },
  {
   "cell_type": "code",
   "execution_count": 81,
   "metadata": {},
   "outputs": [
    {
     "data": {
      "text/plain": [
       "Pax5         0.275163\n",
       "Adamts9      0.150953\n",
       "Stard8       0.086178\n",
       "Tle6         0.082890\n",
       "Ptprg        0.080938\n",
       "Susd2        0.075893\n",
       "Calml4       0.073088\n",
       "Adcy4        0.066785\n",
       "Igkv8-21     0.061369\n",
       "Sema3a       0.059735\n",
       "Cdc42ep1     0.058975\n",
       "Htr7         0.057196\n",
       "Fam171a1     0.055559\n",
       "Cd180        0.053125\n",
       "Tbc1d2       0.052540\n",
       "Plscr2       0.051925\n",
       "Camk2n1      0.051903\n",
       "Mtrf1        0.049716\n",
       "Bmp2         0.048633\n",
       "Serpina1e    0.048614\n",
       "dtype: float64"
      ]
     },
     "execution_count": 81,
     "metadata": {},
     "output_type": "execute_result"
    }
   ],
   "source": [
    "pd.DataFrame(adata_train.layers['perturbed_so_delta'], columns=adata_train.var_names).mean().abs().sort_values(ascending=False)[:20]"
   ]
  },
  {
   "cell_type": "code",
   "execution_count": 82,
   "metadata": {},
   "outputs": [
    {
     "data": {
      "image/png": "[encoded data removed]",
      "text/plain": [
       "<Figure size 1080x480 with 1 Axes>"
      ]
     },
     "metadata": {},
     "output_type": "display_data"
    }
   ],
   "source": [
    "plt.rcParams['figure.figsize'] = [9, 4]\n",
    "plt.rcParams['figure.dpi'] = 120\n",
    "\n",
    "gene = 'Cd74'\n",
    "cluster = 0\n",
    "# sns.kdeplot(adata_train.to_df(\n",
    "#     layer='perturbed_co')[so.adata.obs['rctd_cluster'] == cluster][gene].values, \n",
    "#     label='CellOracle', color='red', shade=True, linewidth=1)\n",
    "sns.kdeplot(adata_train.to_df(\n",
    "    layer='perturbed_so')[so.adata.obs['rctd_cluster'] == cluster][gene].values, \n",
    "    label='SpaceOracle', color='blue', shade=True, linewidth=1)\n",
    "sns.kdeplot(adata_train.to_df(\n",
    "    layer='imputed_count_x')[so.adata.obs['rctd_cluster'] == cluster][gene].values, \n",
    "    label='imputed_count_x', color='green', shade=True, linewidth=1)\n",
    "\n",
    "plt.title('B-cell')\n",
    "plt.legend()\n",
    "plt.show()"
   ]
  },
  {
   "cell_type": "code",
   "execution_count": 111,
   "metadata": {},
   "outputs": [],
   "source": [
    "delta = adata_train.to_df(layer='normalized_count') - adata_train.to_df(layer='perturbed')"
   ]
  },
  {
   "cell_type": "code",
   "execution_count": 112,
   "metadata": {},
   "outputs": [
    {
     "data": {
      "text/plain": [
       "Pax5       0.091604\n",
       "Cd74       0.020498\n",
       "H2-Ab1     0.012119\n",
       "Rps20      0.004640\n",
       "Rps12      0.004426\n",
       "Mef2c      0.003682\n",
       "Iglc3      0.002958\n",
       "H2-DMb2    0.002511\n",
       "Ms4a1      0.002447\n",
       "Ifi30      0.002176\n",
       "Fcer2a     0.001860\n",
       "Pxk        0.001787\n",
       "Iglc2      0.001603\n",
       "Scd1       0.001360\n",
       "Ralgps2    0.001234\n",
       "dtype: float64"
      ]
     },
     "execution_count": 112,
     "metadata": {},
     "output_type": "execute_result"
    }
   ],
   "source": [
    "delta.mean(0).sort_values(ascending=False)[:15]"
   ]
  },
  {
   "cell_type": "code",
   "execution_count": 72,
   "metadata": {},
   "outputs": [
    {
     "data": {
      "text/plain": [
       "Cd74    0.876883\n",
       "Pax5    0.091604\n",
       "dtype: float32"
      ]
     },
     "execution_count": 72,
     "metadata": {},
     "output_type": "execute_result"
    }
   ],
   "source": [
    "adata_train.to_df(layer='normalized_count')[['Cd74', 'Pax5']].mean()"
   ]
  },
  {
   "cell_type": "code",
   "execution_count": 108,
   "metadata": {},
   "outputs": [
    {
     "data": {
      "text/plain": [
       "9"
      ]
     },
     "execution_count": 108,
     "metadata": {},
     "output_type": "execute_result"
    }
   ],
   "source": [
    "so.beta_dict['Pax5'].regulators.index('Mef2c')"
   ]
  },
  {
   "cell_type": "code",
   "execution_count": 110,
   "metadata": {},
   "outputs": [
    {
     "data": {
      "text/plain": [
       "[-0.010842507,\n",
       " 0.01111807,\n",
       " 0.009431313,\n",
       " 0.006326492,\n",
       " 0.0104477275,\n",
       " -0.00088501396,\n",
       " 0.0043515773]"
      ]
     },
     "execution_count": 110,
     "metadata": {},
     "output_type": "execute_result"
    }
   ],
   "source": [
    "[so.beta_dict['Pax5'].betas[so.adata.obs['rctd_cluster'] == i, :][:, 9].mean() for i in range(7)]"
   ]
  },
  {
   "cell_type": "code",
   "execution_count": 106,
   "metadata": {},
   "outputs": [
    {
     "data": {
      "text/html": [
       "<div>\n",
       "<style scoped>\n",
       "    .dataframe tbody tr th:only-of-type {\n",
       "        vertical-align: middle;\n",
       "    }\n",
       "\n",
       "    .dataframe tbody tr th {\n",
       "        vertical-align: top;\n",
       "    }\n",
       "\n",
       "    .dataframe thead th {\n",
       "        text-align: right;\n",
       "    }\n",
       "</style>\n",
       "<table border=\"1\" class=\"dataframe\">\n",
       "  <thead>\n",
       "    <tr style=\"text-align: right;\">\n",
       "      <th></th>\n",
       "      <th>source</th>\n",
       "      <th>coef_mean</th>\n",
       "    </tr>\n",
       "  </thead>\n",
       "  <tbody>\n",
       "    <tr>\n",
       "      <th>4</th>\n",
       "      <td>Mef2c</td>\n",
       "      <td>0.022826</td>\n",
       "    </tr>\n",
       "    <tr>\n",
       "      <th>19</th>\n",
       "      <td>Mef2c</td>\n",
       "      <td>0.022199</td>\n",
       "    </tr>\n",
       "    <tr>\n",
       "      <th>33</th>\n",
       "      <td>Mef2c</td>\n",
       "      <td>0.025515</td>\n",
       "    </tr>\n",
       "    <tr>\n",
       "      <th>48</th>\n",
       "      <td>Mef2c</td>\n",
       "      <td>0.007097</td>\n",
       "    </tr>\n",
       "    <tr>\n",
       "      <th>65</th>\n",
       "      <td>Mef2c</td>\n",
       "      <td>0.018683</td>\n",
       "    </tr>\n",
       "    <tr>\n",
       "      <th>77</th>\n",
       "      <td>Mef2c</td>\n",
       "      <td>0.009432</td>\n",
       "    </tr>\n",
       "    <tr>\n",
       "      <th>91</th>\n",
       "      <td>Mef2c</td>\n",
       "      <td>0.005980</td>\n",
       "    </tr>\n",
       "  </tbody>\n",
       "</table>\n",
       "</div>"
      ],
      "text/plain": [
       "   source  coef_mean\n",
       "4   Mef2c   0.022826\n",
       "19  Mef2c   0.022199\n",
       "33  Mef2c   0.025515\n",
       "48  Mef2c   0.007097\n",
       "65  Mef2c   0.018683\n",
       "77  Mef2c   0.009432\n",
       "91  Mef2c   0.005980"
      ]
     },
     "execution_count": 106,
     "metadata": {},
     "output_type": "execute_result"
    }
   ],
   "source": [
    "so.grn.get_regulators_with_pvalues(so.adata, target_gene='Pax5').query('source == \"Mef2c\"')"
   ]
  }
 ],
 "metadata": {
  "kernelspec": {
   "display_name": "SpaceOracle",
   "language": "python",
   "name": "python3"
  },
  "language_info": {
   "codemirror_mode": {
    "name": "ipython",
    "version": 3
   },
   "file_extension": ".py",
   "mimetype": "text/x-python",
   "name": "python",
   "nbconvert_exporter": "python",
   "pygments_lexer": "ipython3",
   "version": "3.9.19"
  }
 },
 "nbformat": 4,
 "nbformat_minor": 4
}
