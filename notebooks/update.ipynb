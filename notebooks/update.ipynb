{
 "cells": [
  {
   "cell_type": "code",
   "execution_count": 2,
   "metadata": {},
   "outputs": [],
   "source": [
    "%load_ext autoreload\n",
    "%autoreload 2\n",
    "\n",
    "%config InlineBackend.figure_format = 'retina'"
   ]
  },
  {
   "cell_type": "code",
   "execution_count": 1,
   "metadata": {},
   "outputs": [],
   "source": [
    "import matplotlib.pyplot as plt\n",
    "import scanpy as sc\n",
    "import numpy as np\n",
    "import seaborn as sns\n",
    "import torch\n",
    "import pandas as pd\n",
    "\n",
    "from scipy.stats import spearmanr, pearsonr\n",
    "from sklearn.metrics import r2_score\n"
   ]
  },
  {
   "cell_type": "code",
   "execution_count": 7,
   "metadata": {},
   "outputs": [],
   "source": [
    "import sys\n",
    "sys.path.append('../src')\n",
    "\n",
    "from spaceoracle.models.parallel_estimators import SpatialCellularProgramsEstimator"
   ]
  },
  {
   "cell_type": "code",
   "execution_count": 48,
   "metadata": {},
   "outputs": [
    {
     "data": {
      "text/plain": [
       "AnnData object with n_obs × n_vars = 11567 × 5013\n",
       "    obs: 'cluster', 'rctd_cluster', 'rctd_celltypes'\n",
       "    uns: 'log1p'\n",
       "    obsm: 'X_spatial', 'rctd_results', 'spatial'\n",
       "    layers: 'imputed_count', 'normalized_count', 'raw_count'"
      ]
     },
     "execution_count": 48,
     "metadata": {},
     "output_type": "execute_result"
    }
   ],
   "source": [
    "adata_train = sc.read_h5ad('/ix/djishnu/alw399/SpaceOracle/notebooks/.cache/adata_train.h5ad')\n",
    "adata_train"
   ]
  },
  {
   "cell_type": "code",
   "execution_count": 6,
   "metadata": {},
   "outputs": [
    {
     "data": {
      "text/plain": [
       "90"
      ]
     },
     "execution_count": 6,
     "metadata": {},
     "output_type": "execute_result"
    }
   ],
   "source": [
    "# subsample data for lil test run\n",
    "\n",
    "estimator = SpatialCellularProgramsEstimator(\n",
    "    adata=adata_train,\n",
    "    target_gene='Pax5',\n",
    ")\n",
    "\n",
    "subset = set(estimator.receptors + estimator.ligands + estimator.tfl_regulators + estimator.tfl_ligands)\n",
    "subset.update({'Pax5'})\n",
    "len(subset)"
   ]
  },
  {
   "cell_type": "code",
   "execution_count": null,
   "metadata": {},
   "outputs": [
    {
     "data": {
      "text/plain": [
       "View of AnnData object with n_obs × n_vars = 100 × 90\n",
       "    obs: 'cluster', 'rctd_cluster', 'rctd_celltypes'\n",
       "    var: 'highly_variable', 'means', 'dispersions', 'dispersions_norm'\n",
       "    uns: 'log1p', 'received_ligands', 'received_ligands_tfl', 'ligand_receptor', 'ligand_regulator', 'hvg'\n",
       "    obsm: 'X_spatial', 'rctd_results', 'spatial', 'spatial_maps'\n",
       "    layers: 'imputed_count', 'normalized_count', 'raw_count'"
      ]
     },
     "execution_count": 33,
     "metadata": {},
     "output_type": "execute_result"
    }
   ],
   "source": [
    "adata = adata_train[:, adata_train.var_names.isin(subset)]\n",
    "adata = adata[:100, :]\n",
    "adata"
   ]
  },
  {
   "cell_type": "code",
   "execution_count": 38,
   "metadata": {},
   "outputs": [],
   "source": [
    "from spaceoracle.oracles import SpaceOracle\n",
    "\n",
    "so = SpaceOracle(\n",
    "    adata=adata,\n",
    "    annot='rctd_cluster', \n",
    "    max_epochs=5, \n",
    "    learning_rate=7e-4, \n",
    "    spatial_dim=35,\n",
    "    batch_size=256,\n",
    "    rotate_maps=True,\n",
    "    alpha=0.4,\n",
    ")\n"
   ]
  },
  {
   "cell_type": "code",
   "execution_count": null,
   "metadata": {},
   "outputs": [],
   "source": [
    "%%time\n",
    "so.run()"
   ]
  },
  {
   "cell_type": "code",
   "execution_count": null,
   "metadata": {},
   "outputs": [],
   "source": [
    "so.beta_dict = so._get_spatial_betas_dict()"
   ]
  },
  {
   "cell_type": "code",
   "execution_count": null,
   "metadata": {},
   "outputs": [],
   "source": [
    "betas_df = betaoutput.betas\n",
    "\n",
    "ligands = betaoutput.ligands\n",
    "receptors = betaoutput.receptors\n",
    "tfl_regulators = betaoutput.tfl_regulators\n",
    "tfl_ligands= betaoutput.tfl_ligands\n",
    "modulators = betaoutput.modulator_genes\n"
   ]
  },
  {
   "cell_type": "code",
   "execution_count": null,
   "metadata": {},
   "outputs": [],
   "source": [
    "so.perturb(target='Pax5', n_propagation=3, gene_expr=0, n_jobs=1)"
   ]
  },
  {
   "cell_type": "code",
   "execution_count": null,
   "metadata": {},
   "outputs": [],
   "source": []
  },
  {
   "cell_type": "code",
   "execution_count": null,
   "metadata": {},
   "outputs": [],
   "source": [
    "## Testing"
   ]
  },
  {
   "cell_type": "code",
   "execution_count": 216,
   "metadata": {},
   "outputs": [],
   "source": [
    "tfs = ['A', 'B']\n",
    "ligs = ['C', 'D']\n",
    "recs = ['E', 'F']\n",
    "genes = ['A', 'B', 'C', 'D', 'E', 'F']\n",
    "\n",
    "# A = bB + b(C$E) + b(C#B)\n",
    "# B = bA + b(C$E)\n",
    "# C = bA + bB\n",
    "# D = bA + b(C$E) + b(C#A)\n",
    "# E = bA + b(D#B)\n",
    "# F = bB + b(D#A) + b(D#B) "
   ]
  },
  {
   "cell_type": "code",
   "execution_count": 244,
   "metadata": {},
   "outputs": [],
   "source": [
    "n_cells = 100\n",
    "n_genes = len(genes)\n",
    "\n",
    "gene_mtx = np.random.rand(n_cells, n_genes)\n",
    "gene_mtx = (gene_mtx * 12).astype(int)\n",
    "gene_mtx = pd.DataFrame(gene_mtx, columns=genes, index=np.arange(n_cells).astype(str))"
   ]
  },
  {
   "cell_type": "code",
   "execution_count": 245,
   "metadata": {},
   "outputs": [],
   "source": [
    "from spaceoracle.oracles import BetaOutput\n",
    "\n",
    "gene2index = {gene: i for i, gene in enumerate(genes)}\n",
    "ligands = ligs\n",
    "\n",
    "def get_betaoutputs(all_modulators, ncells=100):\n",
    "    tfs = [i for i in all_modulators if '$' not in i and '#' not in i]\n",
    "    lr_pairs = [i for i in all_modulators if '$' in i]\n",
    "    tfl_pairs = [i for i in all_modulators if '#' in i]\n",
    "    \n",
    "    ligands = [i.split('$')[0] for i in lr_pairs]\n",
    "    receptors = [i.split('$')[1] for i in lr_pairs]\n",
    "\n",
    "    tfl_ligands = [i.split('#')[0] for i in tfl_pairs]\n",
    "    tfl_regulators = [i.split('#')[1] for i in tfl_pairs]\n",
    "\n",
    "    modulators = np.unique(tfs + ligands + receptors + tfl_ligands + tfl_regulators)   # sorted names\n",
    "    modulator_gene_indices = [gene2index[m] for m in modulators] \n",
    "    modulators = [f'beta_{m}' for m in modulators]\n",
    "\n",
    "    all_modulators = [f'beta_{m}' for m in all_modulators]\n",
    "    betadata = create_betadata(ncells, all_modulators)\n",
    "\n",
    "    return BetaOutput(\n",
    "            betas=betadata[['beta0']+all_modulators],\n",
    "            modulator_genes=modulators,\n",
    "            modulator_gene_indices=modulator_gene_indices,\n",
    "            ligands=ligands,\n",
    "            receptors=receptors,\n",
    "            tfl_ligands=tfl_ligands,\n",
    "            tfl_regulators=tfl_regulators\n",
    "        )\n",
    "\n",
    "def create_betadata(ncells, all_modulators):\n",
    "    betas = np.random.rand(ncells, 1 + len(all_modulators))\n",
    "    index = np.arange(n_cells).astype(str)\n",
    "    betas = pd.DataFrame(betas, index=index, columns=['beta0'] + all_modulators)\n",
    "    return betas\n",
    "\n",
    "betas_dict = {\n",
    "    'A': get_betaoutputs(['B', 'C$E', 'C#B']),\n",
    "    'B': get_betaoutputs(['A', 'C$E']),\n",
    "    'C': get_betaoutputs(['A', 'B']),\n",
    "    'D': get_betaoutputs(['A', 'C$E', 'C#A']),\n",
    "    'E': get_betaoutputs(['A', 'D#B']),\n",
    "    'F': get_betaoutputs(['B', 'D#A', 'D#B'])\n",
    "}"
   ]
  },
  {
   "cell_type": "code",
   "execution_count": 246,
   "metadata": {},
   "outputs": [
    {
     "data": {
      "text/plain": [
       "AnnData object with n_obs × n_vars = 100 × 6\n",
       "    obsm: 'spatial'\n",
       "    layers: 'raw_count', 'normalized_count'"
      ]
     },
     "execution_count": 246,
     "metadata": {},
     "output_type": "execute_result"
    }
   ],
   "source": [
    "adata = ad.AnnData(gene_mtx)\n",
    "adata.layers['raw_count'] = adata.X.copy()\n",
    "sc.pp.normalize_total(adata, target_sum=1e4)\n",
    "adata.layers['normalized_count'] = adata.X.copy()\n",
    "\n",
    "adata.obsm['spatial'] = np.random.rand(n_cells, 2)\n",
    "adata"
   ]
  },
  {
   "cell_type": "code",
   "execution_count": 247,
   "metadata": {},
   "outputs": [],
   "source": [
    "so = SpaceOracle(adata=adata)\n",
    "so.beta_dict = betas_dict\n",
    "so.ligands = ligands"
   ]
  },
  {
   "cell_type": "code",
   "execution_count": 248,
   "metadata": {},
   "outputs": [
    {
     "data": {
      "application/vnd.jupyter.widget-view+json": {
       "model_id": "9f7058a2d47b4eefa78cf39db643ec42",
       "version_major": 2,
       "version_minor": 0
      },
      "text/plain": [
       "  0%|          | 0/6 [00:00<?, ?it/s]"
      ]
     },
     "metadata": {},
     "output_type": "display_data"
    }
   ],
   "source": [
    "from spaceoracle.models.parallel_estimators import received_ligands\n",
    "weighted_ligands = received_ligands(\n",
    "    so.adata.obsm['spatial'], \n",
    "    gene_mtx[list(ligands)]\n",
    ")\n",
    "weighted_ligands.index = weighted_ligands.index.astype(str)\n",
    "wbeta_dict = so._get_wbetas_dict(so.beta_dict, gene_mtx, n_jobs=1)\n",
    "\n",
    "output = wbeta_dict['A'].wbetas\n",
    "input = wbeta_dict['A'].betas\n",
    "weights = gene_mtx"
   ]
  },
  {
   "cell_type": "code",
   "execution_count": 249,
   "metadata": {},
   "outputs": [
    {
     "data": {
      "text/html": [
       "<div>\n",
       "<style scoped>\n",
       "    .dataframe tbody tr th:only-of-type {\n",
       "        vertical-align: middle;\n",
       "    }\n",
       "\n",
       "    .dataframe tbody tr th {\n",
       "        vertical-align: top;\n",
       "    }\n",
       "\n",
       "    .dataframe thead th {\n",
       "        text-align: right;\n",
       "    }\n",
       "</style>\n",
       "<table border=\"1\" class=\"dataframe\">\n",
       "  <thead>\n",
       "    <tr style=\"text-align: right;\">\n",
       "      <th></th>\n",
       "      <th>beta_B</th>\n",
       "      <th>beta_C</th>\n",
       "      <th>beta_E</th>\n",
       "    </tr>\n",
       "  </thead>\n",
       "  <tbody>\n",
       "    <tr>\n",
       "      <th>0</th>\n",
       "      <td>4.254500</td>\n",
       "      <td>2.670818</td>\n",
       "      <td>2.268348</td>\n",
       "    </tr>\n",
       "    <tr>\n",
       "      <th>1</th>\n",
       "      <td>4.852398</td>\n",
       "      <td>7.721592</td>\n",
       "      <td>1.074011</td>\n",
       "    </tr>\n",
       "    <tr>\n",
       "      <th>2</th>\n",
       "      <td>1.454800</td>\n",
       "      <td>6.079462</td>\n",
       "      <td>2.739403</td>\n",
       "    </tr>\n",
       "    <tr>\n",
       "      <th>3</th>\n",
       "      <td>5.360922</td>\n",
       "      <td>6.984121</td>\n",
       "      <td>2.869091</td>\n",
       "    </tr>\n",
       "    <tr>\n",
       "      <th>4</th>\n",
       "      <td>3.307415</td>\n",
       "      <td>4.002586</td>\n",
       "      <td>2.524527</td>\n",
       "    </tr>\n",
       "    <tr>\n",
       "      <th>...</th>\n",
       "      <td>...</td>\n",
       "      <td>...</td>\n",
       "      <td>...</td>\n",
       "    </tr>\n",
       "    <tr>\n",
       "      <th>95</th>\n",
       "      <td>0.579218</td>\n",
       "      <td>1.009980</td>\n",
       "      <td>1.406438</td>\n",
       "    </tr>\n",
       "    <tr>\n",
       "      <th>96</th>\n",
       "      <td>0.759339</td>\n",
       "      <td>10.011951</td>\n",
       "      <td>4.915714</td>\n",
       "    </tr>\n",
       "    <tr>\n",
       "      <th>97</th>\n",
       "      <td>3.284269</td>\n",
       "      <td>4.990796</td>\n",
       "      <td>2.783348</td>\n",
       "    </tr>\n",
       "    <tr>\n",
       "      <th>98</th>\n",
       "      <td>3.070260</td>\n",
       "      <td>9.001718</td>\n",
       "      <td>3.672601</td>\n",
       "    </tr>\n",
       "    <tr>\n",
       "      <th>99</th>\n",
       "      <td>3.007011</td>\n",
       "      <td>6.119267</td>\n",
       "      <td>4.031407</td>\n",
       "    </tr>\n",
       "  </tbody>\n",
       "</table>\n",
       "<p>100 rows × 3 columns</p>\n",
       "</div>"
      ],
      "text/plain": [
       "      beta_B     beta_C    beta_E\n",
       "0   4.254500   2.670818  2.268348\n",
       "1   4.852398   7.721592  1.074011\n",
       "2   1.454800   6.079462  2.739403\n",
       "3   5.360922   6.984121  2.869091\n",
       "4   3.307415   4.002586  2.524527\n",
       "..       ...        ...       ...\n",
       "95  0.579218   1.009980  1.406438\n",
       "96  0.759339  10.011951  4.915714\n",
       "97  3.284269   4.990796  2.783348\n",
       "98  3.070260   9.001718  3.672601\n",
       "99  3.007011   6.119267  4.031407\n",
       "\n",
       "[100 rows x 3 columns]"
      ]
     },
     "execution_count": 249,
     "metadata": {},
     "output_type": "execute_result"
    }
   ],
   "source": [
    "output"
   ]
  },
  {
   "cell_type": "code",
   "execution_count": 251,
   "metadata": {},
   "outputs": [
    {
     "data": {
      "text/plain": [
       "True"
      ]
     },
     "execution_count": 251,
     "metadata": {},
     "output_type": "execute_result"
    }
   ],
   "source": [
    "# A = bB + b(C$E) + b(C#B)\n",
    "# dA/dB = b + bwC\n",
    "# dA/dC = bE + bB\n",
    "# dA/dE = bwC\n",
    "\n",
    "dAdB = wbeta_dict['A'].betas['beta_B'] + \\\n",
    "      (wbeta_dict['A'].betas['beta_C#B'] * weighted_ligands['C'])\n",
    "dAdC = (wbeta_dict['A'].betas['beta_C$E'] * gene_mtx['E']) + \\\n",
    "      (wbeta_dict['A'].betas['beta_C#B'] * gene_mtx['B'])\n",
    "dAdE = (wbeta_dict['A'].betas['beta_C$E'] * weighted_ligands['C'])\n",
    "\n",
    "manual_betas = pd.concat([dAdB, dAdC, dAdE], axis=1, keys=['beta_B', 'beta_C', 'beta_E'])\n",
    "np.all(manual_betas == output)"
   ]
  },
  {
   "cell_type": "code",
   "execution_count": 256,
   "metadata": {},
   "outputs": [
    {
     "data": {
      "text/plain": [
       "True"
      ]
     },
     "execution_count": 256,
     "metadata": {},
     "output_type": "execute_result"
    }
   ],
   "source": [
    "# F = bB + b(D#A) + b(D#B) \n",
    "# dF/dB = b + bwD\n",
    "# dF/dD = bA + bB\n",
    "# dF/dA = bwD \n",
    "\n",
    "dFdB = wbeta_dict['F'].betas['beta_B'] + \\\n",
    "      (wbeta_dict['F'].betas['beta_D#B'] * weighted_ligands['D'])\n",
    "dFdD = wbeta_dict['F'].betas['beta_D#A'] * gene_mtx['A'] + \\\n",
    "       wbeta_dict['F'].betas['beta_D#B'] * gene_mtx['B']\n",
    "dFdA = wbeta_dict['F'].betas['beta_D#A'] * weighted_ligands['D']\n",
    "\n",
    "manual_betas = pd.concat([dFdA, dFdB, dFdD], axis = 1, keys=['beta_A', 'beta_B', 'beta_D'])\n",
    "np.all(manual_betas == wbeta_dict['F'].wbetas)"
   ]
  },
  {
   "cell_type": "code",
   "execution_count": null,
   "metadata": {},
   "outputs": [],
   "source": []
  },
  {
   "cell_type": "code",
   "execution_count": 257,
   "metadata": {},
   "outputs": [
    {
     "data": {
      "application/vnd.jupyter.widget-view+json": {
       "model_id": "452a00203efa4bf78ffde7a5809ff5fa",
       "version_major": 2,
       "version_minor": 0
      },
      "text/plain": [
       "  0%|          | 0/6 [00:00<?, ?it/s]"
      ]
     },
     "metadata": {},
     "output_type": "display_data"
    },
    {
     "name": "stderr",
     "output_type": "stream",
     "text": [
      "Running simulation 1/2: 100%|██████████| 100/100 [00:00<00:00, 18647.15it/s]\n"
     ]
    },
    {
     "data": {
      "application/vnd.jupyter.widget-view+json": {
       "model_id": "45c4a7929e8c4476bde801c693cc77fe",
       "version_major": 2,
       "version_minor": 0
      },
      "text/plain": [
       "  0%|          | 0/6 [00:00<?, ?it/s]"
      ]
     },
     "metadata": {},
     "output_type": "display_data"
    },
    {
     "name": "stderr",
     "output_type": "stream",
     "text": [
      "Running simulation 2/2: 100%|██████████| 100/100 [00:00<00:00, 27545.18it/s]\n"
     ]
    },
    {
     "data": {
      "text/plain": [
       "array([[ 0.        ,  0.        ,  0.25573102,  0.        ,  0.        ,\n",
       "         3.50841969],\n",
       "       [ 0.        ,  8.56308223,  3.66582324,  0.        ,  0.        ,\n",
       "         0.        ],\n",
       "       [ 0.        ,  0.        ,  0.        ,  0.        ,  0.        ,\n",
       "         0.        ],\n",
       "       [ 0.        ,  0.        ,  0.        ,  0.        ,  0.        ,\n",
       "         3.52114887],\n",
       "       [ 0.        ,  6.        , 10.        ,  2.        ,  2.        ,\n",
       "         9.        ],\n",
       "       [ 0.        ,  0.        ,  1.53584598,  0.        ,  5.72202772,\n",
       "         3.19961141],\n",
       "       [ 0.        ,  2.57159854,  7.06914131,  0.        ,  0.        ,\n",
       "         0.11563628],\n",
       "       [ 0.        ,  0.        ,  0.        ,  0.        ,  0.        ,\n",
       "         0.        ],\n",
       "       [ 0.        ,  0.        ,  5.        , 11.        ,  5.        ,\n",
       "         4.        ],\n",
       "       [ 0.        ,  0.        ,  1.04522017,  0.        ,  0.        ,\n",
       "         0.        ],\n",
       "       [ 0.        ,  0.        ,  0.        ,  0.        ,  2.80361842,\n",
       "         0.        ],\n",
       "       [ 0.        ,  8.74341099,  5.24839077,  0.        ,  7.89681244,\n",
       "         0.        ],\n",
       "       [ 0.        ,  3.03719082,  1.19690824,  0.        ,  0.        ,\n",
       "         0.        ],\n",
       "       [ 0.        ,  3.33871115, 10.89536244,  2.52834233,  0.        ,\n",
       "         0.        ],\n",
       "       [ 0.        ,  0.        ,  3.26959367,  0.        ,  0.        ,\n",
       "         1.74580851],\n",
       "       [ 0.        ,  0.        ,  5.66244421,  0.        ,  0.        ,\n",
       "         0.        ],\n",
       "       [ 0.        ,  0.        ,  0.        ,  0.        ,  1.57517676,\n",
       "         0.        ],\n",
       "       [ 0.        ,  0.        ,  0.6035272 ,  1.88913416,  6.8550947 ,\n",
       "         4.17929591],\n",
       "       [ 0.        ,  9.19539181,  0.        ,  0.        ,  0.        ,\n",
       "         0.        ],\n",
       "       [ 0.        ,  7.        ,  4.        ,  8.        ,  9.        ,\n",
       "         6.        ],\n",
       "       [ 0.        ,  7.        ,  8.        ,  2.        ,  5.        ,\n",
       "        11.        ],\n",
       "       [ 0.        ,  0.        ,  0.        ,  0.        ,  8.31463516,\n",
       "         3.78595433],\n",
       "       [ 0.        ,  4.43318874,  6.76718673,  0.        ,  0.        ,\n",
       "         0.        ],\n",
       "       [ 0.        ,  0.        ,  4.36099516,  2.22082217,  0.        ,\n",
       "         7.54165825],\n",
       "       [ 0.        ,  3.1715427 ,  0.16813172,  0.        ,  0.        ,\n",
       "         3.63506826],\n",
       "       [ 0.        ,  0.        ,  0.        ,  0.        ,  0.        ,\n",
       "         0.        ],\n",
       "       [ 0.        ,  2.18333704,  7.12036089,  0.        ,  0.05361673,\n",
       "         0.        ],\n",
       "       [ 0.        ,  0.        ,  0.        ,  0.        ,  0.26654375,\n",
       "         0.        ],\n",
       "       [ 0.        ,  0.        ,  7.40138553,  0.        ,  7.11354723,\n",
       "         6.1761499 ],\n",
       "       [ 0.        ,  0.        ,  0.        ,  0.        ,  3.34399262,\n",
       "         1.71329243],\n",
       "       [ 0.        ,  0.        ,  3.73625054,  0.        ,  0.        ,\n",
       "         0.        ],\n",
       "       [ 0.        ,  0.        ,  2.91943739,  0.        ,  0.        ,\n",
       "         0.        ],\n",
       "       [ 0.        ,  0.        ,  1.34635251,  0.        ,  3.36210361,\n",
       "         3.322536  ],\n",
       "       [ 0.        ,  8.        , 10.        ,  7.        ,  6.        ,\n",
       "         8.        ],\n",
       "       [ 0.        ,  0.        ,  8.91602001,  0.        ,  2.42764204,\n",
       "         1.87600185],\n",
       "       [ 0.        , 11.        ,  9.        ,  1.        , 11.        ,\n",
       "         8.        ],\n",
       "       [ 0.        ,  2.48245947,  0.        ,  0.        ,  0.        ,\n",
       "         0.        ],\n",
       "       [ 0.        ,  0.        ,  4.2766126 ,  0.        ,  0.        ,\n",
       "         0.        ],\n",
       "       [ 0.        ,  0.        ,  4.97266245,  0.        ,  0.        ,\n",
       "         0.        ],\n",
       "       [ 0.        ,  6.66379134,  4.12361931,  0.        ,  5.15945371,\n",
       "         3.36898329],\n",
       "       [ 0.        ,  0.        ,  0.03888169,  0.        ,  0.        ,\n",
       "         0.33443456],\n",
       "       [ 0.        ,  0.        ,  5.19302583,  0.        ,  0.        ,\n",
       "         0.        ],\n",
       "       [ 0.        ,  1.21256553,  1.38237063,  0.        ,  2.80297785,\n",
       "         0.        ],\n",
       "       [ 0.        ,  0.        ,  0.        ,  0.        ,  0.        ,\n",
       "         0.        ],\n",
       "       [ 0.        ,  0.        ,  2.24771736,  0.        ,  0.        ,\n",
       "         0.        ],\n",
       "       [ 0.        ,  0.        ,  0.        ,  0.        ,  3.04663265,\n",
       "         0.        ],\n",
       "       [ 0.        ,  0.24838224,  9.01821561,  0.        ,  0.        ,\n",
       "         0.        ],\n",
       "       [ 0.        ,  0.        ,  1.78151043,  0.        ,  2.28207385,\n",
       "         2.91851445],\n",
       "       [ 0.        ,  0.        ,  0.03249702,  0.        ,  0.        ,\n",
       "         5.34135999],\n",
       "       [ 0.        ,  0.        ,  2.47728178,  0.        ,  0.        ,\n",
       "         0.        ],\n",
       "       [ 0.        ,  0.        ,  4.94831615,  0.        ,  4.64020846,\n",
       "         0.        ],\n",
       "       [ 0.        ,  0.        ,  4.20871283,  0.        ,  0.        ,\n",
       "         0.        ],\n",
       "       [ 0.        ,  1.28814593,  5.72789938,  0.        ,  4.27518237,\n",
       "         0.        ],\n",
       "       [ 0.        ,  5.8015289 ,  7.84178511,  0.34136681,  0.        ,\n",
       "         0.        ],\n",
       "       [ 0.        ,  0.        ,  0.        ,  0.        ,  3.94472565,\n",
       "         0.        ],\n",
       "       [ 0.        ,  5.68338949,  5.72761968,  0.3462484 ,  0.        ,\n",
       "         0.        ],\n",
       "       [ 0.        ,  0.        ,  0.        ,  0.        ,  4.41235272,\n",
       "         0.        ],\n",
       "       [ 0.        ,  0.        ,  6.55494889,  0.        ,  2.90235887,\n",
       "         1.34298257],\n",
       "       [ 0.        ,  0.        ,  5.98093299,  0.        ,  6.20127391,\n",
       "         1.15301687],\n",
       "       [ 0.        ,  0.        ,  4.33217773,  0.        ,  0.80762399,\n",
       "         0.        ],\n",
       "       [ 0.        ,  0.        ,  0.        ,  0.        ,  6.17499266,\n",
       "         0.35880832],\n",
       "       [ 0.        ,  5.73898525,  6.25422439,  0.        ,  0.        ,\n",
       "         3.56388868],\n",
       "       [ 0.        ,  0.        ,  0.24185872,  0.        ,  0.        ,\n",
       "         0.        ],\n",
       "       [ 0.        ,  8.        ,  0.        ,  6.        , 10.        ,\n",
       "         4.        ],\n",
       "       [ 0.        ,  8.        , 11.        ,  8.        ,  6.        ,\n",
       "         2.        ],\n",
       "       [ 0.        ,  8.        ,  2.        , 10.        ,  5.        ,\n",
       "         6.        ],\n",
       "       [ 0.        ,  0.        ,  0.01805961,  0.        ,  0.        ,\n",
       "         0.        ],\n",
       "       [ 0.        ,  0.        ,  1.90083229,  0.        ,  0.        ,\n",
       "         0.        ],\n",
       "       [ 0.        ,  0.61484903,  0.55733426,  3.96751062,  7.73851424,\n",
       "         0.        ],\n",
       "       [ 0.        ,  3.0118605 ,  7.69195578,  1.79587304,  0.        ,\n",
       "         0.        ],\n",
       "       [ 0.        ,  0.        ,  4.36987311,  0.        ,  7.08508622,\n",
       "         0.3200182 ],\n",
       "       [ 0.        ,  0.        ,  0.        ,  0.        ,  2.52569474,\n",
       "         0.        ],\n",
       "       [ 0.        ,  0.        ,  4.50989207,  0.        ,  0.        ,\n",
       "         0.        ],\n",
       "       [ 0.        ,  7.42607129,  6.81376142,  0.        ,  0.        ,\n",
       "         2.2000547 ],\n",
       "       [ 0.        ,  5.19201202,  2.65440141,  0.        ,  2.61283021,\n",
       "         1.18631199],\n",
       "       [ 0.        ,  4.        ,  3.        ,  0.        ,  1.        ,\n",
       "         1.        ],\n",
       "       [ 0.        ,  6.58085108,  3.23099676,  0.        ,  0.        ,\n",
       "         0.        ],\n",
       "       [ 0.        ,  0.        ,  0.        ,  0.        ,  0.        ,\n",
       "         0.        ],\n",
       "       [ 0.        ,  0.        ,  0.        ,  0.        ,  1.43567412,\n",
       "         0.        ],\n",
       "       [ 0.        ,  0.        ,  1.41957028,  0.        ,  0.        ,\n",
       "         0.        ],\n",
       "       [ 0.        ,  0.        ,  0.        ,  0.        ,  0.        ,\n",
       "         0.        ],\n",
       "       [ 0.        ,  0.        ,  4.04465524,  0.        ,  0.        ,\n",
       "         0.        ],\n",
       "       [ 0.        ,  0.        ,  0.        ,  0.        ,  1.41109337,\n",
       "         0.        ],\n",
       "       [ 0.        ,  6.84778467,  1.86181449,  6.74159659,  0.        ,\n",
       "         0.        ],\n",
       "       [ 0.        ,  1.        ,  2.        ,  9.        ,  2.        ,\n",
       "        11.        ],\n",
       "       [ 0.        ,  4.73890395,  0.76892882,  0.        ,  0.        ,\n",
       "         0.        ],\n",
       "       [ 0.        ,  0.        ,  0.        ,  0.        ,  2.34342976,\n",
       "         0.        ],\n",
       "       [ 0.        ,  0.        ,  1.64675328,  0.        ,  0.        ,\n",
       "         0.        ],\n",
       "       [ 0.        ,  0.        ,  5.15588149,  0.        ,  0.        ,\n",
       "         0.        ],\n",
       "       [ 0.        ,  0.        ,  5.01821135,  0.        ,  0.        ,\n",
       "         0.        ],\n",
       "       [ 0.        ,  8.14481875,  3.91881778,  4.23509032,  0.        ,\n",
       "         0.        ],\n",
       "       [ 0.        ,  2.        ,  5.        ,  7.        ,  2.        ,\n",
       "         9.        ],\n",
       "       [ 0.        ,  5.50642655,  0.        ,  0.        ,  0.        ,\n",
       "         0.        ],\n",
       "       [ 0.        ,  6.43854907,  9.11605698,  0.        ,  0.        ,\n",
       "         5.36770462],\n",
       "       [ 0.        ,  0.        ,  0.        ,  0.        ,  0.02439247,\n",
       "         0.        ],\n",
       "       [ 0.        ,  0.        ,  6.2788546 ,  0.        ,  0.        ,\n",
       "         6.17763428],\n",
       "       [ 0.        ,  0.        ,  2.14009799,  0.        ,  0.        ,\n",
       "         0.        ],\n",
       "       [ 0.        ,  3.        ,  4.        ,  5.        ,  7.        ,\n",
       "        10.        ],\n",
       "       [ 0.        ,  9.10623952,  0.        ,  0.        ,  4.43453457,\n",
       "         0.        ],\n",
       "       [ 0.        ,  2.8987715 ,  0.66089207,  0.        ,  0.        ,\n",
       "         0.        ]])"
      ]
     },
     "execution_count": 257,
     "metadata": {},
     "output_type": "execute_result"
    }
   ],
   "source": [
    "gem_simulated = so.perturb(gene_mtx=gene_mtx, target='A', n_propagation=2)\n",
    "gem_simulated"
   ]
  },
  {
   "cell_type": "code",
   "execution_count": null,
   "metadata": {},
   "outputs": [],
   "source": []
  },
  {
   "cell_type": "code",
   "execution_count": null,
   "metadata": {},
   "outputs": [],
   "source": []
  }
 ],
 "metadata": {
  "kernelspec": {
   "display_name": "bee",
   "language": "python",
   "name": "python3"
  },
  "language_info": {
   "codemirror_mode": {
    "name": "ipython",
    "version": 3
   },
   "file_extension": ".py",
   "mimetype": "text/x-python",
   "name": "python",
   "nbconvert_exporter": "python",
   "pygments_lexer": "ipython3",
   "version": "3.9.18"
  }
 },
 "nbformat": 4,
 "nbformat_minor": 2
}
