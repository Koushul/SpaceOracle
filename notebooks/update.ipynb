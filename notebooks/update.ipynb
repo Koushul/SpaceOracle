{
 "cells": [
  {
   "cell_type": "code",
   "execution_count": 2,
   "metadata": {},
   "outputs": [],
   "source": [
    "%load_ext autoreload\n",
    "%autoreload 2\n",
    "\n",
    "%config InlineBackend.figure_format = 'retina'"
   ]
  },
  {
   "cell_type": "code",
   "execution_count": 1,
   "metadata": {},
   "outputs": [],
   "source": [
    "import matplotlib.pyplot as plt\n",
    "import scanpy as sc\n",
    "import numpy as np\n",
    "import seaborn as sns\n",
    "import torch\n",
    "import pandas as pd\n",
    "\n",
    "from scipy.stats import spearmanr, pearsonr\n",
    "from sklearn.metrics import r2_score\n"
   ]
  },
  {
   "cell_type": "code",
   "execution_count": 7,
   "metadata": {},
   "outputs": [],
   "source": [
    "import sys\n",
    "sys.path.append('../src')\n",
    "\n",
    "from spaceoracle.models.parallel_estimators import SpatialCellularProgramsEstimator"
   ]
  },
  {
   "cell_type": "code",
   "execution_count": 48,
   "metadata": {},
   "outputs": [
    {
     "data": {
      "text/plain": [
       "AnnData object with n_obs × n_vars = 11567 × 5013\n",
       "    obs: 'cluster', 'rctd_cluster', 'rctd_celltypes'\n",
       "    uns: 'log1p'\n",
       "    obsm: 'X_spatial', 'rctd_results', 'spatial'\n",
       "    layers: 'imputed_count', 'normalized_count', 'raw_count'"
      ]
     },
     "execution_count": 48,
     "metadata": {},
     "output_type": "execute_result"
    }
   ],
   "source": [
    "adata_train = sc.read_h5ad('/ix/djishnu/alw399/SpaceOracle/notebooks/.cache/adata_train.h5ad')\n",
    "adata_train"
   ]
  },
  {
   "cell_type": "code",
   "execution_count": 6,
   "metadata": {},
   "outputs": [
    {
     "data": {
      "text/plain": [
       "90"
      ]
     },
     "execution_count": 6,
     "metadata": {},
     "output_type": "execute_result"
    }
   ],
   "source": [
    "# subsample data for lil test run\n",
    "\n",
    "estimator = SpatialCellularProgramsEstimator(\n",
    "    adata=adata_train,\n",
    "    target_gene='Pax5',\n",
    ")\n",
    "\n",
    "subset = set(estimator.receptors + estimator.ligands + estimator.tfl_regulators + estimator.tfl_ligands)\n",
    "subset.update({'Pax5'})\n",
    "len(subset)"
   ]
  },
  {
   "cell_type": "code",
   "execution_count": null,
   "metadata": {},
   "outputs": [
    {
     "data": {
      "text/plain": [
       "View of AnnData object with n_obs × n_vars = 100 × 90\n",
       "    obs: 'cluster', 'rctd_cluster', 'rctd_celltypes'\n",
       "    var: 'highly_variable', 'means', 'dispersions', 'dispersions_norm'\n",
       "    uns: 'log1p', 'received_ligands', 'received_ligands_tfl', 'ligand_receptor', 'ligand_regulator', 'hvg'\n",
       "    obsm: 'X_spatial', 'rctd_results', 'spatial', 'spatial_maps'\n",
       "    layers: 'imputed_count', 'normalized_count', 'raw_count'"
      ]
     },
     "execution_count": 33,
     "metadata": {},
     "output_type": "execute_result"
    }
   ],
   "source": [
    "adata = adata_train[:, adata_train.var_names.isin(subset)]\n",
    "adata = adata[:100, :]\n",
    "adata"
   ]
  },
  {
   "cell_type": "code",
   "execution_count": 38,
   "metadata": {},
   "outputs": [],
   "source": [
    "from spaceoracle.oracles import SpaceOracle\n",
    "\n",
    "so = SpaceOracle(\n",
    "    adata=adata,\n",
    "    annot='rctd_cluster', \n",
    "    max_epochs=5, \n",
    "    learning_rate=7e-4, \n",
    "    spatial_dim=35,\n",
    "    batch_size=256,\n",
    "    rotate_maps=True,\n",
    "    alpha=0.4,\n",
    ")\n"
   ]
  },
  {
   "cell_type": "code",
   "execution_count": null,
   "metadata": {},
   "outputs": [],
   "source": [
    "%%time\n",
    "so.run()"
   ]
  },
  {
   "cell_type": "code",
   "execution_count": null,
   "metadata": {},
   "outputs": [],
   "source": [
    "so.beta_dict = so._get_spatial_betas_dict()"
   ]
  },
  {
   "cell_type": "code",
   "execution_count": null,
   "metadata": {},
   "outputs": [],
   "source": [
    "betas_df = betaoutput.betas\n",
    "\n",
    "ligands = betaoutput.ligands\n",
    "receptors = betaoutput.receptors\n",
    "tfl_regulators = betaoutput.tfl_regulators\n",
    "tfl_ligands= betaoutput.tfl_ligands\n",
    "modulators = betaoutput.modulator_genes\n"
   ]
  },
  {
   "cell_type": "code",
   "execution_count": null,
   "metadata": {},
   "outputs": [],
   "source": [
    "so.perturb(target='Pax5', n_propagation=3, gene_expr=0, n_jobs=1)"
   ]
  },
  {
   "cell_type": "code",
   "execution_count": null,
   "metadata": {},
   "outputs": [],
   "source": []
  },
  {
   "cell_type": "code",
   "execution_count": null,
   "metadata": {},
   "outputs": [],
   "source": [
    "## Testing"
   ]
  },
  {
   "cell_type": "code",
   "execution_count": 216,
   "metadata": {},
   "outputs": [],
   "source": [
    "tfs = ['A', 'B']\n",
    "ligs = ['C', 'D']\n",
    "recs = ['E', 'F']\n",
    "genes = ['A', 'B', 'C', 'D', 'E', 'F']\n",
    "\n",
    "# A = bB + b(C$E) + b(C#B)\n",
    "# B = bA + b(C$E)\n",
    "# C = bA + bB\n",
    "# D = bA + b(C$E) + b(C#A)\n",
    "# E = bA + b(D#B)\n",
    "# F = bB + b(D#A) + b(D#B) "
   ]
  },
  {
   "cell_type": "code",
   "execution_count": 244,
   "metadata": {},
   "outputs": [],
   "source": [
    "n_cells = 100\n",
    "n_genes = len(genes)\n",
    "\n",
    "gene_mtx = np.random.rand(n_cells, n_genes)\n",
    "gene_mtx = (gene_mtx * 12).astype(int)\n",
    "gene_mtx = pd.DataFrame(gene_mtx, columns=genes, index=np.arange(n_cells).astype(str))"
   ]
  },
  {
   "cell_type": "code",
   "execution_count": 245,
   "metadata": {},
   "outputs": [],
   "source": [
    "from spaceoracle.oracles import BetaOutput\n",
    "\n",
    "gene2index = {gene: i for i, gene in enumerate(genes)}\n",
    "ligands = ligs\n",
    "\n",
    "def get_betaoutputs(all_modulators, ncells=100):\n",
    "    tfs = [i for i in all_modulators if '$' not in i and '#' not in i]\n",
    "    lr_pairs = [i for i in all_modulators if '$' in i]\n",
    "    tfl_pairs = [i for i in all_modulators if '#' in i]\n",
    "    \n",
    "    ligands = [i.split('$')[0] for i in lr_pairs]\n",
    "    receptors = [i.split('$')[1] for i in lr_pairs]\n",
    "\n",
    "    tfl_ligands = [i.split('#')[0] for i in tfl_pairs]\n",
    "    tfl_regulators = [i.split('#')[1] for i in tfl_pairs]\n",
    "\n",
    "    modulators = np.unique(tfs + ligands + receptors + tfl_ligands + tfl_regulators)   # sorted names\n",
    "    modulator_gene_indices = [gene2index[m] for m in modulators] \n",
    "    modulators = [f'beta_{m}' for m in modulators]\n",
    "\n",
    "    all_modulators = [f'beta_{m}' for m in all_modulators]\n",
    "    betadata = create_betadata(ncells, all_modulators)\n",
    "\n",
    "    return BetaOutput(\n",
    "            betas=betadata[['beta0']+all_modulators],\n",
    "            modulator_genes=modulators,\n",
    "            modulator_gene_indices=modulator_gene_indices,\n",
    "            ligands=ligands,\n",
    "            receptors=receptors,\n",
    "            tfl_ligands=tfl_ligands,\n",
    "            tfl_regulators=tfl_regulators\n",
    "        )\n",
    "\n",
    "def create_betadata(ncells, all_modulators):\n",
    "    betas = np.random.rand(ncells, 1 + len(all_modulators))\n",
    "    index = np.arange(n_cells).astype(str)\n",
    "    betas = pd.DataFrame(betas, index=index, columns=['beta0'] + all_modulators)\n",
    "    return betas\n",
    "\n",
    "betas_dict = {\n",
    "    'A': get_betaoutputs(['B', 'C$E', 'C#B']),\n",
    "    'B': get_betaoutputs(['A', 'C$E']),\n",
    "    'C': get_betaoutputs(['A', 'B']),\n",
    "    'D': get_betaoutputs(['A', 'C$E', 'C#A']),\n",
    "    'E': get_betaoutputs(['A', 'D#B']),\n",
    "    'F': get_betaoutputs(['B', 'D#A', 'D#B'])\n",
    "}"
   ]
  },
  {
   "cell_type": "code",
   "execution_count": 246,
   "metadata": {},
   "outputs": [
    {
     "data": {
      "text/plain": [
       "AnnData object with n_obs × n_vars = 100 × 6\n",
       "    obsm: 'spatial'\n",
       "    layers: 'raw_count', 'normalized_count'"
      ]
     },
     "execution_count": 246,
     "metadata": {},
     "output_type": "execute_result"
    }
   ],
   "source": [
    "adata = ad.AnnData(gene_mtx)\n",
    "adata.layers['raw_count'] = adata.X.copy()\n",
    "sc.pp.normalize_total(adata, target_sum=1e4)\n",
    "adata.layers['normalized_count'] = adata.X.copy()\n",
    "\n",
    "adata.obsm['spatial'] = np.random.rand(n_cells, 2)\n",
    "adata"
   ]
  },
  {
   "cell_type": "code",
   "execution_count": 247,
   "metadata": {},
   "outputs": [],
   "source": [
    "so = SpaceOracle(adata=adata)\n",
    "so.beta_dict = betas_dict\n",
    "so.ligands = ligands"
   ]
  },
  {
   "cell_type": "code",
   "execution_count": 248,
   "metadata": {},
   "outputs": [
    {
     "data": {
      "application/vnd.jupyter.widget-view+json": {
       "model_id": "9f7058a2d47b4eefa78cf39db643ec42",
       "version_major": 2,
       "version_minor": 0
      },
      "text/plain": [
       "  0%|          | 0/6 [00:00<?, ?it/s]"
      ]
     },
     "metadata": {},
     "output_type": "display_data"
    }
   ],
   "source": [
    "from spaceoracle.models.parallel_estimators import received_ligands\n",
    "weighted_ligands = received_ligands(\n",
    "    so.adata.obsm['spatial'], \n",
    "    gene_mtx[list(ligands)]\n",
    ")\n",
    "weighted_ligands.index = weighted_ligands.index.astype(str)\n",
    "wbeta_dict = so._get_wbetas_dict(so.beta_dict, gene_mtx, n_jobs=1)\n",
    "\n",
    "output = wbeta_dict['A'].wbetas\n",
    "input = wbeta_dict['A'].betas\n",
    "weights = gene_mtx"
   ]
  },
  {
   "cell_type": "code",
   "execution_count": 249,
   "metadata": {},
   "outputs": [
    {
     "data": {
      "text/html": [
       "<div>\n",
       "<style scoped>\n",
       "    .dataframe tbody tr th:only-of-type {\n",
       "        vertical-align: middle;\n",
       "    }\n",
       "\n",
       "    .dataframe tbody tr th {\n",
       "        vertical-align: top;\n",
       "    }\n",
       "\n",
       "    .dataframe thead th {\n",
       "        text-align: right;\n",
       "    }\n",
       "</style>\n",
       "<table border=\"1\" class=\"dataframe\">\n",
       "  <thead>\n",
       "    <tr style=\"text-align: right;\">\n",
       "      <th></th>\n",
       "      <th>beta_B</th>\n",
       "      <th>beta_C</th>\n",
       "      <th>beta_E</th>\n",
       "    </tr>\n",
       "  </thead>\n",
       "  <tbody>\n",
       "    <tr>\n",
       "      <th>0</th>\n",
       "      <td>4.254500</td>\n",
       "      <td>2.670818</td>\n",
       "      <td>2.268348</td>\n",
       "    </tr>\n",
       "    <tr>\n",
       "      <th>1</th>\n",
       "      <td>4.852398</td>\n",
       "      <td>7.721592</td>\n",
       "      <td>1.074011</td>\n",
       "    </tr>\n",
       "    <tr>\n",
       "      <th>2</th>\n",
       "      <td>1.454800</td>\n",
       "      <td>6.079462</td>\n",
       "      <td>2.739403</td>\n",
       "    </tr>\n",
       "    <tr>\n",
       "      <th>3</th>\n",
       "      <td>5.360922</td>\n",
       "      <td>6.984121</td>\n",
       "      <td>2.869091</td>\n",
       "    </tr>\n",
       "    <tr>\n",
       "      <th>4</th>\n",
       "      <td>3.307415</td>\n",
       "      <td>4.002586</td>\n",
       "      <td>2.524527</td>\n",
       "    </tr>\n",
       "    <tr>\n",
       "      <th>...</th>\n",
       "      <td>...</td>\n",
       "      <td>...</td>\n",
       "      <td>...</td>\n",
       "    </tr>\n",
       "    <tr>\n",
       "      <th>95</th>\n",
       "      <td>0.579218</td>\n",
       "      <td>1.009980</td>\n",
       "      <td>1.406438</td>\n",
       "    </tr>\n",
       "    <tr>\n",
       "      <th>96</th>\n",
       "      <td>0.759339</td>\n",
       "      <td>10.011951</td>\n",
       "      <td>4.915714</td>\n",
       "    </tr>\n",
       "    <tr>\n",
       "      <th>97</th>\n",
       "      <td>3.284269</td>\n",
       "      <td>4.990796</td>\n",
       "      <td>2.783348</td>\n",
       "    </tr>\n",
       "    <tr>\n",
       "      <th>98</th>\n",
       "      <td>3.070260</td>\n",
       "      <td>9.001718</td>\n",
       "      <td>3.672601</td>\n",
       "    </tr>\n",
       "    <tr>\n",
       "      <th>99</th>\n",
       "      <td>3.007011</td>\n",
       "      <td>6.119267</td>\n",
       "      <td>4.031407</td>\n",
       "    </tr>\n",
       "  </tbody>\n",
       "</table>\n",
       "<p>100 rows × 3 columns</p>\n",
       "</div>"
      ],
      "text/plain": [
       "      beta_B     beta_C    beta_E\n",
       "0   4.254500   2.670818  2.268348\n",
       "1   4.852398   7.721592  1.074011\n",
       "2   1.454800   6.079462  2.739403\n",
       "3   5.360922   6.984121  2.869091\n",
       "4   3.307415   4.002586  2.524527\n",
       "..       ...        ...       ...\n",
       "95  0.579218   1.009980  1.406438\n",
       "96  0.759339  10.011951  4.915714\n",
       "97  3.284269   4.990796  2.783348\n",
       "98  3.070260   9.001718  3.672601\n",
       "99  3.007011   6.119267  4.031407\n",
       "\n",
       "[100 rows x 3 columns]"
      ]
     },
     "execution_count": 249,
     "metadata": {},
     "output_type": "execute_result"
    }
   ],
   "source": [
    "output"
   ]
  },
  {
   "cell_type": "code",
   "execution_count": 251,
   "metadata": {},
   "outputs": [
    {
     "data": {
      "text/plain": [
       "True"
      ]
     },
     "execution_count": 251,
     "metadata": {},
     "output_type": "execute_result"
    }
   ],
   "source": [
    "# A = bB + b(C$E) + b(C#B)\n",
    "# dA/dB = b + bwC\n",
    "# dA/dC = bE + bB\n",
    "# dA/dE = bwC\n",
    "\n",
    "dAdB = wbeta_dict['A'].betas['beta_B'] + \\\n",
    "      (wbeta_dict['A'].betas['beta_C#B'] * weighted_ligands['C'])\n",
    "dAdC = (wbeta_dict['A'].betas['beta_C$E'] * gene_mtx['E']) + \\\n",
    "      (wbeta_dict['A'].betas['beta_C#B'] * gene_mtx['B'])\n",
    "dAdE = (wbeta_dict['A'].betas['beta_C$E'] * weighted_ligands['C'])\n",
    "\n",
    "manual_betas = pd.concat([dAdB, dAdC, dAdE], axis=1, keys=['beta_B', 'beta_C', 'beta_E'])\n",
    "np.all(manual_betas == output)"
   ]
  },
  {
   "cell_type": "code",
   "execution_count": 256,
   "metadata": {},
   "outputs": [
    {
     "data": {
      "text/plain": [
       "True"
      ]
     },
     "execution_count": 256,
     "metadata": {},
     "output_type": "execute_result"
    }
   ],
   "source": [
    "# F = bB + b(D#A) + b(D#B) \n",
    "# dF/dB = b + bwD\n",
    "# dF/dD = bA + bB\n",
    "# dF/dA = bwD \n",
    "\n",
    "dFdB = wbeta_dict['F'].betas['beta_B'] + \\\n",
    "      (wbeta_dict['F'].betas['beta_D#B'] * weighted_ligands['D'])\n",
    "dFdD = wbeta_dict['F'].betas['beta_D#A'] * gene_mtx['A'] + \\\n",
    "       wbeta_dict['F'].betas['beta_D#B'] * gene_mtx['B']\n",
    "dFdA = wbeta_dict['F'].betas['beta_D#A'] * weighted_ligands['D']\n",
    "\n",
    "manual_betas = pd.concat([dFdA, dFdB, dFdD], axis = 1, keys=['beta_A', 'beta_B', 'beta_D'])\n",
    "np.all(manual_betas == wbeta_dict['F'].wbetas)"
   ]
  },
  {
   "cell_type": "code",
   "execution_count": null,
   "metadata": {},
   "outputs": [],
   "source": []
  },
  {
   "cell_type": "code",
   "execution_count": null,
   "metadata": {},
   "outputs": [],
   "source": [
    "gem_simulated = so.perturb(gene_mtx=gene_mtx, target='A', n_propagation=2)\n",
    "gem_simulated"
   ]
  },
  {
   "cell_type": "code",
   "execution_count": null,
   "metadata": {},
   "outputs": [],
   "source": []
  },
  {
   "cell_type": "code",
   "execution_count": null,
   "metadata": {},
   "outputs": [],
   "source": []
  }
 ],
 "metadata": {
  "kernelspec": {
   "display_name": "bee",
   "language": "python",
   "name": "python3"
  },
  "language_info": {
   "codemirror_mode": {
    "name": "ipython",
    "version": 3
   },
   "file_extension": ".py",
   "mimetype": "text/x-python",
   "name": "python",
   "nbconvert_exporter": "python",
   "pygments_lexer": "ipython3",
   "version": "3.9.18"
  }
 },
 "nbformat": 4,
 "nbformat_minor": 2
}
