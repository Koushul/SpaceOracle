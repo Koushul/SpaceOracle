{
 "cells": [
  {
   "cell_type": "code",
   "execution_count": 1,
   "metadata": {},
   "outputs": [],
   "source": [
    "%load_ext autoreload\n",
    "%autoreload 2\n",
    "\n",
    "import sys\n",
    "sys.path.append('../src')\n",
    "\n",
    "import matplotlib.pyplot as plt\n",
    "import numpy as np\n",
    "import scanpy as sc\n",
    "import pandas as pd"
   ]
  },
  {
   "cell_type": "code",
   "execution_count": 2,
   "metadata": {},
   "outputs": [
    {
     "name": "stderr",
     "output_type": "stream",
     "text": [
      "/ihome/djishnu/alw399/.local/lib/python3.9/site-packages/scanpy/preprocessing/_simple.py:282: ImplicitModificationWarning: Trying to modify attribute `.var` of view, initializing view as actual.\n",
      "  adata.var[\"n_cells\"] = number\n",
      "/ihome/djishnu/alw399/.local/lib/python3.9/site-packages/scanpy/preprocessing/_simple.py:569: ImplicitModificationWarning: Trying to modify attribute `.obs` of view, initializing view as actual.\n",
      "  adata.obs[key_n_counts] = counts_per_cell\n"
     ]
    },
    {
     "data": {
      "text/plain": [
       "(12998, 2350)"
      ]
     },
     "execution_count": 2,
     "metadata": {},
     "output_type": "execute_result"
    }
   ],
   "source": [
    "import sys\n",
    "sys.path.append('../src')\n",
    "\n",
    "from utils import get_immune_genes, process_adata, get_markers\n",
    "\n",
    "immune_genes = get_immune_genes(mouse=True)\n",
    "adata = sc.read_h5ad('../data/slideseq/day3_1.h5ad')\n",
    "adata = process_adata(\n",
    "    adata, \n",
    "    n_top_genes=2000, min_counts=200,\n",
    "    include_genes=immune_genes, mouse=True)\n",
    "adata.shape"
   ]
  },
  {
   "cell_type": "code",
   "execution_count": 3,
   "metadata": {},
   "outputs": [
    {
     "data": {
      "text/plain": [
       "rctd_cluster\n",
       "0    8550\n",
       "2    1880\n",
       "1    1342\n",
       "4     360\n",
       "3     343\n",
       "5     309\n",
       "6     214\n",
       "Name: count, dtype: int64"
      ]
     },
     "execution_count": 3,
     "metadata": {},
     "output_type": "execute_result"
    }
   ],
   "source": [
    "adata.obs['rctd_cluster'].value_counts()"
   ]
  },
  {
   "cell_type": "code",
   "execution_count": 4,
   "metadata": {},
   "outputs": [
    {
     "data": {
      "text/plain": [
       "[0, 2, 1, 4, 3, 5, 6]"
      ]
     },
     "execution_count": 4,
     "metadata": {},
     "output_type": "execute_result"
    }
   ],
   "source": [
    "clusters = list(adata.obs['rctd_cluster'].value_counts().keys())\n",
    "clusters"
   ]
  },
  {
   "cell_type": "code",
   "execution_count": 5,
   "metadata": {},
   "outputs": [],
   "source": [
    "import copy\n",
    "adata_copy = adata.copy()\n",
    "coex_dir = '../data/slideseq/coexpression/'"
   ]
  },
  {
   "cell_type": "code",
   "execution_count": 6,
   "metadata": {},
   "outputs": [
    {
     "data": {
      "text/plain": [
       "AnnData object with n_obs × n_vars = 12998 × 2350\n",
       "    obs: 'cluster', 'rctd_cluster', 'n_genes_by_counts', 'log1p_n_genes_by_counts', 'total_counts', 'log1p_total_counts', 'pct_counts_in_top_50_genes', 'pct_counts_in_top_100_genes', 'pct_counts_in_top_200_genes', 'pct_counts_in_top_500_genes', 'total_counts_mt', 'log1p_total_counts_mt', 'pct_counts_mt', 'n_counts'\n",
       "    var: 'mt', 'n_cells_by_counts', 'mean_counts', 'log1p_mean_counts', 'pct_dropout_by_counts', 'total_counts', 'log1p_total_counts', 'n_cells', 'highly_variable', 'means', 'dispersions', 'dispersions_norm'\n",
       "    uns: 'cluster_colors', 'rctd_cluster_colors', 'log1p', 'hvg'\n",
       "    obsm: 'X_spatial', 'rctd_results', 'spatial'\n",
       "    layers: 'raw_count'"
      ]
     },
     "execution_count": 6,
     "metadata": {},
     "output_type": "execute_result"
    }
   ],
   "source": [
    "adata"
   ]
  },
  {
   "cell_type": "code",
   "execution_count": 9,
   "metadata": {},
   "outputs": [
    {
     "data": {
      "text/html": [
       "<div>\n",
       "<style scoped>\n",
       "    .dataframe tbody tr th:only-of-type {\n",
       "        vertical-align: middle;\n",
       "    }\n",
       "\n",
       "    .dataframe tbody tr th {\n",
       "        vertical-align: top;\n",
       "    }\n",
       "\n",
       "    .dataframe thead th {\n",
       "        text-align: right;\n",
       "    }\n",
       "</style>\n",
       "<table border=\"1\" class=\"dataframe\">\n",
       "  <thead>\n",
       "    <tr style=\"text-align: right;\">\n",
       "      <th></th>\n",
       "      <th>source</th>\n",
       "      <th>target</th>\n",
       "      <th>score</th>\n",
       "    </tr>\n",
       "  </thead>\n",
       "  <tbody>\n",
       "    <tr>\n",
       "      <th>0</th>\n",
       "      <td>Cd63-ps</td>\n",
       "      <td>Cd63</td>\n",
       "      <td>1.797708e+01</td>\n",
       "    </tr>\n",
       "    <tr>\n",
       "      <th>1</th>\n",
       "      <td>Cd63</td>\n",
       "      <td>Cd63-ps</td>\n",
       "      <td>1.343786e+01</td>\n",
       "    </tr>\n",
       "    <tr>\n",
       "      <th>2</th>\n",
       "      <td>Ighm</td>\n",
       "      <td>Jchain</td>\n",
       "      <td>1.145192e+01</td>\n",
       "    </tr>\n",
       "    <tr>\n",
       "      <th>3</th>\n",
       "      <td>Hbb-bs</td>\n",
       "      <td>Hbb-bt</td>\n",
       "      <td>9.246247e+00</td>\n",
       "    </tr>\n",
       "    <tr>\n",
       "      <th>4</th>\n",
       "      <td>Jchain</td>\n",
       "      <td>Ighm</td>\n",
       "      <td>9.239755e+00</td>\n",
       "    </tr>\n",
       "    <tr>\n",
       "      <th>...</th>\n",
       "      <td>...</td>\n",
       "      <td>...</td>\n",
       "      <td>...</td>\n",
       "    </tr>\n",
       "    <tr>\n",
       "      <th>314237</th>\n",
       "      <td>Rnf2</td>\n",
       "      <td>Aktip</td>\n",
       "      <td>3.827637e-17</td>\n",
       "    </tr>\n",
       "    <tr>\n",
       "      <th>314238</th>\n",
       "      <td>Nsd3</td>\n",
       "      <td>Csnk1a1</td>\n",
       "      <td>3.559937e-17</td>\n",
       "    </tr>\n",
       "    <tr>\n",
       "      <th>314239</th>\n",
       "      <td>Bin1</td>\n",
       "      <td>Fabp4</td>\n",
       "      <td>3.271370e-17</td>\n",
       "    </tr>\n",
       "    <tr>\n",
       "      <th>314240</th>\n",
       "      <td>Tnip1</td>\n",
       "      <td>Prim1</td>\n",
       "      <td>2.955157e-17</td>\n",
       "    </tr>\n",
       "    <tr>\n",
       "      <th>314241</th>\n",
       "      <td>H2-Eb1</td>\n",
       "      <td>Selenok</td>\n",
       "      <td>2.785220e-17</td>\n",
       "    </tr>\n",
       "  </tbody>\n",
       "</table>\n",
       "<p>314242 rows × 3 columns</p>\n",
       "</div>"
      ],
      "text/plain": [
       "         source   target         score\n",
       "0       Cd63-ps     Cd63  1.797708e+01\n",
       "1          Cd63  Cd63-ps  1.343786e+01\n",
       "2          Ighm   Jchain  1.145192e+01\n",
       "3        Hbb-bs   Hbb-bt  9.246247e+00\n",
       "4        Jchain     Ighm  9.239755e+00\n",
       "...         ...      ...           ...\n",
       "314237     Rnf2    Aktip  3.827637e-17\n",
       "314238     Nsd3  Csnk1a1  3.559937e-17\n",
       "314239     Bin1    Fabp4  3.271370e-17\n",
       "314240    Tnip1    Prim1  2.955157e-17\n",
       "314241   H2-Eb1  Selenok  2.785220e-17\n",
       "\n",
       "[314242 rows x 3 columns]"
      ]
     },
     "execution_count": 9,
     "metadata": {},
     "output_type": "execute_result"
    }
   ],
   "source": [
    "grnboost = pd.read_csv(coex_dir + 'grnboost2_c0.tsv', sep='\\t', names=['source', 'target', 'score'])\n",
    "grnboost"
   ]
  },
  {
   "cell_type": "code",
   "execution_count": null,
   "metadata": {},
   "outputs": [],
   "source": [
    "from arboreto.algo import grnboost2\n",
    "from distributed import LocalCluster, Client\n",
    "\n",
    "# Initialize local Dask cluster with 1 worker and 1 thread\n",
    "local_cluster = LocalCluster(n_workers=1, threads_per_worker=1)\n",
    "custom_client = Client(local_cluster)\n",
    "\n",
    "for cluster in clusters:\n",
    "    print(f'Starting cluster {cluster}')\n",
    "    \n",
    "    # Subset adata based on the cluster\n",
    "    cluster_adata = adata_copy[adata_copy.obs['rctd_cluster'] == cluster]\n",
    "\n",
    "    # Convert the expression matrix to a DataFrame\n",
    "    ex_matrix = cluster_adata.to_df()\n",
    "\n",
    "    # Use gene names from the cluster-specific adata\n",
    "    tf_names = list(cluster_adata.var_names)\n",
    "\n",
    "    # Run GRNBoost2 to infer gene regulatory networks\n",
    "    network = grnboost2(expression_data=ex_matrix,\n",
    "                        tf_names=tf_names,\n",
    "                        client_or_address=custom_client,\n",
    "                        verbose=True)\n",
    "\n",
    "    # Save the inferred network to a CSV file\n",
    "    network.to_csv(f'../data/slideseq/coexpression/grnboost2_c{cluster}.tsv', sep='\\t', index=False, header=False)\n"
   ]
  },
  {
   "cell_type": "code",
   "execution_count": 6,
   "metadata": {},
   "outputs": [
    {
     "name": "stdout",
     "output_type": "stream",
     "text": [
      "Tree method: RF\n",
      "K: sqrt\n",
      "Number of trees: 1000\n",
      "\n",
      "\n",
      "running jobs on 8 threads\n"
     ]
    }
   ],
   "source": [
    "from spaceoracle.tools.GENIE3 import GENIE3, get_link_list\n",
    "\n",
    "for cluster in clusters:\n",
    "    cluster_adata = adata_copy[adata_copy.obs['rctd_cluster'] == cluster]\n",
    "    gene_names = list(cluster_adata.var_names)\n",
    "\n",
    "    VIM = GENIE3(\n",
    "        cluster_adata.to_df().values,\n",
    "        gene_names = gene_names,\n",
    "        nthreads=8\n",
    "        )\n",
    "    \n",
    "    np.save(f'{coex_dir}c{cluster}', VIM)\n",
    "    print(f'Finished cluster {cluster}')\n",
    "\n",
    "    filename = coex_dir + f'links_c{cluster}.txt'\n",
    "    get_link_list(VIM, gene_names=gene_names, filename=filename)\n",
    "    "
   ]
  },
  {
   "cell_type": "code",
   "execution_count": null,
   "metadata": {},
   "outputs": [],
   "source": [
    "# links_dict: [source, target, coef_mean, coef_abs, p, -logp]\n",
    "# coef_matrix_per_cluster: gene x gene coex"
   ]
  }
 ],
 "metadata": {
  "kernelspec": {
   "display_name": "Python 3.9.19 ('bee': conda)",
   "language": "python",
   "name": "python3"
  },
  "language_info": {
   "codemirror_mode": {
    "name": "ipython",
    "version": 3
   },
   "file_extension": ".py",
   "mimetype": "text/x-python",
   "name": "python",
   "nbconvert_exporter": "python",
   "pygments_lexer": "ipython3",
   "version": "3.9.19"
  },
  "orig_nbformat": 4,
  "vscode": {
   "interpreter": {
    "hash": "d5e083718e887c55b29d4f7da6a44fbfc7ac6a325d83706ddad436d58aee562b"
   }
  }
 },
 "nbformat": 4,
 "nbformat_minor": 2
}
