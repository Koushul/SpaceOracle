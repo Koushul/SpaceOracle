{
 "cells": [
  {
   "cell_type": "code",
   "execution_count": 21,
   "metadata": {},
   "outputs": [],
   "source": [
    "import sys\n",
    "sys.path.append('../../src')\n",
    "import anndata\n",
    "import scanpy as sc\n",
    "import numpy as np\n",
    "from spaceoracle import SpaceOracle\n",
    "import commot as ct\n",
    "import pandas as pd"
   ]
  },
  {
   "cell_type": "code",
   "execution_count": 3,
   "metadata": {},
   "outputs": [],
   "source": [
    "adata = sc.read_h5ad('../../data/slideseq/day3_1.h5ad')"
   ]
  },
  {
   "cell_type": "code",
   "execution_count": 22,
   "metadata": {},
   "outputs": [],
   "source": [
    "def expand_paired_interactions(df):\n",
    "    expanded_rows = []\n",
    "    for _, row in df.iterrows():\n",
    "        ligands = row['ligand'].split('_')\n",
    "        receptors = row['receptor'].split('_')\n",
    "        \n",
    "        for ligand in ligands:\n",
    "            for receptor in receptors:\n",
    "                new_row = row.copy()\n",
    "                new_row['ligand'] = ligand\n",
    "                new_row['receptor'] = receptor\n",
    "                expanded_rows.append(new_row)\n",
    "    \n",
    "    return pd.DataFrame(expanded_rows)"
   ]
  },
  {
   "cell_type": "code",
   "execution_count": 23,
   "metadata": {},
   "outputs": [],
   "source": [
    "df_ligrec = ct.pp.ligand_receptor_database(\n",
    "        database='CellChat', \n",
    "        species='mouse', \n",
    "        signaling_type=\"Secreted Signaling\"\n",
    "    )\n",
    "            \n",
    "df_ligrec.columns = ['ligand', 'receptor', 'pathway', 'signaling']\n",
    "df_ligrec = expand_paired_interactions(df_ligrec)\n"
   ]
  },
  {
   "cell_type": "code",
   "execution_count": 18,
   "metadata": {},
   "outputs": [
    {
     "data": {
      "text/plain": [
       "29"
      ]
     },
     "execution_count": 18,
     "metadata": {},
     "output_type": "execute_result"
    }
   ],
   "source": [
    "ilr2_df =df_ligrec.query('receptor.str.contains(\"Il2\") or ligand.str.contains(\"Il2\")')\n",
    "genes_of_interest = np.unique(ilr2_df.ligand.unique().tolist() + ilr2_df.receptor.unique().tolist())\n",
    "len(genes_of_interest)"
   ]
  },
  {
   "cell_type": "code",
   "execution_count": 24,
   "metadata": {},
   "outputs": [],
   "source": [
    "n_top_genes = 5000\n",
    "min_cells = 10\n",
    "min_counts = 100"
   ]
  },
  {
   "cell_type": "code",
   "execution_count": 25,
   "metadata": {},
   "outputs": [],
   "source": [
    "adata.var_names_make_unique()\n",
    "adata.var[\"mt\"] = adata.var_names.str.startswith(\"mt-\")\n",
    "sc.pp.calculate_qc_metrics(adata, qc_vars=[\"mt\"], inplace=True)\n",
    "sc.pp.filter_cells(adata, min_counts=min_counts)\n",
    "adata = adata[adata.obs[\"pct_counts_mt\"] < 20].copy()\n",
    "adata = adata[:, ~adata.var[\"mt\"]]\n",
    "sc.pp.filter_genes(adata, min_cells=min_cells)\n",
    "adata.layers[\"raw_count\"] = adata.X\n",
    "sc.pp.normalize_total(adata, inplace=True)\n",
    "sc.pp.log1p(adata)\n",
    "sc.pp.highly_variable_genes(\n",
    "    adata, flavor=\"seurat\", n_top_genes=n_top_genes)\n",
    "\n",
    "adata = adata[:, (adata.var.highly_variable | adata.var_names.isin(genes_of_interest))]\n",
    "adata.layers[\"normalized_count\"] = adata.to_df().values\n",
    "\n",
    "# SpaceOracle.imbue_adata_with_space(adata_train, spatial_dim=spatial_dim, in_place=True)\n",
    "pcs = SpaceOracle.perform_PCA(adata)\n",
    "SpaceOracle.knn_imputation(adata, pcs)"
   ]
  },
  {
   "cell_type": "code",
   "execution_count": 67,
   "metadata": {},
   "outputs": [],
   "source": [
    "adata.obs = adata.obs.drop(columns=['n_genes_by_counts',\n",
    "       'log1p_n_genes_by_counts', 'total_counts', 'log1p_total_counts',\n",
    "       'pct_counts_in_top_50_genes', 'pct_counts_in_top_100_genes',\n",
    "       'pct_counts_in_top_200_genes', 'pct_counts_in_top_500_genes',\n",
    "       'total_counts_mt', 'log1p_total_counts_mt', 'pct_counts_mt', 'n_counts'])\n",
    "\n",
    "adata.var.drop(columns=adata.var.columns, inplace=True)\n",
    "\n",
    "del adata.uns['rctd_cluster_colors']\n",
    "del adata.uns['hvg']\n",
    "del adata.uns['cluster_colors']"
   ]
  },
  {
   "cell_type": "code",
   "execution_count": 68,
   "metadata": {},
   "outputs": [
    {
     "data": {
      "text/plain": [
       "AnnData object with n_obs × n_vars = 15870 × 5010\n",
       "    obs: 'cluster', 'rctd_cluster'\n",
       "    uns: 'log1p'\n",
       "    obsm: 'X_spatial', 'rctd_results', 'spatial'\n",
       "    layers: 'imputed_count', 'normalized_count', 'raw_count'"
      ]
     },
     "execution_count": 68,
     "metadata": {},
     "output_type": "execute_result"
    }
   ],
   "source": [
    "adata"
   ]
  },
  {
   "cell_type": "code",
   "execution_count": 69,
   "metadata": {},
   "outputs": [],
   "source": [
    "adata.write_h5ad('../.cache/adata_train.h5ad')"
   ]
  },
  {
   "cell_type": "code",
   "execution_count": 71,
   "metadata": {},
   "outputs": [],
   "source": [
    "import json\n",
    "with open('../../data/celltype_assign.json', 'r') as f:\n",
    "    cell_type_mapping = json.load(f)\n",
    "adata.obs['rctd_celltypes'] = adata.obs['rctd_cluster'].astype(str).map(cell_type_mapping)"
   ]
  }
 ],
 "metadata": {
  "kernelspec": {
   "display_name": "SpaceOracle",
   "language": "python",
   "name": "python3"
  },
  "language_info": {
   "codemirror_mode": {
    "name": "ipython",
    "version": 3
   },
   "file_extension": ".py",
   "mimetype": "text/x-python",
   "name": "python",
   "nbconvert_exporter": "python",
   "pygments_lexer": "ipython3",
   "version": "3.9.19"
  }
 },
 "nbformat": 4,
 "nbformat_minor": 2
}
