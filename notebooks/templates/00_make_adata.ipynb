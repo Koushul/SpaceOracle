{
 "cells": [
  {
   "cell_type": "code",
   "execution_count": 1,
   "metadata": {},
   "outputs": [],
   "source": [
    "%load_ext autoreload\n",
    "%autoreload 2"
   ]
  },
  {
   "cell_type": "code",
   "execution_count": 2,
   "metadata": {},
   "outputs": [
    {
     "name": "stderr",
     "output_type": "stream",
     "text": [
      "OMP: Info #276: omp_set_nested routine deprecated, please use omp_set_max_active_levels instead.\n"
     ]
    }
   ],
   "source": [
    "import sys\n",
    "sys.path.append('../../src')\n",
    "import scanpy as sc\n",
    "import numpy as np\n",
    "import commot as ct\n",
    "import pandas as pd\n",
    "from spaceoracle.oracles import BaseTravLR\n",
    "import matplotlib.pyplot as plt\n",
    "import celloracle as co"
   ]
  },
  {
   "cell_type": "code",
   "execution_count": 3,
   "metadata": {},
   "outputs": [],
   "source": [
    "adata = sc.read_h5ad('../../data/slideseq/day3_1.h5ad')"
   ]
  },
  {
   "cell_type": "code",
   "execution_count": 7,
   "metadata": {},
   "outputs": [],
   "source": [
    "import os"
   ]
  },
  {
   "cell_type": "code",
   "execution_count": 4,
   "metadata": {},
   "outputs": [],
   "source": [
    "def expand_paired_interactions(df):\n",
    "    expanded_rows = []\n",
    "    for _, row in df.iterrows():\n",
    "        ligands = row['ligand'].split('_')\n",
    "        receptors = row['receptor'].split('_')\n",
    "        \n",
    "        for ligand in ligands:\n",
    "            for receptor in receptors:\n",
    "                new_row = row.copy()\n",
    "                new_row['ligand'] = ligand\n",
    "                new_row['receptor'] = receptor\n",
    "                expanded_rows.append(new_row)\n",
    "    \n",
    "    return pd.DataFrame(expanded_rows)"
   ]
  },
  {
   "cell_type": "code",
   "execution_count": 5,
   "metadata": {},
   "outputs": [],
   "source": [
    "df_ligrec = ct.pp.ligand_receptor_database(\n",
    "        database='CellChat', \n",
    "        species='mouse', \n",
    "        signaling_type=\"Secreted Signaling\"\n",
    "    )\n",
    "            \n",
    "df_ligrec.columns = ['ligand', 'receptor', 'pathway', 'signaling']\n",
    "df_ligrec = expand_paired_interactions(df_ligrec)\n"
   ]
  },
  {
   "cell_type": "code",
   "execution_count": 6,
   "metadata": {},
   "outputs": [],
   "source": [
    "ilr2_df =df_ligrec.query('receptor.str.contains(\"Il2\") or ligand.str.contains(\"Il2\")')\n",
    "genes_of_interest = list(np.unique(ilr2_df.ligand.unique().tolist() + ilr2_df.receptor.unique().tolist()))\n",
    "# len(genes_of_interest)\n",
    "genes_of_interest = genes_of_interest + ['Bach2', 'Prdm1', 'Bcl6', 'Foxp3', 'Satb1', 'Id2']"
   ]
  },
  {
   "cell_type": "code",
   "execution_count": 7,
   "metadata": {},
   "outputs": [],
   "source": [
    "n_top_genes = 3000\n",
    "min_cells = 10\n",
    "min_counts = 250"
   ]
  },
  {
   "cell_type": "code",
   "execution_count": 8,
   "metadata": {},
   "outputs": [],
   "source": [
    "adata.var_names_make_unique()\n",
    "adata.var[\"mt\"] = adata.var_names.str.startswith(\"mt-\")\n",
    "sc.pp.calculate_qc_metrics(adata, qc_vars=[\"mt\"], inplace=True)\n",
    "sc.pp.filter_cells(adata, min_counts=min_counts)\n",
    "adata = adata[adata.obs[\"pct_counts_mt\"] < 20].copy()\n",
    "adata = adata[:, ~adata.var[\"mt\"]]\n",
    "\n",
    "sc.pp.filter_genes(adata, min_cells=min_cells)\n",
    "adata.layers[\"raw_count\"] = adata.X.copy()\n",
    "sc.pp.normalize_total(adata, inplace=True)\n",
    "sc.pp.log1p(adata)\n",
    "sc.pp.highly_variable_genes(\n",
    "    adata, flavor=\"seurat\", n_top_genes=n_top_genes)\n",
    "\n",
    "adata = adata[:, (adata.var.highly_variable | adata.var_names.isin(genes_of_interest))]\n",
    "adata.layers[\"normalized_count\"] = adata.to_df().values"
   ]
  },
  {
   "cell_type": "code",
   "execution_count": 9,
   "metadata": {},
   "outputs": [
    {
     "data": {
      "text/plain": [
       "(11567, 3020)"
      ]
     },
     "execution_count": 9,
     "metadata": {},
     "output_type": "execute_result"
    }
   ],
   "source": [
    "adata.shape"
   ]
  },
  {
   "cell_type": "code",
   "execution_count": 10,
   "metadata": {},
   "outputs": [
    {
     "data": {
      "text/plain": [
       "5.3231463"
      ]
     },
     "execution_count": 10,
     "metadata": {},
     "output_type": "execute_result"
    }
   ],
   "source": [
    "adata.X.toarray().max()"
   ]
  },
  {
   "cell_type": "code",
   "execution_count": 11,
   "metadata": {},
   "outputs": [
    {
     "data": {
      "text/plain": [
       "array([509.,  13., 630., ...,  33.,  36., 242.], dtype=float32)"
      ]
     },
     "execution_count": 11,
     "metadata": {},
     "output_type": "execute_result"
    }
   ],
   "source": [
    "adata.layers[\"raw_count\"].toarray().sum(0)"
   ]
  },
  {
   "cell_type": "code",
   "execution_count": 12,
   "metadata": {},
   "outputs": [
    {
     "name": "stdout",
     "output_type": "stream",
     "text": [
      "Calculating MAGIC...\n",
      "  Running MAGIC on 11567 cells and 3020 genes.\n",
      "  Calculating graph and diffusion operator...\n",
      "    Calculating PCA...\n",
      "    Calculated PCA in 2.09 seconds.\n",
      "    Calculating KNN search...\n",
      "    Calculated KNN search in 7.61 seconds.\n",
      "    Calculating affinities...\n",
      "    Calculated affinities in 7.54 seconds.\n",
      "  Calculated graph and diffusion operator in 17.25 seconds.\n",
      "  Calculating imputation...\n",
      "  Calculated imputation in 1.03 seconds.\n",
      "Calculated MAGIC in 18.30 seconds.\n",
      "CPU times: user 1min 53s, sys: 9.74 s, total: 2min 3s\n",
      "Wall time: 30.5 s\n"
     ]
    }
   ],
   "source": [
    "%%time\n",
    "\n",
    "pcs = BaseTravLR.perform_PCA(adata)\n",
    "BaseTravLR.knn_imputation(adata, pcs)"
   ]
  },
  {
   "cell_type": "code",
   "execution_count": 13,
   "metadata": {},
   "outputs": [],
   "source": [
    "adata.obs = adata.obs.drop(columns=['n_genes_by_counts',\n",
    "       'log1p_n_genes_by_counts', 'total_counts', 'log1p_total_counts',\n",
    "       'pct_counts_in_top_50_genes', 'pct_counts_in_top_100_genes',\n",
    "       'pct_counts_in_top_200_genes', 'pct_counts_in_top_500_genes',\n",
    "       'total_counts_mt', 'log1p_total_counts_mt', 'pct_counts_mt', 'n_counts'])\n",
    "\n",
    "adata.var.drop(columns=adata.var.columns, inplace=True)\n",
    "\n",
    "del adata.uns['rctd_cluster_colors']\n",
    "del adata.uns['hvg']\n",
    "del adata.uns['cluster_colors']"
   ]
  },
  {
   "cell_type": "code",
   "execution_count": 14,
   "metadata": {},
   "outputs": [],
   "source": [
    "import json\n",
    "with open('../../data/celltype_assign.json', 'r') as f:\n",
    "    cell_type_mapping = json.load(f)\n",
    "adata.obs['rctd_celltypes'] = adata.obs['rctd_cluster'].astype(str).map(cell_type_mapping)"
   ]
  },
  {
   "cell_type": "code",
   "execution_count": 15,
   "metadata": {},
   "outputs": [
    {
     "data": {
      "text/plain": [
       "AnnData object with n_obs × n_vars = 11567 × 3020\n",
       "    obs: 'cluster', 'rctd_cluster', 'rctd_celltypes'\n",
       "    uns: 'log1p'\n",
       "    obsm: 'X_spatial', 'rctd_results', 'spatial'\n",
       "    layers: 'raw_count', 'normalized_count', 'imputed_count'"
      ]
     },
     "execution_count": 15,
     "metadata": {},
     "output_type": "execute_result"
    }
   ],
   "source": [
    "adata"
   ]
  },
  {
   "cell_type": "code",
   "execution_count": 16,
   "metadata": {},
   "outputs": [
    {
     "data": {
      "text/plain": [
       "Layers with keys: raw_count, normalized_count, imputed_count"
      ]
     },
     "execution_count": 16,
     "metadata": {},
     "output_type": "execute_result"
    }
   ],
   "source": [
    "adata.layers"
   ]
  },
  {
   "cell_type": "code",
   "execution_count": 17,
   "metadata": {},
   "outputs": [
    {
     "data": {
      "text/plain": [
       "(3.7572141070762726, 5.3231463, 521.0)"
      ]
     },
     "execution_count": 17,
     "metadata": {},
     "output_type": "execute_result"
    }
   ],
   "source": [
    "adata.layers['imputed_count'].max(), adata.layers['normalized_count'].max(), adata.layers['raw_count'].max()"
   ]
  },
  {
   "cell_type": "code",
   "execution_count": 18,
   "metadata": {},
   "outputs": [
    {
     "name": "stderr",
     "output_type": "stream",
     "text": [
      "... storing 'rctd_celltypes' as categorical\n"
     ]
    }
   ],
   "source": [
    "adata.write_h5ad('../.cache/day3_lymph_rep_1.h5ad')"
   ]
  },
  {
   "cell_type": "code",
   "execution_count": null,
   "metadata": {},
   "outputs": [],
   "source": []
  },
  {
   "cell_type": "code",
   "execution_count": null,
   "metadata": {},
   "outputs": [],
   "source": []
  }
 ],
 "metadata": {
  "kernelspec": {
   "display_name": "SpaceOracle",
   "language": "python",
   "name": "python3"
  },
  "language_info": {
   "codemirror_mode": {
    "name": "ipython",
    "version": 3
   },
   "file_extension": ".py",
   "mimetype": "text/x-python",
   "name": "python",
   "nbconvert_exporter": "python",
   "pygments_lexer": "ipython3",
   "version": "3.9.19"
  }
 },
 "nbformat": 4,
 "nbformat_minor": 2
}
