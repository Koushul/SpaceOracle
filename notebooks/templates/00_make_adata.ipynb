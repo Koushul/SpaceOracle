{
 "cells": [
  {
   "cell_type": "code",
   "execution_count": 1,
   "metadata": {},
   "outputs": [],
   "source": [
    "%load_ext autoreload\n",
    "%autoreload 2"
   ]
  },
  {
   "cell_type": "code",
   "execution_count": 2,
   "metadata": {},
   "outputs": [
    {
     "name": "stderr",
     "output_type": "stream",
     "text": [
      "OMP: Info #276: omp_set_nested routine deprecated, please use omp_set_max_active_levels instead.\n"
     ]
    }
   ],
   "source": [
    "import sys\n",
    "sys.path.append('../../src')\n",
    "import scanpy as sc\n",
    "import numpy as np\n",
    "import commot as ct\n",
    "import pandas as pd\n",
    "from spaceoracle.oracles import BaseTravLR\n",
    "import matplotlib.pyplot as plt\n",
    "import celloracle as co"
   ]
  },
  {
   "cell_type": "code",
   "execution_count": 46,
   "metadata": {},
   "outputs": [],
   "source": [
    "# adata = sc.read_h5ad('../../data/slideseq/day3_1.h5ad')\n",
    "adata = sc.read_h5ad('../.cache/10X_tonsil.h5ad')"
   ]
  },
  {
   "cell_type": "code",
   "execution_count": 47,
   "metadata": {},
   "outputs": [],
   "source": [
    "import os"
   ]
  },
  {
   "cell_type": "code",
   "execution_count": 48,
   "metadata": {},
   "outputs": [],
   "source": [
    "def expand_paired_interactions(df):\n",
    "    expanded_rows = []\n",
    "    for _, row in df.iterrows():\n",
    "        ligands = row['ligand'].split('_')\n",
    "        receptors = row['receptor'].split('_')\n",
    "        \n",
    "        for ligand in ligands:\n",
    "            for receptor in receptors:\n",
    "                new_row = row.copy()\n",
    "                new_row['ligand'] = ligand\n",
    "                new_row['receptor'] = receptor\n",
    "                expanded_rows.append(new_row)\n",
    "    \n",
    "    return pd.DataFrame(expanded_rows)"
   ]
  },
  {
   "cell_type": "code",
   "execution_count": 49,
   "metadata": {},
   "outputs": [],
   "source": [
    "df_ligrec = ct.pp.ligand_receptor_database(\n",
    "        database='CellChat', \n",
    "        species='human',\n",
    "        signaling_type=\"Secreted Signaling\"\n",
    "    )\n",
    "            \n",
    "df_ligrec.columns = ['ligand', 'receptor', 'pathway', 'signaling']\n",
    "df_ligrec = expand_paired_interactions(df_ligrec)\n"
   ]
  },
  {
   "cell_type": "code",
   "execution_count": 50,
   "metadata": {},
   "outputs": [
    {
     "data": {
      "text/html": [
       "<div>\n",
       "<style scoped>\n",
       "    .dataframe tbody tr th:only-of-type {\n",
       "        vertical-align: middle;\n",
       "    }\n",
       "\n",
       "    .dataframe tbody tr th {\n",
       "        vertical-align: top;\n",
       "    }\n",
       "\n",
       "    .dataframe thead th {\n",
       "        text-align: right;\n",
       "    }\n",
       "</style>\n",
       "<table border=\"1\" class=\"dataframe\">\n",
       "  <thead>\n",
       "    <tr style=\"text-align: right;\">\n",
       "      <th></th>\n",
       "      <th>ligand</th>\n",
       "      <th>receptor</th>\n",
       "      <th>pathway</th>\n",
       "      <th>signaling</th>\n",
       "    </tr>\n",
       "  </thead>\n",
       "  <tbody>\n",
       "    <tr>\n",
       "      <th>0</th>\n",
       "      <td>TGFB1</td>\n",
       "      <td>TGFBR1</td>\n",
       "      <td>TGFb</td>\n",
       "      <td>Secreted Signaling</td>\n",
       "    </tr>\n",
       "    <tr>\n",
       "      <th>0</th>\n",
       "      <td>TGFB1</td>\n",
       "      <td>TGFBR2</td>\n",
       "      <td>TGFb</td>\n",
       "      <td>Secreted Signaling</td>\n",
       "    </tr>\n",
       "    <tr>\n",
       "      <th>1</th>\n",
       "      <td>TGFB2</td>\n",
       "      <td>TGFBR1</td>\n",
       "      <td>TGFb</td>\n",
       "      <td>Secreted Signaling</td>\n",
       "    </tr>\n",
       "    <tr>\n",
       "      <th>1</th>\n",
       "      <td>TGFB2</td>\n",
       "      <td>TGFBR2</td>\n",
       "      <td>TGFb</td>\n",
       "      <td>Secreted Signaling</td>\n",
       "    </tr>\n",
       "    <tr>\n",
       "      <th>2</th>\n",
       "      <td>TGFB3</td>\n",
       "      <td>TGFBR1</td>\n",
       "      <td>TGFb</td>\n",
       "      <td>Secreted Signaling</td>\n",
       "    </tr>\n",
       "    <tr>\n",
       "      <th>...</th>\n",
       "      <td>...</td>\n",
       "      <td>...</td>\n",
       "      <td>...</td>\n",
       "      <td>...</td>\n",
       "    </tr>\n",
       "    <tr>\n",
       "      <th>1194</th>\n",
       "      <td>UTS2B</td>\n",
       "      <td>UTS2R</td>\n",
       "      <td>UROTENSIN</td>\n",
       "      <td>Secreted Signaling</td>\n",
       "    </tr>\n",
       "    <tr>\n",
       "      <th>1195</th>\n",
       "      <td>UTS2B</td>\n",
       "      <td>SSTR5</td>\n",
       "      <td>UROTENSIN</td>\n",
       "      <td>Secreted Signaling</td>\n",
       "    </tr>\n",
       "    <tr>\n",
       "      <th>1196</th>\n",
       "      <td>BAG6</td>\n",
       "      <td>NCR3</td>\n",
       "      <td>BAG</td>\n",
       "      <td>Secreted Signaling</td>\n",
       "    </tr>\n",
       "    <tr>\n",
       "      <th>1197</th>\n",
       "      <td>LGALS9</td>\n",
       "      <td>HAVCR2</td>\n",
       "      <td>GALECTIN</td>\n",
       "      <td>Secreted Signaling</td>\n",
       "    </tr>\n",
       "    <tr>\n",
       "      <th>1198</th>\n",
       "      <td>LGALS9</td>\n",
       "      <td>CD44</td>\n",
       "      <td>GALECTIN</td>\n",
       "      <td>Secreted Signaling</td>\n",
       "    </tr>\n",
       "  </tbody>\n",
       "</table>\n",
       "<p>1858 rows × 4 columns</p>\n",
       "</div>"
      ],
      "text/plain": [
       "      ligand receptor    pathway           signaling\n",
       "0      TGFB1   TGFBR1       TGFb  Secreted Signaling\n",
       "0      TGFB1   TGFBR2       TGFb  Secreted Signaling\n",
       "1      TGFB2   TGFBR1       TGFb  Secreted Signaling\n",
       "1      TGFB2   TGFBR2       TGFb  Secreted Signaling\n",
       "2      TGFB3   TGFBR1       TGFb  Secreted Signaling\n",
       "...      ...      ...        ...                 ...\n",
       "1194   UTS2B    UTS2R  UROTENSIN  Secreted Signaling\n",
       "1195   UTS2B    SSTR5  UROTENSIN  Secreted Signaling\n",
       "1196    BAG6     NCR3        BAG  Secreted Signaling\n",
       "1197  LGALS9   HAVCR2   GALECTIN  Secreted Signaling\n",
       "1198  LGALS9     CD44   GALECTIN  Secreted Signaling\n",
       "\n",
       "[1858 rows x 4 columns]"
      ]
     },
     "execution_count": 50,
     "metadata": {},
     "output_type": "execute_result"
    }
   ],
   "source": [
    "df_ligrec"
   ]
  },
  {
   "cell_type": "code",
   "execution_count": 51,
   "metadata": {},
   "outputs": [],
   "source": [
    "# ilr2_df =df_ligrec.query('receptor.str.contains(\"Il2\") or ligand.str.contains(\"Il2\")')\n",
    "# genes_of_interest = list(np.unique(ilr2_df.ligand.unique().tolist() + ilr2_df.receptor.unique().tolist()))\n",
    "# genes_of_interest = genes_of_interest + ['Bach2', 'Prdm1', 'Bcl6', 'Foxp3', 'Satb1', 'Id2']\n",
    "\n",
    "ilr2_df =df_ligrec.query('receptor.str.contains(\"IL2\") or ligand.str.contains(\"IL2\")')\n",
    "genes_of_interest = list(np.unique(ilr2_df.ligand.unique().tolist() + ilr2_df.receptor.unique().tolist()))\n",
    "genes_of_interest = genes_of_interest + ['PAX5', 'CD74', 'BACH2', 'PRDM1', 'BCL6', 'FOXP3', 'SATB1', 'ID2']\n"
   ]
  },
  {
   "cell_type": "code",
   "execution_count": 52,
   "metadata": {},
   "outputs": [],
   "source": [
    "n_top_genes = 5000\n",
    "min_cells = 5\n",
    "min_counts = 100"
   ]
  },
  {
   "cell_type": "code",
   "execution_count": 53,
   "metadata": {},
   "outputs": [],
   "source": [
    "adata.var_names_make_unique()\n",
    "adata.var[\"mt\"] = adata.var_names.str.startswith(\"mt-\")\n",
    "sc.pp.calculate_qc_metrics(adata, qc_vars=[\"mt\"], inplace=True)\n",
    "sc.pp.filter_cells(adata, min_counts=min_counts)\n",
    "adata = adata[adata.obs[\"pct_counts_mt\"] < 20].copy()\n",
    "adata = adata[:, ~adata.var[\"mt\"]]\n",
    "\n",
    "sc.pp.filter_genes(adata, min_cells=min_cells)\n",
    "adata.layers[\"raw_count\"] = adata.X.copy()\n",
    "sc.pp.normalize_total(adata, inplace=True)\n",
    "sc.pp.log1p(adata)\n",
    "sc.pp.highly_variable_genes(\n",
    "    adata, flavor=\"seurat\", n_top_genes=n_top_genes)\n",
    "\n",
    "adata = adata[:, (adata.var.highly_variable | adata.var_names.isin(genes_of_interest))]\n",
    "adata.layers[\"normalized_count\"] = adata.to_df().values"
   ]
  },
  {
   "cell_type": "code",
   "execution_count": 54,
   "metadata": {},
   "outputs": [
    {
     "data": {
      "text/plain": [
       "(4194, 5014)"
      ]
     },
     "execution_count": 54,
     "metadata": {},
     "output_type": "execute_result"
    }
   ],
   "source": [
    "adata.shape"
   ]
  },
  {
   "cell_type": "code",
   "execution_count": 55,
   "metadata": {},
   "outputs": [
    {
     "data": {
      "text/plain": [
       "9.495499"
      ]
     },
     "execution_count": 55,
     "metadata": {},
     "output_type": "execute_result"
    }
   ],
   "source": [
    "adata.X.toarray().max()"
   ]
  },
  {
   "cell_type": "code",
   "execution_count": 56,
   "metadata": {},
   "outputs": [
    {
     "data": {
      "text/plain": [
       "array([  445.,  1545.,  1996., ..., 16152., 12785.,   353.], dtype=float32)"
      ]
     },
     "execution_count": 56,
     "metadata": {},
     "output_type": "execute_result"
    }
   ],
   "source": [
    "adata.layers[\"raw_count\"].toarray().sum(0)"
   ]
  },
  {
   "cell_type": "code",
   "execution_count": 57,
   "metadata": {},
   "outputs": [
    {
     "name": "stdout",
     "output_type": "stream",
     "text": [
      "Calculating MAGIC...\n",
      "  Running MAGIC on 4194 cells and 5014 genes.\n",
      "  Calculating graph and diffusion operator...\n",
      "    Calculating PCA...\n",
      "    Calculated PCA in 0.95 seconds.\n",
      "    Calculating KNN search...\n",
      "    Calculated KNN search in 0.71 seconds.\n",
      "    Calculating affinities...\n",
      "    Calculated affinities in 0.61 seconds.\n",
      "  Calculated graph and diffusion operator in 2.30 seconds.\n",
      "  Calculating imputation...\n",
      "  Calculated imputation in 2.40 seconds.\n",
      "Calculated MAGIC in 4.71 seconds.\n",
      "CPU times: user 1min 54s, sys: 9.95 s, total: 2min 4s\n",
      "Wall time: 17.6 s\n"
     ]
    }
   ],
   "source": [
    "%%time\n",
    "\n",
    "pcs = BaseTravLR.perform_PCA(adata)\n",
    "BaseTravLR.knn_imputation(adata, pcs)"
   ]
  },
  {
   "cell_type": "code",
   "execution_count": 58,
   "metadata": {},
   "outputs": [],
   "source": [
    "adata.obs = adata.obs.drop(columns=['n_genes_by_counts',\n",
    "       'log1p_n_genes_by_counts', 'total_counts', 'log1p_total_counts',\n",
    "       'pct_counts_in_top_50_genes', 'pct_counts_in_top_100_genes',\n",
    "       'pct_counts_in_top_200_genes', 'pct_counts_in_top_500_genes',\n",
    "       'total_counts_mt', 'log1p_total_counts_mt', 'pct_counts_mt', 'n_counts'])\n",
    "\n",
    "adata.var.drop(columns=adata.var.columns, inplace=True)\n",
    "\n",
    "# del adata.uns['rctd_cluster_colors']\n",
    "# del adata.uns['hvg']\n",
    "# del adata.uns['cluster_colors']"
   ]
  },
  {
   "cell_type": "code",
   "execution_count": 59,
   "metadata": {},
   "outputs": [],
   "source": [
    "# import json\n",
    "# with open('../../data/celltype_assign.json', 'r') as f:\n",
    "#     cell_type_mapping = json.load(f)\n",
    "# adata.obs['rctd_celltypes'] = adata.obs['rctd_cluster'].astype(str).map(cell_type_mapping)"
   ]
  },
  {
   "cell_type": "code",
   "execution_count": 60,
   "metadata": {},
   "outputs": [
    {
     "data": {
      "text/plain": [
       "AnnData object with n_obs × n_vars = 4194 × 5014\n",
       "    obs: 'celltype'\n",
       "    uns: 'spatial', 'log1p', 'hvg'\n",
       "    obsm: 'spatial'\n",
       "    layers: 'counts', 'raw_count', 'normalized_count', 'imputed_count'"
      ]
     },
     "execution_count": 60,
     "metadata": {},
     "output_type": "execute_result"
    }
   ],
   "source": [
    "adata"
   ]
  },
  {
   "cell_type": "code",
   "execution_count": 61,
   "metadata": {},
   "outputs": [
    {
     "data": {
      "text/plain": [
       "Layers with keys: counts, raw_count, normalized_count, imputed_count"
      ]
     },
     "execution_count": 61,
     "metadata": {},
     "output_type": "execute_result"
    }
   ],
   "source": [
    "adata.layers"
   ]
  },
  {
   "cell_type": "code",
   "execution_count": 62,
   "metadata": {},
   "outputs": [
    {
     "data": {
      "text/plain": [
       "(8.790769632761492, 9.495499, 21025.0)"
      ]
     },
     "execution_count": 62,
     "metadata": {},
     "output_type": "execute_result"
    }
   ],
   "source": [
    "adata.layers['imputed_count'].max(), adata.layers['normalized_count'].max(), adata.layers['raw_count'].max()"
   ]
  },
  {
   "cell_type": "code",
   "execution_count": 63,
   "metadata": {},
   "outputs": [],
   "source": [
    "# adata.write_h5ad('../.cache/day3_lymph_rep_1.h5ad')\n",
    "\n",
    "adata.write_h5ad('../.cache/10X_tonsil_processed.h5ad')"
   ]
  },
  {
   "cell_type": "code",
   "execution_count": null,
   "metadata": {},
   "outputs": [],
   "source": []
  },
  {
   "cell_type": "code",
   "execution_count": null,
   "metadata": {},
   "outputs": [],
   "source": []
  }
 ],
 "metadata": {
  "kernelspec": {
   "display_name": "SpaceOracle",
   "language": "python",
   "name": "python3"
  },
  "language_info": {
   "codemirror_mode": {
    "name": "ipython",
    "version": 3
   },
   "file_extension": ".py",
   "mimetype": "text/x-python",
   "name": "python",
   "nbconvert_exporter": "python",
   "pygments_lexer": "ipython3",
   "version": "3.9.19"
  }
 },
 "nbformat": 4,
 "nbformat_minor": 2
}
