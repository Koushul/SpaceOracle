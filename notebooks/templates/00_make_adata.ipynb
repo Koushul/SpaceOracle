{
 "cells": [
  {
   "cell_type": "code",
   "execution_count": 1,
   "metadata": {},
   "outputs": [],
   "source": [
    "import sys\n",
    "sys.path.append('../../src')\n",
    "import anndata\n",
    "import scanpy as sc\n",
    "import numpy as np\n",
    "from spaceoracle import SpaceOracle\n",
    "import commot as ct\n",
    "import pandas as pd"
   ]
  },
  {
   "cell_type": "code",
   "execution_count": 2,
   "metadata": {},
   "outputs": [],
   "source": [
    "adata = sc.read_h5ad('../../data/slideseq/day3_1.h5ad')"
   ]
  },
  {
   "cell_type": "code",
   "execution_count": 3,
   "metadata": {},
   "outputs": [],
   "source": [
    "def expand_paired_interactions(df):\n",
    "    expanded_rows = []\n",
    "    for _, row in df.iterrows():\n",
    "        ligands = row['ligand'].split('_')\n",
    "        receptors = row['receptor'].split('_')\n",
    "        \n",
    "        for ligand in ligands:\n",
    "            for receptor in receptors:\n",
    "                new_row = row.copy()\n",
    "                new_row['ligand'] = ligand\n",
    "                new_row['receptor'] = receptor\n",
    "                expanded_rows.append(new_row)\n",
    "    \n",
    "    return pd.DataFrame(expanded_rows)"
   ]
  },
  {
   "cell_type": "code",
   "execution_count": 4,
   "metadata": {},
   "outputs": [],
   "source": [
    "df_ligrec = ct.pp.ligand_receptor_database(\n",
    "        database='CellChat', \n",
    "        species='mouse', \n",
    "        signaling_type=\"Secreted Signaling\"\n",
    "    )\n",
    "            \n",
    "df_ligrec.columns = ['ligand', 'receptor', 'pathway', 'signaling']\n",
    "df_ligrec = expand_paired_interactions(df_ligrec)\n"
   ]
  },
  {
   "cell_type": "code",
   "execution_count": 5,
   "metadata": {},
   "outputs": [],
   "source": [
    "ilr2_df =df_ligrec.query('receptor.str.contains(\"Il2\") or ligand.str.contains(\"Il2\")')\n",
    "genes_of_interest = list(np.unique(ilr2_df.ligand.unique().tolist() + ilr2_df.receptor.unique().tolist()))\n",
    "# len(genes_of_interest)\n",
    "genes_of_interest = genes_of_interest + ['Bach2', 'Prdm1', 'Bcl6', 'Foxp3', 'Satb1', 'Id2']"
   ]
  },
  {
   "cell_type": "code",
   "execution_count": 6,
   "metadata": {},
   "outputs": [],
   "source": [
    "n_top_genes = 4000\n",
    "min_cells = 10\n",
    "min_counts = 250"
   ]
  },
  {
   "cell_type": "code",
   "execution_count": 7,
   "metadata": {},
   "outputs": [
    {
     "name": "stderr",
     "output_type": "stream",
     "text": [
      "OMP: Info #276: omp_set_nested routine deprecated, please use omp_set_max_active_levels instead.\n"
     ]
    }
   ],
   "source": [
    "adata.var_names_make_unique()\n",
    "adata.var[\"mt\"] = adata.var_names.str.startswith(\"mt-\")\n",
    "sc.pp.calculate_qc_metrics(adata, qc_vars=[\"mt\"], inplace=True)\n",
    "sc.pp.filter_cells(adata, min_counts=min_counts)\n",
    "adata = adata[adata.obs[\"pct_counts_mt\"] < 20].copy()\n",
    "adata = adata[:, ~adata.var[\"mt\"]]\n",
    "sc.pp.filter_genes(adata, min_cells=min_cells)\n",
    "adata.layers[\"raw_count\"] = adata.X\n",
    "sc.pp.normalize_total(adata, inplace=True)\n",
    "sc.pp.log1p(adata)\n",
    "sc.pp.highly_variable_genes(\n",
    "    adata, flavor=\"seurat\", n_top_genes=n_top_genes)\n",
    "\n",
    "adata = adata[:, (adata.var.highly_variable | adata.var_names.isin(genes_of_interest))]\n",
    "adata.layers[\"normalized_count\"] = adata.to_df().values"
   ]
  },
  {
   "cell_type": "code",
   "execution_count": 8,
   "metadata": {},
   "outputs": [
    {
     "data": {
      "text/plain": [
       "Ebi3        True\n",
       "Il10rb      True\n",
       "Satb1       True\n",
       "Foxp3       True\n",
       "Bcl6        True\n",
       "Prdm1       True\n",
       "Bach2       True\n",
       "Il7         True\n",
       "Il6st       True\n",
       "Il4         True\n",
       "Il2rg       True\n",
       "Il2rb       True\n",
       "Il2ra       True\n",
       "Il27ra      True\n",
       "Il24        True\n",
       "Id2         True\n",
       "Il12b       True\n",
       "Il12rb1     True\n",
       "Il15        True\n",
       "Il21r       True\n",
       "Il21        True\n",
       "Il20rb      True\n",
       "Il17ra      True\n",
       "Il17rb      True\n",
       "Il2         True\n",
       "Il23a      False\n",
       "Il9        False\n",
       "Il20       False\n",
       "Il19       False\n",
       "Il22ra1    False\n",
       "Il20ra     False\n",
       "Il27       False\n",
       "Il25       False\n",
       "Il22       False\n",
       "Il23r      False\n",
       "dtype: bool"
      ]
     },
     "execution_count": 8,
     "metadata": {},
     "output_type": "execute_result"
    }
   ],
   "source": [
    "pd.Series(np.in1d(genes_of_interest, adata.var_names), index=genes_of_interest).sort_values(ascending=False)"
   ]
  },
  {
   "cell_type": "code",
   "execution_count": 9,
   "metadata": {},
   "outputs": [
    {
     "data": {
      "text/plain": [
       "['Ebi3',\n",
       " 'Il10rb',\n",
       " 'Il12b',\n",
       " 'Il12rb1',\n",
       " 'Il15',\n",
       " 'Il17ra',\n",
       " 'Il17rb',\n",
       " 'Il19',\n",
       " 'Il2',\n",
       " 'Il20',\n",
       " 'Il20ra',\n",
       " 'Il20rb',\n",
       " 'Il21',\n",
       " 'Il21r',\n",
       " 'Il22',\n",
       " 'Il22ra1',\n",
       " 'Il23a',\n",
       " 'Il23r',\n",
       " 'Il24',\n",
       " 'Il25',\n",
       " 'Il27',\n",
       " 'Il27ra',\n",
       " 'Il2ra',\n",
       " 'Il2rb',\n",
       " 'Il2rg',\n",
       " 'Il4',\n",
       " 'Il6st',\n",
       " 'Il7',\n",
       " 'Il9',\n",
       " 'Bach2',\n",
       " 'Prdm1',\n",
       " 'Bcl6',\n",
       " 'Foxp3',\n",
       " 'Satb1',\n",
       " 'Id2']"
      ]
     },
     "execution_count": 9,
     "metadata": {},
     "output_type": "execute_result"
    }
   ],
   "source": [
    "genes_of_interest"
   ]
  },
  {
   "cell_type": "code",
   "execution_count": 10,
   "metadata": {},
   "outputs": [
    {
     "name": "stdout",
     "output_type": "stream",
     "text": [
      "CPU times: user 9min 32s, sys: 14.7 s, total: 9min 47s\n",
      "Wall time: 1min 45s\n"
     ]
    }
   ],
   "source": [
    "%%time\n",
    "\n",
    "pcs = SpaceOracle.perform_PCA(adata)\n",
    "SpaceOracle.knn_imputation(adata, pcs)"
   ]
  },
  {
   "cell_type": "code",
   "execution_count": 11,
   "metadata": {},
   "outputs": [],
   "source": [
    "adata.obs = adata.obs.drop(columns=['n_genes_by_counts',\n",
    "       'log1p_n_genes_by_counts', 'total_counts', 'log1p_total_counts',\n",
    "       'pct_counts_in_top_50_genes', 'pct_counts_in_top_100_genes',\n",
    "       'pct_counts_in_top_200_genes', 'pct_counts_in_top_500_genes',\n",
    "       'total_counts_mt', 'log1p_total_counts_mt', 'pct_counts_mt', 'n_counts'])\n",
    "\n",
    "adata.var.drop(columns=adata.var.columns, inplace=True)\n",
    "\n",
    "del adata.uns['rctd_cluster_colors']\n",
    "del adata.uns['hvg']\n",
    "del adata.uns['cluster_colors']"
   ]
  },
  {
   "cell_type": "code",
   "execution_count": 12,
   "metadata": {},
   "outputs": [],
   "source": [
    "import json\n",
    "with open('../../data/celltype_assign.json', 'r') as f:\n",
    "    cell_type_mapping = json.load(f)\n",
    "adata.obs['rctd_celltypes'] = adata.obs['rctd_cluster'].astype(str).map(cell_type_mapping)"
   ]
  },
  {
   "cell_type": "code",
   "execution_count": 13,
   "metadata": {},
   "outputs": [
    {
     "data": {
      "text/plain": [
       "AnnData object with n_obs × n_vars = 11567 × 4018\n",
       "    obs: 'cluster', 'rctd_cluster', 'rctd_celltypes'\n",
       "    uns: 'log1p'\n",
       "    obsm: 'X_spatial', 'rctd_results', 'spatial'\n",
       "    layers: 'raw_count', 'normalized_count', 'imputed_count'"
      ]
     },
     "execution_count": 13,
     "metadata": {},
     "output_type": "execute_result"
    }
   ],
   "source": [
    "adata"
   ]
  },
  {
   "cell_type": "code",
   "execution_count": 14,
   "metadata": {},
   "outputs": [],
   "source": [
    "adata.write_h5ad('../.cache/adata_train_new.h5ad')"
   ]
  },
  {
   "cell_type": "code",
   "execution_count": null,
   "metadata": {},
   "outputs": [],
   "source": []
  }
 ],
 "metadata": {
  "kernelspec": {
   "display_name": "SpaceOracle",
   "language": "python",
   "name": "python3"
  },
  "language_info": {
   "codemirror_mode": {
    "name": "ipython",
    "version": 3
   },
   "file_extension": ".py",
   "mimetype": "text/x-python",
   "name": "python",
   "nbconvert_exporter": "python",
   "pygments_lexer": "ipython3",
   "version": "3.9.19"
  }
 },
 "nbformat": 4,
 "nbformat_minor": 2
}
