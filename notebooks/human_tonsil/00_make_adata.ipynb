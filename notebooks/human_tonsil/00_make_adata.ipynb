{
 "cells": [
  {
   "cell_type": "code",
   "execution_count": 1,
   "metadata": {},
   "outputs": [],
   "source": [
    "%load_ext autoreload\n",
    "%autoreload 2"
   ]
  },
  {
   "cell_type": "code",
   "execution_count": 2,
   "metadata": {},
   "outputs": [],
   "source": [
    "import scanpy as sc\n",
    "import numpy as np\n",
    "import pandas as pd\n",
    "import matplotlib.pyplot as plt\n",
    "import re"
   ]
  },
  {
   "cell_type": "code",
   "execution_count": 3,
   "metadata": {},
   "outputs": [],
   "source": [
    "import sys\n",
    "sys.path.append('..')"
   ]
  },
  {
   "cell_type": "code",
   "execution_count": 4,
   "metadata": {},
   "outputs": [
    {
     "data": {
      "text/plain": [
       "View of AnnData object with n_obs × n_vars = 5778 × 19171\n",
       "    obs: 'cell_type'\n",
       "    obsm: 'spatial'"
      ]
     },
     "execution_count": 4,
     "metadata": {},
     "output_type": "execute_result"
    }
   ],
   "source": [
    "# Human Tonsil snRNAseq from SlideTags\n",
    "# https://www.nature.com/articles/s41586-023-06837-4\n",
    "\n",
    "adata = sc.read_h5ad('/Users/koush/Downloads/slidetags_human_tonsil/human_tonsil.h5ad')\n",
    "adata = adata[:, [gene for gene in adata.var_names if not bool(re.search(r'\\.\\d+$', gene))]]\n",
    "adata"
   ]
  },
  {
   "cell_type": "code",
   "execution_count": 5,
   "metadata": {},
   "outputs": [],
   "source": [
    "del adata.uns"
   ]
  },
  {
   "cell_type": "code",
   "execution_count": 6,
   "metadata": {},
   "outputs": [
    {
     "data": {
      "text/plain": [
       "76"
      ]
     },
     "execution_count": 6,
     "metadata": {},
     "output_type": "execute_result"
    }
   ],
   "source": [
    "extra_genes = np.unique(['FOXO1', 'BATF', 'BACH2', 'PRDM1', 'BCL6', 'FOXP3', 'SATB1', 'ID2', 'PAX5', \n",
    "    'CXCR4', 'CD83', 'CD86', 'AICDA', 'BCL2A1', 'BCL2', 'LMO2', 'CXCL13', \n",
    "    'CD80', 'TRAF3', 'CCL19', 'CCR7', 'CCL21', 'CD40LG', 'CD40', 'IRF4', 'IRF8', \n",
    "    'ITGA5', 'ITGB1', 'ITGAM', 'ITGB2', 'CCR6', 'CD19', \n",
    "    'BCL2', 'IL2', 'IL4', 'CD83', 'CD86', 'SDF4', 'SDF2', 'SDF2L1', \n",
    "    'S1PR1', 'BMS1P14', 'S1PR3', 'S1PR4', 'S1PR2', 'EBI3', 'CD28', \n",
    "    'MICOS10', 'ICOS', 'MICOS13', 'ICOSLG', 'PDCD11', 'PDCD1', 'CD274', \n",
    "    'PDCD1LG2', 'TICAM2', 'ICAM2', 'TICAM1', 'EPCAM', 'ICAM1', 'ICAM3', \n",
    "    'VCAM1', 'CXCR4', 'CXCR5',  'CXCL13', 'CXCL14', 'CXCL12', 'CR2', 'NFKBIZ', \n",
    "    'NFKB1', 'NFKBIL1', 'NFKBIE', 'NFKB2', 'NFKBIA', 'NFKBID', 'NFKBIB', \n",
    "    'IL6R', 'IL6ST', 'EGR1', 'EGR3', 'EGR2'])\n",
    "\n",
    "len(extra_genes)"
   ]
  },
  {
   "cell_type": "code",
   "execution_count": 7,
   "metadata": {},
   "outputs": [],
   "source": [
    "# [i for i in adata.var_names if 'EBI' in i]"
   ]
  },
  {
   "cell_type": "code",
   "execution_count": 8,
   "metadata": {},
   "outputs": [],
   "source": [
    "# %matplotlib inline\n",
    "# plt.rcParams['figure.figsize'] = (5, 5)\n",
    "# plt.rcParams['font.size'] = 14\n",
    "# plt.rcParams['figure.dpi'] = 100\n",
    "# sc.pl.spatial(adata, color=['IL2', 'IL4'], ncols=10,\n",
    "#     spot_size=50, frameon=False, linewidth=0.2, edgecolor='black')"
   ]
  },
  {
   "cell_type": "code",
   "execution_count": 9,
   "metadata": {},
   "outputs": [],
   "source": [
    "import os, sys \n",
    "sys.path.append('../../src')"
   ]
  },
  {
   "cell_type": "code",
   "execution_count": 10,
   "metadata": {},
   "outputs": [
    {
     "name": "stderr",
     "output_type": "stream",
     "text": [
      "OMP: Info #276: omp_set_nested routine deprecated, please use omp_set_max_active_levels instead.\n"
     ]
    },
    {
     "name": "stdout",
     "output_type": "stream",
     "text": [
      "Loading prebuilt promoter base-GRN. Version: hg19_gimmemotifsv5_fpr2\n"
     ]
    }
   ],
   "source": [
    "import celloracle as co\n",
    "base_GRN = co.data.load_human_promoter_base_GRN()"
   ]
  },
  {
   "cell_type": "code",
   "execution_count": 11,
   "metadata": {},
   "outputs": [
    {
     "data": {
      "text/plain": [
       "100"
      ]
     },
     "execution_count": 11,
     "metadata": {},
     "output_type": "execute_result"
    }
   ],
   "source": [
    "from spaceoracle.tools.network import expand_paired_interactions\n",
    "import commot as ct\n",
    "\n",
    "df_ligrec = ct.pp.ligand_receptor_database(\n",
    "        database='CellChat', \n",
    "        species='human', \n",
    "        signaling_type=\"Secreted Signaling\"\n",
    "    )\n",
    "            \n",
    "df_ligrec.columns = ['ligand', 'receptor', 'pathway', 'signaling']\n",
    "df_ligrec = expand_paired_interactions(df_ligrec)\n",
    "\n",
    "coms_df =df_ligrec.query('receptor.str.contains(\"CXCR\") or ligand.str.contains(\"CXCL\")')\n",
    "genes_of_interest = list(np.unique(coms_df.ligand.unique().tolist() + \\\n",
    "                         coms_df.receptor.unique().tolist()))\n",
    "# len(genes_of_interest)\n",
    "genes_of_interest = genes_of_interest + list(extra_genes)\n",
    "len(genes_of_interest)"
   ]
  },
  {
   "cell_type": "code",
   "execution_count": 12,
   "metadata": {},
   "outputs": [],
   "source": [
    "n_top_genes = 3500\n",
    "min_cells = 50\n",
    "min_counts = 200"
   ]
  },
  {
   "cell_type": "code",
   "execution_count": 13,
   "metadata": {},
   "outputs": [
    {
     "data": {
      "text/plain": [
       "AnnData object with n_obs × n_vars = 5778 × 3544\n",
       "    obs: 'cell_type', 'n_genes_by_counts', 'log1p_n_genes_by_counts', 'total_counts', 'log1p_total_counts', 'pct_counts_in_top_50_genes', 'pct_counts_in_top_100_genes', 'pct_counts_in_top_200_genes', 'pct_counts_in_top_500_genes', 'total_counts_MT', 'log1p_total_counts_MT', 'pct_counts_MT', 'n_counts'\n",
       "    var: 'MT', 'n_cells_by_counts', 'mean_counts', 'log1p_mean_counts', 'pct_dropout_by_counts', 'total_counts', 'log1p_total_counts', 'n_cells', 'highly_variable', 'means', 'dispersions', 'dispersions_norm'\n",
       "    uns: 'hvg'\n",
       "    obsm: 'spatial'\n",
       "    layers: 'normalized_count'"
      ]
     },
     "execution_count": 13,
     "metadata": {},
     "output_type": "execute_result"
    }
   ],
   "source": [
    "adata.var_names_make_unique()\n",
    "adata.var[\"MT\"] = adata.var_names.str.startswith(\"MT-\")\n",
    "sc.pp.calculate_qc_metrics(adata, qc_vars=[\"MT\"], inplace=True)\n",
    "sc.pp.filter_cells(adata, min_counts=min_counts)\n",
    "adata = adata[adata.obs[\"pct_counts_MT\"] < 20].copy()\n",
    "adata = adata[:, ~adata.var[\"MT\"]]\n",
    "\n",
    "sc.pp.filter_genes(adata, min_cells=min_cells)\n",
    "# adata.layers[\"raw_count\"] = adata.X.copy()\n",
    "# sc.pp.normalize_total(adata, inplace=True)\n",
    "# sc.pp.log1p(adata)\n",
    "sc.pp.highly_variable_genes(\n",
    "    adata, flavor=\"seurat\", n_top_genes=n_top_genes)\n",
    "\n",
    "adata = adata[:, (adata.var.highly_variable | adata.var_names.isin(genes_of_interest))]\n",
    "\n",
    "adata.layers[\"normalized_count\"] = adata.to_df().values.copy()\n",
    "adata"
   ]
  },
  {
   "cell_type": "code",
   "execution_count": 15,
   "metadata": {},
   "outputs": [],
   "source": [
    "adata.obs['cell_type'] = adata.obs['cell_type'].astype('category')"
   ]
  },
  {
   "cell_type": "code",
   "execution_count": 16,
   "metadata": {},
   "outputs": [
    {
     "data": {
      "text/plain": [
       "cell_type\n",
       "B_germinal_center      1848\n",
       "B_naive                1067\n",
       "T_CD4                   779\n",
       "B_memory                516\n",
       "T_follicular_helper     294\n",
       "plasma                  262\n",
       "FDC                     255\n",
       "T_CD8                   238\n",
       "NK                      170\n",
       "mDC                     137\n",
       "myeloid                 102\n",
       "pDC                      64\n",
       "T_double_neg             46\n",
       "Name: count, dtype: int64"
      ]
     },
     "execution_count": 16,
     "metadata": {},
     "output_type": "execute_result"
    }
   ],
   "source": [
    "adata.obs['cell_type'].value_counts()"
   ]
  },
  {
   "cell_type": "code",
   "execution_count": 17,
   "metadata": {},
   "outputs": [],
   "source": [
    "adata.obs['cell_type_int'] = pd.Categorical(adata.obs['cell_type']).codes"
   ]
  },
  {
   "cell_type": "code",
   "execution_count": 18,
   "metadata": {},
   "outputs": [],
   "source": [
    "adata.write_h5ad('/Users/koush/Projects/SpaceOracle/data/slidetags/snrna_human_tonsil.h5ad')"
   ]
  },
  {
   "cell_type": "code",
   "execution_count": 19,
   "metadata": {},
   "outputs": [
    {
     "data": {
      "text/plain": [
       "AnnData object with n_obs × n_vars = 5778 × 3544\n",
       "    obs: 'cell_type', 'n_genes_by_counts', 'log1p_n_genes_by_counts', 'total_counts', 'log1p_total_counts', 'pct_counts_in_top_50_genes', 'pct_counts_in_top_100_genes', 'pct_counts_in_top_200_genes', 'pct_counts_in_top_500_genes', 'total_counts_MT', 'log1p_total_counts_MT', 'pct_counts_MT', 'n_counts', 'cell_type_int'\n",
       "    var: 'MT', 'n_cells_by_counts', 'mean_counts', 'log1p_mean_counts', 'pct_dropout_by_counts', 'total_counts', 'log1p_total_counts', 'n_cells', 'highly_variable', 'means', 'dispersions', 'dispersions_norm'\n",
       "    uns: 'hvg'\n",
       "    obsm: 'spatial'\n",
       "    layers: 'normalized_count'"
      ]
     },
     "execution_count": 19,
     "metadata": {},
     "output_type": "execute_result"
    }
   ],
   "source": [
    "import scanpy as sc \n",
    "adata = sc.read_h5ad('/Users/koush/Projects/SpaceOracle/data/slidetags/snrna_human_tonsil.h5ad')\n",
    "adata"
   ]
  },
  {
   "cell_type": "code",
   "execution_count": null,
   "metadata": {},
   "outputs": [],
   "source": []
  }
 ],
 "metadata": {
  "kernelspec": {
   "display_name": "bee",
   "language": "python",
   "name": "python3"
  },
  "language_info": {
   "codemirror_mode": {
    "name": "ipython",
    "version": 3
   },
   "file_extension": ".py",
   "mimetype": "text/x-python",
   "name": "python",
   "nbconvert_exporter": "python",
   "pygments_lexer": "ipython3",
   "version": "3.9.19"
  }
 },
 "nbformat": 4,
 "nbformat_minor": 2
}
