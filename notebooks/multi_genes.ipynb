{
 "cells": [
  {
   "cell_type": "code",
   "execution_count": 1,
   "metadata": {},
   "outputs": [],
   "source": [
    "%load_ext autoreload\n",
    "%autoreload 2"
   ]
  },
  {
   "cell_type": "code",
   "execution_count": 2,
   "metadata": {},
   "outputs": [],
   "source": [
    "import sys\n",
    "sys.path.append('../src')"
   ]
  },
  {
   "cell_type": "code",
   "execution_count": 3,
   "metadata": {},
   "outputs": [],
   "source": [
    "import torch\n",
    "import scipy.sparse as sp\n",
    "import glob\n",
    "import warnings\n",
    "import anndata\n",
    "import matplotlib.pyplot as plt\n",
    "import scanpy as sc\n",
    "import numpy as np\n",
    "import seaborn as sns\n",
    "import torch\n",
    "import pyro"
   ]
  },
  {
   "cell_type": "code",
   "execution_count": 4,
   "metadata": {},
   "outputs": [],
   "source": [
    "import spaceoracle\n",
    "from spaceoracle import SpaceOracle"
   ]
  },
  {
   "cell_type": "code",
   "execution_count": 5,
   "metadata": {},
   "outputs": [
    {
     "data": {
      "text/plain": [
       "AnnData object with n_obs × n_vars = 10277 × 4998\n",
       "    obs: 'cluster', 'rctd_cluster', 'n_genes_by_counts', 'log1p_n_genes_by_counts', 'total_counts', 'log1p_total_counts', 'pct_counts_in_top_50_genes', 'pct_counts_in_top_100_genes', 'pct_counts_in_top_200_genes', 'pct_counts_in_top_500_genes', 'total_counts_mt', 'log1p_total_counts_mt', 'pct_counts_mt', 'n_counts', 'spatial_kmeans'\n",
       "    var: 'mt', 'n_cells_by_counts', 'mean_counts', 'log1p_mean_counts', 'pct_dropout_by_counts', 'total_counts', 'log1p_total_counts', 'n_cells', 'highly_variable', 'means', 'dispersions', 'dispersions_norm'\n",
       "    uns: 'cluster_colors', 'commot-user_database-info', 'flowsig_network', 'hvg', 'log1p', 'nsf_info', 'rctd_cluster_colors'\n",
       "    obsm: 'X_flow', 'X_gem', 'X_spatial', 'commot-user_database-sum-receiver', 'commot-user_database-sum-sender', 'rctd_results', 'spatial'\n",
       "    layers: 'imputed_count', 'normalized_count', 'raw_count'\n",
       "    obsp: 'commot-user_database-Angptl2-Pirb', 'commot-user_database-Angptl4-Cdh5', 'commot-user_database-Angptl4-Sdc2', 'commot-user_database-Angptl4-Sdc4', 'commot-user_database-App-Cd74', 'commot-user_database-Bmp2-Bmpr1a_Acvr2a', 'commot-user_database-Bmp2-Bmpr1a_Bmpr2', 'commot-user_database-C3-Cr2', 'commot-user_database-C4b-Cr2', 'commot-user_database-Cadm1-Cadm1', 'commot-user_database-Ccl11-Ackr1', 'commot-user_database-Ccl12-Ccr2', 'commot-user_database-Ccl17-Ackr1', 'commot-user_database-Ccl2-Ackr1', 'commot-user_database-Ccl2-Ccr2', 'commot-user_database-Ccl4-Ccr5', 'commot-user_database-Ccl5-Ackr1', 'commot-user_database-Ccl5-Ccr5', 'commot-user_database-Ccl6-Ccr2', 'commot-user_database-Ccl7-Ackr1', 'commot-user_database-Ccl7-Ccr2', 'commot-user_database-Ccl8-Ackr1', 'commot-user_database-Ccl8-Ackr4', 'commot-user_database-Ccl8-Ccr2', 'commot-user_database-Ccl8-Ccr5', 'commot-user_database-Cd34-Selp', 'commot-user_database-Cdh5-Cdh5', 'commot-user_database-Col1a1-Cd44', 'commot-user_database-Col1a1-Sdc4', 'commot-user_database-Col1a2-Cd44', 'commot-user_database-Col1a2-Sdc4', 'commot-user_database-Col4a1-Cd44', 'commot-user_database-Col4a1-Sdc4', 'commot-user_database-Col4a2-Cd44', 'commot-user_database-Col4a2-Sdc4', 'commot-user_database-Col6a1-Cd44', 'commot-user_database-Col6a1-Sdc4', 'commot-user_database-Col6a3-Cd44', 'commot-user_database-Col6a3-Sdc4', 'commot-user_database-Col6a4-Cd44', 'commot-user_database-Col6a4-Sdc4', 'commot-user_database-Col6a5-Cd44', 'commot-user_database-Col6a5-Sdc4', 'commot-user_database-Csf1-Csf1r', 'commot-user_database-Cxcl10-Ackr1', 'commot-user_database-Cxcl12-Ackr3', 'commot-user_database-Cxcl12-Cxcr4', 'commot-user_database-Cxcl13-Ackr1', 'commot-user_database-Cxcl9-Ackr1', 'commot-user_database-Dll1-Notch2', 'commot-user_database-Dll4-Notch2', 'commot-user_database-Efnb2-Ephb4', 'commot-user_database-F11r-F11r', 'commot-user_database-F11r-Jam2', 'commot-user_database-F11r-Jam3', 'commot-user_database-Fcer2a-Cr2', 'commot-user_database-Fn1-Cd44', 'commot-user_database-Fn1-Sdc4', 'commot-user_database-Gas6-Tyro3', 'commot-user_database-Gdf10-Acvr1b_Acvr2a', 'commot-user_database-Gzma-F2r', 'commot-user_database-Gzma-F2rl2', 'commot-user_database-Gzma-Pard3', 'commot-user_database-H2-K1-Cd8a', 'commot-user_database-H2-K1-Cd8b1', 'commot-user_database-H2-M3-Cd8a', 'commot-user_database-H2-M3-Cd8b1', 'commot-user_database-H2-Q6-Cd8a', 'commot-user_database-H2-Q6-Cd8b1', 'commot-user_database-H2-Q7-Cd8a', 'commot-user_database-H2-Q7-Cd8b1', 'commot-user_database-H2-T-ps-Cd8a', 'commot-user_database-H2-T-ps-Cd8b1', 'commot-user_database-H2-T10-Cd8a', 'commot-user_database-H2-T10-Cd8b1', 'commot-user_database-Hspg2-Dag1', 'commot-user_database-Icosl-Ctla4', 'commot-user_database-Igf1-Igf1r', 'commot-user_database-Jam2-F11r', 'commot-user_database-Jam2-Jam2', 'commot-user_database-Jam2-Jam3', 'commot-user_database-Jam3-F11r', 'commot-user_database-Jam3-Jam2', 'commot-user_database-Jam3-Jam3', 'commot-user_database-Lama4-Cd44', 'commot-user_database-Lama4-Dag1', 'commot-user_database-Lama5-Cd44', 'commot-user_database-Lama5-Dag1', 'commot-user_database-Lamb1-Cd44', 'commot-user_database-Lamb1-Dag1', 'commot-user_database-Lamb2-Cd44', 'commot-user_database-Lamb2-Dag1', 'commot-user_database-Lta-Tnfrsf1a', 'commot-user_database-Osm-Osmr_Il6st', 'commot-user_database-Pdgfa-Pdgfrb', 'commot-user_database-Pecam1-Pecam1', 'commot-user_database-Pgf-Flt1', 'commot-user_database-Ptn-Ncl', 'commot-user_database-Ptn-Sdc2', 'commot-user_database-Ptn-Sdc4', 'commot-user_database-Ptprm-Ptprm', 'commot-user_database-Selplg-Selp', 'commot-user_database-Sema3f-Nrp2_Plxna2', 'commot-user_database-Sema7a-Plxnc1', 'commot-user_database-Thbs2-Cd36', 'commot-user_database-Thbs2-Sdc4', 'commot-user_database-Thbs3-Cd36', 'commot-user_database-Thbs3-Sdc4', 'commot-user_database-Thbs4-Cd36', 'commot-user_database-Thbs4-Sdc4', 'commot-user_database-Tnc-Sdc4', 'commot-user_database-Tnf-Tnfrsf1a', 'commot-user_database-Tnfsf13b-Tnfrsf13c', 'commot-user_database-total-total'"
      ]
     },
     "execution_count": 5,
     "metadata": {},
     "output_type": "execute_result"
    }
   ],
   "source": [
    "adata_train = sc.read_h5ad('./.cache/adata_train.h5ad')\n",
    "adata_train"
   ]
  },
  {
   "cell_type": "code",
   "execution_count": 3,
   "metadata": {},
   "outputs": [],
   "source": [
    "import shutil\n",
    "import os\n",
    "    \n",
    "models_dir = './models'\n",
    "if os.path.exists(models_dir):\n",
    "    shutil.rmtree(models_dir)\n",
    "os.makedirs(models_dir)"
   ]
  },
  {
   "cell_type": "code",
   "execution_count": 10,
   "metadata": {},
   "outputs": [
    {
     "data": {
      "text/plain": [
       "AnnData object with n_obs × n_vars = 10277 × 100\n",
       "    obs: 'cluster', 'rctd_cluster', 'n_genes_by_counts', 'log1p_n_genes_by_counts', 'total_counts', 'log1p_total_counts', 'pct_counts_in_top_50_genes', 'pct_counts_in_top_100_genes', 'pct_counts_in_top_200_genes', 'pct_counts_in_top_500_genes', 'total_counts_mt', 'log1p_total_counts_mt', 'pct_counts_mt', 'n_counts', 'spatial_kmeans'\n",
       "    var: 'mt', 'n_cells_by_counts', 'mean_counts', 'log1p_mean_counts', 'pct_dropout_by_counts', 'total_counts', 'log1p_total_counts', 'n_cells', 'highly_variable', 'means', 'dispersions', 'dispersions_norm'\n",
       "    uns: 'cluster_colors', 'commot-user_database-info', 'flowsig_network', 'hvg', 'log1p', 'nsf_info', 'rctd_cluster_colors'\n",
       "    obsm: 'X_flow', 'X_gem', 'X_spatial', 'commot-user_database-sum-receiver', 'commot-user_database-sum-sender', 'rctd_results', 'spatial'\n",
       "    layers: 'imputed_count', 'normalized_count', 'raw_count'\n",
       "    obsp: 'commot-user_database-Angptl2-Pirb', 'commot-user_database-Angptl4-Cdh5', 'commot-user_database-Angptl4-Sdc2', 'commot-user_database-Angptl4-Sdc4', 'commot-user_database-App-Cd74', 'commot-user_database-Bmp2-Bmpr1a_Acvr2a', 'commot-user_database-Bmp2-Bmpr1a_Bmpr2', 'commot-user_database-C3-Cr2', 'commot-user_database-C4b-Cr2', 'commot-user_database-Cadm1-Cadm1', 'commot-user_database-Ccl11-Ackr1', 'commot-user_database-Ccl12-Ccr2', 'commot-user_database-Ccl17-Ackr1', 'commot-user_database-Ccl2-Ackr1', 'commot-user_database-Ccl2-Ccr2', 'commot-user_database-Ccl4-Ccr5', 'commot-user_database-Ccl5-Ackr1', 'commot-user_database-Ccl5-Ccr5', 'commot-user_database-Ccl6-Ccr2', 'commot-user_database-Ccl7-Ackr1', 'commot-user_database-Ccl7-Ccr2', 'commot-user_database-Ccl8-Ackr1', 'commot-user_database-Ccl8-Ackr4', 'commot-user_database-Ccl8-Ccr2', 'commot-user_database-Ccl8-Ccr5', 'commot-user_database-Cd34-Selp', 'commot-user_database-Cdh5-Cdh5', 'commot-user_database-Col1a1-Cd44', 'commot-user_database-Col1a1-Sdc4', 'commot-user_database-Col1a2-Cd44', 'commot-user_database-Col1a2-Sdc4', 'commot-user_database-Col4a1-Cd44', 'commot-user_database-Col4a1-Sdc4', 'commot-user_database-Col4a2-Cd44', 'commot-user_database-Col4a2-Sdc4', 'commot-user_database-Col6a1-Cd44', 'commot-user_database-Col6a1-Sdc4', 'commot-user_database-Col6a3-Cd44', 'commot-user_database-Col6a3-Sdc4', 'commot-user_database-Col6a4-Cd44', 'commot-user_database-Col6a4-Sdc4', 'commot-user_database-Col6a5-Cd44', 'commot-user_database-Col6a5-Sdc4', 'commot-user_database-Csf1-Csf1r', 'commot-user_database-Cxcl10-Ackr1', 'commot-user_database-Cxcl12-Ackr3', 'commot-user_database-Cxcl12-Cxcr4', 'commot-user_database-Cxcl13-Ackr1', 'commot-user_database-Cxcl9-Ackr1', 'commot-user_database-Dll1-Notch2', 'commot-user_database-Dll4-Notch2', 'commot-user_database-Efnb2-Ephb4', 'commot-user_database-F11r-F11r', 'commot-user_database-F11r-Jam2', 'commot-user_database-F11r-Jam3', 'commot-user_database-Fcer2a-Cr2', 'commot-user_database-Fn1-Cd44', 'commot-user_database-Fn1-Sdc4', 'commot-user_database-Gas6-Tyro3', 'commot-user_database-Gdf10-Acvr1b_Acvr2a', 'commot-user_database-Gzma-F2r', 'commot-user_database-Gzma-F2rl2', 'commot-user_database-Gzma-Pard3', 'commot-user_database-H2-K1-Cd8a', 'commot-user_database-H2-K1-Cd8b1', 'commot-user_database-H2-M3-Cd8a', 'commot-user_database-H2-M3-Cd8b1', 'commot-user_database-H2-Q6-Cd8a', 'commot-user_database-H2-Q6-Cd8b1', 'commot-user_database-H2-Q7-Cd8a', 'commot-user_database-H2-Q7-Cd8b1', 'commot-user_database-H2-T-ps-Cd8a', 'commot-user_database-H2-T-ps-Cd8b1', 'commot-user_database-H2-T10-Cd8a', 'commot-user_database-H2-T10-Cd8b1', 'commot-user_database-Hspg2-Dag1', 'commot-user_database-Icosl-Ctla4', 'commot-user_database-Igf1-Igf1r', 'commot-user_database-Jam2-F11r', 'commot-user_database-Jam2-Jam2', 'commot-user_database-Jam2-Jam3', 'commot-user_database-Jam3-F11r', 'commot-user_database-Jam3-Jam2', 'commot-user_database-Jam3-Jam3', 'commot-user_database-Lama4-Cd44', 'commot-user_database-Lama4-Dag1', 'commot-user_database-Lama5-Cd44', 'commot-user_database-Lama5-Dag1', 'commot-user_database-Lamb1-Cd44', 'commot-user_database-Lamb1-Dag1', 'commot-user_database-Lamb2-Cd44', 'commot-user_database-Lamb2-Dag1', 'commot-user_database-Lta-Tnfrsf1a', 'commot-user_database-Osm-Osmr_Il6st', 'commot-user_database-Pdgfa-Pdgfrb', 'commot-user_database-Pecam1-Pecam1', 'commot-user_database-Pgf-Flt1', 'commot-user_database-Ptn-Ncl', 'commot-user_database-Ptn-Sdc2', 'commot-user_database-Ptn-Sdc4', 'commot-user_database-Ptprm-Ptprm', 'commot-user_database-Selplg-Selp', 'commot-user_database-Sema3f-Nrp2_Plxna2', 'commot-user_database-Sema7a-Plxnc1', 'commot-user_database-Thbs2-Cd36', 'commot-user_database-Thbs2-Sdc4', 'commot-user_database-Thbs3-Cd36', 'commot-user_database-Thbs3-Sdc4', 'commot-user_database-Thbs4-Cd36', 'commot-user_database-Thbs4-Sdc4', 'commot-user_database-Tnc-Sdc4', 'commot-user_database-Tnf-Tnfrsf1a', 'commot-user_database-Tnfsf13b-Tnfrsf13c', 'commot-user_database-total-total'"
      ]
     },
     "execution_count": 10,
     "metadata": {},
     "output_type": "execute_result"
    }
   ],
   "source": [
    "sc.pp.highly_variable_genes(adata_train, n_top_genes=100, subset=True, inplace=True)\n",
    "adata_train"
   ]
  },
  {
   "cell_type": "code",
   "execution_count": 11,
   "metadata": {},
   "outputs": [
    {
     "name": "stderr",
     "output_type": "stream",
     "text": [
      "OMP: Info #276: omp_set_nested routine deprecated, please use omp_set_max_active_levels instead.\n"
     ]
    },
    {
     "name": "stdout",
     "output_type": "stream",
     "text": [
      "🌍️ Generating spatial 64x64 maps...\n"
     ]
    }
   ],
   "source": [
    "so = spaceoracle.SpaceOracle(\n",
    "    adata=adata_train,\n",
    "    annot='rctd_cluster', \n",
    "    max_epochs=7, \n",
    "    learning_rate=3e-4, \n",
    "    spatial_dim=64,\n",
    "    batch_size=512,\n",
    "    alpha=0.9,\n",
    ")"
   ]
  },
  {
   "cell_type": "code",
   "execution_count": 12,
   "metadata": {},
   "outputs": [
    {
     "data": {
      "text/html": [
       "<style>\n",
       ".enlighten-fg-green {\n",
       "  color: #00cd00;\n",
       "}\n",
       ".enlighten-fg-red {\n",
       "  color: #cd0000;\n",
       "}\n",
       "</style>\n",
       "<div class=\"enlighten\">\n",
       "  <div class=\"enlighten-bar\">\n",
       "    <pre>44 orphans  99%|<span class=\"enlighten-fg-green\">██████████████████████████████████████████████▌</span>|  99/100 [12:35&lt;00:08, 0.13 genes/s]</pre>\n",
       "  </div>\n",
       "  <div class=\"enlighten-bar\">\n",
       "    <pre>[2010016I18Rik / 1] &lt;&gt; MSE: 1.168e-05  10%|<span class=\"enlighten-fg-red\">██▏                  </span>|  1/10 [00:14&lt;02:03, 0.07 epochs/s]</pre>\n",
       "  </div>\n",
       "</div>\n"
      ],
      "text/plain": [
       "<IPython.core.display.HTML object>"
      ]
     },
     "metadata": {},
     "output_type": "display_data"
    },
    {
     "name": "stdout",
     "output_type": "stream",
     "text": [
      "Fitting 7 models in parallel... with 7/11 cores\n"
     ]
    },
    {
     "name": "stderr",
     "output_type": "stream",
     "text": [
      "/opt/homebrew/Caskroom/miniforge/base/envs/SpaceOracle/lib/python3.9/site-packages/torch/storage.py:414: FutureWarning: You are using `torch.load` with `weights_only=False` (the current default value), which uses the default pickle module implicitly. It is possible to construct malicious pickle data which will execute arbitrary code during unpickling (See https://github.com/pytorch/pytorch/blob/main/SECURITY.md#untrusted-models for more details). In a future release, the default value for `weights_only` will be flipped to `True`. This limits the functions that could be executed during unpickling. Arbitrary objects will no longer be allowed to be loaded via this mode unless they are explicitly allowlisted by the user via `torch.serialization.add_safe_globals`. We recommend you start setting `weights_only=True` for any use case where you don't have full control of the loaded file. Please open an issue on GitHub for any issues related to this experimental feature.\n",
      "  return torch.load(io.BytesIO(b))\n",
      "/opt/homebrew/Caskroom/miniforge/base/envs/SpaceOracle/lib/python3.9/site-packages/torch/storage.py:414: FutureWarning: You are using `torch.load` with `weights_only=False` (the current default value), which uses the default pickle module implicitly. It is possible to construct malicious pickle data which will execute arbitrary code during unpickling (See https://github.com/pytorch/pytorch/blob/main/SECURITY.md#untrusted-models for more details). In a future release, the default value for `weights_only` will be flipped to `True`. This limits the functions that could be executed during unpickling. Arbitrary objects will no longer be allowed to be loaded via this mode unless they are explicitly allowlisted by the user via `torch.serialization.add_safe_globals`. We recommend you start setting `weights_only=True` for any use case where you don't have full control of the loaded file. Please open an issue on GitHub for any issues related to this experimental feature.\n",
      "  return torch.load(io.BytesIO(b))\n",
      "/opt/homebrew/Caskroom/miniforge/base/envs/SpaceOracle/lib/python3.9/site-packages/torch/storage.py:414: FutureWarning: You are using `torch.load` with `weights_only=False` (the current default value), which uses the default pickle module implicitly. It is possible to construct malicious pickle data which will execute arbitrary code during unpickling (See https://github.com/pytorch/pytorch/blob/main/SECURITY.md#untrusted-models for more details). In a future release, the default value for `weights_only` will be flipped to `True`. This limits the functions that could be executed during unpickling. Arbitrary objects will no longer be allowed to be loaded via this mode unless they are explicitly allowlisted by the user via `torch.serialization.add_safe_globals`. We recommend you start setting `weights_only=True` for any use case where you don't have full control of the loaded file. Please open an issue on GitHub for any issues related to this experimental feature.\n",
      "  return torch.load(io.BytesIO(b))\n",
      "/opt/homebrew/Caskroom/miniforge/base/envs/SpaceOracle/lib/python3.9/site-packages/torch/storage.py:414: FutureWarning: You are using `torch.load` with `weights_only=False` (the current default value), which uses the default pickle module implicitly. It is possible to construct malicious pickle data which will execute arbitrary code during unpickling (See https://github.com/pytorch/pytorch/blob/main/SECURITY.md#untrusted-models for more details). In a future release, the default value for `weights_only` will be flipped to `True`. This limits the functions that could be executed during unpickling. Arbitrary objects will no longer be allowed to be loaded via this mode unless they are explicitly allowlisted by the user via `torch.serialization.add_safe_globals`. We recommend you start setting `weights_only=True` for any use case where you don't have full control of the loaded file. Please open an issue on GitHub for any issues related to this experimental feature.\n",
      "  return torch.load(io.BytesIO(b))\n",
      "/opt/homebrew/Caskroom/miniforge/base/envs/SpaceOracle/lib/python3.9/site-packages/torch/storage.py:414: FutureWarning: You are using `torch.load` with `weights_only=False` (the current default value), which uses the default pickle module implicitly. It is possible to construct malicious pickle data which will execute arbitrary code during unpickling (See https://github.com/pytorch/pytorch/blob/main/SECURITY.md#untrusted-models for more details). In a future release, the default value for `weights_only` will be flipped to `True`. This limits the functions that could be executed during unpickling. Arbitrary objects will no longer be allowed to be loaded via this mode unless they are explicitly allowlisted by the user via `torch.serialization.add_safe_globals`. We recommend you start setting `weights_only=True` for any use case where you don't have full control of the loaded file. Please open an issue on GitHub for any issues related to this experimental feature.\n",
      "  return torch.load(io.BytesIO(b))\n",
      "/opt/homebrew/Caskroom/miniforge/base/envs/SpaceOracle/lib/python3.9/site-packages/torch/storage.py:414: FutureWarning: You are using `torch.load` with `weights_only=False` (the current default value), which uses the default pickle module implicitly. It is possible to construct malicious pickle data which will execute arbitrary code during unpickling (See https://github.com/pytorch/pytorch/blob/main/SECURITY.md#untrusted-models for more details). In a future release, the default value for `weights_only` will be flipped to `True`. This limits the functions that could be executed during unpickling. Arbitrary objects will no longer be allowed to be loaded via this mode unless they are explicitly allowlisted by the user via `torch.serialization.add_safe_globals`. We recommend you start setting `weights_only=True` for any use case where you don't have full control of the loaded file. Please open an issue on GitHub for any issues related to this experimental feature.\n",
      "  return torch.load(io.BytesIO(b))\n",
      "/opt/homebrew/Caskroom/miniforge/base/envs/SpaceOracle/lib/python3.9/site-packages/torch/storage.py:414: FutureWarning: You are using `torch.load` with `weights_only=False` (the current default value), which uses the default pickle module implicitly. It is possible to construct malicious pickle data which will execute arbitrary code during unpickling (See https://github.com/pytorch/pytorch/blob/main/SECURITY.md#untrusted-models for more details). In a future release, the default value for `weights_only` will be flipped to `True`. This limits the functions that could be executed during unpickling. Arbitrary objects will no longer be allowed to be loaded via this mode unless they are explicitly allowlisted by the user via `torch.serialization.add_safe_globals`. We recommend you start setting `weights_only=True` for any use case where you don't have full control of the loaded file. Please open an issue on GitHub for any issues related to this experimental feature.\n",
      "  return torch.load(io.BytesIO(b))\n"
     ]
    },
    {
     "name": "stdout",
     "output_type": "stream",
     "text": [
      "2 regulators + 0 ligand-receptor pairs\n",
      "Fitting 7 models in parallel... with 7/11 cores\n",
      "2 regulators + 0 ligand-receptor pairs\n",
      "Fitting 7 models in parallel... with 7/11 cores\n",
      "2 regulators + 0 ligand-receptor pairs\n",
      "Fitting 7 models in parallel... with 7/11 cores\n",
      "1 regulators + 0 ligand-receptor pairs\n",
      "Fitting 7 models in parallel... with 7/11 cores\n",
      "2 regulators + 0 ligand-receptor pairs\n",
      "Fitting 7 models in parallel... with 7/11 cores\n",
      "2 regulators + 0 ligand-receptor pairs\n",
      "Fitting 7 models in parallel... with 7/11 cores\n",
      "1 regulators + 0 ligand-receptor pairs\n",
      "Fitting 7 models in parallel... with 7/11 cores\n",
      "2 regulators + 0 ligand-receptor pairs\n",
      "Fitting 7 models in parallel... with 7/11 cores\n",
      "2 regulators + 0 ligand-receptor pairs\n",
      "Fitting 7 models in parallel... with 7/11 cores\n",
      "1 regulators + 0 ligand-receptor pairs\n",
      "Fitting 7 models in parallel... with 7/11 cores\n",
      "3 regulators + 0 ligand-receptor pairs\n",
      "Fitting 7 models in parallel... with 7/11 cores\n",
      "2 regulators + 0 ligand-receptor pairs\n",
      "Fitting 7 models in parallel... with 7/11 cores\n",
      "2 regulators + 0 ligand-receptor pairs\n",
      "Fitting 7 models in parallel... with 7/11 cores\n",
      "2 regulators + 0 ligand-receptor pairs\n",
      "Fitting 7 models in parallel... with 7/11 cores\n",
      "2 regulators + 0 ligand-receptor pairs\n",
      "Fitting 7 models in parallel... with 7/11 cores\n",
      "1 regulators + 0 ligand-receptor pairs\n",
      "Fitting 7 models in parallel... with 7/11 cores\n",
      "2 regulators + 0 ligand-receptor pairs\n",
      "Fitting 7 models in parallel... with 7/11 cores\n",
      "2 regulators + 0 ligand-receptor pairs\n",
      "Fitting 7 models in parallel... with 7/11 cores\n",
      "2 regulators + 0 ligand-receptor pairs\n",
      "Fitting 7 models in parallel... with 7/11 cores\n",
      "1 regulators + 0 ligand-receptor pairs\n",
      "Fitting 7 models in parallel... with 7/11 cores\n",
      "2 regulators + 0 ligand-receptor pairs\n",
      "Fitting 7 models in parallel... with 7/11 cores\n",
      "3 regulators + 0 ligand-receptor pairs\n",
      "Fitting 7 models in parallel... with 7/11 cores\n",
      "2 regulators + 0 ligand-receptor pairs\n",
      "Fitting 7 models in parallel... with 7/11 cores\n",
      "2 regulators + 0 ligand-receptor pairs\n",
      "Fitting 7 models in parallel... with 7/11 cores\n",
      "2 regulators + 0 ligand-receptor pairs\n",
      "Fitting 7 models in parallel... with 7/11 cores\n",
      "2 regulators + 0 ligand-receptor pairs\n",
      "Fitting 7 models in parallel... with 7/11 cores\n",
      "2 regulators + 0 ligand-receptor pairs\n",
      "Fitting 7 models in parallel... with 7/11 cores\n",
      "2 regulators + 0 ligand-receptor pairs\n",
      "Fitting 7 models in parallel... with 7/11 cores\n",
      "2 regulators + 0 ligand-receptor pairs\n",
      "Fitting 7 models in parallel... with 7/11 cores\n",
      "2 regulators + 0 ligand-receptor pairs\n",
      "Fitting 7 models in parallel... with 7/11 cores\n",
      "2 regulators + 0 ligand-receptor pairs\n",
      "Fitting 7 models in parallel... with 7/11 cores\n",
      "2 regulators + 0 ligand-receptor pairs\n",
      "Fitting 7 models in parallel... with 7/11 cores\n",
      "1 regulators + 0 ligand-receptor pairs\n",
      "Fitting 7 models in parallel... with 7/11 cores\n",
      "2 regulators + 0 ligand-receptor pairs\n",
      "Fitting 7 models in parallel... with 7/11 cores\n",
      "1 regulators + 0 ligand-receptor pairs\n",
      "Fitting 7 models in parallel... with 7/11 cores\n",
      "2 regulators + 0 ligand-receptor pairs\n",
      "Fitting 7 models in parallel... with 7/11 cores\n",
      "1 regulators + 0 ligand-receptor pairs\n",
      "Fitting 7 models in parallel... with 7/11 cores\n",
      "2 regulators + 0 ligand-receptor pairs\n",
      "Fitting 7 models in parallel... with 7/11 cores\n",
      "2 regulators + 0 ligand-receptor pairs\n",
      "Fitting 7 models in parallel... with 7/11 cores\n",
      "2 regulators + 0 ligand-receptor pairs\n",
      "Fitting 7 models in parallel... with 7/11 cores\n",
      "2 regulators + 0 ligand-receptor pairs\n",
      "Fitting 7 models in parallel... with 7/11 cores\n",
      "1 regulators + 0 ligand-receptor pairs\n",
      "Fitting 7 models in parallel... with 7/11 cores\n",
      "1 regulators + 0 ligand-receptor pairs\n",
      "Fitting 7 models in parallel... with 7/11 cores\n",
      "1 regulators + 0 ligand-receptor pairs\n",
      "Fitting 7 models in parallel... with 7/11 cores\n",
      "1 regulators + 0 ligand-receptor pairs\n",
      "Fitting 7 models in parallel... with 7/11 cores\n",
      "2 regulators + 0 ligand-receptor pairs\n",
      "Fitting 7 models in parallel... with 7/11 cores\n",
      "1 regulators + 0 ligand-receptor pairs\n",
      "Fitting 7 models in parallel... with 7/11 cores\n",
      "1 regulators + 0 ligand-receptor pairs\n",
      "Fitting 7 models in parallel... with 7/11 cores\n",
      "2 regulators + 0 ligand-receptor pairs\n",
      "Fitting 7 models in parallel... with 7/11 cores\n",
      "2 regulators + 0 ligand-receptor pairs\n",
      "Fitting 7 models in parallel... with 7/11 cores\n",
      "2 regulators + 0 ligand-receptor pairs\n",
      "Fitting 7 models in parallel... with 7/11 cores\n",
      "2 regulators + 0 ligand-receptor pairs\n",
      "Fitting 7 models in parallel... with 7/11 cores\n",
      "2 regulators + 0 ligand-receptor pairs\n",
      "Fitting 7 models in parallel... with 7/11 cores\n",
      "2 regulators + 0 ligand-receptor pairs\n",
      "Fitting 7 models in parallel... with 7/11 cores\n",
      "1 regulators + 0 ligand-receptor pairs\n"
     ]
    }
   ],
   "source": [
    "so.run()"
   ]
  }
 ],
 "metadata": {
  "kernelspec": {
   "display_name": "SpaceOracle",
   "language": "python",
   "name": "python3"
  },
  "language_info": {
   "codemirror_mode": {
    "name": "ipython",
    "version": 3
   },
   "file_extension": ".py",
   "mimetype": "text/x-python",
   "name": "python",
   "nbconvert_exporter": "python",
   "pygments_lexer": "ipython3",
   "version": "3.9.19"
  }
 },
 "nbformat": 4,
 "nbformat_minor": 4
}
