{
 "cells": [
  {
   "cell_type": "code",
   "execution_count": 1,
   "metadata": {},
   "outputs": [],
   "source": [
    "%load_ext autoreload\n",
    "%autoreload 2"
   ]
  },
  {
   "cell_type": "code",
   "execution_count": 2,
   "metadata": {},
   "outputs": [],
   "source": [
    "import sys\n",
    "sys.path.append('../src')"
   ]
  },
  {
   "cell_type": "code",
   "execution_count": 3,
   "metadata": {},
   "outputs": [],
   "source": [
    "import torch\n",
    "import scipy.sparse as sp\n",
    "import glob\n",
    "import warnings\n",
    "import anndata\n",
    "import matplotlib.pyplot as plt\n",
    "import scanpy as sc\n",
    "import numpy as np\n",
    "import seaborn as sns\n",
    "import torch\n",
    "import pyro"
   ]
  },
  {
   "cell_type": "code",
   "execution_count": 4,
   "metadata": {},
   "outputs": [],
   "source": [
    "import spaceoracle\n",
    "from spaceoracle import SpaceOracle"
   ]
  },
  {
   "cell_type": "code",
   "execution_count": 5,
   "metadata": {},
   "outputs": [
    {
     "data": {
      "text/plain": [
       "AnnData object with n_obs × n_vars = 11567 × 5013\n",
       "    obs: 'cluster', 'rctd_cluster', 'rctd_celltypes'\n",
       "    uns: 'log1p'\n",
       "    obsm: 'X_spatial', 'rctd_results', 'spatial'\n",
       "    layers: 'imputed_count', 'normalized_count', 'raw_count'"
      ]
     },
     "execution_count": 5,
     "metadata": {},
     "output_type": "execute_result"
    }
   ],
   "source": [
    "adata_train = sc.read_h5ad('./.cache/adata_train.h5ad')\n",
    "adata_train"
   ]
  },
  {
   "cell_type": "code",
   "execution_count": 6,
   "metadata": {},
   "outputs": [],
   "source": [
    "import shutil\n",
    "import os\n",
    "    \n",
    "models_dir = './models'\n",
    "if os.path.exists(models_dir):\n",
    "    shutil.rmtree(models_dir)\n",
    "os.makedirs(models_dir)"
   ]
  },
  {
   "cell_type": "code",
   "execution_count": 7,
   "metadata": {},
   "outputs": [
    {
     "data": {
      "text/plain": [
       "AnnData object with n_obs × n_vars = 11567 × 1000\n",
       "    obs: 'cluster', 'rctd_cluster', 'rctd_celltypes'\n",
       "    var: 'highly_variable', 'means', 'dispersions', 'dispersions_norm'\n",
       "    uns: 'log1p', 'hvg'\n",
       "    obsm: 'X_spatial', 'rctd_results', 'spatial'\n",
       "    layers: 'imputed_count', 'normalized_count', 'raw_count'"
      ]
     },
     "execution_count": 7,
     "metadata": {},
     "output_type": "execute_result"
    }
   ],
   "source": [
    "sc.pp.highly_variable_genes(adata_train, flavor=\"seurat\", n_top_genes=1000, subset=True)\n",
    "adata_train"
   ]
  },
  {
   "cell_type": "code",
   "execution_count": 8,
   "metadata": {},
   "outputs": [],
   "source": [
    "so = spaceoracle.SpaceOracle(\n",
    "    adata=adata_train,\n",
    "    annot='rctd_cluster', \n",
    "    max_epochs=1, \n",
    "    learning_rate=1e-3, \n",
    "    spatial_dim=64,\n",
    "    batch_size=512,\n",
    "    threshold_lambda=3e3,\n",
    "    test_mode=True\n",
    ")"
   ]
  },
  {
   "cell_type": "code",
   "execution_count": 9,
   "metadata": {},
   "outputs": [
    {
     "data": {
      "text/html": [
       "<style>\n",
       ".enlighten-fg-green {\n",
       "  color: #00cd00;\n",
       "}\n",
       ".enlighten-fg-red {\n",
       "  color: #cd0000;\n",
       "}\n",
       "</style>\n",
       "<div class=\"enlighten\">\n",
       "  <div class=\"enlighten-bar\">\n",
       "    <pre>0 orphans   0%|<span class=\"enlighten-fg-green\">▏                                          </span>|    2/1000 [00:24&lt;3h 19:01, 0.08 genes/s]</pre>\n",
       "  </div>\n",
       "  <div class=\"enlighten-bar\">\n",
       "    <pre>Igkv14-126 | 7/7 100%|<span class=\"enlighten-fg-red\">██████████████████████████████████</span>| 11567/11567 [00:07&lt;00:00, 1571.17 cells/s]</pre>\n",
       "  </div>\n",
       "</div>\n"
      ],
      "text/plain": [
       "<IPython.core.display.HTML object>"
      ]
     },
     "metadata": {},
     "output_type": "display_data"
    },
    {
     "name": "stderr",
     "output_type": "stream",
     "text": [
      "OMP: Info #276: omp_set_nested routine deprecated, please use omp_set_max_active_levels instead.\n"
     ]
    },
    {
     "name": "stdout",
     "output_type": "stream",
     "text": [
      "Fitting Cd34 with 3 modulators\n",
      "\t3 Transcription Factors\n",
      "\t0 Ligand-Receptor Pairs\n",
      "\t0 TranscriptionFactor-Ligand Pairs\n",
      "0: -20.8318 | -0.0000\n",
      "1: -61.2111 | -0.0000\n",
      "2: -356.3924 | -0.0000\n",
      "3: -42.2809 | -0.0000\n",
      "4: -109.5530 | -0.0000\n",
      "5: -22.2838 | -0.0000\n",
      "6: -19.4240 | -0.0000\n",
      "Fitting Igkv14-126 with 1 modulators\n",
      "\t1 Transcription Factors\n",
      "\t0 Ligand-Receptor Pairs\n",
      "\t0 TranscriptionFactor-Ligand Pairs\n",
      "0: -4.2254 | -0.0000\n",
      "1: -36.3739 | -0.0000\n",
      "2: -47.8657 | -0.0000\n",
      "3: -40.3286 | -0.0000\n",
      "4: -35.5016 | -0.0000\n",
      "5: -26.9966 | -0.0000\n",
      "6: -35.9078 | -0.0000\n"
     ]
    }
   ],
   "source": [
    "so.run()"
   ]
  }
 ],
 "metadata": {
  "kernelspec": {
   "display_name": "SpaceOracle",
   "language": "python",
   "name": "python3"
  },
  "language_info": {
   "codemirror_mode": {
    "name": "ipython",
    "version": 3
   },
   "file_extension": ".py",
   "mimetype": "text/x-python",
   "name": "python",
   "nbconvert_exporter": "python",
   "pygments_lexer": "ipython3",
   "version": "3.9.19"
  }
 },
 "nbformat": 4,
 "nbformat_minor": 4
}
